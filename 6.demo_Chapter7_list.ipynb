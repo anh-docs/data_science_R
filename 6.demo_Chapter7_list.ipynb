{
 "cells": [
  {
   "cell_type": "code",
   "execution_count": 1,
   "metadata": {},
   "outputs": [
    {
     "name": "stdout",
     "output_type": "stream",
     "text": [
      "[[1]]\n",
      "[1] \"hello\"\n",
      "\n",
      "[[2]]\n",
      "[1] \"R\"\n",
      "\n",
      "[[3]]\n",
      "[1] \"12\"\n",
      "\n",
      "[[4]]\n",
      "[1] \"12.5\"\n",
      "\n",
      "[[5]]\n",
      "[1] 21 32 11\n",
      "\n",
      "[[6]]\n",
      "[1] TRUE\n",
      "\n"
     ]
    }
   ],
   "source": [
    "list_data <- list('hello','R','12','12.5',c(21,32,11), TRUE)\n",
    "print(list_data)"
   ]
  },
  {
   "cell_type": "code",
   "execution_count": 3,
   "metadata": {},
   "outputs": [
    {
     "name": "stdout",
     "output_type": "stream",
     "text": [
      "[[1]]\n",
      "[1] \"Red\"    \"Green\"  \"Yellow\"\n",
      "\n",
      "[[2]]\n",
      "     [,1] [,2] [,3] [,4]\n",
      "[1,]    1    3    5    7\n",
      "[2,]    2    4    6    8\n",
      "\n",
      "[[3]]\n",
      "[[3]][[1]]\n",
      "[1] \"reen\"\n",
      "\n",
      "[[3]][[2]]\n",
      "[1] TRUE\n",
      "\n",
      "[[3]][[3]]\n",
      "[1] 12.5\n",
      "\n",
      "\n",
      "[[4]]\n",
      "[1] TRUE\n",
      "\n"
     ]
    }
   ],
   "source": [
    "list_1 <- list(c('Red','Green','Yellow'), matrix(c(1:8), nrow=2), list(\"reen\",TRUE,12.5),TRUE)\n",
    "print(list_1)"
   ]
  },
  {
   "cell_type": "code",
   "execution_count": 4,
   "metadata": {},
   "outputs": [],
   "source": [
    "names(list_1) <- c('Traffic Light','A_Martix','An Inner List','Pass')"
   ]
  },
  {
   "cell_type": "code",
   "execution_count": 5,
   "metadata": {},
   "outputs": [
    {
     "name": "stdout",
     "output_type": "stream",
     "text": [
      "$`Traffic Light`\n",
      "[1] \"Red\"    \"Green\"  \"Yellow\"\n",
      "\n",
      "$A_Martix\n",
      "     [,1] [,2] [,3] [,4]\n",
      "[1,]    1    3    5    7\n",
      "[2,]    2    4    6    8\n",
      "\n",
      "$`An Inner List`\n",
      "$`An Inner List`[[1]]\n",
      "[1] \"reen\"\n",
      "\n",
      "$`An Inner List`[[2]]\n",
      "[1] TRUE\n",
      "\n",
      "$`An Inner List`[[3]]\n",
      "[1] 12.5\n",
      "\n",
      "\n",
      "$Pass\n",
      "[1] TRUE\n",
      "\n"
     ]
    }
   ],
   "source": [
    "print(list_1)"
   ]
  },
  {
   "cell_type": "code",
   "execution_count": 8,
   "metadata": {},
   "outputs": [
    {
     "data": {
      "text/html": [
       "<ol>\n",
       "\t<li>'reen'</li>\n",
       "\t<li>TRUE</li>\n",
       "\t<li>12.5</li>\n",
       "</ol>\n"
      ],
      "text/latex": [
       "\\begin{enumerate}\n",
       "\\item 'reen'\n",
       "\\item TRUE\n",
       "\\item 12.5\n",
       "\\end{enumerate}\n"
      ],
      "text/markdown": [
       "1. 'reen'\n",
       "2. TRUE\n",
       "3. 12.5\n",
       "\n",
       "\n"
      ],
      "text/plain": [
       "[[1]]\n",
       "[1] \"reen\"\n",
       "\n",
       "[[2]]\n",
       "[1] TRUE\n",
       "\n",
       "[[3]]\n",
       "[1] 12.5\n"
      ]
     },
     "metadata": {},
     "output_type": "display_data"
    }
   ],
   "source": [
    "list_1$`An Inner List`"
   ]
  },
  {
   "cell_type": "code",
   "execution_count": 9,
   "metadata": {},
   "outputs": [
    {
     "name": "stdout",
     "output_type": "stream",
     "text": [
      "$`Traffic Light`\n",
      "[1] \"Red\"    \"Green\"  \"Yellow\"\n",
      "\n",
      "$A_Martix\n",
      "     [,1] [,2] [,3] [,4]\n",
      "[1,]    1    3    5    7\n",
      "[2,]    2    4    6    8\n",
      "\n",
      "$`An Inner List`\n",
      "$`An Inner List`[[1]]\n",
      "[1] \"reen\"\n",
      "\n",
      "$`An Inner List`[[2]]\n",
      "[1] TRUE\n",
      "\n",
      "$`An Inner List`[[3]]\n",
      "[1] 12.5\n",
      "\n",
      "\n",
      "$Pass\n",
      "[1] TRUE\n",
      "\n",
      "[[5]]\n",
      "[1] \"New element\"\n",
      "\n"
     ]
    }
   ],
   "source": [
    "list_1[length(list_1)+1] <- 'New element'\n",
    "print(list_1)"
   ]
  },
  {
   "cell_type": "code",
   "execution_count": 10,
   "metadata": {},
   "outputs": [
    {
     "name": "stdout",
     "output_type": "stream",
     "text": [
      "[[1]]\n",
      "[1] \"New element\"\n",
      "\n"
     ]
    }
   ],
   "source": [
    "print(list_1[length(list_1)])"
   ]
  },
  {
   "cell_type": "code",
   "execution_count": 11,
   "metadata": {},
   "outputs": [
    {
     "name": "stdout",
     "output_type": "stream",
     "text": [
      "$`Traffic Light`\n",
      "[1] \"Red\"    \"Green\"  \"Yellow\"\n",
      "\n",
      "$A_Martix\n",
      "     [,1] [,2] [,3] [,4]\n",
      "[1,]    1    3    5    7\n",
      "[2,]    2    4    6    8\n",
      "\n",
      "$`An Inner List`\n",
      "$`An Inner List`[[1]]\n",
      "[1] \"reen\"\n",
      "\n",
      "$`An Inner List`[[2]]\n",
      "[1] TRUE\n",
      "\n",
      "$`An Inner List`[[3]]\n",
      "[1] 12.5\n",
      "\n",
      "\n",
      "$Pass\n",
      "[1] TRUE\n",
      "\n"
     ]
    }
   ],
   "source": [
    "list_1[length(list_1)] = NULL\n",
    "print(list_1)"
   ]
  },
  {
   "cell_type": "code",
   "execution_count": 12,
   "metadata": {},
   "outputs": [
    {
     "name": "stdout",
     "output_type": "stream",
     "text": [
      "$`Traffic Light`\n",
      "[1] \"Red\"    \"Green\"  \"Yellow\"\n",
      "\n",
      "$`An Inner List`\n",
      "$`An Inner List`[[1]]\n",
      "[1] \"reen\"\n",
      "\n",
      "$`An Inner List`[[2]]\n",
      "[1] TRUE\n",
      "\n",
      "$`An Inner List`[[3]]\n",
      "[1] 12.5\n",
      "\n",
      "\n",
      "$Pass\n",
      "[1] TRUE\n",
      "\n"
     ]
    }
   ],
   "source": [
    "list_1[2] = NULL\n",
    "print(list_1)"
   ]
  },
  {
   "cell_type": "code",
   "execution_count": 13,
   "metadata": {},
   "outputs": [
    {
     "data": {
      "text/html": [
       "<strong>$`An Inner List`</strong> = <ol>\n",
       "\t<li>'reen'</li>\n",
       "\t<li>TRUE</li>\n",
       "\t<li>12.5</li>\n",
       "</ol>\n"
      ],
      "text/latex": [
       "\\textbf{\\$`An Inner List`} = \\begin{enumerate}\n",
       "\\item 'reen'\n",
       "\\item TRUE\n",
       "\\item 12.5\n",
       "\\end{enumerate}\n"
      ],
      "text/markdown": [
       "**$`An Inner List`** = 1. 'reen'\n",
       "2. TRUE\n",
       "3. 12.5\n",
       "\n",
       "\n"
      ],
      "text/plain": [
       "$`An Inner List`\n",
       "$`An Inner List`[[1]]\n",
       "[1] \"reen\"\n",
       "\n",
       "$`An Inner List`[[2]]\n",
       "[1] TRUE\n",
       "\n",
       "$`An Inner List`[[3]]\n",
       "[1] 12.5\n",
       "\n"
      ]
     },
     "metadata": {},
     "output_type": "display_data"
    }
   ],
   "source": [
    "list_1[2]"
   ]
  },
  {
   "cell_type": "code",
   "execution_count": 14,
   "metadata": {},
   "outputs": [
    {
     "name": "stdout",
     "output_type": "stream",
     "text": [
      "$`Traffic Light`\n",
      "[1] \"Red\"    \"Green\"  \"Yellow\"\n",
      "\n",
      "$`An Inner List`\n",
      "$`An Inner List`[[1]]\n",
      "[1] \"reen\"\n",
      "\n",
      "$`An Inner List`[[2]]\n",
      "[1] TRUE\n",
      "\n",
      "$`An Inner List`[[3]]\n",
      "[1] 12.5\n",
      "\n",
      "\n",
      "$Pass\n",
      "[1] FALSE\n",
      "\n"
     ]
    }
   ],
   "source": [
    "list_1[3] = FALSE\n",
    "print(list_1)"
   ]
  },
  {
   "cell_type": "code",
   "execution_count": 15,
   "metadata": {},
   "outputs": [],
   "source": [
    "list1 <- list(1,TRUE,c('Red','Green','Yellow'))\n",
    "list2 <- list(TRUE,'hello',12.5)"
   ]
  },
  {
   "cell_type": "code",
   "execution_count": 16,
   "metadata": {},
   "outputs": [
    {
     "name": "stdout",
     "output_type": "stream",
     "text": [
      "[[1]]\n",
      "[1] 1\n",
      "\n",
      "[[2]]\n",
      "[1] TRUE\n",
      "\n",
      "[[3]]\n",
      "[1] \"Red\"    \"Green\"  \"Yellow\"\n",
      "\n",
      "[[4]]\n",
      "[1] TRUE\n",
      "\n",
      "[[5]]\n",
      "[1] \"hello\"\n",
      "\n",
      "[[6]]\n",
      "[1] 12.5\n",
      "\n"
     ]
    }
   ],
   "source": [
    "merged_list <- c(list1,list2)\n",
    "print(merged_list)"
   ]
  },
  {
   "cell_type": "code",
   "execution_count": 17,
   "metadata": {},
   "outputs": [
    {
     "name": "stdout",
     "output_type": "stream",
     "text": [
      "[1] \"1\"      \"TRUE\"   \"Red\"    \"Green\"  \"Yellow\"\n"
     ]
    }
   ],
   "source": [
    "v1 <- unlist(list1)\n",
    "print(v1)"
   ]
  },
  {
   "cell_type": "code",
   "execution_count": 18,
   "metadata": {},
   "outputs": [
    {
     "name": "stdout",
     "output_type": "stream",
     "text": [
      "[[1]]\n",
      "[1] 1\n",
      "\n",
      "[[2]]\n",
      "[1] \"Red\"    \"Green\"  \"Yellow\"\n",
      "\n"
     ]
    }
   ],
   "source": [
    "list_diff <- setdiff(list1,list2)\n",
    "print(list_diff)"
   ]
  },
  {
   "cell_type": "code",
   "execution_count": null,
   "metadata": {},
   "outputs": [],
   "source": []
  }
 ],
 "metadata": {
  "kernelspec": {
   "display_name": "R",
   "language": "R",
   "name": "ir"
  },
  "language_info": {
   "codemirror_mode": "r",
   "file_extension": ".r",
   "mimetype": "text/x-r-source",
   "name": "R",
   "pygments_lexer": "r",
   "version": "3.6.0"
  }
 },
 "nbformat": 4,
 "nbformat_minor": 4
}

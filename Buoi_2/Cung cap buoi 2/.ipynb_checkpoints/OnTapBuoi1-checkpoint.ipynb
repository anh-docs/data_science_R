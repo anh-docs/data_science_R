{
 "cells": [
  {
   "cell_type": "markdown",
   "metadata": {
    "id": "3KkCxqxNZhdE"
   },
   "source": [
    "# Bài tập ôn buổi 1\n",
    "#### Viết chương trình cho phép người dùng:\n",
    "- Nhập vào một chuỗi. In chuỗi.\n",
    "- Nhập vào một ký tự. In ký tự.\n",
    "- Tạo chuỗi mới từ chuỗi đã có trong đó tất cả các ký tự đã nhập ở trên đều được in hoa.\n",
    "- Tách chuỗi đã nhập ở đầu bài thành danh sách các phần tử.\n",
    "- Nhập vào một từ. In từ.\n",
    "- Tìm xem từ vừa nhập có là phần tử nào trong danh sách phần tử trên hay không? Nêu tìm thấy thì thông báo là \"Found!!!\" ngược lại thì thông báo là \"Not found!!!\"\n",
    "- Nhập vào một từ cần tìm (find) trong chuỗi và một từ mới sẽ thay thế (replace). Thay thế tất cả các từ tìm (find) trong chuỗi bằng từ thay thế (replace\n"
   ]
  },
  {
   "cell_type": "code",
   "execution_count": 1,
   "metadata": {},
   "outputs": [
    {
     "name": "stdout",
     "output_type": "stream",
     "text": [
      "Input a string: String\n"
     ]
    }
   ],
   "source": [
    "str_1 = readline(prompt='Input a string: ')"
   ]
  },
  {
   "cell_type": "code",
   "execution_count": 3,
   "metadata": {},
   "outputs": [
    {
     "name": "stdout",
     "output_type": "stream",
     "text": [
      "Input a character: b\n"
     ]
    }
   ],
   "source": [
    "str_2 = as.character(readline(prompt='Input a character: '))"
   ]
  },
  {
   "cell_type": "code",
   "execution_count": 10,
   "metadata": {},
   "outputs": [
    {
     "name": "stdout",
     "output_type": "stream",
     "text": [
      "[1] \"STRING B\"\n"
     ]
    }
   ],
   "source": [
    "str_new = toupper(paste(str_1,str_2))\n",
    "print(str_new)"
   ]
  },
  {
   "cell_type": "code",
   "execution_count": 22,
   "metadata": {},
   "outputs": [
    {
     "name": "stdout",
     "output_type": "stream",
     "text": [
      "[[1]]\n",
      "[1] \"S\" \"t\" \"r\" \"i\" \"n\" \"g\" \" \" \"b\"\n",
      "\n"
     ]
    }
   ],
   "source": [
    "str_split = strsplit(paste(str_1,str_2),\"\")\n",
    "print(str_split)"
   ]
  },
  {
   "cell_type": "code",
   "execution_count": 20,
   "metadata": {},
   "outputs": [
    {
     "name": "stdout",
     "output_type": "stream",
     "text": [
      "[1] \"String b\"\n"
     ]
    }
   ],
   "source": [
    "str_cat = paste(str_1,str_2)\n",
    "print(str_cat)"
   ]
  },
  {
   "cell_type": "code",
   "execution_count": 21,
   "metadata": {},
   "outputs": [
    {
     "name": "stdout",
     "output_type": "stream",
     "text": [
      "Input a word: Stringb\n",
      "[1] \"Stringb\"\n"
     ]
    }
   ],
   "source": [
    "word = readline('Input a word: ')\n",
    "print(word)"
   ]
  },
  {
   "cell_type": "code",
   "execution_count": 30,
   "metadata": {},
   "outputs": [
    {
     "name": "stderr",
     "output_type": "stream",
     "text": [
      "Warning message in if (i %in% word) {:\n",
      "\"the condition has length > 1 and only the first element will be used\"\n"
     ]
    },
    {
     "name": "stdout",
     "output_type": "stream",
     "text": [
      "[1] \"Not Found !\"\n"
     ]
    }
   ],
   "source": [
    "for (i in str_split)\n",
    "{\n",
    "    if (i %in% word)\n",
    "        {\n",
    "        print('Found')\n",
    "    } else {\n",
    "        print('Not Found !')\n",
    "    }\n",
    "}"
   ]
  },
  {
   "cell_type": "markdown",
   "metadata": {
    "id": "7tdvIByoRzaE"
   },
   "source": [
    "### Viết chương trình cho phép người dùng:\n",
    "- Nhập vào ngày sinh của mình theo định dạng: 2021-mm-dd. \n",
    "- Lấy ngày hiện hành\n",
    "- Hãy in ra một trong 3 nội dung sau tùy kết quả (so với ngày hiện hành):\n",
    "  - Nếu ngày sinh nhật của bạn chưa tới thì \"The next xx days will be your birthday.\"\n",
    "  - Nếu ngày sinh nhật của bạn dã qua thì \"Your birthday has passed xx days.\"\n",
    "  - Nếu hôm nay là sinh nhật của bạn thì \"Happy birthday to you!\" "
   ]
  },
  {
   "cell_type": "code",
   "execution_count": 68,
   "metadata": {},
   "outputs": [
    {
     "name": "stdout",
     "output_type": "stream",
     "text": [
      "Input a date (Y-mm-dd): 2021-10-16\n"
     ]
    }
   ],
   "source": [
    "birth_date = as.Date(readline(prompt='Input a date (Y-mm-dd): '),format=\"%Y-%m-%d\")"
   ]
  },
  {
   "cell_type": "code",
   "execution_count": 69,
   "metadata": {},
   "outputs": [
    {
     "data": {
      "text/html": [
       "<time datetime=\"2021-01-10\">2021-01-10</time>"
      ],
      "text/latex": [
       "2021-01-10"
      ],
      "text/markdown": [
       "2021-01-10"
      ],
      "text/plain": [
       "[1] \"2021-01-10\""
      ]
     },
     "metadata": {},
     "output_type": "display_data"
    }
   ],
   "source": [
    "today = Sys.Date()\n",
    "today"
   ]
  },
  {
   "cell_type": "code",
   "execution_count": 70,
   "metadata": {},
   "outputs": [
    {
     "data": {
      "text/plain": [
       "Time difference of -279 days"
      ]
     },
     "metadata": {},
     "output_type": "display_data"
    }
   ],
   "source": [
    "dis = today-birth_date\n",
    "dis"
   ]
  },
  {
   "cell_type": "code",
   "execution_count": 71,
   "metadata": {},
   "outputs": [
    {
     "name": "stdout",
     "output_type": "stream",
     "text": [
      "[1] \"The next -279 days will be your birthday.\"\n"
     ]
    }
   ],
   "source": [
    "\n",
    "if(dis<0){\n",
    "    print(paste('The next',dis,'days will be your birthday.'))\n",
    "} else if (today-date>0){\n",
    "    print(paste('Your birthday has passed',dis,'days.'))\n",
    "} else {\n",
    "    print(\"Happy birthday to you!\")\n",
    "    }"
   ]
  }
 ],
 "metadata": {
  "colab": {
   "authorship_tag": "ABX9TyPNV9VZAuKe71mWuJcfDXBv",
   "collapsed_sections": [],
   "name": "OnTapBuoi1.ipynb",
   "provenance": []
  },
  "kernelspec": {
   "display_name": "R",
   "language": "R",
   "name": "ir"
  },
  "language_info": {
   "codemirror_mode": "r",
   "file_extension": ".r",
   "mimetype": "text/x-r-source",
   "name": "R",
   "pygments_lexer": "r",
   "version": "4.0.2"
  }
 },
 "nbformat": 4,
 "nbformat_minor": 1
}

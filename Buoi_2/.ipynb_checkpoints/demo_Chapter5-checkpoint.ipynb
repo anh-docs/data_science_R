{
 "cells": [
  {
   "cell_type": "code",
   "execution_count": 1,
   "metadata": {},
   "outputs": [
    {
     "data": {
      "text/plain": [
       "   Min. 1st Qu.  Median    Mean 3rd Qu.    Max. \n",
       "   1.00   25.75   50.50   50.50   75.25  100.00 "
      ]
     },
     "metadata": {},
     "output_type": "display_data"
    }
   ],
   "source": [
    "v <- c(1:100)\n",
    "summary(v)"
   ]
  },
  {
   "cell_type": "code",
   "execution_count": 2,
   "metadata": {},
   "outputs": [
    {
     "data": {
      "text/html": [
       "5050"
      ],
      "text/latex": [
       "5050"
      ],
      "text/markdown": [
       "5050"
      ],
      "text/plain": [
       "[1] 5050"
      ]
     },
     "metadata": {},
     "output_type": "display_data"
    }
   ],
   "source": [
    "sum(v)"
   ]
  },
  {
   "cell_type": "code",
   "execution_count": 3,
   "metadata": {},
   "outputs": [
    {
     "data": {
      "text/html": [
       "50.5"
      ],
      "text/latex": [
       "50.5"
      ],
      "text/markdown": [
       "50.5"
      ],
      "text/plain": [
       "[1] 50.5"
      ]
     },
     "metadata": {},
     "output_type": "display_data"
    }
   ],
   "source": [
    "median(v)"
   ]
  },
  {
   "cell_type": "code",
   "execution_count": 4,
   "metadata": {},
   "outputs": [
    {
     "data": {
      "text/html": [
       "50.5"
      ],
      "text/latex": [
       "50.5"
      ],
      "text/markdown": [
       "50.5"
      ],
      "text/plain": [
       "[1] 50.5"
      ]
     },
     "metadata": {},
     "output_type": "display_data"
    }
   ],
   "source": [
    "mean(v)"
   ]
  },
  {
   "cell_type": "code",
   "execution_count": 5,
   "metadata": {},
   "outputs": [],
   "source": [
    "# library()"
   ]
  },
  {
   "cell_type": "code",
   "execution_count": 6,
   "metadata": {},
   "outputs": [],
   "source": [
    "# help(sum)"
   ]
  },
  {
   "cell_type": "code",
   "execution_count": 7,
   "metadata": {},
   "outputs": [],
   "source": [
    "v <- c(4,5,67,8,NA)"
   ]
  },
  {
   "cell_type": "code",
   "execution_count": 8,
   "metadata": {},
   "outputs": [
    {
     "data": {
      "text/html": [
       "&lt;NA&gt;"
      ],
      "text/latex": [
       "<NA>"
      ],
      "text/markdown": [
       "&lt;NA&gt;"
      ],
      "text/plain": [
       "[1] NA"
      ]
     },
     "metadata": {},
     "output_type": "display_data"
    },
    {
     "data": {
      "text/html": [
       "21"
      ],
      "text/latex": [
       "21"
      ],
      "text/markdown": [
       "21"
      ],
      "text/plain": [
       "[1] 21"
      ]
     },
     "metadata": {},
     "output_type": "display_data"
    }
   ],
   "source": [
    "mean(v, na.rm=FALSE, trim=0)\n",
    "mean(v, na.rm=TRUE, trim=0)"
   ]
  },
  {
   "cell_type": "code",
   "execution_count": 9,
   "metadata": {},
   "outputs": [
    {
     "data": {
      "text/html": [
       "15"
      ],
      "text/latex": [
       "15"
      ],
      "text/markdown": [
       "15"
      ],
      "text/plain": [
       "[1] 15"
      ]
     },
     "metadata": {},
     "output_type": "display_data"
    }
   ],
   "source": [
    "sum(1:5)"
   ]
  },
  {
   "cell_type": "code",
   "execution_count": 12,
   "metadata": {},
   "outputs": [],
   "source": [
    "sum_even.function <- function(start, end){\n",
    "    sum_even <- 0 \n",
    "    for (i in start:end)\n",
    "        {\n",
    "            if(i %% 2 == 0)\n",
    "                sum_even <- sum_even + i\n",
    "    }\n",
    "    return (sum_even)\n",
    "}"
   ]
  },
  {
   "cell_type": "code",
   "execution_count": 13,
   "metadata": {},
   "outputs": [
    {
     "data": {
      "text/html": [
       "30"
      ],
      "text/latex": [
       "30"
      ],
      "text/markdown": [
       "30"
      ],
      "text/plain": [
       "[1] 30"
      ]
     },
     "metadata": {},
     "output_type": "display_data"
    }
   ],
   "source": [
    "sum_even.function(1,10)"
   ]
  },
  {
   "cell_type": "code",
   "execution_count": 16,
   "metadata": {},
   "outputs": [
    {
     "data": {
      "text/html": [
       "30"
      ],
      "text/latex": [
       "30"
      ],
      "text/markdown": [
       "30"
      ],
      "text/plain": [
       "[1] 30"
      ]
     },
     "metadata": {},
     "output_type": "display_data"
    }
   ],
   "source": [
    "sum_even = sum_even.function(start=1,end=10)\n",
    "sum_even"
   ]
  },
  {
   "cell_type": "code",
   "execution_count": 15,
   "metadata": {},
   "outputs": [
    {
     "data": {
      "text/html": [
       "30"
      ],
      "text/latex": [
       "30"
      ],
      "text/markdown": [
       "30"
      ],
      "text/plain": [
       "[1] 30"
      ]
     },
     "metadata": {},
     "output_type": "display_data"
    }
   ],
   "source": [
    "sum_even = sum_even.function(1,10)\n",
    "sum_even"
   ]
  },
  {
   "cell_type": "code",
   "execution_count": 22,
   "metadata": {},
   "outputs": [],
   "source": [
    "drink.function <- function(price, type='Tea'){\n",
    "    print(paste(\"With\",price,\"You can drink\",type))\n",
    "}"
   ]
  },
  {
   "cell_type": "code",
   "execution_count": 23,
   "metadata": {},
   "outputs": [
    {
     "name": "stdout",
     "output_type": "stream",
     "text": [
      "[1] \"With 100 You can drink Tea\"\n"
     ]
    }
   ],
   "source": [
    "drink.function(100)"
   ]
  },
  {
   "cell_type": "code",
   "execution_count": 24,
   "metadata": {},
   "outputs": [
    {
     "name": "stdout",
     "output_type": "stream",
     "text": [
      "[1] \"With 1000 You can drink Beer\"\n"
     ]
    }
   ],
   "source": [
    "drink.function(1000,\"Beer\")"
   ]
  },
  {
   "cell_type": "code",
   "execution_count": null,
   "metadata": {},
   "outputs": [],
   "source": [
    "random_number <- round(runif(1,1,10),0)\n",
    "num <- as.integer(readline('Input a number: '))\n",
    "if (num >random_number){\n",
    "    message('Your number > Our number')\n",
    "} else if (num < random_number) { message('Your number < Our number')\n",
    "} else {\n",
    "    message('You win !!!') \n",
    "    break\n",
    "}"
   ]
  },
  {
   "cell_type": "code",
   "execution_count": null,
   "metadata": {},
   "outputs": [],
   "source": [
    "n = 1\n",
    "while (n<=3)\n",
    "{\n",
    "    random_number <- round(runif(1,1,10),0)\n",
    "    num <- as.integer(readline('Input a number: '))\n",
    "    if (num >random_number){\n",
    "        message('Your number > Our number')\n",
    "    } else if (num < random_number) { message('Your number < Our number')\n",
    "    } else {\n",
    "        message('You win !!!') \n",
    "        break\n",
    "    }\n",
    "    \n",
    "    n = n + 1\n",
    "    if (n==4)\n",
    "        print('You lose !!')\n",
    "}"
   ]
  },
  {
   "cell_type": "code",
   "execution_count": 1,
   "metadata": {},
   "outputs": [],
   "source": [
    "bet_num.function <- function(num){\n",
    "    random_number <- round(runif(1,1,10),0)\n",
    "    result <- ''\n",
    "    num <- as.integer(readline('Input a number: '))\n",
    "    if (num >random_number){\n",
    "        result <- 'Your number > Our number'\n",
    "    } else if (num < random_number) { result <- 'Your number < Our number'\n",
    "    } else {\n",
    "        result <- 'You win !!!'\n",
    "    }\n",
    "    return (result)\n",
    "}"
   ]
  },
  {
   "cell_type": "code",
   "execution_count": 4,
   "metadata": {},
   "outputs": [
    {
     "name": "stdout",
     "output_type": "stream",
     "text": [
      "Input a number: 1\n",
      "Input a number: 2\n"
     ]
    },
    {
     "name": "stderr",
     "output_type": "stream",
     "text": [
      "Your number < Our number\n",
      "\n"
     ]
    },
    {
     "name": "stdout",
     "output_type": "stream",
     "text": [
      "Input a number: 3\n",
      "Input a number: 4\n"
     ]
    },
    {
     "name": "stderr",
     "output_type": "stream",
     "text": [
      "Your number > Our number\n",
      "\n"
     ]
    },
    {
     "name": "stdout",
     "output_type": "stream",
     "text": [
      "Input a number: 5\n",
      "Input a number: 7\n"
     ]
    },
    {
     "name": "stderr",
     "output_type": "stream",
     "text": [
      "Your number > Our number\n",
      "\n"
     ]
    },
    {
     "name": "stdout",
     "output_type": "stream",
     "text": [
      "[1] \"You lose !!\"\n"
     ]
    }
   ],
   "source": [
    "n <- 1\n",
    "while (n<=3){\n",
    "    num <- as.integer(readline('Input a number: '))\n",
    "    result = bet_num.function(num)\n",
    "    message(paste(result))\n",
    "    if (result == 'You win !!!')\n",
    "        break\n",
    "    n <- n + 1\n",
    "    if (n==4)\n",
    "        print('You lose !!')\n",
    "}"
   ]
  },
  {
   "cell_type": "code",
   "execution_count": null,
   "metadata": {},
   "outputs": [],
   "source": [
    "bmi_cal.function <- function(height, weight){\n",
    "  bmi <- weight/(height*height)\n",
    "  return (round(bmi,2))\n",
    "}\n",
    "\n",
    "bmi_check.function <- function(bmi){\n",
    "  if (bmi<18.5) {\n",
    "    result <- 'Gay'\n",
    "  } else if (bmi<24.99) {\n",
    "    result <- 'Binh thuong'\n",
    "  } else {\n",
    "    result <- 'Thua can'\n",
    "  }\n",
    "   return (result)\n",
    "}\n",
    "# bmi = bmi_cal.function(1.65,65)\n",
    "# rs = bmi_check.function(bmi)\n",
    "# print(rs)"
   ]
  },
  {
   "cell_type": "markdown",
   "metadata": {},
   "source": [
    "# User-defined function"
   ]
  },
  {
   "cell_type": "code",
   "execution_count": 21,
   "metadata": {},
   "outputs": [],
   "source": [
    "source('bmi.R')"
   ]
  },
  {
   "cell_type": "code",
   "execution_count": 23,
   "metadata": {},
   "outputs": [
    {
     "name": "stdout",
     "output_type": "stream",
     "text": [
      "[1] \"Binh thuong\"\n"
     ]
    }
   ],
   "source": [
    "bmi <- bmi_cal.function(1.65, 65)\n",
    "rs <- bmi_check.function(bmi)\n",
    "print(rs)"
   ]
  },
  {
   "cell_type": "code",
   "execution_count": 27,
   "metadata": {},
   "outputs": [
    {
     "name": "stdout",
     "output_type": "stream",
     "text": [
      "[1] \"50 Gay\"\n",
      "[1] \"51 Binh thuong\"\n",
      "[1] \"52 Binh thuong\"\n",
      "[1] \"53 Binh thuong\"\n",
      "[1] \"54 Binh thuong\"\n",
      "[1] \"55 Binh thuong\"\n",
      "[1] \"56 Binh thuong\"\n",
      "[1] \"57 Binh thuong\"\n",
      "[1] \"58 Binh thuong\"\n",
      "[1] \"59 Binh thuong\"\n",
      "[1] \"60 Binh thuong\"\n",
      "[1] \"61 Binh thuong\"\n",
      "[1] \"62 Binh thuong\"\n",
      "[1] \"63 Binh thuong\"\n",
      "[1] \"64 Binh thuong\"\n",
      "[1] \"65 Binh thuong\"\n",
      "[1] \"66 Binh thuong\"\n",
      "[1] \"67 Binh thuong\"\n",
      "[1] \"68 Binh thuong\"\n",
      "[1] \"69 Thua can\"\n",
      "[1] \"70 Thua can\"\n"
     ]
    }
   ],
   "source": [
    "for (i in (50:70)){\n",
    "    bmi <- bmi_cal.function(1.65, i)\n",
    "    rs <- bmi_check.function(bmi)\n",
    "    print(paste(i,rs))\n",
    "}"
   ]
  },
  {
   "cell_type": "code",
   "execution_count": null,
   "metadata": {},
   "outputs": [],
   "source": []
  }
 ],
 "metadata": {
  "kernelspec": {
   "display_name": "R",
   "language": "R",
   "name": "ir"
  },
  "language_info": {
   "codemirror_mode": "r",
   "file_extension": ".r",
   "mimetype": "text/x-r-source",
   "name": "R",
   "pygments_lexer": "r",
   "version": "4.0.2"
  }
 },
 "nbformat": 4,
 "nbformat_minor": 4
}

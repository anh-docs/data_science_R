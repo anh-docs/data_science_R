{
 "cells": [
  {
   "cell_type": "code",
   "execution_count": null,
   "metadata": {
    "colab": {
     "base_uri": "https://localhost:8080/",
     "height": 17
    },
    "id": "klX_ZG8YJPHf",
    "outputId": "ae9469d4-5295-4c09-d25e-e2692e63c94d"
   },
   "outputs": [
    {
     "data": {
      "text/html": [],
      "text/latex": [],
      "text/markdown": [],
      "text/plain": [
       "logical(0)"
      ]
     },
     "metadata": {
      "tags": []
     },
     "output_type": "display_data"
    },
    {
     "data": {
      "text/html": [],
      "text/latex": [],
      "text/markdown": [],
      "text/plain": [
       "logical(0)"
      ]
     },
     "metadata": {
      "tags": []
     },
     "output_type": "display_data"
    },
    {
     "data": {
      "text/html": [],
      "text/latex": [],
      "text/markdown": [],
      "text/plain": [
       "logical(0)"
      ]
     },
     "metadata": {
      "tags": []
     },
     "output_type": "display_data"
    },
    {
     "data": {
      "text/html": [],
      "text/latex": [],
      "text/markdown": [],
      "text/plain": [
       "logical(0)"
      ]
     },
     "metadata": {
      "tags": []
     },
     "output_type": "display_data"
    }
   ],
   "source": [
    "!installed.packages('plyr')\n",
    "!installed.packages('ggplot2')\n",
    "!installed.packages('ggExtra')\n",
    "!installed.packages('tidyverse')"
   ]
  },
  {
   "cell_type": "code",
   "execution_count": 2,
   "metadata": {
    "colab": {
     "base_uri": "https://localhost:8080/",
     "height": 204
    },
    "id": "y3Tfz46jJJ_T",
    "outputId": "0d0c597d-2619-4f0f-ffca-bf5e065d1043"
   },
   "outputs": [],
   "source": [
    "library('plyr')\n",
    "library('ggplot2')\n",
    "library(\"ggExtra\")\n",
    "library('tidyverse')"
   ]
  },
  {
   "cell_type": "markdown",
   "metadata": {
    "id": "ypuaTTa8JJ_R"
   },
   "source": [
    "# Bài ôn tập: ames_housing\n",
    "## Cho dữ liệu ames_housing.csv. Hãy thực hiện các yêu cầu được liệt kê bên dưới:"
   ]
  },
  {
   "cell_type": "markdown",
   "metadata": {
    "id": "yb442r32JJ_T"
   },
   "source": [
    "#### 1. Đọc dữ liệu, hiển thị thông tin chung của dữ liệu : head(), tail(), str(), summary() \n"
   ]
  },
  {
   "cell_type": "code",
   "execution_count": 3,
   "metadata": {},
   "outputs": [],
   "source": [
    "ames_housing <- read.csv('ames_housing.csv')"
   ]
  },
  {
   "cell_type": "code",
   "execution_count": 4,
   "metadata": {},
   "outputs": [
    {
     "data": {
      "text/html": [
       "<table>\n",
       "<caption>A data.frame: 6 × 81</caption>\n",
       "<thead>\n",
       "\t<tr><th></th><th scope=col>Id</th><th scope=col>PID</th><th scope=col>MS.SubClass</th><th scope=col>MS.Zoning</th><th scope=col>Lot.Frontage</th><th scope=col>Lot.Area</th><th scope=col>Street</th><th scope=col>Alley</th><th scope=col>Lot.Shape</th><th scope=col>Land.Contour</th><th scope=col>...</th><th scope=col>Screen.Porch</th><th scope=col>Pool.Area</th><th scope=col>Pool.QC</th><th scope=col>Fence</th><th scope=col>Misc.Feature</th><th scope=col>Misc.Val</th><th scope=col>Mo.Sold</th><th scope=col>Yr.Sold</th><th scope=col>Sale.Type</th><th scope=col>SalePrice</th></tr>\n",
       "\t<tr><th></th><th scope=col>&lt;int&gt;</th><th scope=col>&lt;int&gt;</th><th scope=col>&lt;int&gt;</th><th scope=col>&lt;fct&gt;</th><th scope=col>&lt;dbl&gt;</th><th scope=col>&lt;int&gt;</th><th scope=col>&lt;fct&gt;</th><th scope=col>&lt;fct&gt;</th><th scope=col>&lt;fct&gt;</th><th scope=col>&lt;fct&gt;</th><th scope=col>...</th><th scope=col>&lt;int&gt;</th><th scope=col>&lt;int&gt;</th><th scope=col>&lt;fct&gt;</th><th scope=col>&lt;fct&gt;</th><th scope=col>&lt;fct&gt;</th><th scope=col>&lt;int&gt;</th><th scope=col>&lt;int&gt;</th><th scope=col>&lt;int&gt;</th><th scope=col>&lt;fct&gt;</th><th scope=col>&lt;int&gt;</th></tr>\n",
       "</thead>\n",
       "<tbody>\n",
       "\t<tr><th scope=row>1</th><td>109</td><td>533352170</td><td>60</td><td>RL</td><td> NA</td><td>13517</td><td>Pave</td><td></td><td>IR1</td><td>Lvl</td><td>...</td><td>0</td><td>0</td><td></td><td></td><td></td><td>0</td><td>3</td><td>2010</td><td>WD </td><td>130500</td></tr>\n",
       "\t<tr><th scope=row>2</th><td>544</td><td>531379050</td><td>60</td><td>RL</td><td> 43</td><td>11492</td><td>Pave</td><td></td><td>IR1</td><td>Lvl</td><td>...</td><td>0</td><td>0</td><td></td><td></td><td></td><td>0</td><td>4</td><td>2009</td><td>WD </td><td>220000</td></tr>\n",
       "\t<tr><th scope=row>3</th><td>153</td><td>535304180</td><td>20</td><td>RL</td><td> 68</td><td> 7922</td><td>Pave</td><td></td><td>Reg</td><td>Lvl</td><td>...</td><td>0</td><td>0</td><td></td><td></td><td></td><td>0</td><td>1</td><td>2010</td><td>WD </td><td>109000</td></tr>\n",
       "\t<tr><th scope=row>4</th><td>318</td><td>916386060</td><td>60</td><td>RL</td><td> 73</td><td> 9802</td><td>Pave</td><td></td><td>Reg</td><td>Lvl</td><td>...</td><td>0</td><td>0</td><td></td><td></td><td></td><td>0</td><td>4</td><td>2010</td><td>WD </td><td>174000</td></tr>\n",
       "\t<tr><th scope=row>5</th><td>255</td><td>906425045</td><td>50</td><td>RL</td><td> 82</td><td>14235</td><td>Pave</td><td></td><td>IR1</td><td>Lvl</td><td>...</td><td>0</td><td>0</td><td></td><td></td><td></td><td>0</td><td>3</td><td>2010</td><td>WD </td><td>138500</td></tr>\n",
       "\t<tr><th scope=row>6</th><td>138</td><td>535126040</td><td>20</td><td>RL</td><td>137</td><td>16492</td><td>Pave</td><td></td><td>IR1</td><td>Lvl</td><td>...</td><td>0</td><td>0</td><td></td><td></td><td></td><td>0</td><td>6</td><td>2010</td><td>WD </td><td>190000</td></tr>\n",
       "</tbody>\n",
       "</table>\n"
      ],
      "text/latex": [
       "A data.frame: 6 × 81\n",
       "\\begin{tabular}{r|lllllllllllllllllllll}\n",
       "  & Id & PID & MS.SubClass & MS.Zoning & Lot.Frontage & Lot.Area & Street & Alley & Lot.Shape & Land.Contour & ... & Screen.Porch & Pool.Area & Pool.QC & Fence & Misc.Feature & Misc.Val & Mo.Sold & Yr.Sold & Sale.Type & SalePrice\\\\\n",
       "  & <int> & <int> & <int> & <fct> & <dbl> & <int> & <fct> & <fct> & <fct> & <fct> & ... & <int> & <int> & <fct> & <fct> & <fct> & <int> & <int> & <int> & <fct> & <int>\\\\\n",
       "\\hline\n",
       "\t1 & 109 & 533352170 & 60 & RL &  NA & 13517 & Pave &  & IR1 & Lvl & ... & 0 & 0 &  &  &  & 0 & 3 & 2010 & WD  & 130500\\\\\n",
       "\t2 & 544 & 531379050 & 60 & RL &  43 & 11492 & Pave &  & IR1 & Lvl & ... & 0 & 0 &  &  &  & 0 & 4 & 2009 & WD  & 220000\\\\\n",
       "\t3 & 153 & 535304180 & 20 & RL &  68 &  7922 & Pave &  & Reg & Lvl & ... & 0 & 0 &  &  &  & 0 & 1 & 2010 & WD  & 109000\\\\\n",
       "\t4 & 318 & 916386060 & 60 & RL &  73 &  9802 & Pave &  & Reg & Lvl & ... & 0 & 0 &  &  &  & 0 & 4 & 2010 & WD  & 174000\\\\\n",
       "\t5 & 255 & 906425045 & 50 & RL &  82 & 14235 & Pave &  & IR1 & Lvl & ... & 0 & 0 &  &  &  & 0 & 3 & 2010 & WD  & 138500\\\\\n",
       "\t6 & 138 & 535126040 & 20 & RL & 137 & 16492 & Pave &  & IR1 & Lvl & ... & 0 & 0 &  &  &  & 0 & 6 & 2010 & WD  & 190000\\\\\n",
       "\\end{tabular}\n"
      ],
      "text/markdown": [
       "\n",
       "A data.frame: 6 × 81\n",
       "\n",
       "| <!--/--> | Id &lt;int&gt; | PID &lt;int&gt; | MS.SubClass &lt;int&gt; | MS.Zoning &lt;fct&gt; | Lot.Frontage &lt;dbl&gt; | Lot.Area &lt;int&gt; | Street &lt;fct&gt; | Alley &lt;fct&gt; | Lot.Shape &lt;fct&gt; | Land.Contour &lt;fct&gt; | ... ... | Screen.Porch &lt;int&gt; | Pool.Area &lt;int&gt; | Pool.QC &lt;fct&gt; | Fence &lt;fct&gt; | Misc.Feature &lt;fct&gt; | Misc.Val &lt;int&gt; | Mo.Sold &lt;int&gt; | Yr.Sold &lt;int&gt; | Sale.Type &lt;fct&gt; | SalePrice &lt;int&gt; |\n",
       "|---|---|---|---|---|---|---|---|---|---|---|---|---|---|---|---|---|---|---|---|---|---|\n",
       "| 1 | 109 | 533352170 | 60 | RL |  NA | 13517 | Pave | <!----> | IR1 | Lvl | ... | 0 | 0 | <!----> | <!----> | <!----> | 0 | 3 | 2010 | WD  | 130500 |\n",
       "| 2 | 544 | 531379050 | 60 | RL |  43 | 11492 | Pave | <!----> | IR1 | Lvl | ... | 0 | 0 | <!----> | <!----> | <!----> | 0 | 4 | 2009 | WD  | 220000 |\n",
       "| 3 | 153 | 535304180 | 20 | RL |  68 |  7922 | Pave | <!----> | Reg | Lvl | ... | 0 | 0 | <!----> | <!----> | <!----> | 0 | 1 | 2010 | WD  | 109000 |\n",
       "| 4 | 318 | 916386060 | 60 | RL |  73 |  9802 | Pave | <!----> | Reg | Lvl | ... | 0 | 0 | <!----> | <!----> | <!----> | 0 | 4 | 2010 | WD  | 174000 |\n",
       "| 5 | 255 | 906425045 | 50 | RL |  82 | 14235 | Pave | <!----> | IR1 | Lvl | ... | 0 | 0 | <!----> | <!----> | <!----> | 0 | 3 | 2010 | WD  | 138500 |\n",
       "| 6 | 138 | 535126040 | 20 | RL | 137 | 16492 | Pave | <!----> | IR1 | Lvl | ... | 0 | 0 | <!----> | <!----> | <!----> | 0 | 6 | 2010 | WD  | 190000 |\n",
       "\n"
      ],
      "text/plain": [
       "  Id  PID       MS.SubClass MS.Zoning Lot.Frontage Lot.Area Street Alley\n",
       "1 109 533352170 60          RL         NA          13517    Pave        \n",
       "2 544 531379050 60          RL         43          11492    Pave        \n",
       "3 153 535304180 20          RL         68           7922    Pave        \n",
       "4 318 916386060 60          RL         73           9802    Pave        \n",
       "5 255 906425045 50          RL         82          14235    Pave        \n",
       "6 138 535126040 20          RL        137          16492    Pave        \n",
       "  Lot.Shape Land.Contour ... Screen.Porch Pool.Area Pool.QC Fence Misc.Feature\n",
       "1 IR1       Lvl          ... 0            0                                   \n",
       "2 IR1       Lvl          ... 0            0                                   \n",
       "3 Reg       Lvl          ... 0            0                                   \n",
       "4 Reg       Lvl          ... 0            0                                   \n",
       "5 IR1       Lvl          ... 0            0                                   \n",
       "6 IR1       Lvl          ... 0            0                                   \n",
       "  Misc.Val Mo.Sold Yr.Sold Sale.Type SalePrice\n",
       "1 0        3       2010    WD        130500   \n",
       "2 0        4       2009    WD        220000   \n",
       "3 0        1       2010    WD        109000   \n",
       "4 0        4       2010    WD        174000   \n",
       "5 0        3       2010    WD        138500   \n",
       "6 0        6       2010    WD        190000   "
      ]
     },
     "metadata": {},
     "output_type": "display_data"
    }
   ],
   "source": [
    "head(ames_housing)"
   ]
  },
  {
   "cell_type": "code",
   "execution_count": 5,
   "metadata": {},
   "outputs": [
    {
     "data": {
      "text/html": [
       "<table>\n",
       "<caption>A data.frame: 6 × 81</caption>\n",
       "<thead>\n",
       "\t<tr><th></th><th scope=col>Id</th><th scope=col>PID</th><th scope=col>MS.SubClass</th><th scope=col>MS.Zoning</th><th scope=col>Lot.Frontage</th><th scope=col>Lot.Area</th><th scope=col>Street</th><th scope=col>Alley</th><th scope=col>Lot.Shape</th><th scope=col>Land.Contour</th><th scope=col>...</th><th scope=col>Screen.Porch</th><th scope=col>Pool.Area</th><th scope=col>Pool.QC</th><th scope=col>Fence</th><th scope=col>Misc.Feature</th><th scope=col>Misc.Val</th><th scope=col>Mo.Sold</th><th scope=col>Yr.Sold</th><th scope=col>Sale.Type</th><th scope=col>SalePrice</th></tr>\n",
       "\t<tr><th></th><th scope=col>&lt;int&gt;</th><th scope=col>&lt;int&gt;</th><th scope=col>&lt;int&gt;</th><th scope=col>&lt;fct&gt;</th><th scope=col>&lt;dbl&gt;</th><th scope=col>&lt;int&gt;</th><th scope=col>&lt;fct&gt;</th><th scope=col>&lt;fct&gt;</th><th scope=col>&lt;fct&gt;</th><th scope=col>&lt;fct&gt;</th><th scope=col>...</th><th scope=col>&lt;int&gt;</th><th scope=col>&lt;int&gt;</th><th scope=col>&lt;fct&gt;</th><th scope=col>&lt;fct&gt;</th><th scope=col>&lt;fct&gt;</th><th scope=col>&lt;int&gt;</th><th scope=col>&lt;int&gt;</th><th scope=col>&lt;int&gt;</th><th scope=col>&lt;fct&gt;</th><th scope=col>&lt;int&gt;</th></tr>\n",
       "</thead>\n",
       "<tbody>\n",
       "\t<tr><th scope=row>2046</th><td>1051</td><td>528102030</td><td>20</td><td>RL</td><td>96</td><td>12444</td><td>Pave</td><td></td><td>Reg</td><td>Lvl</td><td>...</td><td>0</td><td>0</td><td></td><td></td><td></td><td>0</td><td>11</td><td>2008</td><td>New</td><td>394617</td></tr>\n",
       "\t<tr><th scope=row>2047</th><td>1587</td><td>921126030</td><td>20</td><td>RL</td><td>79</td><td>11449</td><td>Pave</td><td></td><td>IR1</td><td>HLS</td><td>...</td><td>0</td><td>0</td><td></td><td></td><td></td><td>0</td><td> 1</td><td>2008</td><td>WD </td><td>298751</td></tr>\n",
       "\t<tr><th scope=row>2048</th><td> 785</td><td>905377130</td><td>30</td><td>RL</td><td>NA</td><td>12342</td><td>Pave</td><td></td><td>IR1</td><td>Lvl</td><td>...</td><td>0</td><td>0</td><td></td><td></td><td></td><td>0</td><td> 3</td><td>2009</td><td>WD </td><td> 82500</td></tr>\n",
       "\t<tr><th scope=row>2049</th><td> 916</td><td>909253010</td><td>50</td><td>RL</td><td>57</td><td> 7558</td><td>Pave</td><td></td><td>Reg</td><td>Bnk</td><td>...</td><td>0</td><td>0</td><td></td><td></td><td></td><td>0</td><td> 3</td><td>2009</td><td>WD </td><td>177000</td></tr>\n",
       "\t<tr><th scope=row>2050</th><td> 639</td><td>535179160</td><td>20</td><td>RL</td><td>80</td><td>10400</td><td>Pave</td><td></td><td>Reg</td><td>Lvl</td><td>...</td><td>0</td><td>0</td><td></td><td></td><td></td><td>0</td><td>11</td><td>2009</td><td>WD </td><td>144000</td></tr>\n",
       "\t<tr><th scope=row>2051</th><td>  10</td><td>527162130</td><td>60</td><td>RL</td><td>60</td><td> 7500</td><td>Pave</td><td></td><td>Reg</td><td>Lvl</td><td>...</td><td>0</td><td>0</td><td></td><td></td><td></td><td>0</td><td> 6</td><td>2010</td><td>WD </td><td>189000</td></tr>\n",
       "</tbody>\n",
       "</table>\n"
      ],
      "text/latex": [
       "A data.frame: 6 × 81\n",
       "\\begin{tabular}{r|lllllllllllllllllllll}\n",
       "  & Id & PID & MS.SubClass & MS.Zoning & Lot.Frontage & Lot.Area & Street & Alley & Lot.Shape & Land.Contour & ... & Screen.Porch & Pool.Area & Pool.QC & Fence & Misc.Feature & Misc.Val & Mo.Sold & Yr.Sold & Sale.Type & SalePrice\\\\\n",
       "  & <int> & <int> & <int> & <fct> & <dbl> & <int> & <fct> & <fct> & <fct> & <fct> & ... & <int> & <int> & <fct> & <fct> & <fct> & <int> & <int> & <int> & <fct> & <int>\\\\\n",
       "\\hline\n",
       "\t2046 & 1051 & 528102030 & 20 & RL & 96 & 12444 & Pave &  & Reg & Lvl & ... & 0 & 0 &  &  &  & 0 & 11 & 2008 & New & 394617\\\\\n",
       "\t2047 & 1587 & 921126030 & 20 & RL & 79 & 11449 & Pave &  & IR1 & HLS & ... & 0 & 0 &  &  &  & 0 &  1 & 2008 & WD  & 298751\\\\\n",
       "\t2048 &  785 & 905377130 & 30 & RL & NA & 12342 & Pave &  & IR1 & Lvl & ... & 0 & 0 &  &  &  & 0 &  3 & 2009 & WD  &  82500\\\\\n",
       "\t2049 &  916 & 909253010 & 50 & RL & 57 &  7558 & Pave &  & Reg & Bnk & ... & 0 & 0 &  &  &  & 0 &  3 & 2009 & WD  & 177000\\\\\n",
       "\t2050 &  639 & 535179160 & 20 & RL & 80 & 10400 & Pave &  & Reg & Lvl & ... & 0 & 0 &  &  &  & 0 & 11 & 2009 & WD  & 144000\\\\\n",
       "\t2051 &   10 & 527162130 & 60 & RL & 60 &  7500 & Pave &  & Reg & Lvl & ... & 0 & 0 &  &  &  & 0 &  6 & 2010 & WD  & 189000\\\\\n",
       "\\end{tabular}\n"
      ],
      "text/markdown": [
       "\n",
       "A data.frame: 6 × 81\n",
       "\n",
       "| <!--/--> | Id &lt;int&gt; | PID &lt;int&gt; | MS.SubClass &lt;int&gt; | MS.Zoning &lt;fct&gt; | Lot.Frontage &lt;dbl&gt; | Lot.Area &lt;int&gt; | Street &lt;fct&gt; | Alley &lt;fct&gt; | Lot.Shape &lt;fct&gt; | Land.Contour &lt;fct&gt; | ... ... | Screen.Porch &lt;int&gt; | Pool.Area &lt;int&gt; | Pool.QC &lt;fct&gt; | Fence &lt;fct&gt; | Misc.Feature &lt;fct&gt; | Misc.Val &lt;int&gt; | Mo.Sold &lt;int&gt; | Yr.Sold &lt;int&gt; | Sale.Type &lt;fct&gt; | SalePrice &lt;int&gt; |\n",
       "|---|---|---|---|---|---|---|---|---|---|---|---|---|---|---|---|---|---|---|---|---|---|\n",
       "| 2046 | 1051 | 528102030 | 20 | RL | 96 | 12444 | Pave | <!----> | Reg | Lvl | ... | 0 | 0 | <!----> | <!----> | <!----> | 0 | 11 | 2008 | New | 394617 |\n",
       "| 2047 | 1587 | 921126030 | 20 | RL | 79 | 11449 | Pave | <!----> | IR1 | HLS | ... | 0 | 0 | <!----> | <!----> | <!----> | 0 |  1 | 2008 | WD  | 298751 |\n",
       "| 2048 |  785 | 905377130 | 30 | RL | NA | 12342 | Pave | <!----> | IR1 | Lvl | ... | 0 | 0 | <!----> | <!----> | <!----> | 0 |  3 | 2009 | WD  |  82500 |\n",
       "| 2049 |  916 | 909253010 | 50 | RL | 57 |  7558 | Pave | <!----> | Reg | Bnk | ... | 0 | 0 | <!----> | <!----> | <!----> | 0 |  3 | 2009 | WD  | 177000 |\n",
       "| 2050 |  639 | 535179160 | 20 | RL | 80 | 10400 | Pave | <!----> | Reg | Lvl | ... | 0 | 0 | <!----> | <!----> | <!----> | 0 | 11 | 2009 | WD  | 144000 |\n",
       "| 2051 |   10 | 527162130 | 60 | RL | 60 |  7500 | Pave | <!----> | Reg | Lvl | ... | 0 | 0 | <!----> | <!----> | <!----> | 0 |  6 | 2010 | WD  | 189000 |\n",
       "\n"
      ],
      "text/plain": [
       "     Id   PID       MS.SubClass MS.Zoning Lot.Frontage Lot.Area Street Alley\n",
       "2046 1051 528102030 20          RL        96           12444    Pave        \n",
       "2047 1587 921126030 20          RL        79           11449    Pave        \n",
       "2048  785 905377130 30          RL        NA           12342    Pave        \n",
       "2049  916 909253010 50          RL        57            7558    Pave        \n",
       "2050  639 535179160 20          RL        80           10400    Pave        \n",
       "2051   10 527162130 60          RL        60            7500    Pave        \n",
       "     Lot.Shape Land.Contour ... Screen.Porch Pool.Area Pool.QC Fence\n",
       "2046 Reg       Lvl          ... 0            0                      \n",
       "2047 IR1       HLS          ... 0            0                      \n",
       "2048 IR1       Lvl          ... 0            0                      \n",
       "2049 Reg       Bnk          ... 0            0                      \n",
       "2050 Reg       Lvl          ... 0            0                      \n",
       "2051 Reg       Lvl          ... 0            0                      \n",
       "     Misc.Feature Misc.Val Mo.Sold Yr.Sold Sale.Type SalePrice\n",
       "2046              0        11      2008    New       394617   \n",
       "2047              0         1      2008    WD        298751   \n",
       "2048              0         3      2009    WD         82500   \n",
       "2049              0         3      2009    WD        177000   \n",
       "2050              0        11      2009    WD        144000   \n",
       "2051              0         6      2010    WD        189000   "
      ]
     },
     "metadata": {},
     "output_type": "display_data"
    }
   ],
   "source": [
    "tail(ames_housing)"
   ]
  },
  {
   "cell_type": "code",
   "execution_count": 6,
   "metadata": {},
   "outputs": [
    {
     "name": "stdout",
     "output_type": "stream",
     "text": [
      "'data.frame':\t2051 obs. of  81 variables:\n",
      " $ Id             : int  109 544 153 318 255 138 2827 145 1942 1956 ...\n",
      " $ PID            : int  533352170 531379050 535304180 916386060 906425045 535126040 908186070 535154050 535353130 535426130 ...\n",
      " $ MS.SubClass    : int  60 60 20 60 50 20 180 20 20 60 ...\n",
      " $ MS.Zoning      : Factor w/ 7 levels \"A (agr)\",\"C (all)\",..: 6 6 6 6 6 6 7 6 6 6 ...\n",
      " $ Lot.Frontage   : num  NA 43 68 73 82 137 35 NA NA 70 ...\n",
      " $ Lot.Area       : int  13517 11492 7922 9802 14235 16492 3675 12160 15783 11606 ...\n",
      " $ Street         : Factor w/ 2 levels \"Grvl\",\"Pave\": 2 2 2 2 2 2 2 2 2 2 ...\n",
      " $ Alley          : Factor w/ 3 levels \"\",\"Grvl\",\"Pave\": 1 1 1 1 1 1 1 1 1 1 ...\n",
      " $ Lot.Shape      : Factor w/ 4 levels \"IR1\",\"IR2\",\"IR3\",..: 1 1 4 4 1 1 4 1 4 1 ...\n",
      " $ Land.Contour   : Factor w/ 4 levels \"Bnk\",\"HLS\",\"Low\",..: 4 4 4 4 4 4 4 4 4 2 ...\n",
      " $ Utilities      : Factor w/ 3 levels \"AllPub\",\"NoSeWa\",..: 1 1 1 1 1 1 1 1 1 1 ...\n",
      " $ Lot.Config     : Factor w/ 5 levels \"Corner\",\"CulDSac\",..: 2 2 5 5 5 1 5 5 5 5 ...\n",
      " $ Land.Slope     : Factor w/ 3 levels \"Gtl\",\"Mod\",\"Sev\": 1 1 1 1 1 1 1 1 1 3 ...\n",
      " $ Neighborhood   : Factor w/ 28 levels \"Blmngtn\",\"Blueste\",..: 22 23 16 27 23 16 8 16 21 16 ...\n",
      " $ Condition.1    : Factor w/ 9 levels \"Artery\",\"Feedr\",..: 6 3 3 3 3 4 3 3 1 3 ...\n",
      " $ Condition.2    : Factor w/ 8 levels \"Artery\",\"Feedr\",..: 3 3 3 3 3 3 3 3 3 3 ...\n",
      " $ Bldg.Type      : Factor w/ 5 levels \"1Fam\",\"2fmCon\",..: 1 1 1 1 1 1 5 1 1 1 ...\n",
      " $ House.Style    : Factor w/ 8 levels \"1.5Fin\",\"1.5Unf\",..: 6 6 3 6 1 3 7 3 3 6 ...\n",
      " $ Overall.Qual   : int  6 7 5 5 6 6 6 5 5 5 ...\n",
      " $ Overall.Cond   : int  8 5 7 5 8 6 5 5 5 5 ...\n",
      " $ Year.Built     : int  1976 1996 1953 2006 1900 1966 2005 1959 1952 1969 ...\n",
      " $ Year.Remod.Add : int  2005 1997 2007 2007 1993 2002 2006 1959 1952 1969 ...\n",
      " $ Roof.Style     : Factor w/ 6 levels \"Flat\",\"Gable\",..: 2 2 2 2 2 2 2 4 2 2 ...\n",
      " $ Roof.Matl      : Factor w/ 6 levels \"ClyTile\",\"CompShg\",..: 2 2 2 2 2 2 2 2 2 2 ...\n",
      " $ Exterior.1st   : Factor w/ 15 levels \"AsbShng\",\"AsphShn\",..: 7 13 13 13 14 4 13 10 14 10 ...\n",
      " $ Exterior.2nd   : Factor w/ 15 levels \"AsbShng\",\"AsphShn\",..: 10 13 13 13 10 10 13 10 14 10 ...\n",
      " $ Mas.Vnr.Type   : Factor w/ 5 levels \"\",\"BrkCmn\",\"BrkFace\",..: 3 3 4 4 4 4 3 3 4 3 ...\n",
      " $ Mas.Vnr.Area   : num  289 132 0 0 0 0 82 180 0 192 ...\n",
      " $ Exter.Qual     : Factor w/ 4 levels \"Ex\",\"Fa\",\"Gd\",..: 3 3 4 4 4 3 4 4 4 4 ...\n",
      " $ Exter.Cond     : Factor w/ 5 levels \"Ex\",\"Fa\",\"Gd\",..: 5 5 3 5 5 5 5 5 5 5 ...\n",
      " $ Foundation     : Factor w/ 6 levels \"BrkTil\",\"CBlock\",..: 2 3 2 3 3 2 3 2 2 3 ...\n",
      " $ Bsmt.Qual      : Factor w/ 6 levels \"\",\"Ex\",\"Fa\",\"Gd\",..: 6 4 6 4 3 6 4 6 6 4 ...\n",
      " $ Bsmt.Cond      : Factor w/ 6 levels \"\",\"Ex\",\"Fa\",\"Gd\",..: 6 6 6 6 4 6 6 6 6 6 ...\n",
      " $ Bsmt.Exposure  : Factor w/ 5 levels \"\",\"Av\",\"Gd\",\"Mn\",..: 5 5 5 5 5 5 3 5 5 2 ...\n",
      " $ BsmtFin.Type.1 : Factor w/ 7 levels \"\",\"ALQ\",\"BLQ\",..: 4 4 4 7 7 2 4 6 6 6 ...\n",
      " $ BsmtFin.SF.1   : num  533 637 731 0 0 247 547 1000 292 650 ...\n",
      " $ BsmtFin.Type.2 : Factor w/ 7 levels \"\",\"ALQ\",\"BLQ\",..: 7 7 7 7 7 6 7 7 7 7 ...\n",
      " $ BsmtFin.SF.2   : num  0 0 0 0 0 713 0 0 0 0 ...\n",
      " $ Bsmt.Unf.SF    : num  192 276 326 384 676 557 0 188 632 390 ...\n",
      " $ Total.Bsmt.SF  : num  725 913 1057 384 676 ...\n",
      " $ Heating        : Factor w/ 5 levels \"GasA\",\"GasW\",..: 1 1 1 1 1 1 1 1 1 1 ...\n",
      " $ Heating.QC     : Factor w/ 5 levels \"Ex\",\"Fa\",\"Gd\",..: 1 1 5 3 5 1 3 2 5 5 ...\n",
      " $ Central.Air    : Factor w/ 2 levels \"N\",\"Y\": 2 2 2 2 2 2 2 2 2 2 ...\n",
      " $ Electrical     : Factor w/ 5 levels \"FuseA\",\"FuseF\",..: 5 5 5 5 5 5 5 5 5 5 ...\n",
      " $ X1st.Flr.SF    : int  725 913 1057 744 831 1888 1072 1188 924 1040 ...\n",
      " $ X2nd.Flr.SF    : int  754 1209 0 700 614 0 0 0 0 1040 ...\n",
      " $ Low.Qual.Fin.SF: int  0 0 0 0 0 0 0 0 0 0 ...\n",
      " $ Gr.Liv.Area    : int  1479 2122 1057 1444 1445 1888 1072 1188 924 2080 ...\n",
      " $ Bsmt.Full.Bath : num  0 1 1 0 0 0 1 1 0 0 ...\n",
      " $ Bsmt.Half.Bath : num  0 0 0 0 0 0 0 0 0 1 ...\n",
      " $ Full.Bath      : int  2 2 1 2 2 2 2 1 1 1 ...\n",
      " $ Half.Bath      : int  1 1 0 1 0 1 0 0 0 2 ...\n",
      " $ Bedroom.AbvGr  : int  3 4 3 3 3 2 2 3 2 5 ...\n",
      " $ Kitchen.AbvGr  : int  1 1 1 1 1 1 1 1 1 1 ...\n",
      " $ Kitchen.Qual   : Factor w/ 4 levels \"Ex\",\"Fa\",\"Gd\",..: 3 3 3 4 4 3 4 4 4 2 ...\n",
      " $ TotRms.AbvGrd  : int  6 8 5 7 6 6 5 6 6 9 ...\n",
      " $ Functional     : Factor w/ 8 levels \"Maj1\",\"Maj2\",..: 8 8 8 8 8 5 8 8 8 8 ...\n",
      " $ Fireplaces     : int  0 1 0 0 0 1 0 0 0 2 ...\n",
      " $ Fireplace.Qu   : Factor w/ 6 levels \"\",\"Ex\",\"Fa\",\"Gd\",..: 1 6 1 1 1 4 1 1 1 6 ...\n",
      " $ Garage.Type    : Factor w/ 7 levels \"\",\"2Types\",\"Attchd\",..: 3 3 7 5 7 3 4 3 7 3 ...\n",
      " $ Garage.Yr.Blt  : num  1976 1997 1953 2007 1957 ...\n",
      " $ Garage.Finish  : Factor w/ 4 levels \"\",\"Fin\",\"RFn\",..: 3 3 4 2 4 2 2 3 4 4 ...\n",
      " $ Garage.Cars    : num  2 2 1 2 2 2 2 2 1 2 ...\n",
      " $ Garage.Area    : num  475 559 246 400 484 578 525 531 420 504 ...\n",
      " $ Garage.Qual    : Factor w/ 6 levels \"\",\"Ex\",\"Fa\",\"Gd\",..: 6 6 6 6 6 6 6 6 6 6 ...\n",
      " $ Garage.Cond    : Factor w/ 6 levels \"\",\"Ex\",\"Fa\",\"Gd\",..: 6 6 6 6 6 6 6 6 6 6 ...\n",
      " $ Paved.Drive    : Factor w/ 3 levels \"N\",\"P\",\"Y\": 3 3 3 3 1 3 3 3 3 3 ...\n",
      " $ Wood.Deck.SF   : int  0 0 0 100 0 0 0 0 0 335 ...\n",
      " $ Open.Porch.SF  : int  44 74 52 0 59 0 44 0 324 0 ...\n",
      " $ Enclosed.Porch : int  0 0 0 0 0 0 0 0 0 0 ...\n",
      " $ X3Ssn.Porch    : int  0 0 0 0 0 0 0 0 0 0 ...\n",
      " $ Screen.Porch   : int  0 0 0 0 0 0 0 0 0 0 ...\n",
      " $ Pool.Area      : int  0 0 0 0 0 0 0 0 0 0 ...\n",
      " $ Pool.QC        : Factor w/ 5 levels \"\",\"Ex\",\"Fa\",\"Gd\",..: 1 1 1 1 1 1 1 1 1 1 ...\n",
      " $ Fence          : Factor w/ 5 levels \"\",\"GdPrv\",\"GdWo\",..: 1 1 1 1 1 1 1 4 4 1 ...\n",
      " $ Misc.Feature   : Factor w/ 6 levels \"\",\"Elev\",\"Gar2\",..: 1 1 1 1 1 1 1 1 5 1 ...\n",
      " $ Misc.Val       : int  0 0 0 0 0 0 0 0 400 0 ...\n",
      " $ Mo.Sold        : int  3 4 1 4 3 6 6 5 6 9 ...\n",
      " $ Yr.Sold        : int  2010 2009 2010 2010 2010 2010 2006 2010 2007 2007 ...\n",
      " $ Sale.Type      : Factor w/ 9 levels \"COD\",\"Con\",\"ConLD\",..: 9 9 9 9 9 9 7 1 9 9 ...\n",
      " $ SalePrice      : int  130500 220000 109000 174000 138500 190000 140000 142000 112500 135000 ...\n"
     ]
    }
   ],
   "source": [
    "str(ames_housing)"
   ]
  },
  {
   "cell_type": "code",
   "execution_count": 7,
   "metadata": {},
   "outputs": [
    {
     "data": {
      "text/plain": [
       "       Id              PID             MS.SubClass       MS.Zoning   \n",
       " Min.   :   1.0   Min.   :526301100   Min.   : 20.00   A (agr):   2  \n",
       " 1st Qu.: 753.5   1st Qu.:528458140   1st Qu.: 20.00   C (all):  19  \n",
       " Median :1486.0   Median :535453200   Median : 50.00   FV     : 101  \n",
       " Mean   :1474.0   Mean   :713590006   Mean   : 57.01   I (all):   1  \n",
       " 3rd Qu.:2198.0   3rd Qu.:907180080   3rd Qu.: 70.00   RH     :  14  \n",
       " Max.   :2930.0   Max.   :924152030   Max.   :190.00   RL     :1598  \n",
       "                                                       RM     : 316  \n",
       "  Lot.Frontage       Lot.Area       Street      Alley      Lot.Shape \n",
       " Min.   : 21.00   Min.   :  1300   Grvl:   7       :1911   IR1: 692  \n",
       " 1st Qu.: 58.00   1st Qu.:  7500   Pave:2044   Grvl:  85   IR2:  55  \n",
       " Median : 68.00   Median :  9430               Pave:  55   IR3:   9  \n",
       " Mean   : 69.06   Mean   : 10065                           Reg:1295  \n",
       " 3rd Qu.: 80.00   3rd Qu.: 11514                                     \n",
       " Max.   :313.00   Max.   :159000                                     \n",
       " NA's   :330                                                         \n",
       " Land.Contour  Utilities      Lot.Config   Land.Slope  Neighborhood \n",
       " Bnk:  80     AllPub:2049   Corner : 348   Gtl:1953   NAmes  : 310  \n",
       " HLS:  85     NoSeWa:   1   CulDSac: 131   Mod:  88   CollgCr: 180  \n",
       " Low:  43     NoSewr:   1   FR2    :  60   Sev:  10   OldTown: 163  \n",
       " Lvl:1843                   FR3    :   9              Edwards: 143  \n",
       "                            Inside :1503              Somerst: 130  \n",
       "                                                      NridgHt: 122  \n",
       "                                                      (Other):1003  \n",
       "  Condition.1    Condition.2    Bldg.Type     House.Style    Overall.Qual   \n",
       " Norm   :1767   Norm   :2025   1Fam  :1700   1Story :1059   Min.   : 1.000  \n",
       " Feedr  : 109   Feedr  :  11   2fmCon:  46   2Story : 598   1st Qu.: 5.000  \n",
       " Artery :  70   Artery :   5   Duplex:  75   1.5Fin : 218   Median : 6.000  \n",
       " RRAn   :  36   PosA   :   3   Twnhs :  69   SLvl   :  94   Mean   : 6.112  \n",
       " PosN   :  27   PosN   :   3   TwnhsE: 161   SFoyer :  50   3rd Qu.: 7.000  \n",
       " RRAe   :  21   RRNn   :   2                 2.5Unf :  14   Max.   :10.000  \n",
       " (Other):  21   (Other):   2                 (Other):  18                   \n",
       "  Overall.Cond     Year.Built   Year.Remod.Add   Roof.Style     Roof.Matl   \n",
       " Min.   :1.000   Min.   :1872   Min.   :1950   Flat   :  13   ClyTile:   1  \n",
       " 1st Qu.:5.000   1st Qu.:1954   1st Qu.:1964   Gable  :1619   CompShg:2025  \n",
       " Median :5.000   Median :1974   Median :1993   Gambrel:  12   Membran:   1  \n",
       " Mean   :5.562   Mean   :1972   Mean   :1984   Hip    : 397   Tar&Grv:  15  \n",
       " 3rd Qu.:6.000   3rd Qu.:2001   3rd Qu.:2004   Mansard:   7   WdShake:   4  \n",
       " Max.   :9.000   Max.   :2010   Max.   :2010   Shed   :   3   WdShngl:   5  \n",
       "                                                                            \n",
       "  Exterior.1st  Exterior.2nd  Mas.Vnr.Type   Mas.Vnr.Area    Exter.Qual\n",
       " VinylSd:724   VinylSd:721          :  22   Min.   :   0.0   Ex:  81   \n",
       " MetalSd:331   MetalSd:324   BrkCmn :  13   1st Qu.:   0.0   Fa:  26   \n",
       " HdBoard:300   HdBoard:275   BrkFace: 630   Median :   0.0   Gd: 697   \n",
       " Wd Sdng:276   Wd Sdng:262   None   :1218   Mean   :  99.7   TA:1247   \n",
       " Plywood:152   Plywood:185   Stone  : 168   3rd Qu.: 161.0             \n",
       " CemntBd: 90   CmentBd: 90                  Max.   :1600.0             \n",
       " (Other):178   (Other):194                  NA's   :22                 \n",
       " Exter.Cond  Foundation  Bsmt.Qual Bsmt.Cond Bsmt.Exposure BsmtFin.Type.1\n",
       " Ex:   7    BrkTil:221     : 55      :  55     :  58          : 55       \n",
       " Fa:  49    CBlock:863   Ex:184    Ex:   3   Av: 288       ALQ:293       \n",
       " Gd: 215    PConc :926   Fa: 60    Fa:  65   Gd: 203       BLQ:200       \n",
       " Po:   2    Slab  : 34   Gd:864    Gd:  89   Mn: 163       GLQ:615       \n",
       " TA:1778    Stone :  5   Po:  1    Po:   5   No:1339       LwQ:102       \n",
       "            Wood  :  2   TA:887    TA:1834                 Rec:183       \n",
       "                                                           Unf:603       \n",
       "  BsmtFin.SF.1    BsmtFin.Type.2  BsmtFin.SF.2      Bsmt.Unf.SF    \n",
       " Min.   :   0.0      :  56       Min.   :   0.00   Min.   :   0.0  \n",
       " 1st Qu.:   0.0   ALQ:  35       1st Qu.:   0.00   1st Qu.: 220.0  \n",
       " Median : 368.0   BLQ:  48       Median :   0.00   Median : 474.5  \n",
       " Mean   : 442.3   GLQ:  23       Mean   :  47.96   Mean   : 567.7  \n",
       " 3rd Qu.: 733.8   LwQ:  60       3rd Qu.:   0.00   3rd Qu.: 811.0  \n",
       " Max.   :5644.0   Rec:  80       Max.   :1474.00   Max.   :2336.0  \n",
       " NA's   :1        Unf:1749       NA's   :1         NA's   :1       \n",
       " Total.Bsmt.SF    Heating     Heating.QC Central.Air Electrical  \n",
       " Min.   :   0.0   GasA:2018   Ex:1065    N: 141      FuseA: 140  \n",
       " 1st Qu.: 793.0   GasW:  20   Fa:  67    Y:1910      FuseF:  35  \n",
       " Median : 994.5   Grav:   5   Gd: 319                FuseP:   7  \n",
       " Mean   :1058.0   OthW:   2   Po:   3                Mix  :   1  \n",
       " 3rd Qu.:1318.8   Wall:   6   TA: 597                SBrkr:1868  \n",
       " Max.   :6110.0                                                  \n",
       " NA's   :1                                                       \n",
       "  X1st.Flr.SF      X2nd.Flr.SF     Low.Qual.Fin.SF     Gr.Liv.Area  \n",
       " Min.   : 334.0   Min.   :   0.0   Min.   :   0.000   Min.   : 334  \n",
       " 1st Qu.: 879.5   1st Qu.:   0.0   1st Qu.:   0.000   1st Qu.:1129  \n",
       " Median :1093.0   Median :   0.0   Median :   0.000   Median :1444  \n",
       " Mean   :1164.5   Mean   : 329.3   Mean   :   5.513   Mean   :1499  \n",
       " 3rd Qu.:1405.0   3rd Qu.: 692.5   3rd Qu.:   0.000   3rd Qu.:1728  \n",
       " Max.   :5095.0   Max.   :1862.0   Max.   :1064.000   Max.   :5642  \n",
       "                                                                    \n",
       " Bsmt.Full.Bath   Bsmt.Half.Bath      Full.Bath       Half.Bath    \n",
       " Min.   :0.0000   Min.   :0.00000   Min.   :0.000   Min.   :0.000  \n",
       " 1st Qu.:0.0000   1st Qu.:0.00000   1st Qu.:1.000   1st Qu.:0.000  \n",
       " Median :0.0000   Median :0.00000   Median :2.000   Median :0.000  \n",
       " Mean   :0.4275   Mean   :0.06345   Mean   :1.577   Mean   :0.371  \n",
       " 3rd Qu.:1.0000   3rd Qu.:0.00000   3rd Qu.:2.000   3rd Qu.:1.000  \n",
       " Max.   :3.0000   Max.   :2.00000   Max.   :4.000   Max.   :2.000  \n",
       " NA's   :2        NA's   :2                                        \n",
       " Bedroom.AbvGr   Kitchen.AbvGr   Kitchen.Qual TotRms.AbvGrd      Functional  \n",
       " Min.   :0.000   Min.   :0.000   Ex: 151      Min.   : 2.000   Typ    :1915  \n",
       " 1st Qu.:2.000   1st Qu.:1.000   Fa:  47      1st Qu.: 5.000   Min1   :  42  \n",
       " Median :3.000   Median :1.000   Gd: 806      Median : 6.000   Min2   :  42  \n",
       " Mean   :2.843   Mean   :1.043   TA:1047      Mean   : 6.436   Mod    :  29  \n",
       " 3rd Qu.:3.000   3rd Qu.:1.000                3rd Qu.: 7.000   Maj1   :  12  \n",
       " Max.   :8.000   Max.   :3.000                Max.   :15.000   Maj2   :   7  \n",
       "                                                               (Other):   4  \n",
       "   Fireplaces     Fireplace.Qu  Garage.Type   Garage.Yr.Blt  Garage.Finish\n",
       " Min.   :0.0000     :1000             : 113   Min.   :1895      :114      \n",
       " 1st Qu.:0.0000   Ex:  31      2Types :  19   1st Qu.:1961   Fin:509      \n",
       " Median :1.0000   Fa:  59      Attchd :1213   Median :1980   RFn:579      \n",
       " Mean   :0.5909   Gd: 523      Basment:  27   Mean   :1979   Unf:849      \n",
       " 3rd Qu.:1.0000   Po:  31      BuiltIn: 132   3rd Qu.:2002                \n",
       " Max.   :4.0000   TA: 407      CarPort:  11   Max.   :2207                \n",
       "                               Detchd : 536   NA's   :114                 \n",
       "  Garage.Cars     Garage.Area     Garage.Qual Garage.Cond Paved.Drive\n",
       " Min.   :0.000   Min.   :   0.0     : 114       : 114     N: 151     \n",
       " 1st Qu.:1.000   1st Qu.: 319.0   Ex:   3     Ex:   2     P:  39     \n",
       " Median :2.000   Median : 480.0   Fa:  82     Fa:  47     Y:1861     \n",
       " Mean   :1.777   Mean   : 473.7   Gd:  18     Gd:  12                \n",
       " 3rd Qu.:2.000   3rd Qu.: 576.0   Po:   2     Po:   8                \n",
       " Max.   :5.000   Max.   :1418.0   TA:1832     TA:1868                \n",
       " NA's   :1       NA's   :1                                           \n",
       "  Wood.Deck.SF     Open.Porch.SF    Enclosed.Porch    X3Ssn.Porch     \n",
       " Min.   :   0.00   Min.   :  0.00   Min.   :  0.00   Min.   :  0.000  \n",
       " 1st Qu.:   0.00   1st Qu.:  0.00   1st Qu.:  0.00   1st Qu.:  0.000  \n",
       " Median :   0.00   Median : 27.00   Median :  0.00   Median :  0.000  \n",
       " Mean   :  93.83   Mean   : 47.56   Mean   : 22.57   Mean   :  2.591  \n",
       " 3rd Qu.: 168.00   3rd Qu.: 70.00   3rd Qu.:  0.00   3rd Qu.:  0.000  \n",
       " Max.   :1424.00   Max.   :547.00   Max.   :432.00   Max.   :508.000  \n",
       "                                                                      \n",
       "  Screen.Porch      Pool.Area       Pool.QC     Fence      Misc.Feature\n",
       " Min.   :  0.00   Min.   :  0.000     :2042        :1651       :1986   \n",
       " 1st Qu.:  0.00   1st Qu.:  0.000   Ex:   1   GdPrv:  83   Elev:   1   \n",
       " Median :  0.00   Median :  0.000   Fa:   2   GdWo :  80   Gar2:   4   \n",
       " Mean   : 16.51   Mean   :  2.398   Gd:   4   MnPrv: 227   Othr:   3   \n",
       " 3rd Qu.:  0.00   3rd Qu.:  0.000   TA:   2   MnWw :  10   Shed:  56   \n",
       " Max.   :490.00   Max.   :800.000                          TenC:   1   \n",
       "                                                                       \n",
       "    Misc.Val           Mo.Sold         Yr.Sold       Sale.Type   \n",
       " Min.   :    0.00   Min.   : 1.00   Min.   :2006   WD     :1781  \n",
       " 1st Qu.:    0.00   1st Qu.: 4.00   1st Qu.:2007   New    : 160  \n",
       " Median :    0.00   Median : 6.00   Median :2008   COD    :  63  \n",
       " Mean   :   51.57   Mean   : 6.22   Mean   :2008   ConLD  :  17  \n",
       " 3rd Qu.:    0.00   3rd Qu.: 8.00   3rd Qu.:2009   CWD    :  10  \n",
       " Max.   :17000.00   Max.   :12.00   Max.   :2010   ConLI  :   7  \n",
       "                                                   (Other):  13  \n",
       "   SalePrice     \n",
       " Min.   : 12789  \n",
       " 1st Qu.:129825  \n",
       " Median :162500  \n",
       " Mean   :181470  \n",
       " 3rd Qu.:214000  \n",
       " Max.   :611657  \n",
       "                 "
      ]
     },
     "metadata": {},
     "output_type": "display_data"
    }
   ],
   "source": [
    "summary(ames_housing)"
   ]
  },
  {
   "cell_type": "markdown",
   "metadata": {
    "id": "k7megExgJJ_j"
   },
   "source": [
    "#### 2. Cho biết số dòng, số cột của dữ liệu"
   ]
  },
  {
   "cell_type": "code",
   "execution_count": 13,
   "metadata": {},
   "outputs": [
    {
     "name": "stdout",
     "output_type": "stream",
     "text": [
      "[1] \"ames_housing nrows: 2051 , ncols: 81\"\n"
     ]
    }
   ],
   "source": [
    "print(paste('ames_housing nrows:',toString(nrow(ames_housing)),', ncols:',toString(ncol(ames_housing))))"
   ]
  },
  {
   "cell_type": "markdown",
   "metadata": {
    "id": "j3j4fYsnJJ_n"
   },
   "source": [
    "#### 3. Cho biết có bao nhiêu loại Garage.Type, đó là những loại nào, mỗi loại đếm được bao nhiêu mẫu. "
   ]
  },
  {
   "cell_type": "code",
   "execution_count": 14,
   "metadata": {},
   "outputs": [
    {
     "name": "stderr",
     "output_type": "stream",
     "text": [
      "`summarise()` ungrouping output (override with `.groups` argument)\n",
      "\n"
     ]
    },
    {
     "name": "stdout",
     "output_type": "stream",
     "text": [
      "\u001b[90m# A tibble: 7 x 2\u001b[39m\n",
      "  Garage.Type count\n",
      "  \u001b[3m\u001b[90m<fct>\u001b[39m\u001b[23m       \u001b[3m\u001b[90m<int>\u001b[39m\u001b[23m\n",
      "\u001b[90m1\u001b[39m \u001b[90m\"\u001b[39m\u001b[90m\"\u001b[39m            113\n",
      "\u001b[90m2\u001b[39m \u001b[90m\"\u001b[39m2Types\u001b[90m\"\u001b[39m       19\n",
      "\u001b[90m3\u001b[39m \u001b[90m\"\u001b[39mAttchd\u001b[90m\"\u001b[39m     \u001b[4m1\u001b[24m213\n",
      "\u001b[90m4\u001b[39m \u001b[90m\"\u001b[39mBasment\u001b[90m\"\u001b[39m      27\n",
      "\u001b[90m5\u001b[39m \u001b[90m\"\u001b[39mBuiltIn\u001b[90m\"\u001b[39m     132\n",
      "\u001b[90m6\u001b[39m \u001b[90m\"\u001b[39mCarPort\u001b[90m\"\u001b[39m      11\n",
      "\u001b[90m7\u001b[39m \u001b[90m\"\u001b[39mDetchd\u001b[90m\"\u001b[39m      536\n"
     ]
    }
   ],
   "source": [
    "group <- group_by(ames_housing, Garage.Type)\n",
    "summary <- summarize(group, count = n())\n",
    "print(summary)"
   ]
  },
  {
   "cell_type": "markdown",
   "metadata": {
    "id": "9gU5rtPIJJ_w"
   },
   "source": [
    "#### 4. Xóa các cột Garage.Qual, Garage.Cond, Pool.QC, Fence, Misc.Feature trong dữ liệu"
   ]
  },
  {
   "cell_type": "code",
   "execution_count": 21,
   "metadata": {},
   "outputs": [],
   "source": [
    "ames_housing = ames_housing[, !(colnames(ames_housing) %in% c('Garage.Qual','Garage.Cond', 'Pool.QC', 'Fence', 'Misc.Feature'))]"
   ]
  },
  {
   "cell_type": "code",
   "execution_count": 22,
   "metadata": {},
   "outputs": [
    {
     "data": {
      "text/html": [
       "<table>\n",
       "<caption>A data.frame: 6 × 76</caption>\n",
       "<thead>\n",
       "\t<tr><th></th><th scope=col>Id</th><th scope=col>PID</th><th scope=col>MS.SubClass</th><th scope=col>MS.Zoning</th><th scope=col>Lot.Frontage</th><th scope=col>Lot.Area</th><th scope=col>Street</th><th scope=col>Alley</th><th scope=col>Lot.Shape</th><th scope=col>Land.Contour</th><th scope=col>...</th><th scope=col>Open.Porch.SF</th><th scope=col>Enclosed.Porch</th><th scope=col>X3Ssn.Porch</th><th scope=col>Screen.Porch</th><th scope=col>Pool.Area</th><th scope=col>Misc.Val</th><th scope=col>Mo.Sold</th><th scope=col>Yr.Sold</th><th scope=col>Sale.Type</th><th scope=col>SalePrice</th></tr>\n",
       "\t<tr><th></th><th scope=col>&lt;int&gt;</th><th scope=col>&lt;int&gt;</th><th scope=col>&lt;int&gt;</th><th scope=col>&lt;fct&gt;</th><th scope=col>&lt;dbl&gt;</th><th scope=col>&lt;int&gt;</th><th scope=col>&lt;fct&gt;</th><th scope=col>&lt;fct&gt;</th><th scope=col>&lt;fct&gt;</th><th scope=col>&lt;fct&gt;</th><th scope=col>...</th><th scope=col>&lt;int&gt;</th><th scope=col>&lt;int&gt;</th><th scope=col>&lt;int&gt;</th><th scope=col>&lt;int&gt;</th><th scope=col>&lt;int&gt;</th><th scope=col>&lt;int&gt;</th><th scope=col>&lt;int&gt;</th><th scope=col>&lt;int&gt;</th><th scope=col>&lt;fct&gt;</th><th scope=col>&lt;int&gt;</th></tr>\n",
       "</thead>\n",
       "<tbody>\n",
       "\t<tr><th scope=row>1</th><td>109</td><td>533352170</td><td>60</td><td>RL</td><td> NA</td><td>13517</td><td>Pave</td><td></td><td>IR1</td><td>Lvl</td><td>...</td><td>44</td><td>0</td><td>0</td><td>0</td><td>0</td><td>0</td><td>3</td><td>2010</td><td>WD </td><td>130500</td></tr>\n",
       "\t<tr><th scope=row>2</th><td>544</td><td>531379050</td><td>60</td><td>RL</td><td> 43</td><td>11492</td><td>Pave</td><td></td><td>IR1</td><td>Lvl</td><td>...</td><td>74</td><td>0</td><td>0</td><td>0</td><td>0</td><td>0</td><td>4</td><td>2009</td><td>WD </td><td>220000</td></tr>\n",
       "\t<tr><th scope=row>3</th><td>153</td><td>535304180</td><td>20</td><td>RL</td><td> 68</td><td> 7922</td><td>Pave</td><td></td><td>Reg</td><td>Lvl</td><td>...</td><td>52</td><td>0</td><td>0</td><td>0</td><td>0</td><td>0</td><td>1</td><td>2010</td><td>WD </td><td>109000</td></tr>\n",
       "\t<tr><th scope=row>4</th><td>318</td><td>916386060</td><td>60</td><td>RL</td><td> 73</td><td> 9802</td><td>Pave</td><td></td><td>Reg</td><td>Lvl</td><td>...</td><td> 0</td><td>0</td><td>0</td><td>0</td><td>0</td><td>0</td><td>4</td><td>2010</td><td>WD </td><td>174000</td></tr>\n",
       "\t<tr><th scope=row>5</th><td>255</td><td>906425045</td><td>50</td><td>RL</td><td> 82</td><td>14235</td><td>Pave</td><td></td><td>IR1</td><td>Lvl</td><td>...</td><td>59</td><td>0</td><td>0</td><td>0</td><td>0</td><td>0</td><td>3</td><td>2010</td><td>WD </td><td>138500</td></tr>\n",
       "\t<tr><th scope=row>6</th><td>138</td><td>535126040</td><td>20</td><td>RL</td><td>137</td><td>16492</td><td>Pave</td><td></td><td>IR1</td><td>Lvl</td><td>...</td><td> 0</td><td>0</td><td>0</td><td>0</td><td>0</td><td>0</td><td>6</td><td>2010</td><td>WD </td><td>190000</td></tr>\n",
       "</tbody>\n",
       "</table>\n"
      ],
      "text/latex": [
       "A data.frame: 6 × 76\n",
       "\\begin{tabular}{r|lllllllllllllllllllll}\n",
       "  & Id & PID & MS.SubClass & MS.Zoning & Lot.Frontage & Lot.Area & Street & Alley & Lot.Shape & Land.Contour & ... & Open.Porch.SF & Enclosed.Porch & X3Ssn.Porch & Screen.Porch & Pool.Area & Misc.Val & Mo.Sold & Yr.Sold & Sale.Type & SalePrice\\\\\n",
       "  & <int> & <int> & <int> & <fct> & <dbl> & <int> & <fct> & <fct> & <fct> & <fct> & ... & <int> & <int> & <int> & <int> & <int> & <int> & <int> & <int> & <fct> & <int>\\\\\n",
       "\\hline\n",
       "\t1 & 109 & 533352170 & 60 & RL &  NA & 13517 & Pave &  & IR1 & Lvl & ... & 44 & 0 & 0 & 0 & 0 & 0 & 3 & 2010 & WD  & 130500\\\\\n",
       "\t2 & 544 & 531379050 & 60 & RL &  43 & 11492 & Pave &  & IR1 & Lvl & ... & 74 & 0 & 0 & 0 & 0 & 0 & 4 & 2009 & WD  & 220000\\\\\n",
       "\t3 & 153 & 535304180 & 20 & RL &  68 &  7922 & Pave &  & Reg & Lvl & ... & 52 & 0 & 0 & 0 & 0 & 0 & 1 & 2010 & WD  & 109000\\\\\n",
       "\t4 & 318 & 916386060 & 60 & RL &  73 &  9802 & Pave &  & Reg & Lvl & ... &  0 & 0 & 0 & 0 & 0 & 0 & 4 & 2010 & WD  & 174000\\\\\n",
       "\t5 & 255 & 906425045 & 50 & RL &  82 & 14235 & Pave &  & IR1 & Lvl & ... & 59 & 0 & 0 & 0 & 0 & 0 & 3 & 2010 & WD  & 138500\\\\\n",
       "\t6 & 138 & 535126040 & 20 & RL & 137 & 16492 & Pave &  & IR1 & Lvl & ... &  0 & 0 & 0 & 0 & 0 & 0 & 6 & 2010 & WD  & 190000\\\\\n",
       "\\end{tabular}\n"
      ],
      "text/markdown": [
       "\n",
       "A data.frame: 6 × 76\n",
       "\n",
       "| <!--/--> | Id &lt;int&gt; | PID &lt;int&gt; | MS.SubClass &lt;int&gt; | MS.Zoning &lt;fct&gt; | Lot.Frontage &lt;dbl&gt; | Lot.Area &lt;int&gt; | Street &lt;fct&gt; | Alley &lt;fct&gt; | Lot.Shape &lt;fct&gt; | Land.Contour &lt;fct&gt; | ... ... | Open.Porch.SF &lt;int&gt; | Enclosed.Porch &lt;int&gt; | X3Ssn.Porch &lt;int&gt; | Screen.Porch &lt;int&gt; | Pool.Area &lt;int&gt; | Misc.Val &lt;int&gt; | Mo.Sold &lt;int&gt; | Yr.Sold &lt;int&gt; | Sale.Type &lt;fct&gt; | SalePrice &lt;int&gt; |\n",
       "|---|---|---|---|---|---|---|---|---|---|---|---|---|---|---|---|---|---|---|---|---|---|\n",
       "| 1 | 109 | 533352170 | 60 | RL |  NA | 13517 | Pave | <!----> | IR1 | Lvl | ... | 44 | 0 | 0 | 0 | 0 | 0 | 3 | 2010 | WD  | 130500 |\n",
       "| 2 | 544 | 531379050 | 60 | RL |  43 | 11492 | Pave | <!----> | IR1 | Lvl | ... | 74 | 0 | 0 | 0 | 0 | 0 | 4 | 2009 | WD  | 220000 |\n",
       "| 3 | 153 | 535304180 | 20 | RL |  68 |  7922 | Pave | <!----> | Reg | Lvl | ... | 52 | 0 | 0 | 0 | 0 | 0 | 1 | 2010 | WD  | 109000 |\n",
       "| 4 | 318 | 916386060 | 60 | RL |  73 |  9802 | Pave | <!----> | Reg | Lvl | ... |  0 | 0 | 0 | 0 | 0 | 0 | 4 | 2010 | WD  | 174000 |\n",
       "| 5 | 255 | 906425045 | 50 | RL |  82 | 14235 | Pave | <!----> | IR1 | Lvl | ... | 59 | 0 | 0 | 0 | 0 | 0 | 3 | 2010 | WD  | 138500 |\n",
       "| 6 | 138 | 535126040 | 20 | RL | 137 | 16492 | Pave | <!----> | IR1 | Lvl | ... |  0 | 0 | 0 | 0 | 0 | 0 | 6 | 2010 | WD  | 190000 |\n",
       "\n"
      ],
      "text/plain": [
       "  Id  PID       MS.SubClass MS.Zoning Lot.Frontage Lot.Area Street Alley\n",
       "1 109 533352170 60          RL         NA          13517    Pave        \n",
       "2 544 531379050 60          RL         43          11492    Pave        \n",
       "3 153 535304180 20          RL         68           7922    Pave        \n",
       "4 318 916386060 60          RL         73           9802    Pave        \n",
       "5 255 906425045 50          RL         82          14235    Pave        \n",
       "6 138 535126040 20          RL        137          16492    Pave        \n",
       "  Lot.Shape Land.Contour ... Open.Porch.SF Enclosed.Porch X3Ssn.Porch\n",
       "1 IR1       Lvl          ... 44            0              0          \n",
       "2 IR1       Lvl          ... 74            0              0          \n",
       "3 Reg       Lvl          ... 52            0              0          \n",
       "4 Reg       Lvl          ...  0            0              0          \n",
       "5 IR1       Lvl          ... 59            0              0          \n",
       "6 IR1       Lvl          ...  0            0              0          \n",
       "  Screen.Porch Pool.Area Misc.Val Mo.Sold Yr.Sold Sale.Type SalePrice\n",
       "1 0            0         0        3       2010    WD        130500   \n",
       "2 0            0         0        4       2009    WD        220000   \n",
       "3 0            0         0        1       2010    WD        109000   \n",
       "4 0            0         0        4       2010    WD        174000   \n",
       "5 0            0         0        3       2010    WD        138500   \n",
       "6 0            0         0        6       2010    WD        190000   "
      ]
     },
     "metadata": {},
     "output_type": "display_data"
    }
   ],
   "source": [
    "head(ames_housing)"
   ]
  },
  {
   "cell_type": "markdown",
   "metadata": {
    "id": "_cKzKBBXJJ_2"
   },
   "source": [
    "#### 5. Tìm max, min của Gr.Liv.Area theo Electrical và Heating (sử dụng group_by() và summarize()). "
   ]
  },
  {
   "cell_type": "code",
   "execution_count": 26,
   "metadata": {},
   "outputs": [
    {
     "name": "stderr",
     "output_type": "stream",
     "text": [
      "`summarise()` regrouping output by 'Electrical' (override with `.groups` argument)\n",
      "\n"
     ]
    },
    {
     "data": {
      "text/html": [
       "<table>\n",
       "<caption>A grouped_df: 13 × 4</caption>\n",
       "<thead>\n",
       "\t<tr><th scope=col>Electrical</th><th scope=col>Heating</th><th scope=col>max.Gr.Liv.Area</th><th scope=col>min.Gr.Liv.Area</th></tr>\n",
       "\t<tr><th scope=col>&lt;fct&gt;</th><th scope=col>&lt;fct&gt;</th><th scope=col>&lt;int&gt;</th><th scope=col>&lt;int&gt;</th></tr>\n",
       "</thead>\n",
       "<tbody>\n",
       "\t<tr><td>FuseA</td><td>GasA</td><td>3395</td><td> 480</td></tr>\n",
       "\t<tr><td>FuseA</td><td>GasW</td><td>2624</td><td>1524</td></tr>\n",
       "\t<tr><td>FuseA</td><td>Grav</td><td> 924</td><td> 693</td></tr>\n",
       "\t<tr><td>FuseA</td><td>Wall</td><td>1040</td><td> 733</td></tr>\n",
       "\t<tr><td>FuseF</td><td>GasA</td><td>1818</td><td> 334</td></tr>\n",
       "\t<tr><td>FuseF</td><td>Grav</td><td>2256</td><td>1096</td></tr>\n",
       "\t<tr><td>FuseF</td><td>Wall</td><td>1529</td><td>1040</td></tr>\n",
       "\t<tr><td>FuseP</td><td>GasA</td><td>2350</td><td> 572</td></tr>\n",
       "\t<tr><td>Mix  </td><td>GasA</td><td>1077</td><td>1077</td></tr>\n",
       "\t<tr><td>SBrkr</td><td>GasA</td><td>5642</td><td> 492</td></tr>\n",
       "\t<tr><td>SBrkr</td><td>GasW</td><td>2792</td><td> 950</td></tr>\n",
       "\t<tr><td>SBrkr</td><td>Grav</td><td> 968</td><td> 968</td></tr>\n",
       "\t<tr><td>SBrkr</td><td>OthW</td><td>2358</td><td>2058</td></tr>\n",
       "</tbody>\n",
       "</table>\n"
      ],
      "text/latex": [
       "A grouped\\_df: 13 × 4\n",
       "\\begin{tabular}{llll}\n",
       " Electrical & Heating & max.Gr.Liv.Area & min.Gr.Liv.Area\\\\\n",
       " <fct> & <fct> & <int> & <int>\\\\\n",
       "\\hline\n",
       "\t FuseA & GasA & 3395 &  480\\\\\n",
       "\t FuseA & GasW & 2624 & 1524\\\\\n",
       "\t FuseA & Grav &  924 &  693\\\\\n",
       "\t FuseA & Wall & 1040 &  733\\\\\n",
       "\t FuseF & GasA & 1818 &  334\\\\\n",
       "\t FuseF & Grav & 2256 & 1096\\\\\n",
       "\t FuseF & Wall & 1529 & 1040\\\\\n",
       "\t FuseP & GasA & 2350 &  572\\\\\n",
       "\t Mix   & GasA & 1077 & 1077\\\\\n",
       "\t SBrkr & GasA & 5642 &  492\\\\\n",
       "\t SBrkr & GasW & 2792 &  950\\\\\n",
       "\t SBrkr & Grav &  968 &  968\\\\\n",
       "\t SBrkr & OthW & 2358 & 2058\\\\\n",
       "\\end{tabular}\n"
      ],
      "text/markdown": [
       "\n",
       "A grouped_df: 13 × 4\n",
       "\n",
       "| Electrical &lt;fct&gt; | Heating &lt;fct&gt; | max.Gr.Liv.Area &lt;int&gt; | min.Gr.Liv.Area &lt;int&gt; |\n",
       "|---|---|---|---|\n",
       "| FuseA | GasA | 3395 |  480 |\n",
       "| FuseA | GasW | 2624 | 1524 |\n",
       "| FuseA | Grav |  924 |  693 |\n",
       "| FuseA | Wall | 1040 |  733 |\n",
       "| FuseF | GasA | 1818 |  334 |\n",
       "| FuseF | Grav | 2256 | 1096 |\n",
       "| FuseF | Wall | 1529 | 1040 |\n",
       "| FuseP | GasA | 2350 |  572 |\n",
       "| Mix   | GasA | 1077 | 1077 |\n",
       "| SBrkr | GasA | 5642 |  492 |\n",
       "| SBrkr | GasW | 2792 |  950 |\n",
       "| SBrkr | Grav |  968 |  968 |\n",
       "| SBrkr | OthW | 2358 | 2058 |\n",
       "\n"
      ],
      "text/plain": [
       "   Electrical Heating max.Gr.Liv.Area min.Gr.Liv.Area\n",
       "1  FuseA      GasA    3395             480           \n",
       "2  FuseA      GasW    2624            1524           \n",
       "3  FuseA      Grav     924             693           \n",
       "4  FuseA      Wall    1040             733           \n",
       "5  FuseF      GasA    1818             334           \n",
       "6  FuseF      Grav    2256            1096           \n",
       "7  FuseF      Wall    1529            1040           \n",
       "8  FuseP      GasA    2350             572           \n",
       "9  Mix        GasA    1077            1077           \n",
       "10 SBrkr      GasA    5642             492           \n",
       "11 SBrkr      GasW    2792             950           \n",
       "12 SBrkr      Grav     968             968           \n",
       "13 SBrkr      OthW    2358            2058           "
      ]
     },
     "metadata": {},
     "output_type": "display_data"
    }
   ],
   "source": [
    "group <- group_by(ames_housing, Electrical,Heating)\n",
    "summary <- summarize(group,\n",
    "                     max.Gr.Liv.Area = max(Gr.Liv.Area, na.rm=T),\n",
    "                     min.Gr.Liv.Area = min(Gr.Liv.Area, na.rm=T))\n",
    "                     \n",
    "summary"
   ]
  },
  {
   "cell_type": "markdown",
   "metadata": {
    "id": "n_a_DAdpJJ_7"
   },
   "source": [
    "#### 6. Vẽ biểu đồ thể hiện mối liên hệ của SalePrice và X1st.Flr.SF. Nhận xét biểu đồ. "
   ]
  },
  {
   "cell_type": "code",
   "execution_count": 34,
   "metadata": {},
   "outputs": [],
   "source": [
    "# ames_housing[,(colnames(ames_housing) %in% c('SalePrice', 'X1st.Flr.SF'))]"
   ]
  },
  {
   "cell_type": "code",
   "execution_count": 35,
   "metadata": {},
   "outputs": [
    {
     "data": {
      "text/plain": [
       "\n",
       "Call:\n",
       "lm(formula = SalePrice ~ X1st.Flr.SF, data = ames_housing)\n",
       "\n",
       "Coefficients:\n",
       "(Intercept)  X1st.Flr.SF  \n",
       "    37481.6        123.6  \n"
      ]
     },
     "metadata": {},
     "output_type": "display_data"
    },
    {
     "data": {
      "text/html": [
       "<strong>null device:</strong> 1"
      ],
      "text/latex": [
       "\\textbf{null device:} 1"
      ],
      "text/markdown": [
       "**null device:** 1"
      ],
      "text/plain": [
       "null device \n",
       "          1 "
      ]
     },
     "metadata": {},
     "output_type": "display_data"
    },
    {
     "data": {
      "image/png": "[encoded data removed]",
      "text/plain": [
       "plot without title"
      ]
     },
     "metadata": {
      "image/png": {
       "height": 420,
       "width": 420
      }
     },
     "output_type": "display_data"
    }
   ],
   "source": [
    "reg1 <- lm(SalePrice~X1st.Flr.SF,data=ames_housing) \n",
    "plot(ames_housing$SalePrice,ames_housing$waiting,xlab='SalePrice',ylab='X1st.Flr.SF')\n",
    "abline(lm(SalePrice~X1st.Flr.SF,data=ames_housing))\n",
    "dev.off()"
   ]
  },
  {
   "cell_type": "markdown",
   "metadata": {
    "id": "Ca2xIATCJJ_-"
   },
   "source": [
    "#### 7. Vẽ pie chart thể hiện % giữa Y(1) và N(0) của cột Central.Air"
   ]
  },
  {
   "cell_type": "code",
   "execution_count": null,
   "metadata": {},
   "outputs": [],
   "source": [
    "install.packages('plotrix')\n",
    "library('plotrix')"
   ]
  },
  {
   "cell_type": "code",
   "execution_count": 59,
   "metadata": {},
   "outputs": [
    {
     "name": "stderr",
     "output_type": "stream",
     "text": [
      "`summarise()` ungrouping output (override with `.groups` argument)\n",
      "\n"
     ]
    },
    {
     "data": {
      "text/html": [
       "<strong>null device:</strong> 1"
      ],
      "text/latex": [
       "\\textbf{null device:} 1"
      ],
      "text/markdown": [
       "**null device:** 1"
      ],
      "text/plain": [
       "null device \n",
       "          1 "
      ]
     },
     "metadata": {},
     "output_type": "display_data"
    },
    {
     "data": {
      "image/png": "[encoded data removed]",
      "text/plain": [
       "Plot with title \"Y(1) & N(0)\""
      ]
     },
     "metadata": {
      "image/png": {
       "height": 420,
       "width": 420
      }
     },
     "output_type": "display_data"
    }
   ],
   "source": [
    "group <- group_by(ames_housing,Central.Air)\n",
    "summary <- summarize(group, count = n())\n",
    "summary$percent = round(100*summary$count/sum(summary$count),2)\n",
    "pie3D(summary$percent,labels=paste(summary$percent,'%'),\n",
    "      col=c('green','blue'),\n",
    "      main='Y(1) & N(0)',explode=0.09)\n",
    "legend('topright',c('Y(1)','N(0)'),fill=c('green','blue'))\n",
    "dev.off()"
   ]
  },
  {
   "cell_type": "markdown",
   "metadata": {
    "id": "JBkcW245JKAF"
   },
   "source": [
    "#### 8. Cho biết năm xây của các căn nhà cũ nhất và mới nhất (theo Year.Built). Liệt kê các căn nhà cũ nhất, mới nhất với 3 thông tin Id, Year.Built, SalePrice"
   ]
  },
  {
   "cell_type": "code",
   "execution_count": null,
   "metadata": {},
   "outputs": [],
   "source": []
  },
  {
   "cell_type": "markdown",
   "metadata": {
    "id": "wEG12KKDRoEU"
   },
   "source": [
    "#### 9. Thống kê số lượng các căn nhà được xây theo từng năm. In head và tail.  Cho biết năm nào có nhiều nhà được xây nhất? "
   ]
  },
  {
   "cell_type": "markdown",
   "metadata": {
    "id": "cC-W1-EdUSWK"
   },
   "source": [
    "#### 10. Trực quan hóa kết quả của câu thống kê trên với 10 năm gần đây nhất bằng barplot; với tất cả các năm bằng line."
   ]
  },
  {
   "cell_type": "markdown",
   "metadata": {
    "id": "OF0ymOCpJKAI"
   },
   "source": [
    "#### 11. Vẽ boxplot của cột SalePrice. "
   ]
  },
  {
   "cell_type": "code",
   "execution_count": null,
   "metadata": {
    "id": "xo6XGpYMJKAS"
   },
   "outputs": [],
   "source": []
  }
 ],
 "metadata": {
  "colab": {
   "collapsed_sections": [],
   "name": "bai_on_tap_b5_HV.ipynb",
   "provenance": []
  },
  "kernelspec": {
   "display_name": "R",
   "language": "R",
   "name": "ir"
  },
  "language_info": {
   "codemirror_mode": "r",
   "file_extension": ".r",
   "mimetype": "text/x-r-source",
   "name": "R",
   "pygments_lexer": "r",
   "version": "3.6.0"
  }
 },
 "nbformat": 4,
 "nbformat_minor": 1
}

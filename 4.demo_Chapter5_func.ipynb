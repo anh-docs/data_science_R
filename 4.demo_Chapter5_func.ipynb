{
 "cells": [
  {
   "cell_type": "code",
   "execution_count": 1,
   "metadata": {},
   "outputs": [
    {
     "data": {
      "text/plain": [
       "   Min. 1st Qu.  Median    Mean 3rd Qu.    Max. \n",
       "   1.00   25.75   50.50   50.50   75.25  100.00 "
      ]
     },
     "metadata": {},
     "output_type": "display_data"
    }
   ],
   "source": [
    "v <- c(1:100)\n",
    "summary(v)"
   ]
  },
  {
   "cell_type": "code",
   "execution_count": 2,
   "metadata": {},
   "outputs": [
    {
     "data": {
      "text/html": [
       "5050"
      ],
      "text/latex": [
       "5050"
      ],
      "text/markdown": [
       "5050"
      ],
      "text/plain": [
       "[1] 5050"
      ]
     },
     "metadata": {},
     "output_type": "display_data"
    }
   ],
   "source": [
    "sum(v)"
   ]
  },
  {
   "cell_type": "code",
   "execution_count": 3,
   "metadata": {},
   "outputs": [
    {
     "data": {
      "text/html": [
       "50.5"
      ],
      "text/latex": [
       "50.5"
      ],
      "text/markdown": [
       "50.5"
      ],
      "text/plain": [
       "[1] 50.5"
      ]
     },
     "metadata": {},
     "output_type": "display_data"
    }
   ],
   "source": [
    "median(v)"
   ]
  },
  {
   "cell_type": "code",
   "execution_count": 4,
   "metadata": {},
   "outputs": [
    {
     "data": {
      "text/html": [
       "50.5"
      ],
      "text/latex": [
       "50.5"
      ],
      "text/markdown": [
       "50.5"
      ],
      "text/plain": [
       "[1] 50.5"
      ]
     },
     "metadata": {},
     "output_type": "display_data"
    }
   ],
   "source": [
    "mean(v)"
   ]
  },
  {
   "cell_type": "code",
   "execution_count": 5,
   "metadata": {},
   "outputs": [],
   "source": [
    "# library()"
   ]
  },
  {
   "cell_type": "code",
   "execution_count": 6,
   "metadata": {},
   "outputs": [],
   "source": [
    "# help(sum)"
   ]
  },
  {
   "cell_type": "code",
   "execution_count": 7,
   "metadata": {},
   "outputs": [],
   "source": [
    "v <- c(4,5,67,8,NA)"
   ]
  },
  {
   "cell_type": "code",
   "execution_count": 8,
   "metadata": {},
   "outputs": [
    {
     "data": {
      "text/html": [
       "&lt;NA&gt;"
      ],
      "text/latex": [
       "<NA>"
      ],
      "text/markdown": [
       "&lt;NA&gt;"
      ],
      "text/plain": [
       "[1] NA"
      ]
     },
     "metadata": {},
     "output_type": "display_data"
    },
    {
     "data": {
      "text/html": [
       "21"
      ],
      "text/latex": [
       "21"
      ],
      "text/markdown": [
       "21"
      ],
      "text/plain": [
       "[1] 21"
      ]
     },
     "metadata": {},
     "output_type": "display_data"
    }
   ],
   "source": [
    "mean(v, na.rm=FALSE, trim=0)\n",
    "mean(v, na.rm=TRUE, trim=0)"
   ]
  },
  {
   "cell_type": "code",
   "execution_count": 9,
   "metadata": {},
   "outputs": [
    {
     "data": {
      "text/html": [
       "15"
      ],
      "text/latex": [
       "15"
      ],
      "text/markdown": [
       "15"
      ],
      "text/plain": [
       "[1] 15"
      ]
     },
     "metadata": {},
     "output_type": "display_data"
    }
   ],
   "source": [
    "sum(1:5)"
   ]
  },
  {
   "cell_type": "code",
   "execution_count": 12,
   "metadata": {},
   "outputs": [],
   "source": [
    "sum_even.function <- function(start, end){\n",
    "    sum_even <- 0 \n",
    "    for (i in start:end)\n",
    "        {\n",
    "            if(i %% 2 == 0)\n",
    "                sum_even <- sum_even + i\n",
    "    }\n",
    "    return (sum_even)\n",
    "}"
   ]
  },
  {
   "cell_type": "code",
   "execution_count": 13,
   "metadata": {},
   "outputs": [
    {
     "data": {
      "text/html": [
       "30"
      ],
      "text/latex": [
       "30"
      ],
      "text/markdown": [
       "30"
      ],
      "text/plain": [
       "[1] 30"
      ]
     },
     "metadata": {},
     "output_type": "display_data"
    }
   ],
   "source": [
    "sum_even.function(1,10)"
   ]
  },
  {
   "cell_type": "code",
   "execution_count": 16,
   "metadata": {},
   "outputs": [
    {
     "data": {
      "text/html": [
       "30"
      ],
      "text/latex": [
       "30"
      ],
      "text/markdown": [
       "30"
      ],
      "text/plain": [
       "[1] 30"
      ]
     },
     "metadata": {},
     "output_type": "display_data"
    }
   ],
   "source": [
    "sum_even = sum_even.function(start=1,end=10)\n",
    "sum_even"
   ]
  },
  {
   "cell_type": "code",
   "execution_count": 15,
   "metadata": {},
   "outputs": [
    {
     "data": {
      "text/html": [
       "30"
      ],
      "text/latex": [
       "30"
      ],
      "text/markdown": [
       "30"
      ],
      "text/plain": [
       "[1] 30"
      ]
     },
     "metadata": {},
     "output_type": "display_data"
    }
   ],
   "source": [
    "sum_even = sum_even.function(1,10)\n",
    "sum_even"
   ]
  },
  {
   "cell_type": "code",
   "execution_count": 22,
   "metadata": {},
   "outputs": [],
   "source": [
    "drink.function <- function(price, type='Tea'){\n",
    "    print(paste(\"With\",price,\"You can drink\",type))\n",
    "}"
   ]
  },
  {
   "cell_type": "code",
   "execution_count": 23,
   "metadata": {},
   "outputs": [
    {
     "name": "stdout",
     "output_type": "stream",
     "text": [
      "[1] \"With 100 You can drink Tea\"\n"
     ]
    }
   ],
   "source": [
    "drink.function(100)"
   ]
  },
  {
   "cell_type": "code",
   "execution_count": 24,
   "metadata": {},
   "outputs": [
    {
     "name": "stdout",
     "output_type": "stream",
     "text": [
      "[1] \"With 1000 You can drink Beer\"\n"
     ]
    }
   ],
   "source": [
    "drink.function(1000,\"Beer\")"
   ]
  },
  {
   "cell_type": "code",
   "execution_count": null,
   "metadata": {},
   "outputs": [],
   "source": [
    "random_number <- round(runif(1,1,10),0)\n",
    "num <- as.integer(readline('Input a number: '))\n",
    "if (num >random_number){\n",
    "    message('Your number > Our number')\n",
    "} else if (num < random_number) { message('Your number < Our number')\n",
    "} else {\n",
    "    message('You win !!!') \n",
    "    break\n",
    "}"
   ]
  },
  {
   "cell_type": "code",
   "execution_count": null,
   "metadata": {},
   "outputs": [],
   "source": [
    "n = 1\n",
    "while (n<=3)\n",
    "{\n",
    "    random_number <- round(runif(1,1,10),0)\n",
    "    num <- as.integer(readline('Input a number: '))\n",
    "    if (num >random_number){\n",
    "        message('Your number > Our number')\n",
    "    } else if (num < random_number) { message('Your number < Our number')\n",
    "    } else {\n",
    "        message('You win !!!') \n",
    "        break\n",
    "    }\n",
    "    \n",
    "    n = n + 1\n",
    "    if (n==4)\n",
    "        print('You lose !!')\n",
    "}"
   ]
  },
  {
   "cell_type": "code",
   "execution_count": 8,
   "metadata": {},
   "outputs": [],
   "source": [
    "bet_num.function <- function(num){\n",
    "    random_number <- round(runif(1,1,10),0)\n",
    "    result <- ''\n",
    "#     num <- as.integer(readline('Input a number: '))\n",
    "    if (num >random_number){\n",
    "        result <- 'Your number > Our number'\n",
    "    } else if (num < random_number) { result <- 'Your number < Our number'\n",
    "    } else {\n",
    "        result <- 'You win !!!'\n",
    "    }\n",
    "    return (result)\n",
    "}"
   ]
  },
  {
   "cell_type": "code",
   "execution_count": 9,
   "metadata": {},
   "outputs": [
    {
     "name": "stdout",
     "output_type": "stream",
     "text": [
      "Input a number: 4\n"
     ]
    },
    {
     "name": "stderr",
     "output_type": "stream",
     "text": [
      "Your number > Our number\n",
      "\n"
     ]
    },
    {
     "name": "stdout",
     "output_type": "stream",
     "text": [
      "Input a number: 5\n"
     ]
    },
    {
     "name": "stderr",
     "output_type": "stream",
     "text": [
      "Your number < Our number\n",
      "\n"
     ]
    },
    {
     "name": "stdout",
     "output_type": "stream",
     "text": [
      "Input a number: 6\n"
     ]
    },
    {
     "name": "stderr",
     "output_type": "stream",
     "text": [
      "Your number > Our number\n",
      "\n",
      "You lose !\n",
      "\n"
     ]
    }
   ],
   "source": [
    "n <- 1\n",
    "while (n<=3){\n",
    "    num <- as.integer(readline('Input a number: '))\n",
    "#     result = bet_num.function(num)\n",
    "    message(paste(bet_num.function(num)))\n",
    "    n <- n + 1\n",
    "    if (n==4)\n",
    "        message('You lose !')\n",
    "}"
   ]
  },
  {
   "cell_type": "code",
   "execution_count": null,
   "metadata": {},
   "outputs": [],
   "source": [
    "bmi_cal.function <- function(height, weight){\n",
    "  bmi <- weight/(height*height)\n",
    "  return (round(bmi,2))\n",
    "}\n",
    "\n",
    "bmi_check.function <- function(bmi){\n",
    "  if (bmi<18.5) {\n",
    "    result <- 'Gay'\n",
    "  } else if (bmi<24.99) {\n",
    "    result <- 'Binh thuong'\n",
    "  } else {\n",
    "    result <- 'Thua can'\n",
    "  }\n",
    "   return (result)\n",
    "}\n",
    "# bmi = bmi_cal.function(1.65,65)\n",
    "# rs = bmi_check.function(bmi)\n",
    "# print(rs)"
   ]
  },
  {
   "cell_type": "markdown",
   "metadata": {},
   "source": [
    "# User-defined function"
   ]
  },
  {
   "cell_type": "code",
   "execution_count": 35,
   "metadata": {},
   "outputs": [],
   "source": [
    "source('my_func.R')"
   ]
  },
  {
   "cell_type": "code",
   "execution_count": 36,
   "metadata": {},
   "outputs": [
    {
     "name": "stdout",
     "output_type": "stream",
     "text": [
      "[1] \"Binh thuong\"\n"
     ]
    }
   ],
   "source": [
    "bmi <- bmi_cal.function(1.65, 65)\n",
    "rs <- bmi_check.function(bmi)\n",
    "print(rs)"
   ]
  },
  {
   "cell_type": "code",
   "execution_count": 12,
   "metadata": {},
   "outputs": [],
   "source": [
    "gptb2.function <- function(a,b,c){\n",
    "  delta <- b*b - 4*a*c\n",
    "    if (delta==0) {rs = \n",
    "       rs = rs1 = rs2 = -b/(2*a)}\n",
    "    else if (delta >0) {\n",
    "        rs1 = (-b+sqrt(delta))/(2*a)\n",
    "        rs2 = (-b-sqrt(delta))/(2*a)\n",
    "        rs = c(rs1,rs2)\n",
    "    } else {rs = 'PT vo nghiem!'}\n",
    "    \n",
    "  return (rs)\n",
    "}"
   ]
  },
  {
   "cell_type": "code",
   "execution_count": 14,
   "metadata": {},
   "outputs": [
    {
     "data": {
      "text/html": [
       "<style>\n",
       ".list-inline {list-style: none; margin:0; padding: 0}\n",
       ".list-inline>li {display: inline-block}\n",
       ".list-inline>li:not(:last-child)::after {content: \"\\00b7\"; padding: 0 .5ex}\n",
       "</style>\n",
       "<ol class=list-inline><li>-0.758305739211792</li><li>1.75830573921179</li></ol>\n"
      ],
      "text/latex": [
       "\\begin{enumerate*}\n",
       "\\item -0.758305739211792\n",
       "\\item 1.75830573921179\n",
       "\\end{enumerate*}\n"
      ],
      "text/markdown": [
       "1. -0.758305739211792\n",
       "2. 1.75830573921179\n",
       "\n",
       "\n"
      ],
      "text/plain": [
       "[1] -0.7583057  1.7583057"
      ]
     },
     "metadata": {},
     "output_type": "display_data"
    }
   ],
   "source": [
    "gptb2.function(-3,3,4)"
   ]
  },
  {
   "cell_type": "code",
   "execution_count": 24,
   "metadata": {},
   "outputs": [],
   "source": [
    "isPrime.function <- function(n){\n",
    "    rs <- 1\n",
    "    if (n<2) {rs <- 0\n",
    "    } else if (n == 2) {rs <- 1\n",
    "    } else {\n",
    "        for (i in 2:(n-1)) {\n",
    "        if (n%%i ==0) rs <-0\n",
    "    }}\n",
    "    return (rs)\n",
    "}"
   ]
  },
  {
   "cell_type": "code",
   "execution_count": 27,
   "metadata": {},
   "outputs": [
    {
     "name": "stdout",
     "output_type": "stream",
     "text": [
      "[1] 2\n",
      "[1] 3\n",
      "[1] 5\n",
      "[1] 7\n"
     ]
    }
   ],
   "source": [
    "for (i in 1:10) {\n",
    "    if(isPrime.function(i)) print(i)\n",
    "}"
   ]
  },
  {
   "cell_type": "code",
   "execution_count": 20,
   "metadata": {},
   "outputs": [
    {
     "data": {
      "text/html": [
       "1"
      ],
      "text/latex": [
       "1"
      ],
      "text/markdown": [
       "1"
      ],
      "text/plain": [
       "[1] 1"
      ]
     },
     "metadata": {},
     "output_type": "display_data"
    }
   ],
   "source": [
    "isPrime.function(3)"
   ]
  }
 ],
 "metadata": {
  "kernelspec": {
   "display_name": "R",
   "language": "R",
   "name": "ir"
  },
  "language_info": {
   "codemirror_mode": "r",
   "file_extension": ".r",
   "mimetype": "text/x-r-source",
   "name": "R",
   "pygments_lexer": "r",
   "version": "3.6.0"
  }
 },
 "nbformat": 4,
 "nbformat_minor": 4
}

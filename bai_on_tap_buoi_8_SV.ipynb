{
 "cells": [
  {
   "cell_type": "markdown",
   "metadata": {
    "id": "91YBOyAVCmjy"
   },
   "source": [
    "# Bài ôn tập buổi 8: Marketing\n",
    "### Yêu cầu: Áp dụng Simple Linear Regression để dự đoán sales dựa trên youtube\n",
    "- Cho dữ liệu marketing.csv. Hãy áp dụng Simple Linear Regression để dự đoán dự đoán sales dựa trên youtube\n",
    "- Đọc dữ liệu và gán cho biến data.\n",
    "- Xem thông tin data: head(), số dòng, số cột, str, summary\n",
    "- Tiền xử lý dữ liệu\n",
    "- Vẽ biểu đồ quan sát mối liên hệ giữa sales và youtube \n",
    "- Kiểm tra outliers => loại outliers\n",
    "- Tạo train:test từ dữ liệu data với tỉ lệ 70:30\n",
    "- Thực hiện Linenear Regression với train data.\n",
    "- In summary của model\n",
    "- Dự đoán y_test_predict từ test data => so sánh với y_test_pred với y_test\n",
    "- Tính Mean Square Error (mse), r^2 cho train, r^2 cho test. Nhận xét\n",
    "- Tìm Coefficients, Intercept\n",
    "- Cho youtube lần lượt: x <- c(100, 200, 300) => dự đoán sales\n",
    "- Trực quan hóa kết quả\n",
    "\n",
    "### Yêu cầu bổ sung: Áp dụng Multiple Linear Regression để dự đoán sales dựa trên các thuộc tính (youtube, facebook, newspaper) do HV tự lựa chọn (2, 3 thuộc tính). Nhận xét kết quả so với Simple Linear Regression.\n"
   ]
  },
  {
   "cell_type": "code",
   "execution_count": 1,
   "metadata": {},
   "outputs": [],
   "source": [
    "# install.packages('gridExtra')"
   ]
  },
  {
   "cell_type": "code",
   "execution_count": 2,
   "metadata": {},
   "outputs": [
    {
     "name": "stderr",
     "output_type": "stream",
     "text": [
      "Warning message:\n",
      "\"package 'ggplot2' was built under R version 3.6.3\"\n"
     ]
    }
   ],
   "source": [
    "library('ggplot2')\n",
    "# libarry('gridExtra')"
   ]
  },
  {
   "cell_type": "code",
   "execution_count": 3,
   "metadata": {},
   "outputs": [],
   "source": [
    "data <- read.csv('marketing.csv')"
   ]
  },
  {
   "cell_type": "code",
   "execution_count": 4,
   "metadata": {},
   "outputs": [
    {
     "data": {
      "text/html": [
       "<table>\n",
       "<caption>A data.frame: 6 × 4</caption>\n",
       "<thead>\n",
       "\t<tr><th></th><th scope=col>youtube</th><th scope=col>facebook</th><th scope=col>newspaper</th><th scope=col>sales</th></tr>\n",
       "\t<tr><th></th><th scope=col>&lt;dbl&gt;</th><th scope=col>&lt;dbl&gt;</th><th scope=col>&lt;dbl&gt;</th><th scope=col>&lt;dbl&gt;</th></tr>\n",
       "</thead>\n",
       "<tbody>\n",
       "\t<tr><th scope=row>1</th><td>276.12</td><td>45.36</td><td>83.04</td><td>26.52</td></tr>\n",
       "\t<tr><th scope=row>2</th><td> 53.40</td><td>47.16</td><td>54.12</td><td>12.48</td></tr>\n",
       "\t<tr><th scope=row>3</th><td> 20.64</td><td>55.08</td><td>83.16</td><td>11.16</td></tr>\n",
       "\t<tr><th scope=row>4</th><td>181.80</td><td>49.56</td><td>70.20</td><td>22.20</td></tr>\n",
       "\t<tr><th scope=row>5</th><td>216.96</td><td>12.96</td><td>70.08</td><td>15.48</td></tr>\n",
       "\t<tr><th scope=row>6</th><td> 10.44</td><td>58.68</td><td>90.00</td><td> 8.64</td></tr>\n",
       "</tbody>\n",
       "</table>\n"
      ],
      "text/latex": [
       "A data.frame: 6 × 4\n",
       "\\begin{tabular}{r|llll}\n",
       "  & youtube & facebook & newspaper & sales\\\\\n",
       "  & <dbl> & <dbl> & <dbl> & <dbl>\\\\\n",
       "\\hline\n",
       "\t1 & 276.12 & 45.36 & 83.04 & 26.52\\\\\n",
       "\t2 &  53.40 & 47.16 & 54.12 & 12.48\\\\\n",
       "\t3 &  20.64 & 55.08 & 83.16 & 11.16\\\\\n",
       "\t4 & 181.80 & 49.56 & 70.20 & 22.20\\\\\n",
       "\t5 & 216.96 & 12.96 & 70.08 & 15.48\\\\\n",
       "\t6 &  10.44 & 58.68 & 90.00 &  8.64\\\\\n",
       "\\end{tabular}\n"
      ],
      "text/markdown": [
       "\n",
       "A data.frame: 6 × 4\n",
       "\n",
       "| <!--/--> | youtube &lt;dbl&gt; | facebook &lt;dbl&gt; | newspaper &lt;dbl&gt; | sales &lt;dbl&gt; |\n",
       "|---|---|---|---|---|\n",
       "| 1 | 276.12 | 45.36 | 83.04 | 26.52 |\n",
       "| 2 |  53.40 | 47.16 | 54.12 | 12.48 |\n",
       "| 3 |  20.64 | 55.08 | 83.16 | 11.16 |\n",
       "| 4 | 181.80 | 49.56 | 70.20 | 22.20 |\n",
       "| 5 | 216.96 | 12.96 | 70.08 | 15.48 |\n",
       "| 6 |  10.44 | 58.68 | 90.00 |  8.64 |\n",
       "\n"
      ],
      "text/plain": [
       "  youtube facebook newspaper sales\n",
       "1 276.12  45.36    83.04     26.52\n",
       "2  53.40  47.16    54.12     12.48\n",
       "3  20.64  55.08    83.16     11.16\n",
       "4 181.80  49.56    70.20     22.20\n",
       "5 216.96  12.96    70.08     15.48\n",
       "6  10.44  58.68    90.00      8.64"
      ]
     },
     "metadata": {},
     "output_type": "display_data"
    }
   ],
   "source": [
    "head(data)"
   ]
  },
  {
   "cell_type": "code",
   "execution_count": 5,
   "metadata": {},
   "outputs": [
    {
     "data": {
      "text/html": [
       "<style>\n",
       ".list-inline {list-style: none; margin:0; padding: 0}\n",
       ".list-inline>li {display: inline-block}\n",
       ".list-inline>li:not(:last-child)::after {content: \"\\00b7\"; padding: 0 .5ex}\n",
       "</style>\n",
       "<ol class=list-inline><li>200</li><li>4</li></ol>\n"
      ],
      "text/latex": [
       "\\begin{enumerate*}\n",
       "\\item 200\n",
       "\\item 4\n",
       "\\end{enumerate*}\n"
      ],
      "text/markdown": [
       "1. 200\n",
       "2. 4\n",
       "\n",
       "\n"
      ],
      "text/plain": [
       "[1] 200   4"
      ]
     },
     "metadata": {},
     "output_type": "display_data"
    }
   ],
   "source": [
    "dim(data)"
   ]
  },
  {
   "cell_type": "code",
   "execution_count": 6,
   "metadata": {},
   "outputs": [
    {
     "name": "stdout",
     "output_type": "stream",
     "text": [
      "'data.frame':\t200 obs. of  4 variables:\n",
      " $ youtube  : num  276.1 53.4 20.6 181.8 217 ...\n",
      " $ facebook : num  45.4 47.2 55.1 49.6 13 ...\n",
      " $ newspaper: num  83 54.1 83.2 70.2 70.1 ...\n",
      " $ sales    : num  26.5 12.5 11.2 22.2 15.5 ...\n"
     ]
    }
   ],
   "source": [
    "str(data)"
   ]
  },
  {
   "cell_type": "code",
   "execution_count": 7,
   "metadata": {},
   "outputs": [
    {
     "data": {
      "text/plain": [
       "    youtube          facebook       newspaper          sales      \n",
       " Min.   :  0.84   Min.   : 0.00   Min.   :  0.36   Min.   : 1.92  \n",
       " 1st Qu.: 89.25   1st Qu.:11.97   1st Qu.: 15.30   1st Qu.:12.45  \n",
       " Median :179.70   Median :27.48   Median : 30.90   Median :15.48  \n",
       " Mean   :176.45   Mean   :27.92   Mean   : 36.66   Mean   :16.83  \n",
       " 3rd Qu.:262.59   3rd Qu.:43.83   3rd Qu.: 54.12   3rd Qu.:20.88  \n",
       " Max.   :355.68   Max.   :59.52   Max.   :136.80   Max.   :32.40  "
      ]
     },
     "metadata": {},
     "output_type": "display_data"
    }
   ],
   "source": [
    "summary(data)"
   ]
  },
  {
   "cell_type": "code",
   "execution_count": 8,
   "metadata": {},
   "outputs": [
    {
     "name": "stderr",
     "output_type": "stream",
     "text": [
      "`geom_smooth()` using formula 'y ~ x'\n",
      "\n"
     ]
    },
    {
     "data": {
      "image/png": "[encoded data removed]",
      "text/plain": [
       "plot without title"
      ]
     },
     "metadata": {
      "image/png": {
       "height": 420,
       "width": 420
      }
     },
     "output_type": "display_data"
    }
   ],
   "source": [
    "plot <- ggplot(data, aes(youtube,sales)) +\n",
    "        geom_point() + geom_smooth(method='lm') +\n",
    "        theme_bw(base_size=14)\n",
    "plot"
   ]
  },
  {
   "cell_type": "code",
   "execution_count": 9,
   "metadata": {},
   "outputs": [
    {
     "data": {
      "image/png": "[encoded data removed]",
      "text/plain": [
       "Plot with title \"Length\""
      ]
     },
     "metadata": {
      "image/png": {
       "height": 420,
       "width": 420
      }
     },
     "output_type": "display_data"
    }
   ],
   "source": [
    "par(mfrow=c(1,2))\n",
    "boxplot(data$youtube, main='Width',\n",
    "      sub=paste('Outlier rows: ', boxplot.stats(data$youtube)$out))\n",
    "boxplot(data$sales, main='Length',\n",
    "      sub=paste('Outlier rows: ', boxplot.stats(data$sales)$out))"
   ]
  },
  {
   "cell_type": "code",
   "execution_count": 10,
   "metadata": {},
   "outputs": [
    {
     "name": "stdout",
     "output_type": "stream",
     "text": [
      "[1] 0.7822244\n"
     ]
    }
   ],
   "source": [
    "print(cor(data$youtube,data$sales))"
   ]
  },
  {
   "cell_type": "code",
   "execution_count": 11,
   "metadata": {},
   "outputs": [
    {
     "name": "stdout",
     "output_type": "stream",
     "text": [
      "  [1] 142  68 167 129 162  43  14 187  51  85  21 106 182  74   7  73  79  37\n",
      " [19] 105 110 165  34 189 126  89 172  33  84 163  70 193  42 166 111 148 156\n",
      " [37]  20  44 121  87 171 196  40  25 119 122  39 169 134  24 194 130  45 146\n",
      " [55]  22 115 104 160 143 144 103  75  13 158 176  23 181 173 140  29 108  48\n",
      " [73] 174 168 190  31 102  17 185 132 161  83 118 114  90 197 107  64  94 178\n",
      " [91]  96 159  60 192  93 179  10   1 195  59  26  15  58 131 151 153 145  76\n",
      "[109] 154 152  53  86 137 180  35 124 109  97  78 147 200  28 183  61  46  67\n",
      "[127]  71 117 175  49 149  56 170  50 186 164  57  91 155 116\n",
      "[1] 140\n",
      "[1] 60\n"
     ]
    }
   ],
   "source": [
    "set.seed(0)\n",
    "trainingRowIndex <- sample(1:nrow(data), 0.7*nrow(data))\n",
    "print(trainingRowIndex)\n",
    "trainingData <- data[trainingRowIndex,]\n",
    "testData <- data[-trainingRowIndex,]\n",
    "print(nrow(trainingData))\n",
    "print(nrow(testData))"
   ]
  },
  {
   "cell_type": "code",
   "execution_count": 12,
   "metadata": {},
   "outputs": [
    {
     "data": {
      "text/plain": [
       "\n",
       "Call:\n",
       "lm(formula = youtube ~ sales, data = data)\n",
       "\n",
       "Coefficients:\n",
       "(Intercept)        sales  \n",
       "     -40.14        12.87  \n"
      ]
     },
     "metadata": {},
     "output_type": "display_data"
    }
   ],
   "source": [
    "lmMod <- lm(youtube~ sales, data=data)\n",
    "lmMod"
   ]
  },
  {
   "cell_type": "code",
   "execution_count": 13,
   "metadata": {},
   "outputs": [
    {
     "data": {
      "text/plain": [
       "\n",
       "Call:\n",
       "lm(formula = youtube ~ sales, data = data)\n",
       "\n",
       "Residuals:\n",
       "   Min     1Q Median     3Q    Max \n",
       "-97.28 -48.15 -13.37  33.30 191.27 \n",
       "\n",
       "Coefficients:\n",
       "            Estimate Std. Error t value Pr(>|t|)    \n",
       "(Intercept) -40.1403    13.0763   -3.07  0.00244 ** \n",
       "sales        12.8717     0.7285   17.67  < 2e-16 ***\n",
       "---\n",
       "Signif. codes:  0 '***' 0.001 '**' 0.01 '*' 0.05 '.' 0.1 ' ' 1\n",
       "\n",
       "Residual standard error: 64.35 on 198 degrees of freedom\n",
       "Multiple R-squared:  0.6119,\tAdjusted R-squared:  0.6099 \n",
       "F-statistic: 312.1 on 1 and 198 DF,  p-value: < 2.2e-16\n"
      ]
     },
     "metadata": {},
     "output_type": "display_data"
    }
   ],
   "source": [
    "summary(lmMod)"
   ]
  },
  {
   "cell_type": "code",
   "execution_count": 14,
   "metadata": {},
   "outputs": [],
   "source": [
    "yPred <- predict(lmMod, testData)"
   ]
  },
  {
   "cell_type": "code",
   "execution_count": 15,
   "metadata": {},
   "outputs": [
    {
     "name": "stdout",
     "output_type": "stream",
     "text": [
      "[1] \"mse train:  4099.02523880934\"\n"
     ]
    }
   ],
   "source": [
    "mse_train <- mean(lmMod$residuals^2)\n",
    "print(paste('mse train: ',mse_train))"
   ]
  },
  {
   "cell_type": "code",
   "execution_count": 16,
   "metadata": {},
   "outputs": [
    {
     "name": "stdout",
     "output_type": "stream",
     "text": [
      "[1] \"mse in test:  3657.58746925291\"\n"
     ]
    }
   ],
   "source": [
    "mse_test <- mean((testData$youtube  - yPred)^2)\n",
    "print(paste('mse in test: ',mse_test))"
   ]
  },
  {
   "cell_type": "code",
   "execution_count": 17,
   "metadata": {},
   "outputs": [
    {
     "name": "stdout",
     "output_type": "stream",
     "text": [
      "[1] \"r2 train:  0.574759973198049\"\n"
     ]
    }
   ],
   "source": [
    "yPred_train <- predict(lmMod, trainingData)\n",
    "rsquare_train <- 1- sum((trainingData$youtube - yPred_train)^2)/\n",
    " sum((trainingData$youtube - mean(trainingData$youtube))^2)\n",
    "print(paste('r2 train: ',rsquare_train))"
   ]
  },
  {
   "cell_type": "code",
   "execution_count": 18,
   "metadata": {},
   "outputs": [
    {
     "name": "stdout",
     "output_type": "stream",
     "text": [
      "[1] \"r2 test:  0.682477751065925\"\n"
     ]
    }
   ],
   "source": [
    "rsquare_test <- 1- sum((testData$youtube - yPred)^2) /\n",
    "    sum((testData$youtube - mean(testData$youtube))^2)\n",
    "print(paste('r2 test: ',rsquare_test))"
   ]
  },
  {
   "cell_type": "code",
   "execution_count": 19,
   "metadata": {},
   "outputs": [
    {
     "name": "stdout",
     "output_type": "stream",
     "text": [
      "(Intercept)       sales \n",
      "  -40.14027    12.87165 \n"
     ]
    },
    {
     "data": {
      "text/html": [
       "<strong>sales:</strong> 12.8716511153584"
      ],
      "text/latex": [
       "\\textbf{sales:} 12.8716511153584"
      ],
      "text/markdown": [
       "**sales:** 12.8716511153584"
      ],
      "text/plain": [
       "   sales \n",
       "12.87165 "
      ]
     },
     "metadata": {},
     "output_type": "display_data"
    }
   ],
   "source": [
    "print(coef(lmMod))\n",
    "beta_width <- coef(lmMod)['sales']\n",
    "beta_width"
   ]
  },
  {
   "cell_type": "code",
   "execution_count": 20,
   "metadata": {},
   "outputs": [],
   "source": [
    "intercept <- coef(lmMod)['(Intercept)']"
   ]
  },
  {
   "cell_type": "code",
   "execution_count": 21,
   "metadata": {},
   "outputs": [
    {
     "name": "stdout",
     "output_type": "stream",
     "text": [
      "[1] 1247.025 2534.190 3821.355\n"
     ]
    }
   ],
   "source": [
    "x <- c(100,200,300)\n",
    "sales_Predict <- intercept + beta_width*x\n",
    "print(sales_Predict)"
   ]
  },
  {
   "cell_type": "code",
   "execution_count": 24,
   "metadata": {},
   "outputs": [
    {
     "name": "stderr",
     "output_type": "stream",
     "text": [
      "Warning message in plot.window(...):\n",
      "\"\"color\" is not a graphical parameter\"\n",
      "Warning message in plot.xy(xy, type, ...):\n",
      "\"\"color\" is not a graphical parameter\"\n",
      "Warning message in axis(side = side, at = at, labels = labels, ...):\n",
      "\"\"color\" is not a graphical parameter\"\n",
      "Warning message in axis(side = side, at = at, labels = labels, ...):\n",
      "\"\"color\" is not a graphical parameter\"\n",
      "Warning message in box(...):\n",
      "\"\"color\" is not a graphical parameter\"\n",
      "Warning message in title(...):\n",
      "\"\"color\" is not a graphical parameter\"\n"
     ]
    },
    {
     "data": {
      "text/html": [
       "<strong>null device:</strong> 1"
      ],
      "text/latex": [
       "\\textbf{null device:} 1"
      ],
      "text/markdown": [
       "**null device:** 1"
      ],
      "text/plain": [
       "null device \n",
       "          1 "
      ]
     },
     "metadata": {},
     "output_type": "display_data"
    },
    {
     "data": {
      "image/png": "[encoded data removed]",
      "text/plain": [
       "plot without title"
      ]
     },
     "metadata": {
      "image/png": {
       "height": 420,
       "width": 420
      }
     },
     "output_type": "display_data"
    }
   ],
   "source": [
    "plot(data$youtube,data$sales,color='blue')\n",
    "lines(x,sales_Predict,col='red',type='p')\n",
    "abline(lmMod,data,col='green')\n",
    "legend('topleft',c(\"data\",\"predict\"), fill=c('blue','orange'))\n",
    "dev.off()"
   ]
  },
  {
   "cell_type": "code",
   "execution_count": 22,
   "metadata": {},
   "outputs": [],
   "source": [
    "# Done"
   ]
  }
 ],
 "metadata": {
  "colab": {
   "collapsed_sections": [],
   "name": "bai_on_tap_buoi_8_SV.ipynb",
   "provenance": []
  },
  "kernelspec": {
   "display_name": "R",
   "language": "R",
   "name": "ir"
  },
  "language_info": {
   "codemirror_mode": "r",
   "file_extension": ".r",
   "mimetype": "text/x-r-source",
   "name": "R",
   "pygments_lexer": "r",
   "version": "3.6.0"
  }
 },
 "nbformat": 4,
 "nbformat_minor": 1
}

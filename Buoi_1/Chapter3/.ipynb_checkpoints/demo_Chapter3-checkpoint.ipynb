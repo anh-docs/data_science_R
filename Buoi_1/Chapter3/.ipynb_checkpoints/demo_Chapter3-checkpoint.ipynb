{
 "cells": [
  {
   "cell_type": "markdown",
   "metadata": {},
   "source": [
    "# 1. If"
   ]
  },
  {
   "cell_type": "code",
   "execution_count": 1,
   "metadata": {},
   "outputs": [
    {
     "name": "stdout",
     "output_type": "stream",
     "text": [
      "Input mark: 5\n",
      "[1] \"Pass\"\n"
     ]
    }
   ],
   "source": [
    "mark <- readline(prompt=\"Input mark: \")\n",
    "mark <- as.numeric(mark)\n",
    "if (mark>=5)\n",
    "{\n",
    "    print(\"Pass\")\n",
    "}"
   ]
  },
  {
   "cell_type": "code",
   "execution_count": 2,
   "metadata": {},
   "outputs": [
    {
     "name": "stdout",
     "output_type": "stream",
     "text": [
      "Input mark: 4\n",
      "[1] \"Fail\"\n"
     ]
    }
   ],
   "source": [
    "mark <- readline(prompt=\"Input mark: \")\n",
    "mark <- as.numeric(mark)\n",
    "if (mark>=5)\n",
    "{\n",
    "    print(\"Pass\")\n",
    "} else {\n",
    "    print(\"Fail\")\n",
    "}"
   ]
  },
  {
   "cell_type": "code",
   "execution_count": 3,
   "metadata": {},
   "outputs": [
    {
     "name": "stdout",
     "output_type": "stream",
     "text": [
      "Input mark: 7\n",
      "[1] \"Good\"\n"
     ]
    }
   ],
   "source": [
    "mark <- readline(prompt=\"Input mark: \")\n",
    "mark <- as.numeric(mark)\n",
    "if (mark<5)\n",
    "{\n",
    "    print(\"Weak\")\n",
    "} else if (mark <7) {\n",
    "    print(\"Average\")\n",
    "} else if (mark <8) {\n",
    "    print(\"Good\")\n",
    "} else if (mark <= 10) {\n",
    "    print(\"Excellent\")\n",
    "} else {\n",
    "    print(\"Input Error\")\n",
    "}"
   ]
  },
  {
   "cell_type": "markdown",
   "metadata": {},
   "source": [
    "# 2. Switch"
   ]
  },
  {
   "cell_type": "code",
   "execution_count": 4,
   "metadata": {},
   "outputs": [
    {
     "name": "stdout",
     "output_type": "stream",
     "text": [
      "[1] \"cat\"\n"
     ]
    }
   ],
   "source": [
    "x <- switch(2,'dog','cat','goat')\n",
    "print(x)"
   ]
  },
  {
   "cell_type": "code",
   "execution_count": 6,
   "metadata": {},
   "outputs": [
    {
     "name": "stdout",
     "output_type": "stream",
     "text": [
      "NULL\n"
     ]
    }
   ],
   "source": [
    "x <- switch(4,'dog','cat','goat')\n",
    "print(x)"
   ]
  },
  {
   "cell_type": "code",
   "execution_count": 7,
   "metadata": {},
   "outputs": [
    {
     "name": "stdout",
     "output_type": "stream",
     "text": [
      "[1] \"black\"\n"
     ]
    }
   ],
   "source": [
    "y <- switch('color', 'color'='black', 'shape'='straight', 'length'=20)\n",
    "print(y)"
   ]
  },
  {
   "cell_type": "code",
   "execution_count": 9,
   "metadata": {},
   "outputs": [
    {
     "name": "stdout",
     "output_type": "stream",
     "text": [
      "Input number 1: 432\n",
      "Input number 2: 23423\n",
      "Input one ARITHETIC OPERATOR: +\n",
      "[1] \"Sum: 23855\"\n"
     ]
    }
   ],
   "source": [
    "number1 <- as.integer(readline(prompt='Input number 1: '))\n",
    "number2 <- as.integer(readline(prompt='Input number 2: '))\n",
    "operator <- readline(prompt='Input one ARITHETIC OPERATOR: ')\n",
    "switch(operator,\n",
    "      '+' = print(paste('Sum:',number1 + number2)),\n",
    "      '-' = print(paste('Sub:',number1 - number2)),\n",
    "      '*' = print(paste('Mul:',number1 * number2)),\n",
    "      '/' = print(paste('Div:',number1 / number2)),\n",
    "       print('Nothing')\n",
    "      )"
   ]
  },
  {
   "cell_type": "markdown",
   "metadata": {},
   "source": [
    "done"
   ]
  }
 ],
 "metadata": {
  "kernelspec": {
   "display_name": "R",
   "language": "R",
   "name": "ir"
  },
  "language_info": {
   "codemirror_mode": "r",
   "file_extension": ".r",
   "mimetype": "text/x-r-source",
   "name": "R",
   "pygments_lexer": "r",
   "version": "4.0.2"
  }
 },
 "nbformat": 4,
 "nbformat_minor": 4
}

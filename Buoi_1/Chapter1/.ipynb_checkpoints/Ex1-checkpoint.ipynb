{
 "cells": [
  {
   "cell_type": "code",
   "execution_count": 1,
   "metadata": {},
   "outputs": [],
   "source": [
    "a = 5\n",
    "b = 7\n",
    "tong = a + b\n",
    "hieu = a - b\n",
    "tich = a * b\n",
    "thuong = a / b"
   ]
  },
  {
   "cell_type": "code",
   "execution_count": 2,
   "metadata": {},
   "outputs": [
    {
     "name": "stdout",
     "output_type": "stream",
     "text": [
      "[1] \"a = 5\"\n",
      "[1] \"b = 7\"\n"
     ]
    }
   ],
   "source": [
    "print(paste(\"a =\", a))\n",
    "print(paste(\"b =\", b))"
   ]
  },
  {
   "cell_type": "code",
   "execution_count": 3,
   "metadata": {},
   "outputs": [
    {
     "name": "stdout",
     "output_type": "stream",
     "text": [
      "[1] \"tong = 12\"\n",
      "[1] \"hieu = -2\"\n",
      "[1] \"tich = 35\"\n",
      "[1] \"thuong = 0.714285714285714\"\n"
     ]
    }
   ],
   "source": [
    "print(paste(\"tong =\", tong))\n",
    "print(paste(\"hieu =\",hieu))\n",
    "print(paste(\"tich =\", tich))\n",
    "print(paste(\"thuong =\", thuong))"
   ]
  },
  {
   "cell_type": "code",
   "execution_count": null,
   "metadata": {},
   "outputs": [],
   "source": []
  }
 ],
 "metadata": {
  "kernelspec": {
   "display_name": "R",
   "language": "R",
   "name": "ir"
  },
  "language_info": {
   "codemirror_mode": "r",
   "file_extension": ".r",
   "mimetype": "text/x-r-source",
   "name": "R",
   "pygments_lexer": "r",
   "version": "4.0.2"
  }
 },
 "nbformat": 4,
 "nbformat_minor": 4
}

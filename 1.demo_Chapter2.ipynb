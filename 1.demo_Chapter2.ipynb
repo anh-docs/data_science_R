{
 "cells": [
  {
   "cell_type": "markdown",
   "metadata": {},
   "source": [
    "1. Vector\n",
    "2. Factor\n",
    "3. List \n",
    "4. Matrix\n",
    "5. Array\n",
    "6. Data Frame"
   ]
  },
  {
   "cell_type": "markdown",
   "metadata": {},
   "source": [
    "# I. Type_class"
   ]
  },
  {
   "cell_type": "markdown",
   "metadata": {},
   "source": [
    "## 1. Vector"
   ]
  },
  {
   "cell_type": "code",
   "execution_count": 1,
   "metadata": {},
   "outputs": [],
   "source": [
    "pass <- TRUE\n",
    "# pass = true # Error"
   ]
  },
  {
   "cell_type": "code",
   "execution_count": 2,
   "metadata": {},
   "outputs": [
    {
     "name": "stdout",
     "output_type": "stream",
     "text": [
      "[1] \"logical\"\n"
     ]
    }
   ],
   "source": [
    "print(class(pass))"
   ]
  },
  {
   "cell_type": "code",
   "execution_count": 3,
   "metadata": {},
   "outputs": [
    {
     "name": "stdout",
     "output_type": "stream",
     "text": [
      "[1] \"numeric\"\n"
     ]
    }
   ],
   "source": [
    "a <- 12.3 \n",
    "b <- 150\n",
    "print(class(a))"
   ]
  },
  {
   "cell_type": "code",
   "execution_count": 4,
   "metadata": {},
   "outputs": [
    {
     "name": "stdout",
     "output_type": "stream",
     "text": [
      "[1] \"integer\"\n",
      "[1] -2\n"
     ]
    }
   ],
   "source": [
    "int <- -2L # Defaul 32, L = 64\n",
    "print(class(int))\n",
    "print(int)# Ghi chú nè"
   ]
  },
  {
   "cell_type": "code",
   "execution_count": 5,
   "metadata": {},
   "outputs": [
    {
     "name": "stdout",
     "output_type": "stream",
     "text": [
      "[1] \"character\"\n"
     ]
    }
   ],
   "source": [
    "ky_tu <- 'a'\n",
    "print(class(ky_tu))"
   ]
  },
  {
   "cell_type": "code",
   "execution_count": 6,
   "metadata": {},
   "outputs": [
    {
     "name": "stdout",
     "output_type": "stream",
     "text": [
      "[1] \"character\"\n",
      "[1] \"character\"\n",
      "[1] \"numeric\"\n"
     ]
    }
   ],
   "source": [
    "fruit <- c(\"apple\",\"pear\",\"orange\",\"banana\")\n",
    "fruit_ <- c(\"apple\",\"pear\",\"orange\",\"banana\",TRUE,1212)\n",
    "fruit_3 <- c(12,24,4,4,5,5,5,TRUE,1212)\n",
    "# Vector\n",
    "print(class(fruit))\n",
    "print(class(fruit_))\n",
    "print(class(fruit_3)) # The class is the most type of element"
   ]
  },
  {
   "cell_type": "markdown",
   "metadata": {},
   "source": [
    "## 2. Factor"
   ]
  },
  {
   "cell_type": "code",
   "execution_count": 7,
   "metadata": {},
   "outputs": [
    {
     "name": "stdout",
     "output_type": "stream",
     "text": [
      "[1] green  green  yellow red    red   \n",
      "Levels: green red yellow\n",
      "[1] 3\n"
     ]
    }
   ],
   "source": [
    "apple_color <- c('green', 'green', 'yellow', 'red', 'red')\n",
    "factor_apple <- factor(apple_color)\n",
    "\n",
    "print(factor_apple)\n",
    "print(nlevels(factor_apple))"
   ]
  },
  {
   "cell_type": "markdown",
   "metadata": {},
   "source": [
    "## 3. List"
   ]
  },
  {
   "cell_type": "code",
   "execution_count": 8,
   "metadata": {},
   "outputs": [
    {
     "name": "stdout",
     "output_type": "stream",
     "text": [
      "[[1]]\n",
      "[1] 2 5 3\n",
      "\n",
      "[[2]]\n",
      "[1] 21.3\n",
      "\n",
      "[[3]]\n",
      "[1] \"spring\"\n",
      "\n"
     ]
    }
   ],
   "source": [
    "list1 <- list(c(2,5,3), 21.3, \"spring\")\n",
    "print(list1) # Index R begining at 1"
   ]
  },
  {
   "cell_type": "markdown",
   "metadata": {},
   "source": [
    "## 4. Matrix"
   ]
  },
  {
   "cell_type": "code",
   "execution_count": 9,
   "metadata": {},
   "outputs": [
    {
     "name": "stderr",
     "output_type": "stream",
     "text": [
      "Warning message in matrix(c(1, 2, 3, 4, 5, 6, 7, 8, 9), nrow = 2, ncol = 4, byrow = TRUE):\n",
      "\"data length [9] is not a sub-multiple or multiple of the number of rows [2]\"\n"
     ]
    },
    {
     "name": "stdout",
     "output_type": "stream",
     "text": [
      "     [,1] [,2] [,3] [,4]\n",
      "[1,]    1    2    3    4\n",
      "[2,]    5    6    7    8\n"
     ]
    }
   ],
   "source": [
    "M <- matrix(c(1,2,3,4,5,6,7,8,9), nrow=2, ncol=4, byrow=TRUE)\n",
    "print(M)"
   ]
  },
  {
   "cell_type": "code",
   "execution_count": 10,
   "metadata": {},
   "outputs": [
    {
     "name": "stdout",
     "output_type": "stream",
     "text": [
      "     [,1] [,2] [,3] [,4]\n",
      "[1,]    1    2    3    4\n",
      "[2,]    5    6    7    8\n"
     ]
    }
   ],
   "source": [
    "M <- matrix(c(1,2,3,4,5,6,7,8), nrow=2, ncol=4, byrow=TRUE)\n",
    "print(M)"
   ]
  },
  {
   "cell_type": "code",
   "execution_count": 11,
   "metadata": {},
   "outputs": [
    {
     "name": "stdout",
     "output_type": "stream",
     "text": [
      "     [,1] [,2] [,3]\n",
      "[1,]    1    2    3\n",
      "[2,]    4    5    6\n",
      "[3,]    7    8    9\n"
     ]
    }
   ],
   "source": [
    "M_ <- matrix(c(1,2,3,4,5,6,7,8,9), nrow=3, byrow=TRUE)\n",
    "print(M_)"
   ]
  },
  {
   "cell_type": "code",
   "execution_count": 12,
   "metadata": {},
   "outputs": [
    {
     "name": "stdout",
     "output_type": "stream",
     "text": [
      "[1] 1\n",
      "[1] 2\n",
      "[1] 8\n"
     ]
    }
   ],
   "source": [
    "print(M_[1,1])\n",
    "print(M_[1,2])\n",
    "print(M_[3,2])"
   ]
  },
  {
   "cell_type": "markdown",
   "metadata": {},
   "source": [
    "## 5. Array - "
   ]
  },
  {
   "cell_type": "code",
   "execution_count": 13,
   "metadata": {},
   "outputs": [],
   "source": [
    "a <- array(c('red','green','yellow'), dim=c(3,3,2))"
   ]
  },
  {
   "cell_type": "code",
   "execution_count": 14,
   "metadata": {},
   "outputs": [
    {
     "name": "stdout",
     "output_type": "stream",
     "text": [
      ", , 1\n",
      "\n",
      "     [,1]     [,2]     [,3]    \n",
      "[1,] \"red\"    \"red\"    \"red\"   \n",
      "[2,] \"green\"  \"green\"  \"green\" \n",
      "[3,] \"yellow\" \"yellow\" \"yellow\"\n",
      "\n",
      ", , 2\n",
      "\n",
      "     [,1]     [,2]     [,3]    \n",
      "[1,] \"red\"    \"red\"    \"red\"   \n",
      "[2,] \"green\"  \"green\"  \"green\" \n",
      "[3,] \"yellow\" \"yellow\" \"yellow\"\n",
      "\n"
     ]
    }
   ],
   "source": [
    "print(a)"
   ]
  },
  {
   "cell_type": "markdown",
   "metadata": {},
   "source": [
    "## 6. DataFrame"
   ]
  },
  {
   "cell_type": "code",
   "execution_count": 15,
   "metadata": {},
   "outputs": [],
   "source": [
    "BMI <- data.frame(gender = c(\"Male\",\"Female\",\"Male\"),\n",
    "                 height = c(152,171.5,165),\n",
    "                 weight = c(81,93,78),\n",
    "                 age = c(42,38,26))"
   ]
  },
  {
   "cell_type": "code",
   "execution_count": 16,
   "metadata": {},
   "outputs": [
    {
     "name": "stdout",
     "output_type": "stream",
     "text": [
      "  gender height weight age\n",
      "1   Male  152.0     81  42\n",
      "2 Female  171.5     93  38\n",
      "3   Male  165.0     78  26\n"
     ]
    }
   ],
   "source": [
    "print(BMI)"
   ]
  },
  {
   "cell_type": "markdown",
   "metadata": {},
   "source": [
    "# II. Variable"
   ]
  },
  {
   "cell_type": "code",
   "execution_count": 17,
   "metadata": {},
   "outputs": [
    {
     "name": "stdout",
     "output_type": "stream",
     "text": [
      "[1] \"red\"   \"green\" \"blue\" \n"
     ]
    }
   ],
   "source": [
    "colors <- c('red','green','blue')\n",
    "print(colors)"
   ]
  },
  {
   "cell_type": "code",
   "execution_count": 18,
   "metadata": {},
   "outputs": [
    {
     "name": "stdout",
     "output_type": "stream",
     "text": [
      "[1] 10.0 15.5  7.0\n"
     ]
    }
   ],
   "source": [
    "numbers <- c(10,15.5 ,7)\n",
    "print(numbers)"
   ]
  },
  {
   "cell_type": "code",
   "execution_count": 19,
   "metadata": {},
   "outputs": [
    {
     "name": "stdout",
     "output_type": "stream",
     "text": [
      "[1]  TRUE FALSE  TRUE  TRUE\n"
     ]
    }
   ],
   "source": [
    "c(TRUE, FALSE, TRUE, TRUE) -> pass \n",
    "print(pass)"
   ]
  },
  {
   "cell_type": "code",
   "execution_count": 20,
   "metadata": {},
   "outputs": [],
   "source": [
    "# help(print) Documentation R\n",
    "# example(print)"
   ]
  },
  {
   "cell_type": "code",
   "execution_count": 21,
   "metadata": {},
   "outputs": [
    {
     "name": "stdout",
     "output_type": "stream",
     "text": [
      " [1] \"a\"            \"apple_color\"  \"b\"            \"BMI\"          \"colors\"      \n",
      " [6] \"factor_apple\" \"fruit\"        \"fruit_\"       \"fruit_3\"      \"int\"         \n",
      "[11] \"ky_tu\"        \"list1\"        \"M\"            \"M_\"           \"numbers\"     \n",
      "[16] \"pass\"        \n"
     ]
    }
   ],
   "source": [
    "print(ls())"
   ]
  },
  {
   "cell_type": "markdown",
   "metadata": {},
   "source": [
    "# III. Operators"
   ]
  },
  {
   "cell_type": "markdown",
   "metadata": {},
   "source": [
    "1. Arthmetic Operators"
   ]
  },
  {
   "cell_type": "code",
   "execution_count": 22,
   "metadata": {},
   "outputs": [
    {
     "name": "stdout",
     "output_type": "stream",
     "text": [
      "[1] 10.0  8.5 10.0\n"
     ]
    }
   ],
   "source": [
    "v <- c(2, 5.5, 6)\n",
    "t <- c(8,3,4)\n",
    "print(v+t)"
   ]
  },
  {
   "cell_type": "code",
   "execution_count": 23,
   "metadata": {},
   "outputs": [
    {
     "name": "stdout",
     "output_type": "stream",
     "text": [
      "[1] -6.0  2.5  2.0\n"
     ]
    }
   ],
   "source": [
    "print(v-t)"
   ]
  },
  {
   "cell_type": "code",
   "execution_count": 24,
   "metadata": {},
   "outputs": [
    {
     "name": "stdout",
     "output_type": "stream",
     "text": [
      "[1] 16.0 16.5 24.0\n"
     ]
    }
   ],
   "source": [
    "print(v*t)"
   ]
  },
  {
   "cell_type": "code",
   "execution_count": 25,
   "metadata": {},
   "outputs": [
    {
     "name": "stdout",
     "output_type": "stream",
     "text": [
      "[1] 0.250000 1.833333 1.500000\n"
     ]
    }
   ],
   "source": [
    "print(v/t)"
   ]
  },
  {
   "cell_type": "code",
   "execution_count": 26,
   "metadata": {},
   "outputs": [
    {
     "name": "stdout",
     "output_type": "stream",
     "text": [
      "[1] 2.0 2.5 2.0\n"
     ]
    }
   ],
   "source": [
    "print(v%%t)"
   ]
  },
  {
   "cell_type": "code",
   "execution_count": 27,
   "metadata": {},
   "outputs": [],
   "source": [
    "# print(v%t) # Error"
   ]
  },
  {
   "cell_type": "code",
   "execution_count": 28,
   "metadata": {},
   "outputs": [
    {
     "name": "stdout",
     "output_type": "stream",
     "text": [
      "[1] 0 1 1\n"
     ]
    }
   ],
   "source": [
    "print(v%/%t)"
   ]
  },
  {
   "cell_type": "code",
   "execution_count": 29,
   "metadata": {},
   "outputs": [
    {
     "name": "stdout",
     "output_type": "stream",
     "text": [
      "[1]  256.000  166.375 1296.000\n"
     ]
    }
   ],
   "source": [
    "print(v^t)"
   ]
  },
  {
   "cell_type": "markdown",
   "metadata": {},
   "source": [
    "2 . Relational Operators"
   ]
  },
  {
   "cell_type": "code",
   "execution_count": 30,
   "metadata": {},
   "outputs": [
    {
     "name": "stdout",
     "output_type": "stream",
     "text": [
      "[1] FALSE  TRUE  TRUE\n"
     ]
    }
   ],
   "source": [
    "print(v>t)"
   ]
  },
  {
   "cell_type": "code",
   "execution_count": 31,
   "metadata": {},
   "outputs": [
    {
     "name": "stdout",
     "output_type": "stream",
     "text": [
      "[1] FALSE FALSE FALSE\n"
     ]
    }
   ],
   "source": [
    "print(v==t)"
   ]
  },
  {
   "cell_type": "code",
   "execution_count": 32,
   "metadata": {},
   "outputs": [
    {
     "name": "stdout",
     "output_type": "stream",
     "text": [
      "[1] FALSE  TRUE  TRUE\n"
     ]
    }
   ],
   "source": [
    "print(v>=t)"
   ]
  },
  {
   "cell_type": "code",
   "execution_count": 33,
   "metadata": {},
   "outputs": [
    {
     "name": "stdout",
     "output_type": "stream",
     "text": [
      "[1] TRUE TRUE TRUE\n"
     ]
    }
   ],
   "source": [
    "print(v!=t)"
   ]
  },
  {
   "cell_type": "markdown",
   "metadata": {},
   "source": [
    "3. Logical Operators"
   ]
  },
  {
   "cell_type": "code",
   "execution_count": 34,
   "metadata": {},
   "outputs": [],
   "source": [
    "v <- c(3,1,TRUE,0)\n",
    "t <- c(4,1,FALSE,2)"
   ]
  },
  {
   "cell_type": "code",
   "execution_count": 35,
   "metadata": {},
   "outputs": [
    {
     "name": "stdout",
     "output_type": "stream",
     "text": [
      "[1]  TRUE  TRUE FALSE FALSE\n"
     ]
    }
   ],
   "source": [
    "print(v&t)"
   ]
  },
  {
   "cell_type": "code",
   "execution_count": 36,
   "metadata": {},
   "outputs": [
    {
     "name": "stdout",
     "output_type": "stream",
     "text": [
      "[1] TRUE TRUE TRUE TRUE\n"
     ]
    }
   ],
   "source": [
    "print(v|t)"
   ]
  },
  {
   "cell_type": "code",
   "execution_count": 37,
   "metadata": {},
   "outputs": [
    {
     "name": "stdout",
     "output_type": "stream",
     "text": [
      "[1] FALSE FALSE FALSE  TRUE\n"
     ]
    }
   ],
   "source": [
    "print(!v)"
   ]
  },
  {
   "cell_type": "code",
   "execution_count": 38,
   "metadata": {},
   "outputs": [
    {
     "name": "stdout",
     "output_type": "stream",
     "text": [
      "[1] FALSE FALSE  TRUE FALSE\n"
     ]
    }
   ],
   "source": [
    "print(!t)"
   ]
  },
  {
   "cell_type": "code",
   "execution_count": 39,
   "metadata": {},
   "outputs": [],
   "source": [
    "# Just compare only couple first "
   ]
  },
  {
   "cell_type": "code",
   "execution_count": 40,
   "metadata": {},
   "outputs": [
    {
     "name": "stdout",
     "output_type": "stream",
     "text": [
      "[1] FALSE\n",
      "[1] TRUE\n"
     ]
    }
   ],
   "source": [
    "v <- c(FALSE, 1, TRUE, 0)\n",
    "t <- c(4,1,FALSE,2)\n",
    "\n",
    "print(v&&t)\n",
    "print(v||t)"
   ]
  },
  {
   "cell_type": "code",
   "execution_count": 41,
   "metadata": {},
   "outputs": [
    {
     "name": "stdout",
     "output_type": "stream",
     "text": [
      "[1] 3 1 1\n"
     ]
    }
   ],
   "source": [
    "v1 <<- c(3,1, TRUE)\n",
    "print(v1)"
   ]
  },
  {
   "cell_type": "code",
   "execution_count": 42,
   "metadata": {},
   "outputs": [
    {
     "name": "stdout",
     "output_type": "stream",
     "text": [
      "[1] 3 1 1\n"
     ]
    }
   ],
   "source": [
    "c(3,1,TRUE) ->> v2\n",
    "print(v2)"
   ]
  },
  {
   "cell_type": "code",
   "execution_count": 43,
   "metadata": {},
   "outputs": [
    {
     "name": "stdout",
     "output_type": "stream",
     "text": [
      " [1]  1  2  3  4  5  6  7  8  9 10\n"
     ]
    }
   ],
   "source": [
    "v <- 1:10\n",
    "print(v)"
   ]
  },
  {
   "cell_type": "code",
   "execution_count": 44,
   "metadata": {},
   "outputs": [
    {
     "name": "stdout",
     "output_type": "stream",
     "text": [
      "[1] TRUE\n",
      "[1] FALSE\n"
     ]
    }
   ],
   "source": [
    "v1 <- 8 \n",
    "v2 <- 12\n",
    "print(v1 %in% v)\n",
    "print(v2 %in% v)"
   ]
  },
  {
   "cell_type": "code",
   "execution_count": 45,
   "metadata": {},
   "outputs": [
    {
     "name": "stdout",
     "output_type": "stream",
     "text": [
      "     [,1] [,2] [,3]\n",
      "[1,]    1    1    1\n",
      "[2,]    2    2    2\n"
     ]
    }
   ],
   "source": [
    "M = matrix(c(1,1,1,2,2,2), nrow=2, ncol=3, byrow=TRUE)\n",
    "print(M)"
   ]
  },
  {
   "cell_type": "code",
   "execution_count": 46,
   "metadata": {},
   "outputs": [
    {
     "name": "stdout",
     "output_type": "stream",
     "text": [
      "     [,1] [,2] [,3]\n",
      "[1,]    1    1    1\n",
      "[2,]    4    4    4\n"
     ]
    }
   ],
   "source": [
    "t = M * M \n",
    "print(t)"
   ]
  },
  {
   "cell_type": "code",
   "execution_count": 47,
   "metadata": {},
   "outputs": [
    {
     "name": "stdout",
     "output_type": "stream",
     "text": [
      "     [,1] [,2]\n",
      "[1,]    1    2\n",
      "[2,]    1    2\n",
      "[3,]    1    2\n"
     ]
    }
   ],
   "source": [
    "print(t(M)) # Transpose Matrix M"
   ]
  },
  {
   "cell_type": "code",
   "execution_count": 48,
   "metadata": {},
   "outputs": [
    {
     "name": "stdout",
     "output_type": "stream",
     "text": [
      "     [,1] [,2]\n",
      "[1,]    3    6\n",
      "[2,]    6   12\n"
     ]
    }
   ],
   "source": [
    "print(M %*% t(M)) # Multiple matrix"
   ]
  },
  {
   "cell_type": "markdown",
   "metadata": {},
   "source": [
    "# IV. Import & Export"
   ]
  },
  {
   "cell_type": "code",
   "execution_count": 49,
   "metadata": {},
   "outputs": [
    {
     "name": "stdout",
     "output_type": "stream",
     "text": [
      "Enter name: Hai Anh\n"
     ]
    }
   ],
   "source": [
    "name <- readline(prompt='Enter name: ')"
   ]
  },
  {
   "cell_type": "code",
   "execution_count": 50,
   "metadata": {},
   "outputs": [],
   "source": [
    "# age <- readline(prompt='Enter age: ')"
   ]
  },
  {
   "cell_type": "code",
   "execution_count": 51,
   "metadata": {},
   "outputs": [
    {
     "name": "stdout",
     "output_type": "stream",
     "text": [
      "Enter age: 232.42342\n",
      "[1] 232\n"
     ]
    }
   ],
   "source": [
    "age <- as.integer(readline(prompt='Enter age: '))\n",
    "print(age)"
   ]
  },
  {
   "cell_type": "code",
   "execution_count": 52,
   "metadata": {},
   "outputs": [
    {
     "name": "stdout",
     "output_type": "stream",
     "text": [
      "[1] \"Hi  Hai Anh next year you will be 233 year old.\"\n"
     ]
    }
   ],
   "source": [
    "print(paste(\"Hi \",name, \"next year you will be\",age+1,\"year old.\"))"
   ]
  },
  {
   "cell_type": "code",
   "execution_count": 53,
   "metadata": {},
   "outputs": [
    {
     "data": {
      "text/html": [
       "<style>\n",
       ".list-inline {list-style: none; margin:0; padding: 0}\n",
       ".list-inline>li {display: inline-block}\n",
       ".list-inline>li:not(:last-child)::after {content: \"\\00b7\"; padding: 0 .5ex}\n",
       "</style>\n",
       "<ol class=list-inline><li>'red'</li><li>'green'</li><li>'blue'</li></ol>\n"
      ],
      "text/latex": [
       "\\begin{enumerate*}\n",
       "\\item 'red'\n",
       "\\item 'green'\n",
       "\\item 'blue'\n",
       "\\end{enumerate*}\n"
      ],
      "text/markdown": [
       "1. 'red'\n",
       "2. 'green'\n",
       "3. 'blue'\n",
       "\n",
       "\n"
      ],
      "text/plain": [
       "[1] \"red\"   \"green\" \"blue\" "
      ]
     },
     "metadata": {},
     "output_type": "display_data"
    }
   ],
   "source": [
    "colors <- c('red','green','blue')\n",
    "colors"
   ]
  },
  {
   "cell_type": "code",
   "execution_count": 54,
   "metadata": {},
   "outputs": [
    {
     "name": "stdout",
     "output_type": "stream",
     "text": [
      "colors are red green blue \n",
      "The end"
     ]
    }
   ],
   "source": [
    "cat(\"colors are\",colors,\"\\nThe end\")"
   ]
  },
  {
   "cell_type": "markdown",
   "metadata": {},
   "source": [
    "# V. String"
   ]
  },
  {
   "cell_type": "code",
   "execution_count": 55,
   "metadata": {},
   "outputs": [],
   "source": [
    "s1 <- \"This is a first sentence.\"\n",
    "s2 <- \"This is a second sentence.\"\n",
    "s3 <- \"This is a 'third' sentence.\"\n",
    "s4 <- 'This is a \"fourth\" sentence.'"
   ]
  },
  {
   "cell_type": "code",
   "execution_count": 56,
   "metadata": {},
   "outputs": [
    {
     "name": "stdout",
     "output_type": "stream",
     "text": [
      "[1] \"This is a first sentence.\"\n",
      "[1] \"This is a second sentence.\"\n",
      "[1] \"This is a 'third' sentence.\"\n",
      "[1] \"This is a \\\"fourth\\\" sentence.\"\n"
     ]
    }
   ],
   "source": [
    "print(s1)\n",
    "print(s2)\n",
    "print(s3)\n",
    "print(s4)"
   ]
  },
  {
   "cell_type": "code",
   "execution_count": 57,
   "metadata": {},
   "outputs": [],
   "source": [
    "a <- 'one'\n",
    "b <- 'two'\n",
    "c <- 'three'"
   ]
  },
  {
   "cell_type": "code",
   "execution_count": 58,
   "metadata": {},
   "outputs": [
    {
     "name": "stdout",
     "output_type": "stream",
     "text": [
      "[1] \"one two three\"\n",
      "[1] \"onetwothree\"\n",
      "[1] \"one-two-three\"\n"
     ]
    }
   ],
   "source": [
    "print(paste(a,b,c))\n",
    "print(paste(a,b,c,sep=\"\"))\n",
    "print(paste(a,b,c,sep=\"-\"))"
   ]
  },
  {
   "cell_type": "code",
   "execution_count": 59,
   "metadata": {},
   "outputs": [
    {
     "name": "stdout",
     "output_type": "stream",
     "text": [
      "[1] \"one two three\"\n"
     ]
    }
   ],
   "source": [
    "# d = cat(a,b,c)\n",
    "d = paste(a,b,c)\n",
    "print(d)"
   ]
  },
  {
   "cell_type": "code",
   "execution_count": 60,
   "metadata": {},
   "outputs": [],
   "source": [
    "s <- \"This is a string\""
   ]
  },
  {
   "cell_type": "code",
   "execution_count": 61,
   "metadata": {},
   "outputs": [
    {
     "name": "stdout",
     "output_type": "stream",
     "text": [
      "[1] 16\n"
     ]
    }
   ],
   "source": [
    "print(nchar(s))"
   ]
  },
  {
   "cell_type": "code",
   "execution_count": 62,
   "metadata": {},
   "outputs": [
    {
     "name": "stdout",
     "output_type": "stream",
     "text": [
      "[1] \"THIS IS A STRING\"\n"
     ]
    }
   ],
   "source": [
    "print(toupper(s))"
   ]
  },
  {
   "cell_type": "code",
   "execution_count": 63,
   "metadata": {},
   "outputs": [
    {
     "name": "stdout",
     "output_type": "stream",
     "text": [
      "[1] \"this is a string\"\n"
     ]
    }
   ],
   "source": [
    "print(tolower(s))"
   ]
  },
  {
   "cell_type": "code",
   "execution_count": 64,
   "metadata": {},
   "outputs": [],
   "source": [
    "s <- \"This is a big string\""
   ]
  },
  {
   "cell_type": "code",
   "execution_count": 65,
   "metadata": {},
   "outputs": [],
   "source": [
    "s_sub <- substring(s,5,10)"
   ]
  },
  {
   "cell_type": "code",
   "execution_count": 66,
   "metadata": {},
   "outputs": [
    {
     "name": "stdout",
     "output_type": "stream",
     "text": [
      "[1] \" is a \"\n"
     ]
    }
   ],
   "source": [
    "print(s_sub)"
   ]
  },
  {
   "cell_type": "code",
   "execution_count": 67,
   "metadata": {},
   "outputs": [
    {
     "name": "stdout",
     "output_type": "stream",
     "text": [
      "[1] \"Today is New year day\"\n"
     ]
    }
   ],
   "source": [
    "s1 <- \"Today is New year day\"\n",
    "print(s1)"
   ]
  },
  {
   "cell_type": "code",
   "execution_count": 68,
   "metadata": {},
   "outputs": [
    {
     "name": "stdout",
     "output_type": "stream",
     "text": [
      "[1] \"Today-is-New-year-day\"\n"
     ]
    }
   ],
   "source": [
    "print(chartr(\" \", \"-\",s1)) # Replace"
   ]
  },
  {
   "cell_type": "code",
   "execution_count": 69,
   "metadata": {},
   "outputs": [
    {
     "name": "stdout",
     "output_type": "stream",
     "text": [
      "[[1]]\n",
      "[1] \"Today\" \"is\"    \"New\"   \"year\"  \"day\"  \n",
      "\n"
     ]
    }
   ],
   "source": [
    "character_list <- strsplit(s1, \" \") # return List\n",
    "print(character_list)"
   ]
  },
  {
   "cell_type": "code",
   "execution_count": 70,
   "metadata": {},
   "outputs": [
    {
     "name": "stdout",
     "output_type": "stream",
     "text": [
      "[1] \"Today\" \"is\"    \"New\"   \"year\"  \"day\"  \n"
     ]
    }
   ],
   "source": [
    "word_list <- unlist(character_list) # return Vector\n",
    "print(word_list)"
   ]
  },
  {
   "cell_type": "code",
   "execution_count": 71,
   "metadata": {},
   "outputs": [
    {
     "name": "stdout",
     "output_type": "stream",
     "text": [
      "[1] \"day\"   \"is\"    \"New\"   \"Today\" \"year\" \n"
     ]
    }
   ],
   "source": [
    "sort_list <- sort(word_list) # return List\n",
    "print(sort_list)"
   ]
  },
  {
   "cell_type": "code",
   "execution_count": 72,
   "metadata": {},
   "outputs": [
    {
     "name": "stdout",
     "output_type": "stream",
     "text": [
      "[1] \"year\"  \"Today\" \"New\"   \"is\"    \"day\"  \n"
     ]
    }
   ],
   "source": [
    "sort_list_des <- sort(word_list, decreasing=TRUE) # return List\n",
    "print(sort_list_des)"
   ]
  },
  {
   "cell_type": "markdown",
   "metadata": {},
   "source": [
    "# VI. Date"
   ]
  },
  {
   "cell_type": "code",
   "execution_count": 73,
   "metadata": {},
   "outputs": [
    {
     "name": "stdout",
     "output_type": "stream",
     "text": [
      "[1] \"Sat Jan 09 11:06:40 2021\"\n"
     ]
    }
   ],
   "source": [
    "print(date())"
   ]
  },
  {
   "cell_type": "code",
   "execution_count": 74,
   "metadata": {},
   "outputs": [
    {
     "name": "stdout",
     "output_type": "stream",
     "text": [
      "[1] \"2021-01-09\"\n"
     ]
    }
   ],
   "source": [
    "print(Sys.Date())"
   ]
  },
  {
   "cell_type": "code",
   "execution_count": 75,
   "metadata": {},
   "outputs": [
    {
     "name": "stdout",
     "output_type": "stream",
     "text": [
      "[1] \"16-10-2021\"\n"
     ]
    }
   ],
   "source": [
    "d1 <- \"16-10-2021\"\n",
    "print(d1)"
   ]
  },
  {
   "cell_type": "code",
   "execution_count": 76,
   "metadata": {},
   "outputs": [
    {
     "name": "stdout",
     "output_type": "stream",
     "text": [
      "[1] \"2021-10-16\"\n"
     ]
    }
   ],
   "source": [
    "print(as.Date(d1, format(\"%d-%m-%Y\"))) # Convert to date"
   ]
  },
  {
   "cell_type": "code",
   "execution_count": 77,
   "metadata": {},
   "outputs": [
    {
     "name": "stdout",
     "output_type": "stream",
     "text": [
      "[1] \"2021-10-20\"\n"
     ]
    }
   ],
   "source": [
    "print(as.Date(\"20/10/2021\", format(\"%d/%m/%Y\")))"
   ]
  },
  {
   "cell_type": "code",
   "execution_count": 78,
   "metadata": {},
   "outputs": [
    {
     "name": "stdout",
     "output_type": "stream",
     "text": [
      "[1] \"January 09 2021\"\n"
     ]
    }
   ],
   "source": [
    "print(format(Sys.Date(), format=\"%B %d %Y\"))"
   ]
  },
  {
   "cell_type": "code",
   "execution_count": 79,
   "metadata": {},
   "outputs": [
    {
     "name": "stdout",
     "output_type": "stream",
     "text": [
      "[1] \"Saturday January 09 2021\"\n"
     ]
    }
   ],
   "source": [
    "print(format(Sys.Date(), format=\"%A %B %d %Y\"))"
   ]
  },
  {
   "cell_type": "code",
   "execution_count": 80,
   "metadata": {},
   "outputs": [
    {
     "name": "stdout",
     "output_type": "stream",
     "text": [
      "[1] \"Saturday October 16 2021\"\n"
     ]
    }
   ],
   "source": [
    "d2 = as.Date(d1, format(\"%d-%m-%Y\"))\n",
    "print(format(d2, format=\"%A %B %d %Y\"))"
   ]
  },
  {
   "cell_type": "code",
   "execution_count": 81,
   "metadata": {},
   "outputs": [
    {
     "name": "stdout",
     "output_type": "stream",
     "text": [
      "Time difference of -280 days\n"
     ]
    }
   ],
   "source": [
    "distance <- Sys.Date() - d2\n",
    "print(distance)"
   ]
  },
  {
   "cell_type": "code",
   "execution_count": 82,
   "metadata": {},
   "outputs": [
    {
     "name": "stdout",
     "output_type": "stream",
     "text": [
      "Time difference of -40 weeks\n",
      "Time difference of -6720 hours\n",
      "Time difference of -403200 mins\n",
      "Time difference of -24192000 secs\n"
     ]
    }
   ],
   "source": [
    "diff_weeks = difftime(Sys.Date(), as.Date(\"2021-10-16\"), units=\"weeks\")\n",
    "diff_hours = difftime(Sys.Date(), as.Date(\"2021-10-16\"), units=\"hours\")\n",
    "diff_minutes = difftime(Sys.Date(), as.Date(\"2021-10-16\"), units=\"mins\")\n",
    "diff_seconds = difftime(Sys.Date(), as.Date(\"2021-10-16\"), units=\"secs\")\n",
    "print(diff_weeks)\n",
    "print(diff_hours)\n",
    "print(diff_minutes)\n",
    "print(diff_seconds)"
   ]
  },
  {
   "cell_type": "markdown",
   "metadata": {},
   "source": [
    "# Done"
   ]
  }
 ],
 "metadata": {
  "kernelspec": {
   "display_name": "R",
   "language": "R",
   "name": "ir"
  },
  "language_info": {
   "codemirror_mode": "r",
   "file_extension": ".r",
   "mimetype": "text/x-r-source",
   "name": "R",
   "pygments_lexer": "r",
   "version": "3.6.0"
  }
 },
 "nbformat": 4,
 "nbformat_minor": 4
}

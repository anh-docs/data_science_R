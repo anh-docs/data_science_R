{
 "cells": [
  {
   "cell_type": "code",
   "execution_count": 1,
   "metadata": {},
   "outputs": [
    {
     "data": {
      "text/html": [
       "<table>\n",
       "<caption>A data.frame: 6 × 11</caption>\n",
       "<thead>\n",
       "\t<tr><th></th><th scope=col>mpg</th><th scope=col>cyl</th><th scope=col>disp</th><th scope=col>hp</th><th scope=col>drat</th><th scope=col>wt</th><th scope=col>qsec</th><th scope=col>vs</th><th scope=col>am</th><th scope=col>gear</th><th scope=col>carb</th></tr>\n",
       "\t<tr><th></th><th scope=col>&lt;dbl&gt;</th><th scope=col>&lt;dbl&gt;</th><th scope=col>&lt;dbl&gt;</th><th scope=col>&lt;dbl&gt;</th><th scope=col>&lt;dbl&gt;</th><th scope=col>&lt;dbl&gt;</th><th scope=col>&lt;dbl&gt;</th><th scope=col>&lt;dbl&gt;</th><th scope=col>&lt;dbl&gt;</th><th scope=col>&lt;dbl&gt;</th><th scope=col>&lt;dbl&gt;</th></tr>\n",
       "</thead>\n",
       "<tbody>\n",
       "\t<tr><th scope=row>Mazda RX4</th><td>21.0</td><td>6</td><td>160</td><td>110</td><td>3.90</td><td>2.620</td><td>16.46</td><td>0</td><td>1</td><td>4</td><td>4</td></tr>\n",
       "\t<tr><th scope=row>Mazda RX4 Wag</th><td>21.0</td><td>6</td><td>160</td><td>110</td><td>3.90</td><td>2.875</td><td>17.02</td><td>0</td><td>1</td><td>4</td><td>4</td></tr>\n",
       "\t<tr><th scope=row>Datsun 710</th><td>22.8</td><td>4</td><td>108</td><td> 93</td><td>3.85</td><td>2.320</td><td>18.61</td><td>1</td><td>1</td><td>4</td><td>1</td></tr>\n",
       "\t<tr><th scope=row>Hornet 4 Drive</th><td>21.4</td><td>6</td><td>258</td><td>110</td><td>3.08</td><td>3.215</td><td>19.44</td><td>1</td><td>0</td><td>3</td><td>1</td></tr>\n",
       "\t<tr><th scope=row>Hornet Sportabout</th><td>18.7</td><td>8</td><td>360</td><td>175</td><td>3.15</td><td>3.440</td><td>17.02</td><td>0</td><td>0</td><td>3</td><td>2</td></tr>\n",
       "\t<tr><th scope=row>Valiant</th><td>18.1</td><td>6</td><td>225</td><td>105</td><td>2.76</td><td>3.460</td><td>20.22</td><td>1</td><td>0</td><td>3</td><td>1</td></tr>\n",
       "</tbody>\n",
       "</table>\n"
      ],
      "text/latex": [
       "A data.frame: 6 × 11\n",
       "\\begin{tabular}{r|lllllllllll}\n",
       "  & mpg & cyl & disp & hp & drat & wt & qsec & vs & am & gear & carb\\\\\n",
       "  & <dbl> & <dbl> & <dbl> & <dbl> & <dbl> & <dbl> & <dbl> & <dbl> & <dbl> & <dbl> & <dbl>\\\\\n",
       "\\hline\n",
       "\tMazda RX4 & 21.0 & 6 & 160 & 110 & 3.90 & 2.620 & 16.46 & 0 & 1 & 4 & 4\\\\\n",
       "\tMazda RX4 Wag & 21.0 & 6 & 160 & 110 & 3.90 & 2.875 & 17.02 & 0 & 1 & 4 & 4\\\\\n",
       "\tDatsun 710 & 22.8 & 4 & 108 &  93 & 3.85 & 2.320 & 18.61 & 1 & 1 & 4 & 1\\\\\n",
       "\tHornet 4 Drive & 21.4 & 6 & 258 & 110 & 3.08 & 3.215 & 19.44 & 1 & 0 & 3 & 1\\\\\n",
       "\tHornet Sportabout & 18.7 & 8 & 360 & 175 & 3.15 & 3.440 & 17.02 & 0 & 0 & 3 & 2\\\\\n",
       "\tValiant & 18.1 & 6 & 225 & 105 & 2.76 & 3.460 & 20.22 & 1 & 0 & 3 & 1\\\\\n",
       "\\end{tabular}\n"
      ],
      "text/markdown": [
       "\n",
       "A data.frame: 6 × 11\n",
       "\n",
       "| <!--/--> | mpg &lt;dbl&gt; | cyl &lt;dbl&gt; | disp &lt;dbl&gt; | hp &lt;dbl&gt; | drat &lt;dbl&gt; | wt &lt;dbl&gt; | qsec &lt;dbl&gt; | vs &lt;dbl&gt; | am &lt;dbl&gt; | gear &lt;dbl&gt; | carb &lt;dbl&gt; |\n",
       "|---|---|---|---|---|---|---|---|---|---|---|---|\n",
       "| Mazda RX4 | 21.0 | 6 | 160 | 110 | 3.90 | 2.620 | 16.46 | 0 | 1 | 4 | 4 |\n",
       "| Mazda RX4 Wag | 21.0 | 6 | 160 | 110 | 3.90 | 2.875 | 17.02 | 0 | 1 | 4 | 4 |\n",
       "| Datsun 710 | 22.8 | 4 | 108 |  93 | 3.85 | 2.320 | 18.61 | 1 | 1 | 4 | 1 |\n",
       "| Hornet 4 Drive | 21.4 | 6 | 258 | 110 | 3.08 | 3.215 | 19.44 | 1 | 0 | 3 | 1 |\n",
       "| Hornet Sportabout | 18.7 | 8 | 360 | 175 | 3.15 | 3.440 | 17.02 | 0 | 0 | 3 | 2 |\n",
       "| Valiant | 18.1 | 6 | 225 | 105 | 2.76 | 3.460 | 20.22 | 1 | 0 | 3 | 1 |\n",
       "\n"
      ],
      "text/plain": [
       "                  mpg  cyl disp hp  drat wt    qsec  vs am gear carb\n",
       "Mazda RX4         21.0 6   160  110 3.90 2.620 16.46 0  1  4    4   \n",
       "Mazda RX4 Wag     21.0 6   160  110 3.90 2.875 17.02 0  1  4    4   \n",
       "Datsun 710        22.8 4   108   93 3.85 2.320 18.61 1  1  4    1   \n",
       "Hornet 4 Drive    21.4 6   258  110 3.08 3.215 19.44 1  0  3    1   \n",
       "Hornet Sportabout 18.7 8   360  175 3.15 3.440 17.02 0  0  3    2   \n",
       "Valiant           18.1 6   225  105 2.76 3.460 20.22 1  0  3    1   "
      ]
     },
     "metadata": {},
     "output_type": "display_data"
    }
   ],
   "source": [
    "head(mtcars)"
   ]
  },
  {
   "cell_type": "code",
   "execution_count": 2,
   "metadata": {},
   "outputs": [
    {
     "data": {
      "text/html": [
       "<table>\n",
       "<caption>A data.frame: 6 × 4</caption>\n",
       "<thead>\n",
       "\t<tr><th></th><th scope=col>mpg</th><th scope=col>disp</th><th scope=col>hp</th><th scope=col>wt</th></tr>\n",
       "\t<tr><th></th><th scope=col>&lt;dbl&gt;</th><th scope=col>&lt;dbl&gt;</th><th scope=col>&lt;dbl&gt;</th><th scope=col>&lt;dbl&gt;</th></tr>\n",
       "</thead>\n",
       "<tbody>\n",
       "\t<tr><th scope=row>Mazda RX4</th><td>21.0</td><td>160</td><td>110</td><td>2.620</td></tr>\n",
       "\t<tr><th scope=row>Mazda RX4 Wag</th><td>21.0</td><td>160</td><td>110</td><td>2.875</td></tr>\n",
       "\t<tr><th scope=row>Datsun 710</th><td>22.8</td><td>108</td><td> 93</td><td>2.320</td></tr>\n",
       "\t<tr><th scope=row>Hornet 4 Drive</th><td>21.4</td><td>258</td><td>110</td><td>3.215</td></tr>\n",
       "\t<tr><th scope=row>Hornet Sportabout</th><td>18.7</td><td>360</td><td>175</td><td>3.440</td></tr>\n",
       "\t<tr><th scope=row>Valiant</th><td>18.1</td><td>225</td><td>105</td><td>3.460</td></tr>\n",
       "</tbody>\n",
       "</table>\n"
      ],
      "text/latex": [
       "A data.frame: 6 × 4\n",
       "\\begin{tabular}{r|llll}\n",
       "  & mpg & disp & hp & wt\\\\\n",
       "  & <dbl> & <dbl> & <dbl> & <dbl>\\\\\n",
       "\\hline\n",
       "\tMazda RX4 & 21.0 & 160 & 110 & 2.620\\\\\n",
       "\tMazda RX4 Wag & 21.0 & 160 & 110 & 2.875\\\\\n",
       "\tDatsun 710 & 22.8 & 108 &  93 & 2.320\\\\\n",
       "\tHornet 4 Drive & 21.4 & 258 & 110 & 3.215\\\\\n",
       "\tHornet Sportabout & 18.7 & 360 & 175 & 3.440\\\\\n",
       "\tValiant & 18.1 & 225 & 105 & 3.460\\\\\n",
       "\\end{tabular}\n"
      ],
      "text/markdown": [
       "\n",
       "A data.frame: 6 × 4\n",
       "\n",
       "| <!--/--> | mpg &lt;dbl&gt; | disp &lt;dbl&gt; | hp &lt;dbl&gt; | wt &lt;dbl&gt; |\n",
       "|---|---|---|---|---|\n",
       "| Mazda RX4 | 21.0 | 160 | 110 | 2.620 |\n",
       "| Mazda RX4 Wag | 21.0 | 160 | 110 | 2.875 |\n",
       "| Datsun 710 | 22.8 | 108 |  93 | 2.320 |\n",
       "| Hornet 4 Drive | 21.4 | 258 | 110 | 3.215 |\n",
       "| Hornet Sportabout | 18.7 | 360 | 175 | 3.440 |\n",
       "| Valiant | 18.1 | 225 | 105 | 3.460 |\n",
       "\n"
      ],
      "text/plain": [
       "                  mpg  disp hp  wt   \n",
       "Mazda RX4         21.0 160  110 2.620\n",
       "Mazda RX4 Wag     21.0 160  110 2.875\n",
       "Datsun 710        22.8 108   93 2.320\n",
       "Hornet 4 Drive    21.4 258  110 3.215\n",
       "Hornet Sportabout 18.7 360  175 3.440\n",
       "Valiant           18.1 225  105 3.460"
      ]
     },
     "metadata": {},
     "output_type": "display_data"
    }
   ],
   "source": [
    "input <- mtcars[,c('mpg','disp','hp','wt')]\n",
    "head(input)"
   ]
  },
  {
   "cell_type": "code",
   "execution_count": 3,
   "metadata": {},
   "outputs": [
    {
     "data": {
      "image/png": "[encoded data removed]",
      "text/plain": [
       "plot without title"
      ]
     },
     "metadata": {
      "image/png": {
       "height": 420,
       "width": 420
      }
     },
     "output_type": "display_data"
    }
   ],
   "source": [
    "pairs(~mpg+disp+hp+wt, data=input)"
   ]
  },
  {
   "cell_type": "code",
   "execution_count": 4,
   "metadata": {},
   "outputs": [],
   "source": [
    "library('ggplot2')\n",
    "# libarry('gridExtra')"
   ]
  },
  {
   "cell_type": "code",
   "execution_count": 5,
   "metadata": {},
   "outputs": [],
   "source": [
    "# plot <- ggplot(iris, aes(Petal.Width,Petal.Length)) +\n",
    "#         geom_point() + geom_smooth(method='lm') +\n",
    "#         theme_bw(base_size=14)\n",
    "# plot"
   ]
  },
  {
   "cell_type": "markdown",
   "metadata": {},
   "source": [
    "- Dữ liệu theo liner regression phân nhóm\n",
    "- Length ~ Width tương quan thuận"
   ]
  },
  {
   "cell_type": "code",
   "execution_count": 6,
   "metadata": {},
   "outputs": [
    {
     "data": {
      "image/png": "[encoded data removed]",
      "text/plain": [
       "Plot with title \"wt\""
      ]
     },
     "metadata": {
      "image/png": {
       "height": 420,
       "width": 420
      }
     },
     "output_type": "display_data"
    }
   ],
   "source": [
    "# mpg+disp+hp+wt, data=input)\n",
    "par(mfrow=c(1,4))\n",
    "boxplot(input$mpg, main='mpg',\n",
    "      sub=paste('Outlier rows: ', toString(boxplot.stats(input$mpg)$out)))\n",
    "boxplot(input$disp, main='disp',\n",
    "      sub=paste('Outlier rows: ', toString(boxplot.stats(input$disp)$out)))\n",
    "boxplot(input$hp, main='hp',\n",
    "      sub=paste('Outlier rows: ', toString(boxplot.stats(input$hp)$out)))\n",
    "boxplot(input$wt, main='wt',\n",
    "      sub=paste('Outlier rows: ', toString(boxplot.stats(input$wt)$out)))\n"
   ]
  },
  {
   "cell_type": "code",
   "execution_count": 7,
   "metadata": {},
   "outputs": [
    {
     "name": "stdout",
     "output_type": "stream",
     "text": [
      "[1] \"hp Outliers : 1\"\n"
     ]
    }
   ],
   "source": [
    "hp_outliers <- boxplot.stats(input$hp)$out\n",
    "print(paste('hp Outliers :',sum(input$hp == hp_outliers[1])))\n",
    "input <- input[input$hp != hp_outliers[1],]"
   ]
  },
  {
   "cell_type": "code",
   "execution_count": 8,
   "metadata": {},
   "outputs": [
    {
     "name": "stdout",
     "output_type": "stream",
     "text": [
      "[1] \"wt Outliers:  2\"\n"
     ]
    }
   ],
   "source": [
    "wt_outliers <- boxplot.stats(input$wt)$out\n",
    "print(paste('wt Outliers: ',sum(input$wt == wt_outliers[1])+sum(input$wt == wt_outliers[2])))\n",
    "input <- input[input$wt != wt_outliers[1],]\n",
    "input <- input[input$wt != wt_outliers[2],]"
   ]
  },
  {
   "cell_type": "code",
   "execution_count": 9,
   "metadata": {},
   "outputs": [
    {
     "name": "stderr",
     "output_type": "stream",
     "text": [
      "-- \u001b[1mAttaching packages\u001b[22m --------------------------------------- tidyverse 1.3.0 --\n",
      "\n",
      "\u001b[32mv\u001b[39m \u001b[34mtibble \u001b[39m 3.0.3     \u001b[32mv\u001b[39m \u001b[34mdplyr  \u001b[39m 1.0.2\n",
      "\u001b[32mv\u001b[39m \u001b[34mtidyr  \u001b[39m 1.1.1     \u001b[32mv\u001b[39m \u001b[34mstringr\u001b[39m 1.4.0\n",
      "\u001b[32mv\u001b[39m \u001b[34mreadr  \u001b[39m 1.3.1     \u001b[32mv\u001b[39m \u001b[34mforcats\u001b[39m 0.5.0\n",
      "\u001b[32mv\u001b[39m \u001b[34mpurrr  \u001b[39m 0.3.4     \n",
      "\n",
      "-- \u001b[1mConflicts\u001b[22m ------------------------------------------ tidyverse_conflicts() --\n",
      "\u001b[31mx\u001b[39m \u001b[34mdplyr\u001b[39m::\u001b[32mfilter()\u001b[39m masks \u001b[34mstats\u001b[39m::filter()\n",
      "\u001b[31mx\u001b[39m \u001b[34mdplyr\u001b[39m::\u001b[32mlag()\u001b[39m    masks \u001b[34mstats\u001b[39m::lag()\n",
      "\n"
     ]
    }
   ],
   "source": [
    "library('tidyverse')"
   ]
  },
  {
   "cell_type": "code",
   "execution_count": 10,
   "metadata": {},
   "outputs": [
    {
     "data": {
      "text/html": [
       "<table>\n",
       "<caption>A data.frame: 29 × 4</caption>\n",
       "<thead>\n",
       "\t<tr><th></th><th scope=col>mpg</th><th scope=col>disp</th><th scope=col>hp</th><th scope=col>wt</th></tr>\n",
       "\t<tr><th></th><th scope=col>&lt;dbl&gt;</th><th scope=col>&lt;dbl&gt;</th><th scope=col>&lt;dbl&gt;</th><th scope=col>&lt;dbl&gt;</th></tr>\n",
       "</thead>\n",
       "<tbody>\n",
       "\t<tr><th scope=row>Mazda RX4</th><td>21.0</td><td>160.0</td><td>110</td><td>2.620</td></tr>\n",
       "\t<tr><th scope=row>Mazda RX4 Wag</th><td>21.0</td><td>160.0</td><td>110</td><td>2.875</td></tr>\n",
       "\t<tr><th scope=row>Datsun 710</th><td>22.8</td><td>108.0</td><td> 93</td><td>2.320</td></tr>\n",
       "\t<tr><th scope=row>Hornet 4 Drive</th><td>21.4</td><td>258.0</td><td>110</td><td>3.215</td></tr>\n",
       "\t<tr><th scope=row>Hornet Sportabout</th><td>18.7</td><td>360.0</td><td>175</td><td>3.440</td></tr>\n",
       "\t<tr><th scope=row>Valiant</th><td>18.1</td><td>225.0</td><td>105</td><td>3.460</td></tr>\n",
       "\t<tr><th scope=row>Duster 360</th><td>14.3</td><td>360.0</td><td>245</td><td>3.570</td></tr>\n",
       "\t<tr><th scope=row>Merc 240D</th><td>24.4</td><td>146.7</td><td> 62</td><td>3.190</td></tr>\n",
       "\t<tr><th scope=row>Merc 230</th><td>22.8</td><td>140.8</td><td> 95</td><td>3.150</td></tr>\n",
       "\t<tr><th scope=row>Merc 280</th><td>19.2</td><td>167.6</td><td>123</td><td>3.440</td></tr>\n",
       "\t<tr><th scope=row>Merc 280C</th><td>17.8</td><td>167.6</td><td>123</td><td>3.440</td></tr>\n",
       "\t<tr><th scope=row>Merc 450SE</th><td>16.4</td><td>275.8</td><td>180</td><td>4.070</td></tr>\n",
       "\t<tr><th scope=row>Merc 450SL</th><td>17.3</td><td>275.8</td><td>180</td><td>3.730</td></tr>\n",
       "\t<tr><th scope=row>Merc 450SLC</th><td>15.2</td><td>275.8</td><td>180</td><td>3.780</td></tr>\n",
       "\t<tr><th scope=row>Cadillac Fleetwood</th><td>10.4</td><td>472.0</td><td>205</td><td>5.250</td></tr>\n",
       "\t<tr><th scope=row>Fiat 128</th><td>32.4</td><td> 78.7</td><td> 66</td><td>2.200</td></tr>\n",
       "\t<tr><th scope=row>Honda Civic</th><td>30.4</td><td> 75.7</td><td> 52</td><td>1.615</td></tr>\n",
       "\t<tr><th scope=row>Toyota Corolla</th><td>33.9</td><td> 71.1</td><td> 65</td><td>1.835</td></tr>\n",
       "\t<tr><th scope=row>Toyota Corona</th><td>21.5</td><td>120.1</td><td> 97</td><td>2.465</td></tr>\n",
       "\t<tr><th scope=row>Dodge Challenger</th><td>15.5</td><td>318.0</td><td>150</td><td>3.520</td></tr>\n",
       "\t<tr><th scope=row>AMC Javelin</th><td>15.2</td><td>304.0</td><td>150</td><td>3.435</td></tr>\n",
       "\t<tr><th scope=row>Camaro Z28</th><td>13.3</td><td>350.0</td><td>245</td><td>3.840</td></tr>\n",
       "\t<tr><th scope=row>Pontiac Firebird</th><td>19.2</td><td>400.0</td><td>175</td><td>3.845</td></tr>\n",
       "\t<tr><th scope=row>Fiat X1-9</th><td>27.3</td><td> 79.0</td><td> 66</td><td>1.935</td></tr>\n",
       "\t<tr><th scope=row>Porsche 914-2</th><td>26.0</td><td>120.3</td><td> 91</td><td>2.140</td></tr>\n",
       "\t<tr><th scope=row>Lotus Europa</th><td>30.4</td><td> 95.1</td><td>113</td><td>1.513</td></tr>\n",
       "\t<tr><th scope=row>Ford Pantera L</th><td>15.8</td><td>351.0</td><td>264</td><td>3.170</td></tr>\n",
       "\t<tr><th scope=row>Ferrari Dino</th><td>19.7</td><td>145.0</td><td>175</td><td>2.770</td></tr>\n",
       "\t<tr><th scope=row>Volvo 142E</th><td>21.4</td><td>121.0</td><td>109</td><td>2.780</td></tr>\n",
       "</tbody>\n",
       "</table>\n"
      ],
      "text/latex": [
       "A data.frame: 29 × 4\n",
       "\\begin{tabular}{r|llll}\n",
       "  & mpg & disp & hp & wt\\\\\n",
       "  & <dbl> & <dbl> & <dbl> & <dbl>\\\\\n",
       "\\hline\n",
       "\tMazda RX4 & 21.0 & 160.0 & 110 & 2.620\\\\\n",
       "\tMazda RX4 Wag & 21.0 & 160.0 & 110 & 2.875\\\\\n",
       "\tDatsun 710 & 22.8 & 108.0 &  93 & 2.320\\\\\n",
       "\tHornet 4 Drive & 21.4 & 258.0 & 110 & 3.215\\\\\n",
       "\tHornet Sportabout & 18.7 & 360.0 & 175 & 3.440\\\\\n",
       "\tValiant & 18.1 & 225.0 & 105 & 3.460\\\\\n",
       "\tDuster 360 & 14.3 & 360.0 & 245 & 3.570\\\\\n",
       "\tMerc 240D & 24.4 & 146.7 &  62 & 3.190\\\\\n",
       "\tMerc 230 & 22.8 & 140.8 &  95 & 3.150\\\\\n",
       "\tMerc 280 & 19.2 & 167.6 & 123 & 3.440\\\\\n",
       "\tMerc 280C & 17.8 & 167.6 & 123 & 3.440\\\\\n",
       "\tMerc 450SE & 16.4 & 275.8 & 180 & 4.070\\\\\n",
       "\tMerc 450SL & 17.3 & 275.8 & 180 & 3.730\\\\\n",
       "\tMerc 450SLC & 15.2 & 275.8 & 180 & 3.780\\\\\n",
       "\tCadillac Fleetwood & 10.4 & 472.0 & 205 & 5.250\\\\\n",
       "\tFiat 128 & 32.4 &  78.7 &  66 & 2.200\\\\\n",
       "\tHonda Civic & 30.4 &  75.7 &  52 & 1.615\\\\\n",
       "\tToyota Corolla & 33.9 &  71.1 &  65 & 1.835\\\\\n",
       "\tToyota Corona & 21.5 & 120.1 &  97 & 2.465\\\\\n",
       "\tDodge Challenger & 15.5 & 318.0 & 150 & 3.520\\\\\n",
       "\tAMC Javelin & 15.2 & 304.0 & 150 & 3.435\\\\\n",
       "\tCamaro Z28 & 13.3 & 350.0 & 245 & 3.840\\\\\n",
       "\tPontiac Firebird & 19.2 & 400.0 & 175 & 3.845\\\\\n",
       "\tFiat X1-9 & 27.3 &  79.0 &  66 & 1.935\\\\\n",
       "\tPorsche 914-2 & 26.0 & 120.3 &  91 & 2.140\\\\\n",
       "\tLotus Europa & 30.4 &  95.1 & 113 & 1.513\\\\\n",
       "\tFord Pantera L & 15.8 & 351.0 & 264 & 3.170\\\\\n",
       "\tFerrari Dino & 19.7 & 145.0 & 175 & 2.770\\\\\n",
       "\tVolvo 142E & 21.4 & 121.0 & 109 & 2.780\\\\\n",
       "\\end{tabular}\n"
      ],
      "text/markdown": [
       "\n",
       "A data.frame: 29 × 4\n",
       "\n",
       "| <!--/--> | mpg &lt;dbl&gt; | disp &lt;dbl&gt; | hp &lt;dbl&gt; | wt &lt;dbl&gt; |\n",
       "|---|---|---|---|---|\n",
       "| Mazda RX4 | 21.0 | 160.0 | 110 | 2.620 |\n",
       "| Mazda RX4 Wag | 21.0 | 160.0 | 110 | 2.875 |\n",
       "| Datsun 710 | 22.8 | 108.0 |  93 | 2.320 |\n",
       "| Hornet 4 Drive | 21.4 | 258.0 | 110 | 3.215 |\n",
       "| Hornet Sportabout | 18.7 | 360.0 | 175 | 3.440 |\n",
       "| Valiant | 18.1 | 225.0 | 105 | 3.460 |\n",
       "| Duster 360 | 14.3 | 360.0 | 245 | 3.570 |\n",
       "| Merc 240D | 24.4 | 146.7 |  62 | 3.190 |\n",
       "| Merc 230 | 22.8 | 140.8 |  95 | 3.150 |\n",
       "| Merc 280 | 19.2 | 167.6 | 123 | 3.440 |\n",
       "| Merc 280C | 17.8 | 167.6 | 123 | 3.440 |\n",
       "| Merc 450SE | 16.4 | 275.8 | 180 | 4.070 |\n",
       "| Merc 450SL | 17.3 | 275.8 | 180 | 3.730 |\n",
       "| Merc 450SLC | 15.2 | 275.8 | 180 | 3.780 |\n",
       "| Cadillac Fleetwood | 10.4 | 472.0 | 205 | 5.250 |\n",
       "| Fiat 128 | 32.4 |  78.7 |  66 | 2.200 |\n",
       "| Honda Civic | 30.4 |  75.7 |  52 | 1.615 |\n",
       "| Toyota Corolla | 33.9 |  71.1 |  65 | 1.835 |\n",
       "| Toyota Corona | 21.5 | 120.1 |  97 | 2.465 |\n",
       "| Dodge Challenger | 15.5 | 318.0 | 150 | 3.520 |\n",
       "| AMC Javelin | 15.2 | 304.0 | 150 | 3.435 |\n",
       "| Camaro Z28 | 13.3 | 350.0 | 245 | 3.840 |\n",
       "| Pontiac Firebird | 19.2 | 400.0 | 175 | 3.845 |\n",
       "| Fiat X1-9 | 27.3 |  79.0 |  66 | 1.935 |\n",
       "| Porsche 914-2 | 26.0 | 120.3 |  91 | 2.140 |\n",
       "| Lotus Europa | 30.4 |  95.1 | 113 | 1.513 |\n",
       "| Ford Pantera L | 15.8 | 351.0 | 264 | 3.170 |\n",
       "| Ferrari Dino | 19.7 | 145.0 | 175 | 2.770 |\n",
       "| Volvo 142E | 21.4 | 121.0 | 109 | 2.780 |\n",
       "\n"
      ],
      "text/plain": [
       "                   mpg  disp  hp  wt   \n",
       "Mazda RX4          21.0 160.0 110 2.620\n",
       "Mazda RX4 Wag      21.0 160.0 110 2.875\n",
       "Datsun 710         22.8 108.0  93 2.320\n",
       "Hornet 4 Drive     21.4 258.0 110 3.215\n",
       "Hornet Sportabout  18.7 360.0 175 3.440\n",
       "Valiant            18.1 225.0 105 3.460\n",
       "Duster 360         14.3 360.0 245 3.570\n",
       "Merc 240D          24.4 146.7  62 3.190\n",
       "Merc 230           22.8 140.8  95 3.150\n",
       "Merc 280           19.2 167.6 123 3.440\n",
       "Merc 280C          17.8 167.6 123 3.440\n",
       "Merc 450SE         16.4 275.8 180 4.070\n",
       "Merc 450SL         17.3 275.8 180 3.730\n",
       "Merc 450SLC        15.2 275.8 180 3.780\n",
       "Cadillac Fleetwood 10.4 472.0 205 5.250\n",
       "Fiat 128           32.4  78.7  66 2.200\n",
       "Honda Civic        30.4  75.7  52 1.615\n",
       "Toyota Corolla     33.9  71.1  65 1.835\n",
       "Toyota Corona      21.5 120.1  97 2.465\n",
       "Dodge Challenger   15.5 318.0 150 3.520\n",
       "AMC Javelin        15.2 304.0 150 3.435\n",
       "Camaro Z28         13.3 350.0 245 3.840\n",
       "Pontiac Firebird   19.2 400.0 175 3.845\n",
       "Fiat X1-9          27.3  79.0  66 1.935\n",
       "Porsche 914-2      26.0 120.3  91 2.140\n",
       "Lotus Europa       30.4  95.1 113 1.513\n",
       "Ford Pantera L     15.8 351.0 264 3.170\n",
       "Ferrari Dino       19.7 145.0 175 2.770\n",
       "Volvo 142E         21.4 121.0 109 2.780"
      ]
     },
     "metadata": {},
     "output_type": "display_data"
    }
   ],
   "source": [
    "input %>% filter()"
   ]
  },
  {
   "cell_type": "code",
   "execution_count": 11,
   "metadata": {},
   "outputs": [
    {
     "data": {
      "text/html": [
       "<table>\n",
       "<caption>A data.frame: 6 × 4</caption>\n",
       "<thead>\n",
       "\t<tr><th></th><th scope=col>mpg</th><th scope=col>disp</th><th scope=col>hp</th><th scope=col>wt</th></tr>\n",
       "\t<tr><th></th><th scope=col>&lt;dbl&gt;</th><th scope=col>&lt;dbl&gt;</th><th scope=col>&lt;dbl&gt;</th><th scope=col>&lt;dbl&gt;</th></tr>\n",
       "</thead>\n",
       "<tbody>\n",
       "\t<tr><th scope=row>Mazda RX4</th><td>21.0</td><td>160</td><td>110</td><td>2.620</td></tr>\n",
       "\t<tr><th scope=row>Mazda RX4 Wag</th><td>21.0</td><td>160</td><td>110</td><td>2.875</td></tr>\n",
       "\t<tr><th scope=row>Datsun 710</th><td>22.8</td><td>108</td><td> 93</td><td>2.320</td></tr>\n",
       "\t<tr><th scope=row>Hornet 4 Drive</th><td>21.4</td><td>258</td><td>110</td><td>3.215</td></tr>\n",
       "\t<tr><th scope=row>Hornet Sportabout</th><td>18.7</td><td>360</td><td>175</td><td>3.440</td></tr>\n",
       "\t<tr><th scope=row>Valiant</th><td>18.1</td><td>225</td><td>105</td><td>3.460</td></tr>\n",
       "</tbody>\n",
       "</table>\n"
      ],
      "text/latex": [
       "A data.frame: 6 × 4\n",
       "\\begin{tabular}{r|llll}\n",
       "  & mpg & disp & hp & wt\\\\\n",
       "  & <dbl> & <dbl> & <dbl> & <dbl>\\\\\n",
       "\\hline\n",
       "\tMazda RX4 & 21.0 & 160 & 110 & 2.620\\\\\n",
       "\tMazda RX4 Wag & 21.0 & 160 & 110 & 2.875\\\\\n",
       "\tDatsun 710 & 22.8 & 108 &  93 & 2.320\\\\\n",
       "\tHornet 4 Drive & 21.4 & 258 & 110 & 3.215\\\\\n",
       "\tHornet Sportabout & 18.7 & 360 & 175 & 3.440\\\\\n",
       "\tValiant & 18.1 & 225 & 105 & 3.460\\\\\n",
       "\\end{tabular}\n"
      ],
      "text/markdown": [
       "\n",
       "A data.frame: 6 × 4\n",
       "\n",
       "| <!--/--> | mpg &lt;dbl&gt; | disp &lt;dbl&gt; | hp &lt;dbl&gt; | wt &lt;dbl&gt; |\n",
       "|---|---|---|---|---|\n",
       "| Mazda RX4 | 21.0 | 160 | 110 | 2.620 |\n",
       "| Mazda RX4 Wag | 21.0 | 160 | 110 | 2.875 |\n",
       "| Datsun 710 | 22.8 | 108 |  93 | 2.320 |\n",
       "| Hornet 4 Drive | 21.4 | 258 | 110 | 3.215 |\n",
       "| Hornet Sportabout | 18.7 | 360 | 175 | 3.440 |\n",
       "| Valiant | 18.1 | 225 | 105 | 3.460 |\n",
       "\n"
      ],
      "text/plain": [
       "                  mpg  disp hp  wt   \n",
       "Mazda RX4         21.0 160  110 2.620\n",
       "Mazda RX4 Wag     21.0 160  110 2.875\n",
       "Datsun 710        22.8 108   93 2.320\n",
       "Hornet 4 Drive    21.4 258  110 3.215\n",
       "Hornet Sportabout 18.7 360  175 3.440\n",
       "Valiant           18.1 225  105 3.460"
      ]
     },
     "metadata": {},
     "output_type": "display_data"
    }
   ],
   "source": [
    "head(input)"
   ]
  },
  {
   "cell_type": "code",
   "execution_count": 12,
   "metadata": {},
   "outputs": [],
   "source": [
    "vars <- c('disp','hp','wt')"
   ]
  },
  {
   "cell_type": "code",
   "execution_count": 13,
   "metadata": {},
   "outputs": [
    {
     "name": "stdout",
     "output_type": "stream",
     "text": [
      "[1] \"disp & mpg -0.829038898463271\"\n",
      "[1] \"hp & mpg -0.799721338062536\"\n",
      "[1] \"wt & mpg -0.883059645554251\"\n"
     ]
    }
   ],
   "source": [
    "for (i in vars){\n",
    "    print(paste(i,'&','mpg',cor(input$mpg,input[i])))\n",
    "}"
   ]
  },
  {
   "cell_type": "markdown",
   "metadata": {},
   "source": [
    "- features and target have inversed relationship\n"
   ]
  },
  {
   "cell_type": "code",
   "execution_count": 14,
   "metadata": {},
   "outputs": [
    {
     "name": "stdout",
     "output_type": "stream",
     "text": [
      " [1] 17  5  1 25 10  4 18 29 15  7 24 28 14 19 26  2  3  9 12 16 23 20 11\n",
      "[1] 23\n",
      "[1] 6\n"
     ]
    }
   ],
   "source": [
    "set.seed(42)\n",
    "trainingRowIndex <- sample(1:nrow(input), 0.8*nrow(input))\n",
    "print(trainingRowIndex)\n",
    "trainingData <- input[trainingRowIndex,]\n",
    "testData <- input[-trainingRowIndex,]\n",
    "print(nrow(trainingData))\n",
    "print(nrow(testData))"
   ]
  },
  {
   "cell_type": "code",
   "execution_count": 15,
   "metadata": {},
   "outputs": [
    {
     "name": "stdout",
     "output_type": "stream",
     "text": [
      "[1] \"disp\" \"hp\"   \"wt\"  \n"
     ]
    }
   ],
   "source": [
    "print(vars)"
   ]
  },
  {
   "cell_type": "code",
   "execution_count": 16,
   "metadata": {},
   "outputs": [
    {
     "data": {
      "text/plain": [
       "\n",
       "Call:\n",
       "lm(formula = mpg ~ disp + hp + wt, data = trainingData)\n",
       "\n",
       "Coefficients:\n",
       "(Intercept)         disp           hp           wt  \n",
       "   41.14944      0.01320     -0.05281     -5.22157  \n"
      ]
     },
     "metadata": {},
     "output_type": "display_data"
    }
   ],
   "source": [
    "lmMod <- lm(mpg~disp+hp+wt, data=trainingData)\n",
    "lmMod"
   ]
  },
  {
   "cell_type": "code",
   "execution_count": 17,
   "metadata": {},
   "outputs": [],
   "source": [
    "iPred <- predict(lmMod, testData)\n",
    "# iPred"
   ]
  },
  {
   "cell_type": "code",
   "execution_count": 18,
   "metadata": {},
   "outputs": [
    {
     "name": "stdout",
     "output_type": "stream",
     "text": [
      "[1] \"mse train:  4.9035236695173\"\n"
     ]
    }
   ],
   "source": [
    "mse <- mean(lmMod$residuals^2)\n",
    "print(paste('mse train: ',mse))"
   ]
  },
  {
   "cell_type": "code",
   "execution_count": 19,
   "metadata": {},
   "outputs": [
    {
     "name": "stdout",
     "output_type": "stream",
     "text": [
      "[1] \"mse in test:  4.49282285889091\"\n"
     ]
    }
   ],
   "source": [
    "mse_test <- mean((testData$mpg - iPred)^2)\n",
    "print(paste('mse in test: ',mse_test))"
   ]
  },
  {
   "cell_type": "code",
   "execution_count": 20,
   "metadata": {},
   "outputs": [],
   "source": [
    "iPred_train <- predict(lmMod, trainingData)\n",
    "# iPred_train"
   ]
  },
  {
   "cell_type": "code",
   "execution_count": 21,
   "metadata": {},
   "outputs": [],
   "source": [
    "rsquare_train <- 1- sum((trainingData$mpg - iPred_train)^2)/\n",
    " sum((trainingData$mpg - mean(trainingData$mpg))^2)"
   ]
  },
  {
   "cell_type": "code",
   "execution_count": 22,
   "metadata": {},
   "outputs": [],
   "source": [
    "rsquare_test <- 1- sum((testData$mpg - iPred)^2) /\n",
    "sum((testData$mpg - mean(testData$mpg))^2)"
   ]
  },
  {
   "cell_type": "code",
   "execution_count": 23,
   "metadata": {},
   "outputs": [
    {
     "data": {
      "text/html": [
       "1.354510973478"
      ],
      "text/latex": [
       "1.354510973478"
      ],
      "text/markdown": [
       "1.354510973478"
      ],
      "text/plain": [
       "[1] 1.354511"
      ]
     },
     "metadata": {},
     "output_type": "display_data"
    }
   ],
   "source": [
    "rsquare_train/rsquare_test "
   ]
  },
  {
   "cell_type": "code",
   "execution_count": 24,
   "metadata": {},
   "outputs": [
    {
     "data": {
      "text/html": [
       "0.634209415111671"
      ],
      "text/latex": [
       "0.634209415111671"
      ],
      "text/markdown": [
       "0.634209415111671"
      ],
      "text/plain": [
       "[1] 0.6342094"
      ]
     },
     "metadata": {},
     "output_type": "display_data"
    }
   ],
   "source": [
    "rsquare_test"
   ]
  },
  {
   "cell_type": "code",
   "execution_count": 25,
   "metadata": {},
   "outputs": [
    {
     "data": {
      "text/html": [
       "0.85904361225182"
      ],
      "text/latex": [
       "0.85904361225182"
      ],
      "text/markdown": [
       "0.85904361225182"
      ],
      "text/plain": [
       "[1] 0.8590436"
      ]
     },
     "metadata": {},
     "output_type": "display_data"
    }
   ],
   "source": [
    "rsquare_train"
   ]
  },
  {
   "cell_type": "markdown",
   "metadata": {},
   "source": [
    "- RSquare test & RSquare train > 92% \n",
    "- RSquare train ~ RSquare test Model non overfiting\n",
    "- MSE test = 0.2171 Mean of Square Error very low"
   ]
  },
  {
   "cell_type": "code",
   "execution_count": 26,
   "metadata": {},
   "outputs": [
    {
     "name": "stdout",
     "output_type": "stream",
     "text": [
      "\n",
      "Call:\n",
      "lm(formula = mpg ~ disp + hp + wt, data = trainingData)\n",
      "\n",
      "Residuals:\n",
      "    Min      1Q  Median      3Q     Max \n",
      "-3.5460 -1.2036 -0.3469  1.2579  5.1846 \n",
      "\n",
      "Coefficients:\n",
      "            Estimate Std. Error t value Pr(>|t|)    \n",
      "(Intercept) 41.14944    2.34868  17.520 3.48e-13 ***\n",
      "disp         0.01320    0.01101   1.199 0.245304    \n",
      "hp          -0.05281    0.02003  -2.637 0.016260 *  \n",
      "wt          -5.22157    1.22671  -4.257 0.000427 ***\n",
      "---\n",
      "Signif. codes:  0 '***' 0.001 '**' 0.01 '*' 0.05 '.' 0.1 ' ' 1\n",
      "\n",
      "Residual standard error: 2.436 on 19 degrees of freedom\n",
      "Multiple R-squared:  0.859,\tAdjusted R-squared:  0.8368 \n",
      "F-statistic:  38.6 on 3 and 19 DF,  p-value: 2.783e-08\n",
      "\n"
     ]
    }
   ],
   "source": [
    "print(summary(lmMod))"
   ]
  },
  {
   "cell_type": "code",
   "execution_count": 27,
   "metadata": {},
   "outputs": [
    {
     "ename": "ERROR",
     "evalue": "Error in eval(expr, envir, enclos): object 'STOP' not found\n",
     "output_type": "error",
     "traceback": [
      "Error in eval(expr, envir, enclos): object 'STOP' not found\nTraceback:\n"
     ]
    }
   ],
   "source": [
    "STOP"
   ]
  },
  {
   "cell_type": "code",
   "execution_count": 32,
   "metadata": {},
   "outputs": [],
   "source": [
    "# print(coef(lmMod))\n",
    "# beta_width <- coef(lmMod)['mpg']\n",
    "# # beta_width"
   ]
  },
  {
   "cell_type": "code",
   "execution_count": 36,
   "metadata": {},
   "outputs": [],
   "source": [
    "intercept <- coef(lmMod)['(Intercept)']"
   ]
  },
  {
   "cell_type": "code",
   "execution_count": 37,
   "metadata": {},
   "outputs": [
    {
     "data": {
      "text/html": [
       "<strong>(Intercept):</strong> 41.1494441596713"
      ],
      "text/latex": [
       "\\textbf{(Intercept):} 41.1494441596713"
      ],
      "text/markdown": [
       "**(Intercept):** 41.1494441596713"
      ],
      "text/plain": [
       "(Intercept) \n",
       "   41.14944 "
      ]
     },
     "metadata": {},
     "output_type": "display_data"
    }
   ],
   "source": [
    "intercept"
   ]
  },
  {
   "cell_type": "code",
   "execution_count": 38,
   "metadata": {},
   "outputs": [],
   "source": [
    "mdisp <- coef(lmMod)[2]\n",
    "mhp <- coef(lmMod)[3]\n",
    "mwt <- coef(lmMod)[4]"
   ]
  },
  {
   "cell_type": "code",
   "execution_count": 39,
   "metadata": {},
   "outputs": [],
   "source": [
    "x = c(221,102,2.91)"
   ]
  },
  {
   "cell_type": "code",
   "execution_count": 40,
   "metadata": {},
   "outputs": [],
   "source": [
    "y <- intercept + mdisp*x[1] + mhp*x[2] + mwt*x[3]"
   ]
  },
  {
   "cell_type": "code",
   "execution_count": 43,
   "metadata": {},
   "outputs": [],
   "source": [
    "# y1 <- predict(lmMod, data.frame(mpg=x))"
   ]
  },
  {
   "cell_type": "code",
   "execution_count": null,
   "metadata": {},
   "outputs": [],
   "source": [
    "print(y1)"
   ]
  },
  {
   "cell_type": "code",
   "execution_count": null,
   "metadata": {},
   "outputs": [],
   "source": [
    "plot()"
   ]
  },
  {
   "cell_type": "code",
   "execution_count": null,
   "metadata": {},
   "outputs": [],
   "source": []
  }
 ],
 "metadata": {
  "kernelspec": {
   "display_name": "R",
   "language": "R",
   "name": "ir"
  },
  "language_info": {
   "codemirror_mode": "r",
   "file_extension": ".r",
   "mimetype": "text/x-r-source",
   "name": "R",
   "pygments_lexer": "r",
   "version": "3.6.0"
  }
 },
 "nbformat": 4,
 "nbformat_minor": 4
}

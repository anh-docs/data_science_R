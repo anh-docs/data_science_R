{
 "cells": [
  {
   "cell_type": "code",
   "execution_count": 1,
   "metadata": {},
   "outputs": [
    {
     "name": "stderr",
     "output_type": "stream",
     "text": [
      "Warning message:\n",
      "\"package 'tidyverse' was built under R version 3.6.3\"\n",
      "-- \u001b[1mAttaching packages\u001b[22m ------------------------------------------------------------------------------- tidyverse 1.3.0 --\n",
      "\n",
      "\u001b[32mv\u001b[39m \u001b[34mggplot2\u001b[39m 3.3.3     \u001b[32mv\u001b[39m \u001b[34mpurrr  \u001b[39m 0.3.4\n",
      "\u001b[32mv\u001b[39m \u001b[34mtibble \u001b[39m 3.0.4     \u001b[32mv\u001b[39m \u001b[34mdplyr  \u001b[39m 1.0.2\n",
      "\u001b[32mv\u001b[39m \u001b[34mtidyr  \u001b[39m 1.1.2     \u001b[32mv\u001b[39m \u001b[34mstringr\u001b[39m 1.4.0\n",
      "\u001b[32mv\u001b[39m \u001b[34mreadr  \u001b[39m 1.3.1     \u001b[32mv\u001b[39m \u001b[34mforcats\u001b[39m 0.4.0\n",
      "\n",
      "Warning message:\n",
      "\"package 'ggplot2' was built under R version 3.6.3\"\n",
      "Warning message:\n",
      "\"package 'tibble' was built under R version 3.6.3\"\n",
      "Warning message:\n",
      "\"package 'tidyr' was built under R version 3.6.3\"\n",
      "Warning message:\n",
      "\"package 'purrr' was built under R version 3.6.3\"\n",
      "Warning message:\n",
      "\"package 'dplyr' was built under R version 3.6.3\"\n",
      "-- \u001b[1mConflicts\u001b[22m ---------------------------------------------------------------------------------- tidyverse_conflicts() --\n",
      "\u001b[31mx\u001b[39m \u001b[34mdplyr\u001b[39m::\u001b[32mfilter()\u001b[39m masks \u001b[34mstats\u001b[39m::filter()\n",
      "\u001b[31mx\u001b[39m \u001b[34mdplyr\u001b[39m::\u001b[32mlag()\u001b[39m    masks \u001b[34mstats\u001b[39m::lag()\n",
      "\n",
      "Warning message:\n",
      "\"package 'Amelia' was built under R version 3.6.1\"\n",
      "Loading required package: Rcpp\n",
      "\n",
      "## \n",
      "## Amelia II: Multiple Imputation\n",
      "## (Version 1.7.5, built: 2018-05-07)\n",
      "## Copyright (C) 2005-2021 James Honaker, Gary King and Matthew Blackwell\n",
      "## Refer to http://gking.harvard.edu/amelia/ for more information\n",
      "## \n",
      "\n",
      "Warning message:\n",
      "\"package 'e1071' was built under R version 3.6.3\"\n",
      "Warning message:\n",
      "\"package 'GGally' was built under R version 3.6.3\"\n",
      "Registered S3 method overwritten by 'GGally':\n",
      "  method from   \n",
      "  +.gg   ggplot2\n",
      "\n",
      "Warning message:\n",
      "\"package 'ggExtra' was built under R version 3.6.3\"\n",
      "Warning message:\n",
      "\"package 'plot3D' was built under R version 3.6.1\"\n"
     ]
    }
   ],
   "source": [
    "library('tidyverse')\n",
    "library('tidyr')\n",
    "library('ggplot2')\n",
    "library('Amelia')\n",
    "library(\"e1071\")\n",
    "library('GGally')\n",
    "library('ggExtra')\n",
    "library(\"plot3D\")"
   ]
  },
  {
   "cell_type": "code",
   "execution_count": 2,
   "metadata": {},
   "outputs": [],
   "source": [
    "data <- read.csv('Du lieu cung cap/children_lung.csv')"
   ]
  },
  {
   "cell_type": "code",
   "execution_count": 3,
   "metadata": {},
   "outputs": [
    {
     "data": {
      "text/html": [
       "<table>\n",
       "<caption>A data.frame: 6 × 5</caption>\n",
       "<thead>\n",
       "\t<tr><th></th><th scope=col>age</th><th scope=col>FEV</th><th scope=col>ht</th><th scope=col>sex</th><th scope=col>smoke</th></tr>\n",
       "\t<tr><th></th><th scope=col>&lt;dbl&gt;</th><th scope=col>&lt;dbl&gt;</th><th scope=col>&lt;dbl&gt;</th><th scope=col>&lt;int&gt;</th><th scope=col>&lt;int&gt;</th></tr>\n",
       "</thead>\n",
       "<tbody>\n",
       "\t<tr><th scope=row>1</th><td>9</td><td>1.708</td><td>57.0</td><td>0</td><td>0</td></tr>\n",
       "\t<tr><th scope=row>2</th><td>8</td><td>1.724</td><td>67.5</td><td>0</td><td>0</td></tr>\n",
       "\t<tr><th scope=row>3</th><td>7</td><td>1.720</td><td>54.5</td><td>0</td><td>0</td></tr>\n",
       "\t<tr><th scope=row>4</th><td>9</td><td>1.558</td><td>53.0</td><td>1</td><td>0</td></tr>\n",
       "\t<tr><th scope=row>5</th><td>9</td><td>1.895</td><td>57.0</td><td>1</td><td>0</td></tr>\n",
       "\t<tr><th scope=row>6</th><td>8</td><td>2.336</td><td>61.0</td><td>0</td><td>0</td></tr>\n",
       "</tbody>\n",
       "</table>\n"
      ],
      "text/latex": [
       "A data.frame: 6 × 5\n",
       "\\begin{tabular}{r|lllll}\n",
       "  & age & FEV & ht & sex & smoke\\\\\n",
       "  & <dbl> & <dbl> & <dbl> & <int> & <int>\\\\\n",
       "\\hline\n",
       "\t1 & 9 & 1.708 & 57.0 & 0 & 0\\\\\n",
       "\t2 & 8 & 1.724 & 67.5 & 0 & 0\\\\\n",
       "\t3 & 7 & 1.720 & 54.5 & 0 & 0\\\\\n",
       "\t4 & 9 & 1.558 & 53.0 & 1 & 0\\\\\n",
       "\t5 & 9 & 1.895 & 57.0 & 1 & 0\\\\\n",
       "\t6 & 8 & 2.336 & 61.0 & 0 & 0\\\\\n",
       "\\end{tabular}\n"
      ],
      "text/markdown": [
       "\n",
       "A data.frame: 6 × 5\n",
       "\n",
       "| <!--/--> | age &lt;dbl&gt; | FEV &lt;dbl&gt; | ht &lt;dbl&gt; | sex &lt;int&gt; | smoke &lt;int&gt; |\n",
       "|---|---|---|---|---|---|\n",
       "| 1 | 9 | 1.708 | 57.0 | 0 | 0 |\n",
       "| 2 | 8 | 1.724 | 67.5 | 0 | 0 |\n",
       "| 3 | 7 | 1.720 | 54.5 | 0 | 0 |\n",
       "| 4 | 9 | 1.558 | 53.0 | 1 | 0 |\n",
       "| 5 | 9 | 1.895 | 57.0 | 1 | 0 |\n",
       "| 6 | 8 | 2.336 | 61.0 | 0 | 0 |\n",
       "\n"
      ],
      "text/plain": [
       "  age FEV   ht   sex smoke\n",
       "1 9   1.708 57.0 0   0    \n",
       "2 8   1.724 67.5 0   0    \n",
       "3 7   1.720 54.5 0   0    \n",
       "4 9   1.558 53.0 1   0    \n",
       "5 9   1.895 57.0 1   0    \n",
       "6 8   2.336 61.0 0   0    "
      ]
     },
     "metadata": {},
     "output_type": "display_data"
    }
   ],
   "source": [
    "head(data)"
   ]
  },
  {
   "cell_type": "code",
   "execution_count": 4,
   "metadata": {},
   "outputs": [
    {
     "name": "stdout",
     "output_type": "stream",
     "text": [
      "[1] \"nrows:  654\"\n",
      "[1] \"ncols:  5\"\n"
     ]
    }
   ],
   "source": [
    "print(paste('nrows: ',nrow(data)))\n",
    "print(paste('ncols: ',ncol(data)))"
   ]
  },
  {
   "cell_type": "code",
   "execution_count": 5,
   "metadata": {},
   "outputs": [
    {
     "data": {
      "text/plain": [
       "      age             FEV               ht             sex        \n",
       " Min.   :1.458   Min.   : 0.791   Min.   :46.00   Min.   :0.0000  \n",
       " 1st Qu.:3.049   1st Qu.: 2.041   1st Qu.:53.50   1st Qu.:0.0000  \n",
       " Median :4.330   Median :59.000   Median :57.00   Median :0.0000  \n",
       " Mean   :5.205   Mean   :35.210   Mean   :56.92   Mean   :0.4984  \n",
       " 3rd Qu.:8.000   3rd Qu.:65.000   3rd Qu.:60.00   3rd Qu.:1.0000  \n",
       " Max.   :9.000   Max.   :74.000   Max.   :69.00   Max.   :1.0000  \n",
       "                                  NA's   :345     NA's   :345     \n",
       "     smoke       \n",
       " Min.   :0.0000  \n",
       " 1st Qu.:0.0000  \n",
       " Median :0.0000  \n",
       " Mean   :0.0032  \n",
       " 3rd Qu.:0.0000  \n",
       " Max.   :1.0000  \n",
       " NA's   :345     "
      ]
     },
     "metadata": {},
     "output_type": "display_data"
    }
   ],
   "source": [
    "summary(data)"
   ]
  },
  {
   "cell_type": "code",
   "execution_count": 6,
   "metadata": {},
   "outputs": [
    {
     "name": "stdout",
     "output_type": "stream",
     "text": [
      "'data.frame':\t654 obs. of  5 variables:\n",
      " $ age  : num  9 8 7 9 9 8 6 6 8 9 ...\n",
      " $ FEV  : num  1.71 1.72 1.72 1.56 1.9 ...\n",
      " $ ht   : num  57 67.5 54.5 53 57 61 58 56 58.5 60 ...\n",
      " $ sex  : int  0 0 0 1 1 0 0 0 0 0 ...\n",
      " $ smoke: int  0 0 0 0 0 0 0 0 0 0 ...\n"
     ]
    }
   ],
   "source": [
    "str(data)"
   ]
  },
  {
   "cell_type": "code",
   "execution_count": 7,
   "metadata": {},
   "outputs": [
    {
     "data": {
      "image/png": "[encoded data removed]",
      "text/plain": [
       "Plot with title \"Missing value vs observed\""
      ]
     },
     "metadata": {
      "image/png": {
       "height": 420,
       "width": 420
      }
     },
     "output_type": "display_data"
    }
   ],
   "source": [
    "#3.\n",
    "missmap(data, main='Missing value vs observed')"
   ]
  },
  {
   "cell_type": "markdown",
   "metadata": {},
   "source": [
    "- Dữ liệu thiếu ở các cột Sex, Smoke là các giá trị nhị phân (0,1) không thể thay thế được\n",
    "- Chỉ thay thế missing value tại cột ht, bằng giá trị median bỏ số lượng mẫu nhỏ và không chịu ảnh hưởng bới Outliers"
   ]
  },
  {
   "cell_type": "code",
   "execution_count": 8,
   "metadata": {},
   "outputs": [
    {
     "name": "stdout",
     "output_type": "stream",
     "text": [
      "   ht   sex smoke \n",
      "  345   345   345 \n",
      "[1] \"**********************************************\"\n",
      "      count_missings missing\n",
      "ht               345    0.33\n",
      "sex              345    0.33\n",
      "smoke            345    0.33\n"
     ]
    }
   ],
   "source": [
    "missing <- colSums(is.na(data))[colSums(is.na(data))>0]\n",
    "print(missing)\n",
    "missing <- as.data.frame(missing)\n",
    "missing$missing_percentage <- round(missing/sum(is.na(data)),2)\n",
    "colnames(missing) <- c('count_missings','missing_percentage')\n",
    "print('**********************************************')\n",
    "print(missing)"
   ]
  },
  {
   "cell_type": "code",
   "execution_count": 9,
   "metadata": {},
   "outputs": [
    {
     "name": "stdout",
     "output_type": "stream",
     "text": [
      "[1] \"Before replace NAs: \"\n",
      "   Min. 1st Qu.  Median    Mean 3rd Qu.    Max.    NA's \n",
      "  46.00   53.50   57.00   56.92   60.00   69.00     345 \n",
      "[1] \"After replace NAs with median \"\n",
      "   Min. 1st Qu.  Median    Mean 3rd Qu.    Max. \n",
      "  46.00   57.00   57.00   56.96   57.00   69.00 \n"
     ]
    }
   ],
   "source": [
    "print('Before replace NAs: ')\n",
    "print(summary(data$ht))\n",
    "data$ht[is.na(data$ht)] <- median(data$ht, na.rm=TRUE)\n",
    "print('After replace NAs with median ')\n",
    "print(summary(data$ht))"
   ]
  },
  {
   "cell_type": "code",
   "execution_count": 10,
   "metadata": {},
   "outputs": [
    {
     "data": {
      "image/png": "[encoded data removed]",
      "text/plain": [
       "Plot with title \"FEV\""
      ]
     },
     "metadata": {
      "image/png": {
       "height": 420,
       "width": 420
      }
     },
     "output_type": "display_data"
    }
   ],
   "source": [
    "par(mfrow=c(1,2))\n",
    "boxplot(data$age, main='age', \n",
    "  sub=paste('Outlier rows: ',toString(boxplot.stats(data$age)$out)))\n",
    "boxplot(data$FEV, main='FEV', \n",
    "  sub=paste('Outlier rows: ',toString(boxplot.stats(data$FEV)$out)))\n",
    "# boxplot(data$ht, main='ht', \n",
    "#   sub=paste('Outlier rows: ',toString(boxplot.stats(data$ht)$out)))"
   ]
  },
  {
   "cell_type": "code",
   "execution_count": 11,
   "metadata": {},
   "outputs": [
    {
     "name": "stderr",
     "output_type": "stream",
     "text": [
      "`geom_smooth()` using method = 'loess' and formula 'y ~ x'\n",
      "\n",
      "`geom_smooth()` using method = 'loess' and formula 'y ~ x'\n",
      "\n"
     ]
    },
    {
     "data": {
      "image/png": "[encoded data removed]",
      "text/plain": [
       "plot without title"
      ]
     },
     "metadata": {
      "image/png": {
       "height": 420,
       "width": 420
      }
     },
     "output_type": "display_data"
    }
   ],
   "source": [
    "#4. FEV & Age\n",
    "# 11.\n",
    "library('ggExtra')\n",
    "plot <- ggplot(data,aes(x=FEV, y=age)) + geom_point() + geom_smooth() \n",
    "ggMarginal(plot, type='hist', col='white', fill='blue')"
   ]
  },
  {
   "cell_type": "markdown",
   "metadata": {},
   "source": [
    "- Có sự phân cách rất rõ của FEV<10 và FEV>50\n",
    "- Chia dữ liệu 2 phần để phân tích"
   ]
  },
  {
   "cell_type": "code",
   "execution_count": 12,
   "metadata": {},
   "outputs": [],
   "source": [
    "#5. \n",
    "data_FEV_more_10 <- data %>% subset(FEV >10)\n",
    "data_FEV_less_10 <- data %>% subset(FEV <10)"
   ]
  },
  {
   "cell_type": "code",
   "execution_count": 13,
   "metadata": {},
   "outputs": [
    {
     "data": {
      "text/html": [
       "0.760779122600956"
      ],
      "text/latex": [
       "0.760779122600956"
      ],
      "text/markdown": [
       "0.760779122600956"
      ],
      "text/plain": [
       "[1] 0.7607791"
      ]
     },
     "metadata": {},
     "output_type": "display_data"
    }
   ],
   "source": [
    "cor(data_FEV_more_10$age, data_FEV_more_10$FEV)"
   ]
  },
  {
   "cell_type": "code",
   "execution_count": 14,
   "metadata": {},
   "outputs": [
    {
     "name": "stdout",
     "output_type": "stream",
     "text": [
      "[1] 276\n",
      "[1] 69\n"
     ]
    }
   ],
   "source": [
    "# 6\n",
    "set.seed(0) #\n",
    "trainingRowIndex <- sample(1:nrow(data_FEV_more_10), 0.8*nrow(data_FEV_more_10),replace=F)\n",
    "# print(trainingRowIndex)\n",
    "trainingData <- data_FEV_more_10[trainingRowIndex,]\n",
    "testData <- data_FEV_more_10[-trainingRowIndex,]\n",
    "print(nrow(trainingData))\n",
    "print(nrow(testData))"
   ]
  },
  {
   "cell_type": "code",
   "execution_count": 15,
   "metadata": {},
   "outputs": [
    {
     "data": {
      "text/plain": [
       "\n",
       "Call:\n",
       "lm(formula = FEV ~ age, data = trainingData)\n",
       "\n",
       "Coefficients:\n",
       "(Intercept)          age  \n",
       "     53.115        3.703  \n"
      ]
     },
     "metadata": {},
     "output_type": "display_data"
    }
   ],
   "source": [
    "lmMod <- lm(FEV~ age, data=trainingData)\n",
    "lmMod"
   ]
  },
  {
   "cell_type": "code",
   "execution_count": 16,
   "metadata": {},
   "outputs": [],
   "source": [
    "iPred <- predict(lmMod, testData)"
   ]
  },
  {
   "cell_type": "code",
   "execution_count": 17,
   "metadata": {},
   "outputs": [
    {
     "name": "stdout",
     "output_type": "stream",
     "text": [
      "[1] \"mse train:  5.88209602355006\"\n"
     ]
    }
   ],
   "source": [
    "mse <- mean(lmMod$residuals^2)\n",
    "print(paste('mse train: ',mse))"
   ]
  },
  {
   "cell_type": "code",
   "execution_count": 18,
   "metadata": {},
   "outputs": [
    {
     "name": "stdout",
     "output_type": "stream",
     "text": [
      "[1] \"mse in test:  5.90859881589691\"\n"
     ]
    }
   ],
   "source": [
    "mse_test <- mean((testData$FEV - iPred)^2)\n",
    "print(paste('mse in test: ',mse_test))"
   ]
  },
  {
   "cell_type": "code",
   "execution_count": 19,
   "metadata": {},
   "outputs": [
    {
     "data": {
      "text/html": [
       "0.565078438167308"
      ],
      "text/latex": [
       "0.565078438167308"
      ],
      "text/markdown": [
       "0.565078438167308"
      ],
      "text/plain": [
       "[1] 0.5650784"
      ]
     },
     "metadata": {},
     "output_type": "display_data"
    }
   ],
   "source": [
    "iPred_train <- predict(lmMod, trainingData)\n",
    "rsquare_train <- 1- sum((trainingData$FEV - iPred_train)^2)/\n",
    " sum((trainingData$FEV - mean(trainingData$FEV))^2)\n",
    "rsquare_train"
   ]
  },
  {
   "cell_type": "code",
   "execution_count": 20,
   "metadata": {},
   "outputs": [
    {
     "data": {
      "text/html": [
       "0.622675810491993"
      ],
      "text/latex": [
       "0.622675810491993"
      ],
      "text/markdown": [
       "0.622675810491993"
      ],
      "text/plain": [
       "[1] 0.6226758"
      ]
     },
     "metadata": {},
     "output_type": "display_data"
    }
   ],
   "source": [
    "rsquare_test <- 1- sum((testData$FEV - iPred)^2) /sum((testData$FEV - mean(testData$FEV))^2)\n",
    "rsquare_test"
   ]
  },
  {
   "cell_type": "markdown",
   "metadata": {},
   "source": [
    "# Simple Linear Regression predict FEV ~ age : 62.3%"
   ]
  },
  {
   "cell_type": "code",
   "execution_count": 21,
   "metadata": {},
   "outputs": [
    {
     "name": "stdout",
     "output_type": "stream",
     "text": [
      "(Intercept)         age \n",
      "  53.115086    3.703441 \n"
     ]
    }
   ],
   "source": [
    "print(coef(lmMod))\n",
    "beta_width <- coef(lmMod)['age']\n",
    "intercept <- coef(lmMod)['(Intercept)']"
   ]
  },
  {
   "cell_type": "code",
   "execution_count": 22,
   "metadata": {},
   "outputs": [
    {
     "name": "stdout",
     "output_type": "stream",
     "text": [
      "[1] 60.52197 64.22541 67.92885 71.63229\n"
     ]
    }
   ],
   "source": [
    "age_new <- c(2,3,4,5)\n",
    "FEV_new <- intercept + beta_width*age_new\n",
    "print(FEV_new)"
   ]
  },
  {
   "cell_type": "code",
   "execution_count": 23,
   "metadata": {},
   "outputs": [
    {
     "data": {
      "image/png": "[encoded data removed]",
      "text/plain": [
       "Plot with title \"FEV Regression\""
      ]
     },
     "metadata": {
      "image/png": {
       "height": 420,
       "width": 420
      }
     },
     "output_type": "display_data"
    }
   ],
   "source": [
    "plot(data_FEV_more_10$age, data_FEV_more_10$FEV,\n",
    "  main='FEV Regression',\n",
    "  xlab='age', ylab='FEV',\n",
    "  pch=18, frame=FALSE, col='blue')\n",
    "lines(age_new, FEV_new, col='red',type='o')\n",
    "abline(lmMod, data_FEV_more_10, col='green')\n",
    "legend('topleft', c('dataset','data_predict'), \n",
    "  cex=0.8, fill=c('blue','orange'))"
   ]
  },
  {
   "cell_type": "markdown",
   "metadata": {},
   "source": [
    "- Model dự doán khá tốt"
   ]
  },
  {
   "cell_type": "code",
   "execution_count": 24,
   "metadata": {},
   "outputs": [
    {
     "data": {
      "text/html": [
       "<table>\n",
       "<caption>A data.frame: 6 × 5</caption>\n",
       "<thead>\n",
       "\t<tr><th></th><th scope=col>age</th><th scope=col>FEV</th><th scope=col>ht</th><th scope=col>sex</th><th scope=col>smoke</th></tr>\n",
       "\t<tr><th></th><th scope=col>&lt;dbl&gt;</th><th scope=col>&lt;dbl&gt;</th><th scope=col>&lt;dbl&gt;</th><th scope=col>&lt;int&gt;</th><th scope=col>&lt;int&gt;</th></tr>\n",
       "</thead>\n",
       "<tbody>\n",
       "\t<tr><th scope=row>1</th><td>9</td><td>1.708</td><td>57.0</td><td>0</td><td>0</td></tr>\n",
       "\t<tr><th scope=row>2</th><td>8</td><td>1.724</td><td>67.5</td><td>0</td><td>0</td></tr>\n",
       "\t<tr><th scope=row>3</th><td>7</td><td>1.720</td><td>54.5</td><td>0</td><td>0</td></tr>\n",
       "\t<tr><th scope=row>4</th><td>9</td><td>1.558</td><td>53.0</td><td>1</td><td>0</td></tr>\n",
       "\t<tr><th scope=row>5</th><td>9</td><td>1.895</td><td>57.0</td><td>1</td><td>0</td></tr>\n",
       "\t<tr><th scope=row>6</th><td>8</td><td>2.336</td><td>61.0</td><td>0</td><td>0</td></tr>\n",
       "</tbody>\n",
       "</table>\n"
      ],
      "text/latex": [
       "A data.frame: 6 × 5\n",
       "\\begin{tabular}{r|lllll}\n",
       "  & age & FEV & ht & sex & smoke\\\\\n",
       "  & <dbl> & <dbl> & <dbl> & <int> & <int>\\\\\n",
       "\\hline\n",
       "\t1 & 9 & 1.708 & 57.0 & 0 & 0\\\\\n",
       "\t2 & 8 & 1.724 & 67.5 & 0 & 0\\\\\n",
       "\t3 & 7 & 1.720 & 54.5 & 0 & 0\\\\\n",
       "\t4 & 9 & 1.558 & 53.0 & 1 & 0\\\\\n",
       "\t5 & 9 & 1.895 & 57.0 & 1 & 0\\\\\n",
       "\t6 & 8 & 2.336 & 61.0 & 0 & 0\\\\\n",
       "\\end{tabular}\n"
      ],
      "text/markdown": [
       "\n",
       "A data.frame: 6 × 5\n",
       "\n",
       "| <!--/--> | age &lt;dbl&gt; | FEV &lt;dbl&gt; | ht &lt;dbl&gt; | sex &lt;int&gt; | smoke &lt;int&gt; |\n",
       "|---|---|---|---|---|---|\n",
       "| 1 | 9 | 1.708 | 57.0 | 0 | 0 |\n",
       "| 2 | 8 | 1.724 | 67.5 | 0 | 0 |\n",
       "| 3 | 7 | 1.720 | 54.5 | 0 | 0 |\n",
       "| 4 | 9 | 1.558 | 53.0 | 1 | 0 |\n",
       "| 5 | 9 | 1.895 | 57.0 | 1 | 0 |\n",
       "| 6 | 8 | 2.336 | 61.0 | 0 | 0 |\n",
       "\n"
      ],
      "text/plain": [
       "  age FEV   ht   sex smoke\n",
       "1 9   1.708 57.0 0   0    \n",
       "2 8   1.724 67.5 0   0    \n",
       "3 7   1.720 54.5 0   0    \n",
       "4 9   1.558 53.0 1   0    \n",
       "5 9   1.895 57.0 1   0    \n",
       "6 8   2.336 61.0 0   0    "
      ]
     },
     "metadata": {},
     "output_type": "display_data"
    }
   ],
   "source": [
    "#7.\n",
    "head(data_FEV_less_10)"
   ]
  },
  {
   "cell_type": "code",
   "execution_count": 25,
   "metadata": {},
   "outputs": [
    {
     "name": "stdout",
     "output_type": "stream",
     "text": [
      "[1] 247\n",
      "[1] 62\n"
     ]
    }
   ],
   "source": [
    "set.seed(0) #\n",
    "trainingRowIndex <- sample(1:nrow(data_FEV_less_10), 0.8*nrow(data_FEV_less_10),replace=F)\n",
    "# print(trainingRowIndex)\n",
    "trainingData <- data_FEV_less_10[trainingRowIndex,]\n",
    "testData <- data_FEV_less_10[-trainingRowIndex,]\n",
    "print(nrow(trainingData))\n",
    "print(nrow(testData))"
   ]
  },
  {
   "cell_type": "code",
   "execution_count": 26,
   "metadata": {},
   "outputs": [
    {
     "data": {
      "text/plain": [
       "\n",
       "Call:\n",
       "lm(formula = FEV ~ age + ht, data = trainingData)\n",
       "\n",
       "Coefficients:\n",
       "(Intercept)          age           ht  \n",
       "   -3.33869      0.01180      0.09301  \n"
      ]
     },
     "metadata": {},
     "output_type": "display_data"
    }
   ],
   "source": [
    "lmMod <- lm(FEV~age+ht, data=trainingData)\n",
    "lmMod"
   ]
  },
  {
   "cell_type": "code",
   "execution_count": 27,
   "metadata": {},
   "outputs": [],
   "source": [
    "iPred <- predict(lmMod, testData)"
   ]
  },
  {
   "cell_type": "code",
   "execution_count": 28,
   "metadata": {},
   "outputs": [
    {
     "name": "stdout",
     "output_type": "stream",
     "text": [
      "[1] \"mse train:  0.0942726000991734\"\n",
      "[1] \"mse in test:  0.0503121903834919\"\n"
     ]
    }
   ],
   "source": [
    "mse <- mean(lmMod$residuals^2)\n",
    "print(paste('mse train: ',mse))\n",
    "mse_test <- mean((testData$FEV - iPred)^2)\n",
    "print(paste('mse in test: ',mse_test))"
   ]
  },
  {
   "cell_type": "code",
   "execution_count": 29,
   "metadata": {},
   "outputs": [
    {
     "name": "stdout",
     "output_type": "stream",
     "text": [
      "[1] 0.6645329\n"
     ]
    }
   ],
   "source": [
    "iPred_train <- predict(lmMod, trainingData)\n",
    "rsquare_train <- 1- sum((trainingData$FEV - iPred_train)^2)/\n",
    "    sum((trainingData$FEV - mean(trainingData$FEV))^2)\n",
    "print(rsquare_train)"
   ]
  },
  {
   "cell_type": "code",
   "execution_count": 30,
   "metadata": {},
   "outputs": [
    {
     "name": "stdout",
     "output_type": "stream",
     "text": [
      "[1] 0.7050971\n"
     ]
    }
   ],
   "source": [
    "rsquare_test <- 1- sum((testData$FEV - iPred)^2) /\n",
    "    sum((testData$FEV - mean(testData$FEV))^2)\n",
    "print(rsquare_test)"
   ]
  },
  {
   "cell_type": "markdown",
   "metadata": {},
   "source": [
    "- Độ chính xác model khá cao >70%"
   ]
  },
  {
   "cell_type": "code",
   "execution_count": 31,
   "metadata": {},
   "outputs": [
    {
     "data": {
      "text/plain": [
       "\n",
       "Call:\n",
       "lm(formula = FEV ~ age + ht, data = trainingData)\n",
       "\n",
       "Residuals:\n",
       "     Min       1Q   Median       3Q      Max \n",
       "-1.30971 -0.19873  0.00004  0.19909  1.02203 \n",
       "\n",
       "Coefficients:\n",
       "            Estimate Std. Error t value Pr(>|t|)    \n",
       "(Intercept) -3.33869    0.29378 -11.364   <2e-16 ***\n",
       "age          0.01180    0.02110   0.559    0.577    \n",
       "ht           0.09301    0.00700  13.286   <2e-16 ***\n",
       "---\n",
       "Signif. codes:  0 '***' 0.001 '**' 0.01 '*' 0.05 '.' 0.1 ' ' 1\n",
       "\n",
       "Residual standard error: 0.3089 on 244 degrees of freedom\n",
       "Multiple R-squared:  0.6645,\tAdjusted R-squared:  0.6618 \n",
       "F-statistic: 241.7 on 2 and 244 DF,  p-value: < 2.2e-16\n"
      ]
     },
     "metadata": {},
     "output_type": "display_data"
    }
   ],
   "source": [
    "summary(lmMod)"
   ]
  },
  {
   "cell_type": "code",
   "execution_count": 32,
   "metadata": {},
   "outputs": [],
   "source": [
    "intercept <- coef(lmMod)['(Intercept)']\n",
    "age <- coef(lmMod)[2]\n",
    "ht <- coef(lmMod)[3]"
   ]
  },
  {
   "cell_type": "code",
   "execution_count": 33,
   "metadata": {},
   "outputs": [],
   "source": [
    "age_new = c(5,6,7,8,9)\n",
    "ht_new = c(49.5,55,57,60,62)"
   ]
  },
  {
   "cell_type": "code",
   "execution_count": 34,
   "metadata": {},
   "outputs": [
    {
     "name": "stdout",
     "output_type": "stream",
     "text": [
      "[1] 1.324176 1.847517 2.045333 2.336157 2.533973\n"
     ]
    }
   ],
   "source": [
    "FEV_predict_2 <- intercept + age*age_new + ht*ht_new\n",
    "print(FEV_predict_2)"
   ]
  },
  {
   "cell_type": "code",
   "execution_count": 35,
   "metadata": {},
   "outputs": [
    {
     "name": "stderr",
     "output_type": "stream",
     "text": [
      "Warning message:\n",
      "\"'newdata' had 1600 rows but variable found had 1 row\"\n"
     ]
    },
    {
     "data": {
      "text/html": [
       "<strong>null device:</strong> 1"
      ],
      "text/latex": [
       "\\textbf{null device:} 1"
      ],
      "text/markdown": [
       "**null device:** 1"
      ],
      "text/plain": [
       "null device \n",
       "          1 "
      ]
     },
     "metadata": {},
     "output_type": "display_data"
    },
    {
     "data": {
      "image/png": "[encoded data removed]",
      "text/plain": [
       "plot without title"
      ]
     },
     "metadata": {
      "image/png": {
       "height": 420,
       "width": 420
      }
     },
     "output_type": "display_data"
    }
   ],
   "source": [
    "# z = lm(x + y)\n",
    "x <- data_FEV_less_10$age\n",
    "y <- data_FEV_less_10$ht\n",
    "z <- data_FEV_less_10$FEV\n",
    "\n",
    "grid.lines = 40\n",
    "x.pred <- seq(min(x), max(x), length.out = grid.lines)\n",
    "y.pred <- seq(min(y), max(y), length.out = grid.lines)\n",
    "xy <- expand.grid( x = x.pred, y = y.pred)\n",
    "z.pred <- matrix(predict(lmMod, newdata = xy), \n",
    "                 nrow = grid.lines, ncol = grid.lines)\n",
    "\n",
    "# create the fitted points for droplines to the surface\n",
    "fitpoints <- predict(lmMod)\n",
    "\n",
    "# scatter plot with regression plane\n",
    "scatter3D(x, y, z, pch = 19, cex = 1,colvar = NULL, col=\"red\", \n",
    "          theta = 20, phi = 10, bty=\"b\",xlab = \"age\",ylab = \"ht\", zlab = \"FEV\")\n",
    "\n",
    "dev.off()"
   ]
  },
  {
   "cell_type": "markdown",
   "metadata": {},
   "source": [
    "- FEV được dự đoán khá tốt qua age & ht"
   ]
  },
  {
   "cell_type": "code",
   "execution_count": 36,
   "metadata": {},
   "outputs": [],
   "source": [
    "#done"
   ]
  }
 ],
 "metadata": {
  "kernelspec": {
   "display_name": "R",
   "language": "R",
   "name": "ir"
  },
  "language_info": {
   "codemirror_mode": "r",
   "file_extension": ".r",
   "mimetype": "text/x-r-source",
   "name": "R",
   "pygments_lexer": "r",
   "version": "3.6.0"
  }
 },
 "nbformat": 4,
 "nbformat_minor": 4
}

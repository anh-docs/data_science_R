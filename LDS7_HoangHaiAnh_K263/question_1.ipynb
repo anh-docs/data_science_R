{
 "cells": [
  {
   "cell_type": "code",
   "execution_count": 1,
   "metadata": {},
   "outputs": [
    {
     "name": "stderr",
     "output_type": "stream",
     "text": [
      "Warning message:\n",
      "\"package 'tidyverse' was built under R version 3.6.3\"\n",
      "-- \u001b[1mAttaching packages\u001b[22m ------------------------------------------------------------------------------- tidyverse 1.3.0 --\n",
      "\n",
      "\u001b[32mv\u001b[39m \u001b[34mggplot2\u001b[39m 3.3.3     \u001b[32mv\u001b[39m \u001b[34mpurrr  \u001b[39m 0.3.4\n",
      "\u001b[32mv\u001b[39m \u001b[34mtibble \u001b[39m 3.0.4     \u001b[32mv\u001b[39m \u001b[34mdplyr  \u001b[39m 1.0.2\n",
      "\u001b[32mv\u001b[39m \u001b[34mtidyr  \u001b[39m 1.1.2     \u001b[32mv\u001b[39m \u001b[34mstringr\u001b[39m 1.4.0\n",
      "\u001b[32mv\u001b[39m \u001b[34mreadr  \u001b[39m 1.3.1     \u001b[32mv\u001b[39m \u001b[34mforcats\u001b[39m 0.4.0\n",
      "\n",
      "Warning message:\n",
      "\"package 'ggplot2' was built under R version 3.6.3\"\n",
      "Warning message:\n",
      "\"package 'tibble' was built under R version 3.6.3\"\n",
      "Warning message:\n",
      "\"package 'tidyr' was built under R version 3.6.3\"\n",
      "Warning message:\n",
      "\"package 'purrr' was built under R version 3.6.3\"\n",
      "Warning message:\n",
      "\"package 'dplyr' was built under R version 3.6.3\"\n",
      "-- \u001b[1mConflicts\u001b[22m ---------------------------------------------------------------------------------- tidyverse_conflicts() --\n",
      "\u001b[31mx\u001b[39m \u001b[34mdplyr\u001b[39m::\u001b[32mfilter()\u001b[39m masks \u001b[34mstats\u001b[39m::filter()\n",
      "\u001b[31mx\u001b[39m \u001b[34mdplyr\u001b[39m::\u001b[32mlag()\u001b[39m    masks \u001b[34mstats\u001b[39m::lag()\n",
      "\n"
     ]
    }
   ],
   "source": [
    "library('tidyverse')\n",
    "library('ggplot2')"
   ]
  },
  {
   "cell_type": "code",
   "execution_count": 2,
   "metadata": {},
   "outputs": [],
   "source": [
    "data <- read.csv('Du lieu cung cap/houses_to_rent.csv')"
   ]
  },
  {
   "cell_type": "code",
   "execution_count": 3,
   "metadata": {},
   "outputs": [
    {
     "data": {
      "text/html": [
       "<table>\n",
       "<caption>A data.frame: 6 × 14</caption>\n",
       "<thead>\n",
       "\t<tr><th></th><th scope=col>X</th><th scope=col>city</th><th scope=col>area</th><th scope=col>rooms</th><th scope=col>bathroom</th><th scope=col>parking.spaces</th><th scope=col>floor</th><th scope=col>animal</th><th scope=col>furniture</th><th scope=col>hoa</th><th scope=col>rent.amount</th><th scope=col>property.tax</th><th scope=col>fire.insurance</th><th scope=col>total</th></tr>\n",
       "\t<tr><th></th><th scope=col>&lt;int&gt;</th><th scope=col>&lt;int&gt;</th><th scope=col>&lt;int&gt;</th><th scope=col>&lt;int&gt;</th><th scope=col>&lt;int&gt;</th><th scope=col>&lt;int&gt;</th><th scope=col>&lt;int&gt;</th><th scope=col>&lt;fct&gt;</th><th scope=col>&lt;fct&gt;</th><th scope=col>&lt;fct&gt;</th><th scope=col>&lt;fct&gt;</th><th scope=col>&lt;fct&gt;</th><th scope=col>&lt;fct&gt;</th><th scope=col>&lt;fct&gt;</th></tr>\n",
       "</thead>\n",
       "<tbody>\n",
       "\t<tr><th scope=row>1</th><td>0</td><td>1</td><td>240</td><td>3</td><td> 3</td><td>4</td><td>NA</td><td>acept    </td><td>furnished    </td><td>R$0    </td><td>R$8,000</td><td>R$1,000</td><td>R$121</td><td>R$9,121 </td></tr>\n",
       "\t<tr><th scope=row>2</th><td>1</td><td>0</td><td> 64</td><td>2</td><td> 1</td><td>1</td><td>10</td><td>acept    </td><td>not furnished</td><td>R$540  </td><td>R$820  </td><td>R$122  </td><td>R$11 </td><td>R$1,493 </td></tr>\n",
       "\t<tr><th scope=row>3</th><td>2</td><td>1</td><td>443</td><td>5</td><td> 5</td><td>4</td><td> 3</td><td>acept    </td><td>furnished    </td><td>R$4,172</td><td>R$7,000</td><td>R$1,417</td><td>R$89 </td><td>R$12,680</td></tr>\n",
       "\t<tr><th scope=row>4</th><td>3</td><td>1</td><td> 73</td><td>2</td><td>NA</td><td>1</td><td>12</td><td>acept    </td><td>not furnished</td><td>R$700  </td><td>R$1,250</td><td>R$150  </td><td>R$16 </td><td>R$2,116 </td></tr>\n",
       "\t<tr><th scope=row>5</th><td>4</td><td>1</td><td> 19</td><td>1</td><td>NA</td><td>0</td><td>NA</td><td>not acept</td><td>not furnished</td><td>R$0    </td><td>R$1,200</td><td>R$41   </td><td>R$16 </td><td>R$1,257 </td></tr>\n",
       "\t<tr><th scope=row>6</th><td>5</td><td>1</td><td> 13</td><td>1</td><td>NA</td><td>0</td><td> 2</td><td>acept    </td><td>not furnished</td><td>R$0    </td><td>R$2,200</td><td>R$42   </td><td>R$28 </td><td>R$2,270 </td></tr>\n",
       "</tbody>\n",
       "</table>\n"
      ],
      "text/latex": [
       "A data.frame: 6 × 14\n",
       "\\begin{tabular}{r|llllllllllllll}\n",
       "  & X & city & area & rooms & bathroom & parking.spaces & floor & animal & furniture & hoa & rent.amount & property.tax & fire.insurance & total\\\\\n",
       "  & <int> & <int> & <int> & <int> & <int> & <int> & <int> & <fct> & <fct> & <fct> & <fct> & <fct> & <fct> & <fct>\\\\\n",
       "\\hline\n",
       "\t1 & 0 & 1 & 240 & 3 &  3 & 4 & NA & acept     & furnished     & R\\$0     & R\\$8,000 & R\\$1,000 & R\\$121 & R\\$9,121 \\\\\n",
       "\t2 & 1 & 0 &  64 & 2 &  1 & 1 & 10 & acept     & not furnished & R\\$540   & R\\$820   & R\\$122   & R\\$11  & R\\$1,493 \\\\\n",
       "\t3 & 2 & 1 & 443 & 5 &  5 & 4 &  3 & acept     & furnished     & R\\$4,172 & R\\$7,000 & R\\$1,417 & R\\$89  & R\\$12,680\\\\\n",
       "\t4 & 3 & 1 &  73 & 2 & NA & 1 & 12 & acept     & not furnished & R\\$700   & R\\$1,250 & R\\$150   & R\\$16  & R\\$2,116 \\\\\n",
       "\t5 & 4 & 1 &  19 & 1 & NA & 0 & NA & not acept & not furnished & R\\$0     & R\\$1,200 & R\\$41    & R\\$16  & R\\$1,257 \\\\\n",
       "\t6 & 5 & 1 &  13 & 1 & NA & 0 &  2 & acept     & not furnished & R\\$0     & R\\$2,200 & R\\$42    & R\\$28  & R\\$2,270 \\\\\n",
       "\\end{tabular}\n"
      ],
      "text/markdown": [
       "\n",
       "A data.frame: 6 × 14\n",
       "\n",
       "| <!--/--> | X &lt;int&gt; | city &lt;int&gt; | area &lt;int&gt; | rooms &lt;int&gt; | bathroom &lt;int&gt; | parking.spaces &lt;int&gt; | floor &lt;int&gt; | animal &lt;fct&gt; | furniture &lt;fct&gt; | hoa &lt;fct&gt; | rent.amount &lt;fct&gt; | property.tax &lt;fct&gt; | fire.insurance &lt;fct&gt; | total &lt;fct&gt; |\n",
       "|---|---|---|---|---|---|---|---|---|---|---|---|---|---|---|\n",
       "| 1 | 0 | 1 | 240 | 3 |  3 | 4 | NA | acept     | furnished     | R$0     | R$8,000 | R$1,000 | R$121 | R$9,121  |\n",
       "| 2 | 1 | 0 |  64 | 2 |  1 | 1 | 10 | acept     | not furnished | R$540   | R$820   | R$122   | R$11  | R$1,493  |\n",
       "| 3 | 2 | 1 | 443 | 5 |  5 | 4 |  3 | acept     | furnished     | R$4,172 | R$7,000 | R$1,417 | R$89  | R$12,680 |\n",
       "| 4 | 3 | 1 |  73 | 2 | NA | 1 | 12 | acept     | not furnished | R$700   | R$1,250 | R$150   | R$16  | R$2,116  |\n",
       "| 5 | 4 | 1 |  19 | 1 | NA | 0 | NA | not acept | not furnished | R$0     | R$1,200 | R$41    | R$16  | R$1,257  |\n",
       "| 6 | 5 | 1 |  13 | 1 | NA | 0 |  2 | acept     | not furnished | R$0     | R$2,200 | R$42    | R$28  | R$2,270  |\n",
       "\n"
      ],
      "text/plain": [
       "  X city area rooms bathroom parking.spaces floor animal    furniture    \n",
       "1 0 1    240  3      3       4              NA    acept     furnished    \n",
       "2 1 0     64  2      1       1              10    acept     not furnished\n",
       "3 2 1    443  5      5       4               3    acept     furnished    \n",
       "4 3 1     73  2     NA       1              12    acept     not furnished\n",
       "5 4 1     19  1     NA       0              NA    not acept not furnished\n",
       "6 5 1     13  1     NA       0               2    acept     not furnished\n",
       "  hoa     rent.amount property.tax fire.insurance total   \n",
       "1 R$0     R$8,000     R$1,000      R$121          R$9,121 \n",
       "2 R$540   R$820       R$122        R$11           R$1,493 \n",
       "3 R$4,172 R$7,000     R$1,417      R$89           R$12,680\n",
       "4 R$700   R$1,250     R$150        R$16           R$2,116 \n",
       "5 R$0     R$1,200     R$41         R$16           R$1,257 \n",
       "6 R$0     R$2,200     R$42         R$28           R$2,270 "
      ]
     },
     "metadata": {},
     "output_type": "display_data"
    }
   ],
   "source": [
    "#1.\n",
    "head(data)"
   ]
  },
  {
   "cell_type": "code",
   "execution_count": 4,
   "metadata": {},
   "outputs": [
    {
     "data": {
      "text/html": [
       "<table>\n",
       "<caption>A data.frame: 6 × 14</caption>\n",
       "<thead>\n",
       "\t<tr><th></th><th scope=col>X</th><th scope=col>city</th><th scope=col>area</th><th scope=col>rooms</th><th scope=col>bathroom</th><th scope=col>parking.spaces</th><th scope=col>floor</th><th scope=col>animal</th><th scope=col>furniture</th><th scope=col>hoa</th><th scope=col>rent.amount</th><th scope=col>property.tax</th><th scope=col>fire.insurance</th><th scope=col>total</th></tr>\n",
       "\t<tr><th></th><th scope=col>&lt;int&gt;</th><th scope=col>&lt;int&gt;</th><th scope=col>&lt;int&gt;</th><th scope=col>&lt;int&gt;</th><th scope=col>&lt;int&gt;</th><th scope=col>&lt;int&gt;</th><th scope=col>&lt;int&gt;</th><th scope=col>&lt;fct&gt;</th><th scope=col>&lt;fct&gt;</th><th scope=col>&lt;fct&gt;</th><th scope=col>&lt;fct&gt;</th><th scope=col>&lt;fct&gt;</th><th scope=col>&lt;fct&gt;</th><th scope=col>&lt;fct&gt;</th></tr>\n",
       "</thead>\n",
       "<tbody>\n",
       "\t<tr><th scope=row>6075</th><td>6074</td><td>0</td><td> 28</td><td>1</td><td>1</td><td>0</td><td>NA</td><td>not acept</td><td>furnished    </td><td>R$0  </td><td>R$1,390</td><td>R$0  </td><td>R$18</td><td>R$1,408</td></tr>\n",
       "\t<tr><th scope=row>6076</th><td>6075</td><td>1</td><td> 50</td><td>2</td><td>1</td><td>1</td><td> 2</td><td>acept    </td><td>not furnished</td><td>R$420</td><td>R$1,150</td><td>R$0  </td><td>R$15</td><td>R$1,585</td></tr>\n",
       "\t<tr><th scope=row>6077</th><td>6076</td><td>1</td><td> 84</td><td>2</td><td>2</td><td>1</td><td>16</td><td>not acept</td><td>furnished    </td><td>R$768</td><td>R$2,900</td><td>R$63 </td><td>R$37</td><td>R$3,768</td></tr>\n",
       "\t<tr><th scope=row>6078</th><td>6077</td><td>0</td><td> 48</td><td>1</td><td>1</td><td>0</td><td>13</td><td>acept    </td><td>not furnished</td><td>R$250</td><td>R$950  </td><td>R$42 </td><td>R$13</td><td>R$1,255</td></tr>\n",
       "\t<tr><th scope=row>6079</th><td>6078</td><td>1</td><td>160</td><td>3</td><td>2</td><td>2</td><td>NA</td><td>not acept</td><td>not furnished</td><td>R$0  </td><td>R$3,500</td><td>R$250</td><td>R$53</td><td>R$3,803</td></tr>\n",
       "\t<tr><th scope=row>6080</th><td>6079</td><td>1</td><td> 60</td><td>2</td><td>1</td><td>1</td><td> 4</td><td>acept    </td><td>furnished    </td><td>R$489</td><td>R$1,900</td><td>R$0  </td><td>R$25</td><td>R$2,414</td></tr>\n",
       "</tbody>\n",
       "</table>\n"
      ],
      "text/latex": [
       "A data.frame: 6 × 14\n",
       "\\begin{tabular}{r|llllllllllllll}\n",
       "  & X & city & area & rooms & bathroom & parking.spaces & floor & animal & furniture & hoa & rent.amount & property.tax & fire.insurance & total\\\\\n",
       "  & <int> & <int> & <int> & <int> & <int> & <int> & <int> & <fct> & <fct> & <fct> & <fct> & <fct> & <fct> & <fct>\\\\\n",
       "\\hline\n",
       "\t6075 & 6074 & 0 &  28 & 1 & 1 & 0 & NA & not acept & furnished     & R\\$0   & R\\$1,390 & R\\$0   & R\\$18 & R\\$1,408\\\\\n",
       "\t6076 & 6075 & 1 &  50 & 2 & 1 & 1 &  2 & acept     & not furnished & R\\$420 & R\\$1,150 & R\\$0   & R\\$15 & R\\$1,585\\\\\n",
       "\t6077 & 6076 & 1 &  84 & 2 & 2 & 1 & 16 & not acept & furnished     & R\\$768 & R\\$2,900 & R\\$63  & R\\$37 & R\\$3,768\\\\\n",
       "\t6078 & 6077 & 0 &  48 & 1 & 1 & 0 & 13 & acept     & not furnished & R\\$250 & R\\$950   & R\\$42  & R\\$13 & R\\$1,255\\\\\n",
       "\t6079 & 6078 & 1 & 160 & 3 & 2 & 2 & NA & not acept & not furnished & R\\$0   & R\\$3,500 & R\\$250 & R\\$53 & R\\$3,803\\\\\n",
       "\t6080 & 6079 & 1 &  60 & 2 & 1 & 1 &  4 & acept     & furnished     & R\\$489 & R\\$1,900 & R\\$0   & R\\$25 & R\\$2,414\\\\\n",
       "\\end{tabular}\n"
      ],
      "text/markdown": [
       "\n",
       "A data.frame: 6 × 14\n",
       "\n",
       "| <!--/--> | X &lt;int&gt; | city &lt;int&gt; | area &lt;int&gt; | rooms &lt;int&gt; | bathroom &lt;int&gt; | parking.spaces &lt;int&gt; | floor &lt;int&gt; | animal &lt;fct&gt; | furniture &lt;fct&gt; | hoa &lt;fct&gt; | rent.amount &lt;fct&gt; | property.tax &lt;fct&gt; | fire.insurance &lt;fct&gt; | total &lt;fct&gt; |\n",
       "|---|---|---|---|---|---|---|---|---|---|---|---|---|---|---|\n",
       "| 6075 | 6074 | 0 |  28 | 1 | 1 | 0 | NA | not acept | furnished     | R$0   | R$1,390 | R$0   | R$18 | R$1,408 |\n",
       "| 6076 | 6075 | 1 |  50 | 2 | 1 | 1 |  2 | acept     | not furnished | R$420 | R$1,150 | R$0   | R$15 | R$1,585 |\n",
       "| 6077 | 6076 | 1 |  84 | 2 | 2 | 1 | 16 | not acept | furnished     | R$768 | R$2,900 | R$63  | R$37 | R$3,768 |\n",
       "| 6078 | 6077 | 0 |  48 | 1 | 1 | 0 | 13 | acept     | not furnished | R$250 | R$950   | R$42  | R$13 | R$1,255 |\n",
       "| 6079 | 6078 | 1 | 160 | 3 | 2 | 2 | NA | not acept | not furnished | R$0   | R$3,500 | R$250 | R$53 | R$3,803 |\n",
       "| 6080 | 6079 | 1 |  60 | 2 | 1 | 1 |  4 | acept     | furnished     | R$489 | R$1,900 | R$0   | R$25 | R$2,414 |\n",
       "\n"
      ],
      "text/plain": [
       "     X    city area rooms bathroom parking.spaces floor animal    furniture    \n",
       "6075 6074 0     28  1     1        0              NA    not acept furnished    \n",
       "6076 6075 1     50  2     1        1               2    acept     not furnished\n",
       "6077 6076 1     84  2     2        1              16    not acept furnished    \n",
       "6078 6077 0     48  1     1        0              13    acept     not furnished\n",
       "6079 6078 1    160  3     2        2              NA    not acept not furnished\n",
       "6080 6079 1     60  2     1        1               4    acept     furnished    \n",
       "     hoa   rent.amount property.tax fire.insurance total  \n",
       "6075 R$0   R$1,390     R$0          R$18           R$1,408\n",
       "6076 R$420 R$1,150     R$0          R$15           R$1,585\n",
       "6077 R$768 R$2,900     R$63         R$37           R$3,768\n",
       "6078 R$250 R$950       R$42         R$13           R$1,255\n",
       "6079 R$0   R$3,500     R$250        R$53           R$3,803\n",
       "6080 R$489 R$1,900     R$0          R$25           R$2,414"
      ]
     },
     "metadata": {},
     "output_type": "display_data"
    }
   ],
   "source": [
    "tail(data)"
   ]
  },
  {
   "cell_type": "code",
   "execution_count": 5,
   "metadata": {},
   "outputs": [
    {
     "name": "stdout",
     "output_type": "stream",
     "text": [
      "'data.frame':\t6080 obs. of  14 variables:\n",
      " $ X             : int  0 1 2 3 4 5 6 7 8 9 ...\n",
      " $ city          : int  1 0 1 1 1 1 1 1 1 1 ...\n",
      " $ area          : int  240 64 443 73 19 13 55 55 82 32 ...\n",
      " $ rooms         : int  3 2 5 2 1 1 1 2 3 1 ...\n",
      " $ bathroom      : int  3 1 5 NA NA NA NA NA NA NA ...\n",
      " $ parking.spaces: int  4 1 4 1 0 0 1 1 1 1 ...\n",
      " $ floor         : int  NA 10 3 12 NA 2 2 2 3 16 ...\n",
      " $ animal        : Factor w/ 2 levels \"acept\",\"not acept\": 1 1 1 1 2 1 1 1 1 1 ...\n",
      " $ furniture     : Factor w/ 2 levels \"furnished\",\"not furnished\": 1 2 1 2 2 2 1 2 1 2 ...\n",
      " $ hoa           : Factor w/ 1292 levels \"Incluso\",\"R$0\",..: 2 951 774 1091 2 2 348 1010 1186 944 ...\n",
      " $ rent.amount   : Factor w/ 1032 levels \"R$1,000\",\"R$1,008\",..: 949 980 894 69 55 399 780 84 349 549 ...\n",
      " $ property.tax  : Factor w/ 1036 levels \"Incluso\",\"R$0\",..: 4 227 124 258 621 632 580 838 212 2 ...\n",
      " $ fire.insurance: Factor w/ 190 levels \"R$10\",\"R$100\",..: 24 12 179 62 62 109 151 71 107 121 ...\n",
      " $ total         : Factor w/ 4069 levels \"R$1,001\",\"R$1,003\",..: 3859 236 713 1143 114 1238 3456 499 1664 2015 ...\n"
     ]
    }
   ],
   "source": [
    "str(data)"
   ]
  },
  {
   "cell_type": "code",
   "execution_count": 6,
   "metadata": {},
   "outputs": [
    {
     "data": {
      "text/plain": [
       "       X             city             area             rooms       \n",
       " Min.   :   0   Min.   :0.0000   Min.   :   10.0   Min.   : 1.000  \n",
       " 1st Qu.:1520   1st Qu.:1.0000   1st Qu.:   58.0   1st Qu.: 2.000  \n",
       " Median :3040   Median :1.0000   Median :  100.0   Median : 3.000  \n",
       " Mean   :3040   Mean   :0.8633   Mean   :  151.2   Mean   : 2.493  \n",
       " 3rd Qu.:4559   3rd Qu.:1.0000   3rd Qu.:  200.0   3rd Qu.: 3.000  \n",
       " Max.   :6079   Max.   :1.0000   Max.   :24606.0   Max.   :10.000  \n",
       "                                 NA's   :17                        \n",
       "    bathroom      parking.spaces       floor              animal    \n",
       " Min.   : 1.000   Min.   : 0.000   Min.   : 1.000   acept    :4666  \n",
       " 1st Qu.: 1.000   1st Qu.: 1.000   1st Qu.: 3.000   not acept:1414  \n",
       " Median : 2.000   Median : 1.000   Median : 6.000                   \n",
       " Mean   : 2.347   Mean   : 1.756   Mean   : 7.621                   \n",
       " 3rd Qu.: 3.000   3rd Qu.: 2.000   3rd Qu.:11.000                   \n",
       " Max.   :10.000   Max.   :12.000   Max.   :99.000                   \n",
       " NA's   :121                       NA's   :1555                     \n",
       "         furniture          hoa         rent.amount    property.tax \n",
       " furnished    :1582   R$0     :1291   R$15,000: 155   R$0    :1053  \n",
       " not furnished:4498   Sem info: 119   R$3,000 : 140   R$84   :  83  \n",
       "                      Incluso :  83   R$3,500 : 135   R$100  :  82  \n",
       "                      R$1,000 :  82   R$2,000 : 132   R$50   :  79  \n",
       "                      R$1,200 :  71   R$2,500 : 127   R$250  :  77  \n",
       "                      R$1,100 :  70   R$1,800 : 124   R$417  :  58  \n",
       "                      (Other) :4364   (Other) :5267   (Other):4648  \n",
       " fire.insurance     total     \n",
       " R$23   : 163   R$2,555:  35  \n",
       " R$26   : 161   R$4,089:  22  \n",
       " R$16   : 149   R$1,572:   9  \n",
       " R$39   : 142   R$1,675:   9  \n",
       " R$20   : 136   R$2,031:   9  \n",
       " R$32   : 132   R$8,590:   9  \n",
       " (Other):5197   (Other):5987  "
      ]
     },
     "metadata": {},
     "output_type": "display_data"
    }
   ],
   "source": [
    "summary(data)"
   ]
  },
  {
   "cell_type": "code",
   "execution_count": 7,
   "metadata": {},
   "outputs": [
    {
     "name": "stdout",
     "output_type": "stream",
     "text": [
      "[1] \"Number of rows  6080 ; Number of columns  14\"\n"
     ]
    }
   ],
   "source": [
    "#2.\n",
    "print(paste('Number of rows ',toString(nrow(data)),'; Number of columns ',toString(ncol(data))))"
   ]
  },
  {
   "cell_type": "code",
   "execution_count": 8,
   "metadata": {},
   "outputs": [
    {
     "name": "stderr",
     "output_type": "stream",
     "text": [
      "`summarise()` ungrouping output (override with `.groups` argument)\n",
      "\n"
     ]
    },
    {
     "name": "stdout",
     "output_type": "stream",
     "text": [
      "\u001b[90m# A tibble: 5 x 2\u001b[39m\n",
      "  rooms count\n",
      "  \u001b[3m\u001b[90m<int>\u001b[39m\u001b[23m \u001b[3m\u001b[90m<int>\u001b[39m\u001b[23m\n",
      "\u001b[90m1\u001b[39m     3  \u001b[4m1\u001b[24m994\n",
      "\u001b[90m2\u001b[39m     2  \u001b[4m1\u001b[24m621\n",
      "\u001b[90m3\u001b[39m     1  \u001b[4m1\u001b[24m398\n",
      "\u001b[90m4\u001b[39m     4   879\n",
      "\u001b[90m5\u001b[39m     5   143\n"
     ]
    }
   ],
   "source": [
    "#3.\n",
    "group <- group_by(data, rooms)\n",
    "summary <- summarize(group, count = n())\n",
    "top_5_rooms <- head(summary,5)\n",
    "print(arrange(top_5_rooms,desc(count)))"
   ]
  },
  {
   "cell_type": "code",
   "execution_count": 9,
   "metadata": {
    "scrolled": true
   },
   "outputs": [
    {
     "name": "stdout",
     "output_type": "stream",
     "text": [
      "    area bathroom    floor \n",
      "      17      121     1555 \n",
      "[1] \"**********************************************\"\n",
      "         count_missings missing\n",
      "area                 17    0.01\n",
      "bathroom            121    0.07\n",
      "floor              1555    0.92\n"
     ]
    }
   ],
   "source": [
    "#4.\n",
    "missing <- colSums(is.na(data))[colSums(is.na(data))>0]\n",
    "print(missing)\n",
    "missing <- as.data.frame(missing)\n",
    "missing$missing_percentage <- round(missing/sum(is.na(data)),2)\n",
    "colnames(missing) <- c('count_missings','missing_percentage')\n",
    "print('**********************************************')\n",
    "print(missing)"
   ]
  },
  {
   "cell_type": "code",
   "execution_count": 10,
   "metadata": {},
   "outputs": [
    {
     "data": {
      "text/html": [
       "<style>\n",
       ".list-inline {list-style: none; margin:0; padding: 0}\n",
       ".list-inline>li {display: inline-block}\n",
       ".list-inline>li:not(:last-child)::after {content: \"\\00b7\"; padding: 0 .5ex}\n",
       "</style>\n",
       "<ol class=list-inline><li>'X'</li><li>'city'</li><li>'area'</li><li>'rooms'</li><li>'bathroom'</li><li>'parking.spaces'</li><li>'floor'</li><li>'animal'</li><li>'furniture'</li><li>'hoa'</li><li>'rent.amount'</li><li>'property.tax'</li><li>'fire.insurance'</li><li>'total'</li></ol>\n"
      ],
      "text/latex": [
       "\\begin{enumerate*}\n",
       "\\item 'X'\n",
       "\\item 'city'\n",
       "\\item 'area'\n",
       "\\item 'rooms'\n",
       "\\item 'bathroom'\n",
       "\\item 'parking.spaces'\n",
       "\\item 'floor'\n",
       "\\item 'animal'\n",
       "\\item 'furniture'\n",
       "\\item 'hoa'\n",
       "\\item 'rent.amount'\n",
       "\\item 'property.tax'\n",
       "\\item 'fire.insurance'\n",
       "\\item 'total'\n",
       "\\end{enumerate*}\n"
      ],
      "text/markdown": [
       "1. 'X'\n",
       "2. 'city'\n",
       "3. 'area'\n",
       "4. 'rooms'\n",
       "5. 'bathroom'\n",
       "6. 'parking.spaces'\n",
       "7. 'floor'\n",
       "8. 'animal'\n",
       "9. 'furniture'\n",
       "10. 'hoa'\n",
       "11. 'rent.amount'\n",
       "12. 'property.tax'\n",
       "13. 'fire.insurance'\n",
       "14. 'total'\n",
       "\n",
       "\n"
      ],
      "text/plain": [
       " [1] \"X\"              \"city\"           \"area\"           \"rooms\"         \n",
       " [5] \"bathroom\"       \"parking.spaces\" \"floor\"          \"animal\"        \n",
       " [9] \"furniture\"      \"hoa\"            \"rent.amount\"    \"property.tax\"  \n",
       "[13] \"fire.insurance\" \"total\"         "
      ]
     },
     "metadata": {},
     "output_type": "display_data"
    }
   ],
   "source": [
    "# 5.\n",
    "colnames(data)"
   ]
  },
  {
   "cell_type": "code",
   "execution_count": 11,
   "metadata": {},
   "outputs": [
    {
     "data": {
      "text/html": [
       "<table>\n",
       "<caption>A data.frame: 6 × 11</caption>\n",
       "<thead>\n",
       "\t<tr><th></th><th scope=col>X</th><th scope=col>city</th><th scope=col>area</th><th scope=col>rooms</th><th scope=col>bathroom</th><th scope=col>parking.spaces</th><th scope=col>floor</th><th scope=col>animal</th><th scope=col>furniture</th><th scope=col>hoa</th><th scope=col>rent.amount</th></tr>\n",
       "\t<tr><th></th><th scope=col>&lt;int&gt;</th><th scope=col>&lt;int&gt;</th><th scope=col>&lt;int&gt;</th><th scope=col>&lt;int&gt;</th><th scope=col>&lt;int&gt;</th><th scope=col>&lt;int&gt;</th><th scope=col>&lt;int&gt;</th><th scope=col>&lt;fct&gt;</th><th scope=col>&lt;fct&gt;</th><th scope=col>&lt;fct&gt;</th><th scope=col>&lt;fct&gt;</th></tr>\n",
       "</thead>\n",
       "<tbody>\n",
       "\t<tr><th scope=row>1</th><td>0</td><td>1</td><td>240</td><td>3</td><td> 3</td><td>4</td><td>NA</td><td>acept    </td><td>furnished    </td><td>R$0    </td><td>R$8,000</td></tr>\n",
       "\t<tr><th scope=row>2</th><td>1</td><td>0</td><td> 64</td><td>2</td><td> 1</td><td>1</td><td>10</td><td>acept    </td><td>not furnished</td><td>R$540  </td><td>R$820  </td></tr>\n",
       "\t<tr><th scope=row>3</th><td>2</td><td>1</td><td>443</td><td>5</td><td> 5</td><td>4</td><td> 3</td><td>acept    </td><td>furnished    </td><td>R$4,172</td><td>R$7,000</td></tr>\n",
       "\t<tr><th scope=row>4</th><td>3</td><td>1</td><td> 73</td><td>2</td><td>NA</td><td>1</td><td>12</td><td>acept    </td><td>not furnished</td><td>R$700  </td><td>R$1,250</td></tr>\n",
       "\t<tr><th scope=row>5</th><td>4</td><td>1</td><td> 19</td><td>1</td><td>NA</td><td>0</td><td>NA</td><td>not acept</td><td>not furnished</td><td>R$0    </td><td>R$1,200</td></tr>\n",
       "\t<tr><th scope=row>6</th><td>5</td><td>1</td><td> 13</td><td>1</td><td>NA</td><td>0</td><td> 2</td><td>acept    </td><td>not furnished</td><td>R$0    </td><td>R$2,200</td></tr>\n",
       "</tbody>\n",
       "</table>\n"
      ],
      "text/latex": [
       "A data.frame: 6 × 11\n",
       "\\begin{tabular}{r|lllllllllll}\n",
       "  & X & city & area & rooms & bathroom & parking.spaces & floor & animal & furniture & hoa & rent.amount\\\\\n",
       "  & <int> & <int> & <int> & <int> & <int> & <int> & <int> & <fct> & <fct> & <fct> & <fct>\\\\\n",
       "\\hline\n",
       "\t1 & 0 & 1 & 240 & 3 &  3 & 4 & NA & acept     & furnished     & R\\$0     & R\\$8,000\\\\\n",
       "\t2 & 1 & 0 &  64 & 2 &  1 & 1 & 10 & acept     & not furnished & R\\$540   & R\\$820  \\\\\n",
       "\t3 & 2 & 1 & 443 & 5 &  5 & 4 &  3 & acept     & furnished     & R\\$4,172 & R\\$7,000\\\\\n",
       "\t4 & 3 & 1 &  73 & 2 & NA & 1 & 12 & acept     & not furnished & R\\$700   & R\\$1,250\\\\\n",
       "\t5 & 4 & 1 &  19 & 1 & NA & 0 & NA & not acept & not furnished & R\\$0     & R\\$1,200\\\\\n",
       "\t6 & 5 & 1 &  13 & 1 & NA & 0 &  2 & acept     & not furnished & R\\$0     & R\\$2,200\\\\\n",
       "\\end{tabular}\n"
      ],
      "text/markdown": [
       "\n",
       "A data.frame: 6 × 11\n",
       "\n",
       "| <!--/--> | X &lt;int&gt; | city &lt;int&gt; | area &lt;int&gt; | rooms &lt;int&gt; | bathroom &lt;int&gt; | parking.spaces &lt;int&gt; | floor &lt;int&gt; | animal &lt;fct&gt; | furniture &lt;fct&gt; | hoa &lt;fct&gt; | rent.amount &lt;fct&gt; |\n",
       "|---|---|---|---|---|---|---|---|---|---|---|---|\n",
       "| 1 | 0 | 1 | 240 | 3 |  3 | 4 | NA | acept     | furnished     | R$0     | R$8,000 |\n",
       "| 2 | 1 | 0 |  64 | 2 |  1 | 1 | 10 | acept     | not furnished | R$540   | R$820   |\n",
       "| 3 | 2 | 1 | 443 | 5 |  5 | 4 |  3 | acept     | furnished     | R$4,172 | R$7,000 |\n",
       "| 4 | 3 | 1 |  73 | 2 | NA | 1 | 12 | acept     | not furnished | R$700   | R$1,250 |\n",
       "| 5 | 4 | 1 |  19 | 1 | NA | 0 | NA | not acept | not furnished | R$0     | R$1,200 |\n",
       "| 6 | 5 | 1 |  13 | 1 | NA | 0 |  2 | acept     | not furnished | R$0     | R$2,200 |\n",
       "\n"
      ],
      "text/plain": [
       "  X city area rooms bathroom parking.spaces floor animal    furniture    \n",
       "1 0 1    240  3      3       4              NA    acept     furnished    \n",
       "2 1 0     64  2      1       1              10    acept     not furnished\n",
       "3 2 1    443  5      5       4               3    acept     furnished    \n",
       "4 3 1     73  2     NA       1              12    acept     not furnished\n",
       "5 4 1     19  1     NA       0              NA    not acept not furnished\n",
       "6 5 1     13  1     NA       0               2    acept     not furnished\n",
       "  hoa     rent.amount\n",
       "1 R$0     R$8,000    \n",
       "2 R$540   R$820      \n",
       "3 R$4,172 R$7,000    \n",
       "4 R$700   R$1,250    \n",
       "5 R$0     R$1,200    \n",
       "6 R$0     R$2,200    "
      ]
     },
     "metadata": {},
     "output_type": "display_data"
    }
   ],
   "source": [
    "data$property.tax <- NULL\n",
    "data$fire.insurance <- NULL\n",
    "data$total <- NULL\n",
    "head(data)"
   ]
  },
  {
   "cell_type": "code",
   "execution_count": 12,
   "metadata": {},
   "outputs": [
    {
     "data": {
      "text/html": [
       "<table>\n",
       "<caption>A data.frame: 6 × 12</caption>\n",
       "<thead>\n",
       "\t<tr><th></th><th scope=col>X</th><th scope=col>city</th><th scope=col>area</th><th scope=col>rooms</th><th scope=col>bathroom</th><th scope=col>parking.spaces</th><th scope=col>floor</th><th scope=col>animal</th><th scope=col>furniture</th><th scope=col>hoa</th><th scope=col>rent.amount</th><th scope=col>rent_amount</th></tr>\n",
       "\t<tr><th></th><th scope=col>&lt;int&gt;</th><th scope=col>&lt;int&gt;</th><th scope=col>&lt;int&gt;</th><th scope=col>&lt;int&gt;</th><th scope=col>&lt;int&gt;</th><th scope=col>&lt;int&gt;</th><th scope=col>&lt;int&gt;</th><th scope=col>&lt;fct&gt;</th><th scope=col>&lt;fct&gt;</th><th scope=col>&lt;fct&gt;</th><th scope=col>&lt;fct&gt;</th><th scope=col>&lt;dbl&gt;</th></tr>\n",
       "</thead>\n",
       "<tbody>\n",
       "\t<tr><th scope=row>1</th><td>0</td><td>1</td><td>240</td><td>3</td><td> 3</td><td>4</td><td>NA</td><td>acept    </td><td>furnished    </td><td>R$0    </td><td>R$8,000</td><td>8000</td></tr>\n",
       "\t<tr><th scope=row>2</th><td>1</td><td>0</td><td> 64</td><td>2</td><td> 1</td><td>1</td><td>10</td><td>acept    </td><td>not furnished</td><td>R$540  </td><td>R$820  </td><td> 820</td></tr>\n",
       "\t<tr><th scope=row>3</th><td>2</td><td>1</td><td>443</td><td>5</td><td> 5</td><td>4</td><td> 3</td><td>acept    </td><td>furnished    </td><td>R$4,172</td><td>R$7,000</td><td>7000</td></tr>\n",
       "\t<tr><th scope=row>4</th><td>3</td><td>1</td><td> 73</td><td>2</td><td>NA</td><td>1</td><td>12</td><td>acept    </td><td>not furnished</td><td>R$700  </td><td>R$1,250</td><td>1250</td></tr>\n",
       "\t<tr><th scope=row>5</th><td>4</td><td>1</td><td> 19</td><td>1</td><td>NA</td><td>0</td><td>NA</td><td>not acept</td><td>not furnished</td><td>R$0    </td><td>R$1,200</td><td>1200</td></tr>\n",
       "\t<tr><th scope=row>6</th><td>5</td><td>1</td><td> 13</td><td>1</td><td>NA</td><td>0</td><td> 2</td><td>acept    </td><td>not furnished</td><td>R$0    </td><td>R$2,200</td><td>2200</td></tr>\n",
       "</tbody>\n",
       "</table>\n"
      ],
      "text/latex": [
       "A data.frame: 6 × 12\n",
       "\\begin{tabular}{r|llllllllllll}\n",
       "  & X & city & area & rooms & bathroom & parking.spaces & floor & animal & furniture & hoa & rent.amount & rent\\_amount\\\\\n",
       "  & <int> & <int> & <int> & <int> & <int> & <int> & <int> & <fct> & <fct> & <fct> & <fct> & <dbl>\\\\\n",
       "\\hline\n",
       "\t1 & 0 & 1 & 240 & 3 &  3 & 4 & NA & acept     & furnished     & R\\$0     & R\\$8,000 & 8000\\\\\n",
       "\t2 & 1 & 0 &  64 & 2 &  1 & 1 & 10 & acept     & not furnished & R\\$540   & R\\$820   &  820\\\\\n",
       "\t3 & 2 & 1 & 443 & 5 &  5 & 4 &  3 & acept     & furnished     & R\\$4,172 & R\\$7,000 & 7000\\\\\n",
       "\t4 & 3 & 1 &  73 & 2 & NA & 1 & 12 & acept     & not furnished & R\\$700   & R\\$1,250 & 1250\\\\\n",
       "\t5 & 4 & 1 &  19 & 1 & NA & 0 & NA & not acept & not furnished & R\\$0     & R\\$1,200 & 1200\\\\\n",
       "\t6 & 5 & 1 &  13 & 1 & NA & 0 &  2 & acept     & not furnished & R\\$0     & R\\$2,200 & 2200\\\\\n",
       "\\end{tabular}\n"
      ],
      "text/markdown": [
       "\n",
       "A data.frame: 6 × 12\n",
       "\n",
       "| <!--/--> | X &lt;int&gt; | city &lt;int&gt; | area &lt;int&gt; | rooms &lt;int&gt; | bathroom &lt;int&gt; | parking.spaces &lt;int&gt; | floor &lt;int&gt; | animal &lt;fct&gt; | furniture &lt;fct&gt; | hoa &lt;fct&gt; | rent.amount &lt;fct&gt; | rent_amount &lt;dbl&gt; |\n",
       "|---|---|---|---|---|---|---|---|---|---|---|---|---|\n",
       "| 1 | 0 | 1 | 240 | 3 |  3 | 4 | NA | acept     | furnished     | R$0     | R$8,000 | 8000 |\n",
       "| 2 | 1 | 0 |  64 | 2 |  1 | 1 | 10 | acept     | not furnished | R$540   | R$820   |  820 |\n",
       "| 3 | 2 | 1 | 443 | 5 |  5 | 4 |  3 | acept     | furnished     | R$4,172 | R$7,000 | 7000 |\n",
       "| 4 | 3 | 1 |  73 | 2 | NA | 1 | 12 | acept     | not furnished | R$700   | R$1,250 | 1250 |\n",
       "| 5 | 4 | 1 |  19 | 1 | NA | 0 | NA | not acept | not furnished | R$0     | R$1,200 | 1200 |\n",
       "| 6 | 5 | 1 |  13 | 1 | NA | 0 |  2 | acept     | not furnished | R$0     | R$2,200 | 2200 |\n",
       "\n"
      ],
      "text/plain": [
       "  X city area rooms bathroom parking.spaces floor animal    furniture    \n",
       "1 0 1    240  3      3       4              NA    acept     furnished    \n",
       "2 1 0     64  2      1       1              10    acept     not furnished\n",
       "3 2 1    443  5      5       4               3    acept     furnished    \n",
       "4 3 1     73  2     NA       1              12    acept     not furnished\n",
       "5 4 1     19  1     NA       0              NA    not acept not furnished\n",
       "6 5 1     13  1     NA       0               2    acept     not furnished\n",
       "  hoa     rent.amount rent_amount\n",
       "1 R$0     R$8,000     8000       \n",
       "2 R$540   R$820        820       \n",
       "3 R$4,172 R$7,000     7000       \n",
       "4 R$700   R$1,250     1250       \n",
       "5 R$0     R$1,200     1200       \n",
       "6 R$0     R$2,200     2200       "
      ]
     },
     "metadata": {},
     "output_type": "display_data"
    }
   ],
   "source": [
    "# 6\n",
    "data$rent_amount <- as.numeric(gsub(\",\",\"\",substr(data$rent.amount,3,length(data$rent.amount))))\n",
    "head(data)"
   ]
  },
  {
   "cell_type": "code",
   "execution_count": 13,
   "metadata": {},
   "outputs": [
    {
     "name": "stderr",
     "output_type": "stream",
     "text": [
      "`summarise()` ungrouping output (override with `.groups` argument)\n",
      "\n"
     ]
    },
    {
     "name": "stdout",
     "output_type": "stream",
     "text": [
      "\u001b[90m# A tibble: 2 x 2\u001b[39m\n",
      "  furniture     count\n",
      "  \u001b[3m\u001b[90m<fct>\u001b[39m\u001b[23m         \u001b[3m\u001b[90m<int>\u001b[39m\u001b[23m\n",
      "\u001b[90m1\u001b[39m furnished      \u001b[4m1\u001b[24m582\n",
      "\u001b[90m2\u001b[39m not furnished  \u001b[4m4\u001b[24m498\n",
      "[1] \"**********************************************\"\n"
     ]
    },
    {
     "name": "stderr",
     "output_type": "stream",
     "text": [
      "`summarise()` regrouping output by 'furniture' (override with `.groups` argument)\n",
      "\n"
     ]
    },
    {
     "name": "stdout",
     "output_type": "stream",
     "text": [
      "\u001b[90m# A tibble: 4 x 3\u001b[39m\n",
      "\u001b[90m# Groups:   furniture [2]\u001b[39m\n",
      "  furniture     animal    count\n",
      "  \u001b[3m\u001b[90m<fct>\u001b[39m\u001b[23m         \u001b[3m\u001b[90m<fct>\u001b[39m\u001b[23m     \u001b[3m\u001b[90m<int>\u001b[39m\u001b[23m\n",
      "\u001b[90m1\u001b[39m furnished     acept      \u001b[4m1\u001b[24m130\n",
      "\u001b[90m2\u001b[39m furnished     not acept   452\n",
      "\u001b[90m3\u001b[39m not furnished acept      \u001b[4m3\u001b[24m536\n",
      "\u001b[90m4\u001b[39m not furnished not acept   962\n"
     ]
    }
   ],
   "source": [
    "#7.\n",
    "group1 <- group_by(data, furniture)\n",
    "summary_1 <- summarize(group1, count = n())\n",
    "print(summary_1)\n",
    "print('**********************************************')\n",
    "group2 <- group_by(data, furniture,animal)\n",
    "summary_2 <- summarize(group2, count = n())\n",
    "print(summary_2)"
   ]
  },
  {
   "cell_type": "code",
   "execution_count": 14,
   "metadata": {},
   "outputs": [
    {
     "data": {
      "text/html": [
       "<table>\n",
       "<caption>A data.frame: 6 × 12</caption>\n",
       "<thead>\n",
       "\t<tr><th></th><th scope=col>X</th><th scope=col>city</th><th scope=col>area</th><th scope=col>rooms</th><th scope=col>bathroom</th><th scope=col>parking.spaces</th><th scope=col>floor</th><th scope=col>animal</th><th scope=col>furniture</th><th scope=col>hoa</th><th scope=col>rent.amount</th><th scope=col>rent_amount</th></tr>\n",
       "\t<tr><th></th><th scope=col>&lt;int&gt;</th><th scope=col>&lt;int&gt;</th><th scope=col>&lt;int&gt;</th><th scope=col>&lt;int&gt;</th><th scope=col>&lt;int&gt;</th><th scope=col>&lt;int&gt;</th><th scope=col>&lt;int&gt;</th><th scope=col>&lt;fct&gt;</th><th scope=col>&lt;fct&gt;</th><th scope=col>&lt;fct&gt;</th><th scope=col>&lt;fct&gt;</th><th scope=col>&lt;dbl&gt;</th></tr>\n",
       "</thead>\n",
       "<tbody>\n",
       "\t<tr><th scope=row>1</th><td>0</td><td>1</td><td>240</td><td>3</td><td> 3</td><td>4</td><td>NA</td><td>acept    </td><td>furnished    </td><td>R$0    </td><td>R$8,000</td><td>8000</td></tr>\n",
       "\t<tr><th scope=row>2</th><td>1</td><td>0</td><td> 64</td><td>2</td><td> 1</td><td>1</td><td>10</td><td>acept    </td><td>not furnished</td><td>R$540  </td><td>R$820  </td><td> 820</td></tr>\n",
       "\t<tr><th scope=row>3</th><td>2</td><td>1</td><td>443</td><td>5</td><td> 5</td><td>4</td><td> 3</td><td>acept    </td><td>furnished    </td><td>R$4,172</td><td>R$7,000</td><td>7000</td></tr>\n",
       "\t<tr><th scope=row>4</th><td>3</td><td>1</td><td> 73</td><td>2</td><td>NA</td><td>1</td><td>12</td><td>acept    </td><td>not furnished</td><td>R$700  </td><td>R$1,250</td><td>1250</td></tr>\n",
       "\t<tr><th scope=row>5</th><td>4</td><td>1</td><td> 19</td><td>1</td><td>NA</td><td>0</td><td>NA</td><td>not acept</td><td>not furnished</td><td>R$0    </td><td>R$1,200</td><td>1200</td></tr>\n",
       "\t<tr><th scope=row>6</th><td>5</td><td>1</td><td> 13</td><td>1</td><td>NA</td><td>0</td><td> 2</td><td>acept    </td><td>not furnished</td><td>R$0    </td><td>R$2,200</td><td>2200</td></tr>\n",
       "</tbody>\n",
       "</table>\n"
      ],
      "text/latex": [
       "A data.frame: 6 × 12\n",
       "\\begin{tabular}{r|llllllllllll}\n",
       "  & X & city & area & rooms & bathroom & parking.spaces & floor & animal & furniture & hoa & rent.amount & rent\\_amount\\\\\n",
       "  & <int> & <int> & <int> & <int> & <int> & <int> & <int> & <fct> & <fct> & <fct> & <fct> & <dbl>\\\\\n",
       "\\hline\n",
       "\t1 & 0 & 1 & 240 & 3 &  3 & 4 & NA & acept     & furnished     & R\\$0     & R\\$8,000 & 8000\\\\\n",
       "\t2 & 1 & 0 &  64 & 2 &  1 & 1 & 10 & acept     & not furnished & R\\$540   & R\\$820   &  820\\\\\n",
       "\t3 & 2 & 1 & 443 & 5 &  5 & 4 &  3 & acept     & furnished     & R\\$4,172 & R\\$7,000 & 7000\\\\\n",
       "\t4 & 3 & 1 &  73 & 2 & NA & 1 & 12 & acept     & not furnished & R\\$700   & R\\$1,250 & 1250\\\\\n",
       "\t5 & 4 & 1 &  19 & 1 & NA & 0 & NA & not acept & not furnished & R\\$0     & R\\$1,200 & 1200\\\\\n",
       "\t6 & 5 & 1 &  13 & 1 & NA & 0 &  2 & acept     & not furnished & R\\$0     & R\\$2,200 & 2200\\\\\n",
       "\\end{tabular}\n"
      ],
      "text/markdown": [
       "\n",
       "A data.frame: 6 × 12\n",
       "\n",
       "| <!--/--> | X &lt;int&gt; | city &lt;int&gt; | area &lt;int&gt; | rooms &lt;int&gt; | bathroom &lt;int&gt; | parking.spaces &lt;int&gt; | floor &lt;int&gt; | animal &lt;fct&gt; | furniture &lt;fct&gt; | hoa &lt;fct&gt; | rent.amount &lt;fct&gt; | rent_amount &lt;dbl&gt; |\n",
       "|---|---|---|---|---|---|---|---|---|---|---|---|---|\n",
       "| 1 | 0 | 1 | 240 | 3 |  3 | 4 | NA | acept     | furnished     | R$0     | R$8,000 | 8000 |\n",
       "| 2 | 1 | 0 |  64 | 2 |  1 | 1 | 10 | acept     | not furnished | R$540   | R$820   |  820 |\n",
       "| 3 | 2 | 1 | 443 | 5 |  5 | 4 |  3 | acept     | furnished     | R$4,172 | R$7,000 | 7000 |\n",
       "| 4 | 3 | 1 |  73 | 2 | NA | 1 | 12 | acept     | not furnished | R$700   | R$1,250 | 1250 |\n",
       "| 5 | 4 | 1 |  19 | 1 | NA | 0 | NA | not acept | not furnished | R$0     | R$1,200 | 1200 |\n",
       "| 6 | 5 | 1 |  13 | 1 | NA | 0 |  2 | acept     | not furnished | R$0     | R$2,200 | 2200 |\n",
       "\n"
      ],
      "text/plain": [
       "  X city area rooms bathroom parking.spaces floor animal    furniture    \n",
       "1 0 1    240  3      3       4              NA    acept     furnished    \n",
       "2 1 0     64  2      1       1              10    acept     not furnished\n",
       "3 2 1    443  5      5       4               3    acept     furnished    \n",
       "4 3 1     73  2     NA       1              12    acept     not furnished\n",
       "5 4 1     19  1     NA       0              NA    not acept not furnished\n",
       "6 5 1     13  1     NA       0               2    acept     not furnished\n",
       "  hoa     rent.amount rent_amount\n",
       "1 R$0     R$8,000     8000       \n",
       "2 R$540   R$820        820       \n",
       "3 R$4,172 R$7,000     7000       \n",
       "4 R$700   R$1,250     1250       \n",
       "5 R$0     R$1,200     1200       \n",
       "6 R$0     R$2,200     2200       "
      ]
     },
     "metadata": {},
     "output_type": "display_data"
    }
   ],
   "source": [
    "head(data)"
   ]
  },
  {
   "cell_type": "code",
   "execution_count": 15,
   "metadata": {},
   "outputs": [
    {
     "data": {
      "image/png": "[encoded data removed]",
      "text/plain": [
       "plot without title"
      ]
     },
     "metadata": {
      "image/png": {
       "height": 420,
       "width": 420
      }
     },
     "output_type": "display_data"
    }
   ],
   "source": [
    "#8. \n",
    "ggplot(data=data, aes(x=furniture,y=rent_amount, fill=furniture)) + geom_boxplot()"
   ]
  },
  {
   "cell_type": "markdown",
   "metadata": {},
   "source": [
    "=> rent_aount ở 'not furniture' có khá nhiều Outlier\n",
    "- Có vẻ như không có sự khác biệt giữa 2 nhóm furniture"
   ]
  },
  {
   "cell_type": "code",
   "execution_count": 16,
   "metadata": {},
   "outputs": [
    {
     "name": "stdout",
     "output_type": "stream",
     "text": [
      "[1] \"Before replace NAs: \"\n",
      "   Min. 1st Qu.  Median    Mean 3rd Qu.    Max.    NA's \n",
      "   10.0    58.0   100.0   151.2   200.0 24606.0      17 \n",
      "[1] \"After replace NAs with median \"\n",
      "   Min. 1st Qu.  Median    Mean 3rd Qu.    Max. \n",
      "     10      58     100     151     200   24606 \n"
     ]
    }
   ],
   "source": [
    "#9.\n",
    "print('Before replace NAs: ')\n",
    "print(summary(data$area))\n",
    "data$area[is.na(data$area)] <- median(data$area, na.rm=TRUE)\n",
    "print('After replace NAs with median ')\n",
    "print(summary(data$area))"
   ]
  },
  {
   "cell_type": "code",
   "execution_count": 17,
   "metadata": {},
   "outputs": [
    {
     "data": {
      "image/png": "[encoded data removed]",
      "text/plain": [
       "Plot with title \"area\""
      ]
     },
     "metadata": {
      "image/png": {
       "height": 420,
       "width": 420
      }
     },
     "output_type": "display_data"
    }
   ],
   "source": [
    "#10.\n",
    "boxplot(data$area, main='area', \n",
    "  sub=paste('Outlier rows: ',toString(boxplot.stats(data$area)$out)))"
   ]
  },
  {
   "cell_type": "markdown",
   "metadata": {},
   "source": [
    "=> Area có khá nhiều Outliers"
   ]
  },
  {
   "cell_type": "code",
   "execution_count": 18,
   "metadata": {},
   "outputs": [
    {
     "name": "stdout",
     "output_type": "stream",
     "text": [
      "[1] \"Data with area outlier: 6080\"\n",
      "[1] \"Data without area outlier: 5835\"\n",
      "[1] \"Number of area outlier rows: 245\"\n"
     ]
    }
   ],
   "source": [
    "print(paste('Data with area outlier:', nrow(data)))\n",
    "print(paste('Data without area outlier:', nrow(data)-length(boxplot.stats(data$area)$out)))\n",
    "print(paste('Number of area outlier rows:', length(boxplot.stats(data$area)$out)))"
   ]
  },
  {
   "cell_type": "code",
   "execution_count": 19,
   "metadata": {},
   "outputs": [
    {
     "name": "stderr",
     "output_type": "stream",
     "text": [
      "Warning message:\n",
      "\"package 'ggExtra' was built under R version 3.6.3\"\n",
      "`geom_smooth()` using method = 'gam' and formula 'y ~ s(x, bs = \"cs\")'\n",
      "\n",
      "`geom_smooth()` using method = 'gam' and formula 'y ~ s(x, bs = \"cs\")'\n",
      "\n"
     ]
    },
    {
     "data": {
      "image/png": "[encoded data removed]",
      "text/plain": [
       "plot without title"
      ]
     },
     "metadata": {
      "image/png": {
       "height": 420,
       "width": 420
      }
     },
     "output_type": "display_data"
    }
   ],
   "source": [
    "# 11.\n",
    "library('ggExtra')\n",
    "plot <- ggplot(data,aes(x=area, y=rent_amount)) + geom_point() + geom_smooth() \n",
    "ggMarginal(plot, type='hist', col='white', fill='blue')"
   ]
  },
  {
   "cell_type": "code",
   "execution_count": 20,
   "metadata": {},
   "outputs": [
    {
     "name": "stderr",
     "output_type": "stream",
     "text": [
      "`summarise()` ungrouping output (override with `.groups` argument)\n",
      "\n"
     ]
    }
   ],
   "source": [
    "# 12.\n",
    "#3.\n",
    "group <- group_by(data, city)\n",
    "summary <- summarize(group, count = n())\n",
    "summary$percent <- round(100*summary$count/sum(summary$count),1)\n",
    "summary$city <- as.character(summary$city )"
   ]
  },
  {
   "cell_type": "code",
   "execution_count": 21,
   "metadata": {},
   "outputs": [
    {
     "data": {
      "text/html": [
       "<strong>null device:</strong> 1"
      ],
      "text/latex": [
       "\\textbf{null device:} 1"
      ],
      "text/markdown": [
       "**null device:** 1"
      ],
      "text/plain": [
       "null device \n",
       "          1 "
      ]
     },
     "metadata": {},
     "output_type": "display_data"
    },
    {
     "data": {
      "image/png": "[encoded data removed]",
      "text/plain": [
       "Plot with title \"Percentage of 0/1 City\""
      ]
     },
     "metadata": {
      "image/png": {
       "height": 420,
       "width": 420
      }
     },
     "output_type": "display_data"
    }
   ],
   "source": [
    "x <- as.vector(summary$count)\n",
    "labels <- as.vector(summary$city)\n",
    "piepercent <- round(100*x/sum(x),1)\n",
    "pie(x, labels = paste(labels,piepercent,'%'),main='Percentage of 0/1 City', col=rainbow(length(x)))\n",
    "legend('topright',labels,cex=0.5,fill=rainbow(length(x)))\n",
    "dev.off()"
   ]
  },
  {
   "cell_type": "code",
   "execution_count": 22,
   "metadata": {},
   "outputs": [
    {
     "name": "stdout",
     "output_type": "stream",
     "text": [
      "[1] \"Max rent amount 45000\"\n",
      "[1] \"Min rent amount 420\"\n"
     ]
    }
   ],
   "source": [
    "#13.\n",
    "data$X <- NULL\n",
    "print(paste('Max rent amount',max(data$rent_amount)))\n",
    "print(paste('Min rent amount',min(data$rent_amount)))"
   ]
  },
  {
   "cell_type": "code",
   "execution_count": 23,
   "metadata": {},
   "outputs": [
    {
     "name": "stdout",
     "output_type": "stream",
     "text": [
      "[1] \"Max rent amount:\"\n"
     ]
    },
    {
     "data": {
      "text/html": [
       "<table>\n",
       "<caption>A data.frame: 1 × 11</caption>\n",
       "<thead>\n",
       "\t<tr><th></th><th scope=col>city</th><th scope=col>area</th><th scope=col>rooms</th><th scope=col>bathroom</th><th scope=col>parking.spaces</th><th scope=col>floor</th><th scope=col>animal</th><th scope=col>furniture</th><th scope=col>hoa</th><th scope=col>rent.amount</th><th scope=col>rent_amount</th></tr>\n",
       "\t<tr><th></th><th scope=col>&lt;int&gt;</th><th scope=col>&lt;int&gt;</th><th scope=col>&lt;int&gt;</th><th scope=col>&lt;int&gt;</th><th scope=col>&lt;int&gt;</th><th scope=col>&lt;int&gt;</th><th scope=col>&lt;fct&gt;</th><th scope=col>&lt;fct&gt;</th><th scope=col>&lt;fct&gt;</th><th scope=col>&lt;fct&gt;</th><th scope=col>&lt;dbl&gt;</th></tr>\n",
       "</thead>\n",
       "<tbody>\n",
       "\t<tr><th scope=row>3382</th><td>1</td><td>700</td><td>4</td><td>7</td><td>8</td><td>NA</td><td>acept</td><td>not furnished</td><td>R$0</td><td>R$45,000</td><td>45000</td></tr>\n",
       "</tbody>\n",
       "</table>\n"
      ],
      "text/latex": [
       "A data.frame: 1 × 11\n",
       "\\begin{tabular}{r|lllllllllll}\n",
       "  & city & area & rooms & bathroom & parking.spaces & floor & animal & furniture & hoa & rent.amount & rent\\_amount\\\\\n",
       "  & <int> & <int> & <int> & <int> & <int> & <int> & <fct> & <fct> & <fct> & <fct> & <dbl>\\\\\n",
       "\\hline\n",
       "\t3382 & 1 & 700 & 4 & 7 & 8 & NA & acept & not furnished & R\\$0 & R\\$45,000 & 45000\\\\\n",
       "\\end{tabular}\n"
      ],
      "text/markdown": [
       "\n",
       "A data.frame: 1 × 11\n",
       "\n",
       "| <!--/--> | city &lt;int&gt; | area &lt;int&gt; | rooms &lt;int&gt; | bathroom &lt;int&gt; | parking.spaces &lt;int&gt; | floor &lt;int&gt; | animal &lt;fct&gt; | furniture &lt;fct&gt; | hoa &lt;fct&gt; | rent.amount &lt;fct&gt; | rent_amount &lt;dbl&gt; |\n",
       "|---|---|---|---|---|---|---|---|---|---|---|---|\n",
       "| 3382 | 1 | 700 | 4 | 7 | 8 | NA | acept | not furnished | R$0 | R$45,000 | 45000 |\n",
       "\n"
      ],
      "text/plain": [
       "     city area rooms bathroom parking.spaces floor animal furniture     hoa\n",
       "3382 1    700  4     7        8              NA    acept  not furnished R$0\n",
       "     rent.amount rent_amount\n",
       "3382 R$45,000    45000      "
      ]
     },
     "metadata": {},
     "output_type": "display_data"
    },
    {
     "name": "stdout",
     "output_type": "stream",
     "text": [
      "[1] \"Min rent amount:\"\n"
     ]
    },
    {
     "data": {
      "text/html": [
       "<table>\n",
       "<caption>A data.frame: 1 × 11</caption>\n",
       "<thead>\n",
       "\t<tr><th></th><th scope=col>city</th><th scope=col>area</th><th scope=col>rooms</th><th scope=col>bathroom</th><th scope=col>parking.spaces</th><th scope=col>floor</th><th scope=col>animal</th><th scope=col>furniture</th><th scope=col>hoa</th><th scope=col>rent.amount</th><th scope=col>rent_amount</th></tr>\n",
       "\t<tr><th></th><th scope=col>&lt;int&gt;</th><th scope=col>&lt;int&gt;</th><th scope=col>&lt;int&gt;</th><th scope=col>&lt;int&gt;</th><th scope=col>&lt;int&gt;</th><th scope=col>&lt;int&gt;</th><th scope=col>&lt;fct&gt;</th><th scope=col>&lt;fct&gt;</th><th scope=col>&lt;fct&gt;</th><th scope=col>&lt;fct&gt;</th><th scope=col>&lt;dbl&gt;</th></tr>\n",
       "</thead>\n",
       "<tbody>\n",
       "\t<tr><th scope=row>2663</th><td>0</td><td>47</td><td>1</td><td>1</td><td>0</td><td>2</td><td>acept</td><td>not furnished</td><td>R$426</td><td>R$420</td><td>420</td></tr>\n",
       "</tbody>\n",
       "</table>\n"
      ],
      "text/latex": [
       "A data.frame: 1 × 11\n",
       "\\begin{tabular}{r|lllllllllll}\n",
       "  & city & area & rooms & bathroom & parking.spaces & floor & animal & furniture & hoa & rent.amount & rent\\_amount\\\\\n",
       "  & <int> & <int> & <int> & <int> & <int> & <int> & <fct> & <fct> & <fct> & <fct> & <dbl>\\\\\n",
       "\\hline\n",
       "\t2663 & 0 & 47 & 1 & 1 & 0 & 2 & acept & not furnished & R\\$426 & R\\$420 & 420\\\\\n",
       "\\end{tabular}\n"
      ],
      "text/markdown": [
       "\n",
       "A data.frame: 1 × 11\n",
       "\n",
       "| <!--/--> | city &lt;int&gt; | area &lt;int&gt; | rooms &lt;int&gt; | bathroom &lt;int&gt; | parking.spaces &lt;int&gt; | floor &lt;int&gt; | animal &lt;fct&gt; | furniture &lt;fct&gt; | hoa &lt;fct&gt; | rent.amount &lt;fct&gt; | rent_amount &lt;dbl&gt; |\n",
       "|---|---|---|---|---|---|---|---|---|---|---|---|\n",
       "| 2663 | 0 | 47 | 1 | 1 | 0 | 2 | acept | not furnished | R$426 | R$420 | 420 |\n",
       "\n"
      ],
      "text/plain": [
       "     city area rooms bathroom parking.spaces floor animal furniture     hoa  \n",
       "2663 0    47   1     1        0              2     acept  not furnished R$426\n",
       "     rent.amount rent_amount\n",
       "2663 R$420       420        "
      ]
     },
     "metadata": {},
     "output_type": "display_data"
    }
   ],
   "source": [
    "print('Max rent amount:')\n",
    "data[data$rent_amount == max(data$rent_amount),]\n",
    "print('Min rent amount:')\n",
    "data[data$rent_amount == min(data$rent_amount),]"
   ]
  },
  {
   "cell_type": "code",
   "execution_count": 24,
   "metadata": {},
   "outputs": [
    {
     "name": "stderr",
     "output_type": "stream",
     "text": [
      "`summarise()` ungrouping output (override with `.groups` argument)\n",
      "\n"
     ]
    },
    {
     "data": {
      "text/html": [
       "<table>\n",
       "<caption>A tibble: 9 × 2</caption>\n",
       "<thead>\n",
       "\t<tr><th scope=col>rooms</th><th scope=col>count</th></tr>\n",
       "\t<tr><th scope=col>&lt;int&gt;</th><th scope=col>&lt;int&gt;</th></tr>\n",
       "</thead>\n",
       "<tbody>\n",
       "\t<tr><td> 1</td><td>1398</td></tr>\n",
       "\t<tr><td> 2</td><td>1621</td></tr>\n",
       "\t<tr><td> 3</td><td>1994</td></tr>\n",
       "\t<tr><td> 4</td><td> 879</td></tr>\n",
       "\t<tr><td> 5</td><td> 143</td></tr>\n",
       "\t<tr><td> 6</td><td>  22</td></tr>\n",
       "\t<tr><td> 7</td><td>  18</td></tr>\n",
       "\t<tr><td> 8</td><td>   3</td></tr>\n",
       "\t<tr><td>10</td><td>   2</td></tr>\n",
       "</tbody>\n",
       "</table>\n"
      ],
      "text/latex": [
       "A tibble: 9 × 2\n",
       "\\begin{tabular}{ll}\n",
       " rooms & count\\\\\n",
       " <int> & <int>\\\\\n",
       "\\hline\n",
       "\t  1 & 1398\\\\\n",
       "\t  2 & 1621\\\\\n",
       "\t  3 & 1994\\\\\n",
       "\t  4 &  879\\\\\n",
       "\t  5 &  143\\\\\n",
       "\t  6 &   22\\\\\n",
       "\t  7 &   18\\\\\n",
       "\t  8 &    3\\\\\n",
       "\t 10 &    2\\\\\n",
       "\\end{tabular}\n"
      ],
      "text/markdown": [
       "\n",
       "A tibble: 9 × 2\n",
       "\n",
       "| rooms &lt;int&gt; | count &lt;int&gt; |\n",
       "|---|---|\n",
       "|  1 | 1398 |\n",
       "|  2 | 1621 |\n",
       "|  3 | 1994 |\n",
       "|  4 |  879 |\n",
       "|  5 |  143 |\n",
       "|  6 |   22 |\n",
       "|  7 |   18 |\n",
       "|  8 |    3 |\n",
       "| 10 |    2 |\n",
       "\n"
      ],
      "text/plain": [
       "  rooms count\n",
       "1  1    1398 \n",
       "2  2    1621 \n",
       "3  3    1994 \n",
       "4  4     879 \n",
       "5  5     143 \n",
       "6  6      22 \n",
       "7  7      18 \n",
       "8  8       3 \n",
       "9 10       2 "
      ]
     },
     "metadata": {},
     "output_type": "display_data"
    }
   ],
   "source": [
    "# 14.\n",
    "group <- group_by(data, rooms)\n",
    "summary <- summarize(group, count = n())\n",
    "summary"
   ]
  },
  {
   "cell_type": "code",
   "execution_count": 25,
   "metadata": {
    "scrolled": true
   },
   "outputs": [
    {
     "data": {
      "image/png": "[encoded data removed]",
      "text/plain": [
       "plot without title"
      ]
     },
     "metadata": {
      "image/png": {
       "height": 420,
       "width": 420
      }
     },
     "output_type": "display_data"
    }
   ],
   "source": [
    "p <- ggplot(summary, aes(x=rooms, y=count))\n",
    "p + geom_bar(stat = \"identity\") + \n",
    "scale_x_continuous('rooms', labels = as.character(summary$rooms), breaks = summary$rooms)"
   ]
  },
  {
   "cell_type": "markdown",
   "metadata": {},
   "source": [
    "- Chủ yếu rooms từ 1 -> 4\n",
    "- Tập chung nhiều nhất tại room 3"
   ]
  },
  {
   "cell_type": "code",
   "execution_count": 26,
   "metadata": {},
   "outputs": [
    {
     "data": {
      "text/html": [
       "0.235695800893211"
      ],
      "text/latex": [
       "0.235695800893211"
      ],
      "text/markdown": [
       "0.235695800893211"
      ],
      "text/plain": [
       "[1] 0.2356958"
      ]
     },
     "metadata": {},
     "output_type": "display_data"
    }
   ],
   "source": [
    "#15.\n",
    "cor(data$area, data$rent_amount)"
   ]
  },
  {
   "cell_type": "markdown",
   "metadata": {},
   "source": [
    "=> Area và Rent_amount tương quan khá yếu, đây là biến độc lập"
   ]
  },
  {
   "cell_type": "code",
   "execution_count": 27,
   "metadata": {},
   "outputs": [],
   "source": [
    "# done"
   ]
  }
 ],
 "metadata": {
  "kernelspec": {
   "display_name": "R",
   "language": "R",
   "name": "ir"
  },
  "language_info": {
   "codemirror_mode": "r",
   "file_extension": ".r",
   "mimetype": "text/x-r-source",
   "name": "R",
   "pygments_lexer": "r",
   "version": "3.6.0"
  }
 },
 "nbformat": 4,
 "nbformat_minor": 4
}

{
 "cells": [
  {
   "cell_type": "code",
   "execution_count": 1,
   "metadata": {},
   "outputs": [
    {
     "name": "stderr",
     "output_type": "stream",
     "text": [
      "Warning message:\n",
      "\"package 'tidyverse' was built under R version 3.6.3\"\n",
      "-- \u001b[1mAttaching packages\u001b[22m ------------------------------------------------------------------------------- tidyverse 1.3.0 --\n",
      "\n",
      "\u001b[32mv\u001b[39m \u001b[34mggplot2\u001b[39m 3.3.3     \u001b[32mv\u001b[39m \u001b[34mpurrr  \u001b[39m 0.3.4\n",
      "\u001b[32mv\u001b[39m \u001b[34mtibble \u001b[39m 3.0.4     \u001b[32mv\u001b[39m \u001b[34mdplyr  \u001b[39m 1.0.2\n",
      "\u001b[32mv\u001b[39m \u001b[34mtidyr  \u001b[39m 1.1.2     \u001b[32mv\u001b[39m \u001b[34mstringr\u001b[39m 1.4.0\n",
      "\u001b[32mv\u001b[39m \u001b[34mreadr  \u001b[39m 1.3.1     \u001b[32mv\u001b[39m \u001b[34mforcats\u001b[39m 0.4.0\n",
      "\n",
      "Warning message:\n",
      "\"package 'ggplot2' was built under R version 3.6.3\"\n",
      "Warning message:\n",
      "\"package 'tibble' was built under R version 3.6.3\"\n",
      "Warning message:\n",
      "\"package 'tidyr' was built under R version 3.6.3\"\n",
      "Warning message:\n",
      "\"package 'purrr' was built under R version 3.6.3\"\n",
      "Warning message:\n",
      "\"package 'dplyr' was built under R version 3.6.3\"\n",
      "-- \u001b[1mConflicts\u001b[22m ---------------------------------------------------------------------------------- tidyverse_conflicts() --\n",
      "\u001b[31mx\u001b[39m \u001b[34mdplyr\u001b[39m::\u001b[32mfilter()\u001b[39m masks \u001b[34mstats\u001b[39m::filter()\n",
      "\u001b[31mx\u001b[39m \u001b[34mdplyr\u001b[39m::\u001b[32mlag()\u001b[39m    masks \u001b[34mstats\u001b[39m::lag()\n",
      "\n",
      "Warning message:\n",
      "\"package 'Amelia' was built under R version 3.6.1\"\n",
      "Loading required package: Rcpp\n",
      "\n",
      "## \n",
      "## Amelia II: Multiple Imputation\n",
      "## (Version 1.7.5, built: 2018-05-07)\n",
      "## Copyright (C) 2005-2021 James Honaker, Gary King and Matthew Blackwell\n",
      "## Refer to http://gking.harvard.edu/amelia/ for more information\n",
      "## \n",
      "\n",
      "Warning message:\n",
      "\"package 'rpart' was built under R version 3.6.3\"\n",
      "Warning message:\n",
      "\"package 'rpart.plot' was built under R version 3.6.3\"\n",
      "Warning message:\n",
      "\"package 'caret' was built under R version 3.6.1\"\n",
      "Loading required package: lattice\n",
      "\n",
      "\n",
      "Attaching package: 'caret'\n",
      "\n",
      "\n",
      "The following object is masked from 'package:purrr':\n",
      "\n",
      "    lift\n",
      "\n",
      "\n"
     ]
    }
   ],
   "source": [
    "library('tidyverse')\n",
    "# library('tidyr')\n",
    "library('ggplot2')\n",
    "library('Amelia')\n",
    "library('rpart')\n",
    "library('rpart.plot')\n",
    "library('caret')"
   ]
  },
  {
   "cell_type": "code",
   "execution_count": 2,
   "metadata": {},
   "outputs": [],
   "source": [
    "data <- read.csv('Du lieu cung cap/mushroom.csv')"
   ]
  },
  {
   "cell_type": "code",
   "execution_count": 3,
   "metadata": {},
   "outputs": [
    {
     "data": {
      "text/html": [
       "<table>\n",
       "<caption>A data.frame: 6 × 24</caption>\n",
       "<thead>\n",
       "\t<tr><th></th><th scope=col>X</th><th scope=col>Class</th><th scope=col>cap.shape</th><th scope=col>cap.surface</th><th scope=col>cap.color</th><th scope=col>bruises</th><th scope=col>odor</th><th scope=col>gill.attachment</th><th scope=col>gill.spacing</th><th scope=col>gill.size</th><th scope=col>...</th><th scope=col>stalk.surface.below.ring</th><th scope=col>stalk.color.above.ring</th><th scope=col>stalk.color.below.ring</th><th scope=col>veil.type</th><th scope=col>veil.color</th><th scope=col>ring.number</th><th scope=col>ring.type</th><th scope=col>print</th><th scope=col>population</th><th scope=col>habitat</th></tr>\n",
       "\t<tr><th></th><th scope=col>&lt;int&gt;</th><th scope=col>&lt;fct&gt;</th><th scope=col>&lt;fct&gt;</th><th scope=col>&lt;fct&gt;</th><th scope=col>&lt;fct&gt;</th><th scope=col>&lt;fct&gt;</th><th scope=col>&lt;fct&gt;</th><th scope=col>&lt;fct&gt;</th><th scope=col>&lt;fct&gt;</th><th scope=col>&lt;fct&gt;</th><th scope=col>...</th><th scope=col>&lt;fct&gt;</th><th scope=col>&lt;fct&gt;</th><th scope=col>&lt;fct&gt;</th><th scope=col>&lt;fct&gt;</th><th scope=col>&lt;fct&gt;</th><th scope=col>&lt;fct&gt;</th><th scope=col>&lt;fct&gt;</th><th scope=col>&lt;fct&gt;</th><th scope=col>&lt;fct&gt;</th><th scope=col>&lt;fct&gt;</th></tr>\n",
       "</thead>\n",
       "<tbody>\n",
       "\t<tr><th scope=row>1</th><td>1</td><td>Poisonous</td><td>x</td><td>s</td><td>n</td><td>t</td><td>None   </td><td>f</td><td>c</td><td>n</td><td>...</td><td>s</td><td>w</td><td>w</td><td>p</td><td>w</td><td>o</td><td>p</td><td>Buff     </td><td>s</td><td>u</td></tr>\n",
       "\t<tr><th scope=row>2</th><td>2</td><td>Edible   </td><td>x</td><td>s</td><td>y</td><td>t</td><td>Almonds</td><td>f</td><td>c</td><td>b</td><td>...</td><td>s</td><td>w</td><td>w</td><td>p</td><td>w</td><td>o</td><td>p</td><td>Chocolate</td><td>n</td><td>g</td></tr>\n",
       "\t<tr><th scope=row>3</th><td>3</td><td>Edible   </td><td>b</td><td>s</td><td>w</td><td>t</td><td>Fishy  </td><td>f</td><td>c</td><td>b</td><td>...</td><td>s</td><td>w</td><td>w</td><td>p</td><td>w</td><td>o</td><td>p</td><td>Chocolate</td><td>n</td><td>m</td></tr>\n",
       "\t<tr><th scope=row>4</th><td>4</td><td>Poisonous</td><td>x</td><td>y</td><td>w</td><td>t</td><td>None   </td><td>f</td><td>c</td><td>n</td><td>...</td><td>s</td><td>w</td><td>w</td><td>p</td><td>w</td><td>o</td><td>p</td><td>Buff     </td><td>s</td><td>u</td></tr>\n",
       "\t<tr><th scope=row>5</th><td>5</td><td>Edible   </td><td>x</td><td>s</td><td>g</td><td>f</td><td>Musty  </td><td>f</td><td>w</td><td>b</td><td>...</td><td>s</td><td>w</td><td>w</td><td>p</td><td>w</td><td>o</td><td>e</td><td>Chocolate</td><td>a</td><td>g</td></tr>\n",
       "\t<tr><th scope=row>6</th><td>6</td><td>Edible   </td><td>x</td><td>y</td><td>y</td><td>t</td><td>Almonds</td><td>f</td><td>c</td><td>b</td><td>...</td><td>s</td><td>w</td><td>w</td><td>p</td><td>w</td><td>o</td><td>p</td><td>Buff     </td><td>n</td><td>g</td></tr>\n",
       "</tbody>\n",
       "</table>\n"
      ],
      "text/latex": [
       "A data.frame: 6 × 24\n",
       "\\begin{tabular}{r|lllllllllllllllllllll}\n",
       "  & X & Class & cap.shape & cap.surface & cap.color & bruises & odor & gill.attachment & gill.spacing & gill.size & ... & stalk.surface.below.ring & stalk.color.above.ring & stalk.color.below.ring & veil.type & veil.color & ring.number & ring.type & print & population & habitat\\\\\n",
       "  & <int> & <fct> & <fct> & <fct> & <fct> & <fct> & <fct> & <fct> & <fct> & <fct> & ... & <fct> & <fct> & <fct> & <fct> & <fct> & <fct> & <fct> & <fct> & <fct> & <fct>\\\\\n",
       "\\hline\n",
       "\t1 & 1 & Poisonous & x & s & n & t & None    & f & c & n & ... & s & w & w & p & w & o & p & Buff      & s & u\\\\\n",
       "\t2 & 2 & Edible    & x & s & y & t & Almonds & f & c & b & ... & s & w & w & p & w & o & p & Chocolate & n & g\\\\\n",
       "\t3 & 3 & Edible    & b & s & w & t & Fishy   & f & c & b & ... & s & w & w & p & w & o & p & Chocolate & n & m\\\\\n",
       "\t4 & 4 & Poisonous & x & y & w & t & None    & f & c & n & ... & s & w & w & p & w & o & p & Buff      & s & u\\\\\n",
       "\t5 & 5 & Edible    & x & s & g & f & Musty   & f & w & b & ... & s & w & w & p & w & o & e & Chocolate & a & g\\\\\n",
       "\t6 & 6 & Edible    & x & y & y & t & Almonds & f & c & b & ... & s & w & w & p & w & o & p & Buff      & n & g\\\\\n",
       "\\end{tabular}\n"
      ],
      "text/markdown": [
       "\n",
       "A data.frame: 6 × 24\n",
       "\n",
       "| <!--/--> | X &lt;int&gt; | Class &lt;fct&gt; | cap.shape &lt;fct&gt; | cap.surface &lt;fct&gt; | cap.color &lt;fct&gt; | bruises &lt;fct&gt; | odor &lt;fct&gt; | gill.attachment &lt;fct&gt; | gill.spacing &lt;fct&gt; | gill.size &lt;fct&gt; | ... ... | stalk.surface.below.ring &lt;fct&gt; | stalk.color.above.ring &lt;fct&gt; | stalk.color.below.ring &lt;fct&gt; | veil.type &lt;fct&gt; | veil.color &lt;fct&gt; | ring.number &lt;fct&gt; | ring.type &lt;fct&gt; | print &lt;fct&gt; | population &lt;fct&gt; | habitat &lt;fct&gt; |\n",
       "|---|---|---|---|---|---|---|---|---|---|---|---|---|---|---|---|---|---|---|---|---|---|\n",
       "| 1 | 1 | Poisonous | x | s | n | t | None    | f | c | n | ... | s | w | w | p | w | o | p | Buff      | s | u |\n",
       "| 2 | 2 | Edible    | x | s | y | t | Almonds | f | c | b | ... | s | w | w | p | w | o | p | Chocolate | n | g |\n",
       "| 3 | 3 | Edible    | b | s | w | t | Fishy   | f | c | b | ... | s | w | w | p | w | o | p | Chocolate | n | m |\n",
       "| 4 | 4 | Poisonous | x | y | w | t | None    | f | c | n | ... | s | w | w | p | w | o | p | Buff      | s | u |\n",
       "| 5 | 5 | Edible    | x | s | g | f | Musty   | f | w | b | ... | s | w | w | p | w | o | e | Chocolate | a | g |\n",
       "| 6 | 6 | Edible    | x | y | y | t | Almonds | f | c | b | ... | s | w | w | p | w | o | p | Buff      | n | g |\n",
       "\n"
      ],
      "text/plain": [
       "  X Class     cap.shape cap.surface cap.color bruises odor    gill.attachment\n",
       "1 1 Poisonous x         s           n         t       None    f              \n",
       "2 2 Edible    x         s           y         t       Almonds f              \n",
       "3 3 Edible    b         s           w         t       Fishy   f              \n",
       "4 4 Poisonous x         y           w         t       None    f              \n",
       "5 5 Edible    x         s           g         f       Musty   f              \n",
       "6 6 Edible    x         y           y         t       Almonds f              \n",
       "  gill.spacing gill.size ... stalk.surface.below.ring stalk.color.above.ring\n",
       "1 c            n         ... s                        w                     \n",
       "2 c            b         ... s                        w                     \n",
       "3 c            b         ... s                        w                     \n",
       "4 c            n         ... s                        w                     \n",
       "5 w            b         ... s                        w                     \n",
       "6 c            b         ... s                        w                     \n",
       "  stalk.color.below.ring veil.type veil.color ring.number ring.type print    \n",
       "1 w                      p         w          o           p         Buff     \n",
       "2 w                      p         w          o           p         Chocolate\n",
       "3 w                      p         w          o           p         Chocolate\n",
       "4 w                      p         w          o           p         Buff     \n",
       "5 w                      p         w          o           e         Chocolate\n",
       "6 w                      p         w          o           p         Buff     \n",
       "  population habitat\n",
       "1 s          u      \n",
       "2 n          g      \n",
       "3 n          m      \n",
       "4 s          u      \n",
       "5 a          g      \n",
       "6 n          g      "
      ]
     },
     "metadata": {},
     "output_type": "display_data"
    }
   ],
   "source": [
    "#2.\n",
    "head(data)"
   ]
  },
  {
   "cell_type": "code",
   "execution_count": 4,
   "metadata": {},
   "outputs": [],
   "source": [
    "data$X <- NULL"
   ]
  },
  {
   "cell_type": "code",
   "execution_count": 5,
   "metadata": {},
   "outputs": [
    {
     "data": {
      "text/html": [
       "<table>\n",
       "<caption>A data.frame: 2 × 23</caption>\n",
       "<thead>\n",
       "\t<tr><th></th><th scope=col>Class</th><th scope=col>cap.shape</th><th scope=col>cap.surface</th><th scope=col>cap.color</th><th scope=col>bruises</th><th scope=col>odor</th><th scope=col>gill.attachment</th><th scope=col>gill.spacing</th><th scope=col>gill.size</th><th scope=col>gill.color</th><th scope=col>...</th><th scope=col>stalk.surface.below.ring</th><th scope=col>stalk.color.above.ring</th><th scope=col>stalk.color.below.ring</th><th scope=col>veil.type</th><th scope=col>veil.color</th><th scope=col>ring.number</th><th scope=col>ring.type</th><th scope=col>print</th><th scope=col>population</th><th scope=col>habitat</th></tr>\n",
       "\t<tr><th></th><th scope=col>&lt;fct&gt;</th><th scope=col>&lt;fct&gt;</th><th scope=col>&lt;fct&gt;</th><th scope=col>&lt;fct&gt;</th><th scope=col>&lt;fct&gt;</th><th scope=col>&lt;fct&gt;</th><th scope=col>&lt;fct&gt;</th><th scope=col>&lt;fct&gt;</th><th scope=col>&lt;fct&gt;</th><th scope=col>&lt;fct&gt;</th><th scope=col>...</th><th scope=col>&lt;fct&gt;</th><th scope=col>&lt;fct&gt;</th><th scope=col>&lt;fct&gt;</th><th scope=col>&lt;fct&gt;</th><th scope=col>&lt;fct&gt;</th><th scope=col>&lt;fct&gt;</th><th scope=col>&lt;fct&gt;</th><th scope=col>&lt;fct&gt;</th><th scope=col>&lt;fct&gt;</th><th scope=col>&lt;fct&gt;</th></tr>\n",
       "</thead>\n",
       "<tbody>\n",
       "\t<tr><th scope=row>1</th><td>Poisonous</td><td>x</td><td>s</td><td>n</td><td>t</td><td>None   </td><td>f</td><td>c</td><td>n</td><td>k</td><td>...</td><td>s</td><td>w</td><td>w</td><td>p</td><td>w</td><td>o</td><td>p</td><td>Buff     </td><td>s</td><td>u</td></tr>\n",
       "\t<tr><th scope=row>2</th><td>Edible   </td><td>x</td><td>s</td><td>y</td><td>t</td><td>Almonds</td><td>f</td><td>c</td><td>b</td><td>k</td><td>...</td><td>s</td><td>w</td><td>w</td><td>p</td><td>w</td><td>o</td><td>p</td><td>Chocolate</td><td>n</td><td>g</td></tr>\n",
       "</tbody>\n",
       "</table>\n"
      ],
      "text/latex": [
       "A data.frame: 2 × 23\n",
       "\\begin{tabular}{r|lllllllllllllllllllll}\n",
       "  & Class & cap.shape & cap.surface & cap.color & bruises & odor & gill.attachment & gill.spacing & gill.size & gill.color & ... & stalk.surface.below.ring & stalk.color.above.ring & stalk.color.below.ring & veil.type & veil.color & ring.number & ring.type & print & population & habitat\\\\\n",
       "  & <fct> & <fct> & <fct> & <fct> & <fct> & <fct> & <fct> & <fct> & <fct> & <fct> & ... & <fct> & <fct> & <fct> & <fct> & <fct> & <fct> & <fct> & <fct> & <fct> & <fct>\\\\\n",
       "\\hline\n",
       "\t1 & Poisonous & x & s & n & t & None    & f & c & n & k & ... & s & w & w & p & w & o & p & Buff      & s & u\\\\\n",
       "\t2 & Edible    & x & s & y & t & Almonds & f & c & b & k & ... & s & w & w & p & w & o & p & Chocolate & n & g\\\\\n",
       "\\end{tabular}\n"
      ],
      "text/markdown": [
       "\n",
       "A data.frame: 2 × 23\n",
       "\n",
       "| <!--/--> | Class &lt;fct&gt; | cap.shape &lt;fct&gt; | cap.surface &lt;fct&gt; | cap.color &lt;fct&gt; | bruises &lt;fct&gt; | odor &lt;fct&gt; | gill.attachment &lt;fct&gt; | gill.spacing &lt;fct&gt; | gill.size &lt;fct&gt; | gill.color &lt;fct&gt; | ... ... | stalk.surface.below.ring &lt;fct&gt; | stalk.color.above.ring &lt;fct&gt; | stalk.color.below.ring &lt;fct&gt; | veil.type &lt;fct&gt; | veil.color &lt;fct&gt; | ring.number &lt;fct&gt; | ring.type &lt;fct&gt; | print &lt;fct&gt; | population &lt;fct&gt; | habitat &lt;fct&gt; |\n",
       "|---|---|---|---|---|---|---|---|---|---|---|---|---|---|---|---|---|---|---|---|---|---|\n",
       "| 1 | Poisonous | x | s | n | t | None    | f | c | n | k | ... | s | w | w | p | w | o | p | Buff      | s | u |\n",
       "| 2 | Edible    | x | s | y | t | Almonds | f | c | b | k | ... | s | w | w | p | w | o | p | Chocolate | n | g |\n",
       "\n"
      ],
      "text/plain": [
       "  Class     cap.shape cap.surface cap.color bruises odor    gill.attachment\n",
       "1 Poisonous x         s           n         t       None    f              \n",
       "2 Edible    x         s           y         t       Almonds f              \n",
       "  gill.spacing gill.size gill.color ... stalk.surface.below.ring\n",
       "1 c            n         k          ... s                       \n",
       "2 c            b         k          ... s                       \n",
       "  stalk.color.above.ring stalk.color.below.ring veil.type veil.color\n",
       "1 w                      w                      p         w         \n",
       "2 w                      w                      p         w         \n",
       "  ring.number ring.type print     population habitat\n",
       "1 o           p         Buff      s          u      \n",
       "2 o           p         Chocolate n          g      "
      ]
     },
     "metadata": {},
     "output_type": "display_data"
    }
   ],
   "source": [
    "data$Class <- as.factor(data$Class)\n",
    "head(data,2)"
   ]
  },
  {
   "cell_type": "code",
   "execution_count": 6,
   "metadata": {},
   "outputs": [
    {
     "name": "stdout",
     "output_type": "stream",
     "text": [
      "[1] \"Number of rows  8124 ; Number of columns  23\"\n"
     ]
    }
   ],
   "source": [
    "print(paste('Number of rows ',toString(nrow(data)),'; Number of columns ',toString(ncol(data))))"
   ]
  },
  {
   "cell_type": "code",
   "execution_count": 7,
   "metadata": {},
   "outputs": [
    {
     "data": {
      "text/plain": [
       "       Class      cap.shape cap.surface   cap.color    bruises        odor     \n",
       " Edible   :4208   b: 452    f:2320      n      :2284   f:4748   Musty   :3528  \n",
       " Poisonous:3916   c:   4    g:   4      g      :1840   t:3376   Creosote:2160  \n",
       "                  f:3152    s:2556      e      :1500            Pungent : 576  \n",
       "                  k: 828    y:3244      y      :1072            Spicy   : 576  \n",
       "                  s:  32                w      :1040            Almonds : 400  \n",
       "                  x:3656                b      : 168            Fishy   : 400  \n",
       "                                        (Other): 220            (Other) : 484  \n",
       " gill.attachment gill.spacing gill.size   gill.color   stalk.shape stalk.root\n",
       " a: 210          c:6812       b:5612    b      :1728   e:3516      ?:2480    \n",
       " f:7914          w:1312       n:2512    p      :1492   t:4608      b:3776    \n",
       "                                        w      :1202               c: 556    \n",
       "                                        n      :1048               e:1120    \n",
       "                                        g      : 752               r: 192    \n",
       "                                        h      : 732                         \n",
       "                                        (Other):1170                         \n",
       " stalk.surface.above.ring stalk.surface.below.ring stalk.color.above.ring\n",
       " f: 552                   f: 600                   w      :4464          \n",
       " k:2372                   k:2304                   p      :1872          \n",
       " s:5176                   s:4936                   g      : 576          \n",
       " y:  24                   y: 284                   n      : 448          \n",
       "                                                   b      : 432          \n",
       "                                                   o      : 192          \n",
       "                                                   (Other): 140          \n",
       " stalk.color.below.ring veil.type veil.color ring.number ring.type\n",
       " w      :4384           p:8124    n:  96     n:  36      e:2776   \n",
       " p      :1872                     o:  96     o:7488      f:  48   \n",
       " g      : 576                     w:7924     t: 600      l:1296   \n",
       " n      : 512                     y:   8                 n:  36   \n",
       " b      : 432                                            p:3968   \n",
       " o      : 192                                                     \n",
       " (Other): 156                                                     \n",
       "       print      population habitat \n",
       " White    :2388   a: 384     d:3148  \n",
       " Chocolate:1968   c: 340     g:2148  \n",
       " Buff     :1872   n: 400     l: 832  \n",
       " Brown    :1632   s:1248     m: 292  \n",
       " Orange   :  72   v:4040     p:1144  \n",
       " Black    :  48   y:1712     u: 368  \n",
       " (Other)  : 144              w: 192  "
      ]
     },
     "metadata": {},
     "output_type": "display_data"
    }
   ],
   "source": [
    "summary(data)"
   ]
  },
  {
   "cell_type": "code",
   "execution_count": 8,
   "metadata": {},
   "outputs": [
    {
     "name": "stdout",
     "output_type": "stream",
     "text": [
      "'data.frame':\t8124 obs. of  23 variables:\n",
      " $ Class                   : Factor w/ 2 levels \"Edible\",\"Poisonous\": 2 1 1 2 1 1 1 1 2 1 ...\n",
      " $ cap.shape               : Factor w/ 6 levels \"b\",\"c\",\"f\",\"k\",..: 6 6 1 6 6 6 1 1 6 1 ...\n",
      " $ cap.surface             : Factor w/ 4 levels \"f\",\"g\",\"s\",\"y\": 3 3 3 4 3 4 3 4 4 3 ...\n",
      " $ cap.color               : Factor w/ 10 levels \"b\",\"c\",\"e\",\"g\",..: 5 10 9 9 4 10 9 9 9 10 ...\n",
      " $ bruises                 : Factor w/ 2 levels \"f\",\"t\": 2 2 2 2 1 2 2 2 2 2 ...\n",
      " $ odor                    : Factor w/ 9 levels \"Almonds\",\"Anise\",..: 7 1 4 7 6 1 1 4 7 1 ...\n",
      " $ gill.attachment         : Factor w/ 2 levels \"a\",\"f\": 2 2 2 2 2 2 2 2 2 2 ...\n",
      " $ gill.spacing            : Factor w/ 2 levels \"c\",\"w\": 1 1 1 1 2 1 1 1 1 1 ...\n",
      " $ gill.size               : Factor w/ 2 levels \"b\",\"n\": 2 1 1 2 1 1 1 1 2 1 ...\n",
      " $ gill.color              : Factor w/ 12 levels \"b\",\"e\",\"g\",\"h\",..: 5 5 6 6 5 6 3 6 8 3 ...\n",
      " $ stalk.shape             : Factor w/ 2 levels \"e\",\"t\": 1 1 1 1 2 1 1 1 1 1 ...\n",
      " $ stalk.root              : Factor w/ 5 levels \"?\",\"b\",\"c\",\"e\",..: 4 3 3 4 4 3 3 3 4 3 ...\n",
      " $ stalk.surface.above.ring: Factor w/ 4 levels \"f\",\"k\",\"s\",\"y\": 3 3 3 3 3 3 3 3 3 3 ...\n",
      " $ stalk.surface.below.ring: Factor w/ 4 levels \"f\",\"k\",\"s\",\"y\": 3 3 3 3 3 3 3 3 3 3 ...\n",
      " $ stalk.color.above.ring  : Factor w/ 9 levels \"b\",\"c\",\"e\",\"g\",..: 8 8 8 8 8 8 8 8 8 8 ...\n",
      " $ stalk.color.below.ring  : Factor w/ 9 levels \"b\",\"c\",\"e\",\"g\",..: 8 8 8 8 8 8 8 8 8 8 ...\n",
      " $ veil.type               : Factor w/ 1 level \"p\": 1 1 1 1 1 1 1 1 1 1 ...\n",
      " $ veil.color              : Factor w/ 4 levels \"n\",\"o\",\"w\",\"y\": 3 3 3 3 3 3 3 3 3 3 ...\n",
      " $ ring.number             : Factor w/ 3 levels \"n\",\"o\",\"t\": 2 2 2 2 2 2 2 2 2 2 ...\n",
      " $ ring.type               : Factor w/ 5 levels \"e\",\"f\",\"l\",\"n\",..: 5 5 5 5 1 5 5 5 5 5 ...\n",
      " $ print                   : Factor w/ 9 levels \"Black\",\"Brown\",..: 3 4 4 3 4 3 3 4 3 3 ...\n",
      " $ population              : Factor w/ 6 levels \"a\",\"c\",\"n\",\"s\",..: 4 3 3 4 1 3 3 4 5 4 ...\n",
      " $ habitat                 : Factor w/ 7 levels \"d\",\"g\",\"l\",\"m\",..: 6 2 4 6 2 2 4 4 2 4 ...\n"
     ]
    }
   ],
   "source": [
    "str(data)"
   ]
  },
  {
   "cell_type": "markdown",
   "metadata": {},
   "source": [
    "veil.type have 1 class (30 minute for this situation !!!) huhu"
   ]
  },
  {
   "cell_type": "code",
   "execution_count": 9,
   "metadata": {},
   "outputs": [],
   "source": [
    "data$veil.type <- NULL "
   ]
  },
  {
   "cell_type": "code",
   "execution_count": 10,
   "metadata": {},
   "outputs": [
    {
     "data": {
      "image/png": "[encoded data removed]",
      "text/plain": [
       "Plot with title \"Missing value vs observed\""
      ]
     },
     "metadata": {
      "image/png": {
       "height": 420,
       "width": 420
      }
     },
     "output_type": "display_data"
    }
   ],
   "source": [
    "#3.\n",
    "missmap(data, main='Missing value vs observed')"
   ]
  },
  {
   "cell_type": "markdown",
   "metadata": {},
   "source": [
    "- Dữ liệu không bị thiếu\n",
    "- Tất cả biến input đều là factors"
   ]
  },
  {
   "cell_type": "code",
   "execution_count": 11,
   "metadata": {},
   "outputs": [
    {
     "name": "stdout",
     "output_type": "stream",
     "text": [
      "[1] 5687\n",
      "[1] 2437\n"
     ]
    }
   ],
   "source": [
    "# 4.\n",
    "n = nrow(data)\n",
    "trainIndex <- sample(1:n, size=round(0.7*n), replace=FALSE)\n",
    "train = data[trainIndex,]\n",
    "test = data[-trainIndex,]\n",
    "print(nrow(train))\n",
    "print(nrow(test))"
   ]
  },
  {
   "cell_type": "code",
   "execution_count": 12,
   "metadata": {},
   "outputs": [
    {
     "data": {
      "text/html": [
       "<table>\n",
       "<caption>A data.frame: 6 × 22</caption>\n",
       "<thead>\n",
       "\t<tr><th></th><th scope=col>Class</th><th scope=col>cap.shape</th><th scope=col>cap.surface</th><th scope=col>cap.color</th><th scope=col>bruises</th><th scope=col>odor</th><th scope=col>gill.attachment</th><th scope=col>gill.spacing</th><th scope=col>gill.size</th><th scope=col>gill.color</th><th scope=col>...</th><th scope=col>stalk.surface.above.ring</th><th scope=col>stalk.surface.below.ring</th><th scope=col>stalk.color.above.ring</th><th scope=col>stalk.color.below.ring</th><th scope=col>veil.color</th><th scope=col>ring.number</th><th scope=col>ring.type</th><th scope=col>print</th><th scope=col>population</th><th scope=col>habitat</th></tr>\n",
       "\t<tr><th></th><th scope=col>&lt;fct&gt;</th><th scope=col>&lt;fct&gt;</th><th scope=col>&lt;fct&gt;</th><th scope=col>&lt;fct&gt;</th><th scope=col>&lt;fct&gt;</th><th scope=col>&lt;fct&gt;</th><th scope=col>&lt;fct&gt;</th><th scope=col>&lt;fct&gt;</th><th scope=col>&lt;fct&gt;</th><th scope=col>&lt;fct&gt;</th><th scope=col>...</th><th scope=col>&lt;fct&gt;</th><th scope=col>&lt;fct&gt;</th><th scope=col>&lt;fct&gt;</th><th scope=col>&lt;fct&gt;</th><th scope=col>&lt;fct&gt;</th><th scope=col>&lt;fct&gt;</th><th scope=col>&lt;fct&gt;</th><th scope=col>&lt;fct&gt;</th><th scope=col>&lt;fct&gt;</th><th scope=col>&lt;fct&gt;</th></tr>\n",
       "</thead>\n",
       "<tbody>\n",
       "\t<tr><th scope=row>6592</th><td>Poisonous</td><td>f</td><td>y</td><td>n</td><td>f</td><td>Pungent </td><td>f</td><td>c</td><td>n</td><td>b</td><td>...</td><td>k</td><td>s</td><td>p</td><td>w</td><td>w</td><td>o</td><td>e</td><td>White</td><td>v</td><td>d</td></tr>\n",
       "\t<tr><th scope=row>6573</th><td>Poisonous</td><td>f</td><td>y</td><td>e</td><td>f</td><td>Creosote</td><td>f</td><td>c</td><td>n</td><td>b</td><td>...</td><td>k</td><td>s</td><td>p</td><td>w</td><td>w</td><td>o</td><td>e</td><td>White</td><td>v</td><td>l</td></tr>\n",
       "\t<tr><th scope=row>2936</th><td>Edible   </td><td>f</td><td>y</td><td>g</td><td>t</td><td>Musty   </td><td>f</td><td>c</td><td>b</td><td>w</td><td>...</td><td>s</td><td>s</td><td>w</td><td>w</td><td>w</td><td>o</td><td>p</td><td>Buff </td><td>v</td><td>d</td></tr>\n",
       "\t<tr><th scope=row>741</th><td>Edible   </td><td>x</td><td>f</td><td>n</td><td>f</td><td>Musty   </td><td>f</td><td>c</td><td>n</td><td>p</td><td>...</td><td>s</td><td>s</td><td>w</td><td>w</td><td>w</td><td>o</td><td>p</td><td>Buff </td><td>v</td><td>u</td></tr>\n",
       "\t<tr><th scope=row>1756</th><td>Edible   </td><td>f</td><td>f</td><td>n</td><td>f</td><td>Musty   </td><td>f</td><td>w</td><td>b</td><td>h</td><td>...</td><td>f</td><td>s</td><td>w</td><td>w</td><td>w</td><td>o</td><td>e</td><td>Buff </td><td>s</td><td>g</td></tr>\n",
       "\t<tr><th scope=row>7483</th><td>Poisonous</td><td>k</td><td>s</td><td>n</td><td>f</td><td>Spicy   </td><td>f</td><td>c</td><td>n</td><td>b</td><td>...</td><td>k</td><td>k</td><td>p</td><td>p</td><td>w</td><td>o</td><td>e</td><td>White</td><td>v</td><td>p</td></tr>\n",
       "</tbody>\n",
       "</table>\n"
      ],
      "text/latex": [
       "A data.frame: 6 × 22\n",
       "\\begin{tabular}{r|lllllllllllllllllllll}\n",
       "  & Class & cap.shape & cap.surface & cap.color & bruises & odor & gill.attachment & gill.spacing & gill.size & gill.color & ... & stalk.surface.above.ring & stalk.surface.below.ring & stalk.color.above.ring & stalk.color.below.ring & veil.color & ring.number & ring.type & print & population & habitat\\\\\n",
       "  & <fct> & <fct> & <fct> & <fct> & <fct> & <fct> & <fct> & <fct> & <fct> & <fct> & ... & <fct> & <fct> & <fct> & <fct> & <fct> & <fct> & <fct> & <fct> & <fct> & <fct>\\\\\n",
       "\\hline\n",
       "\t6592 & Poisonous & f & y & n & f & Pungent  & f & c & n & b & ... & k & s & p & w & w & o & e & White & v & d\\\\\n",
       "\t6573 & Poisonous & f & y & e & f & Creosote & f & c & n & b & ... & k & s & p & w & w & o & e & White & v & l\\\\\n",
       "\t2936 & Edible    & f & y & g & t & Musty    & f & c & b & w & ... & s & s & w & w & w & o & p & Buff  & v & d\\\\\n",
       "\t741 & Edible    & x & f & n & f & Musty    & f & c & n & p & ... & s & s & w & w & w & o & p & Buff  & v & u\\\\\n",
       "\t1756 & Edible    & f & f & n & f & Musty    & f & w & b & h & ... & f & s & w & w & w & o & e & Buff  & s & g\\\\\n",
       "\t7483 & Poisonous & k & s & n & f & Spicy    & f & c & n & b & ... & k & k & p & p & w & o & e & White & v & p\\\\\n",
       "\\end{tabular}\n"
      ],
      "text/markdown": [
       "\n",
       "A data.frame: 6 × 22\n",
       "\n",
       "| <!--/--> | Class &lt;fct&gt; | cap.shape &lt;fct&gt; | cap.surface &lt;fct&gt; | cap.color &lt;fct&gt; | bruises &lt;fct&gt; | odor &lt;fct&gt; | gill.attachment &lt;fct&gt; | gill.spacing &lt;fct&gt; | gill.size &lt;fct&gt; | gill.color &lt;fct&gt; | ... ... | stalk.surface.above.ring &lt;fct&gt; | stalk.surface.below.ring &lt;fct&gt; | stalk.color.above.ring &lt;fct&gt; | stalk.color.below.ring &lt;fct&gt; | veil.color &lt;fct&gt; | ring.number &lt;fct&gt; | ring.type &lt;fct&gt; | print &lt;fct&gt; | population &lt;fct&gt; | habitat &lt;fct&gt; |\n",
       "|---|---|---|---|---|---|---|---|---|---|---|---|---|---|---|---|---|---|---|---|---|---|\n",
       "| 6592 | Poisonous | f | y | n | f | Pungent  | f | c | n | b | ... | k | s | p | w | w | o | e | White | v | d |\n",
       "| 6573 | Poisonous | f | y | e | f | Creosote | f | c | n | b | ... | k | s | p | w | w | o | e | White | v | l |\n",
       "| 2936 | Edible    | f | y | g | t | Musty    | f | c | b | w | ... | s | s | w | w | w | o | p | Buff  | v | d |\n",
       "| 741 | Edible    | x | f | n | f | Musty    | f | c | n | p | ... | s | s | w | w | w | o | p | Buff  | v | u |\n",
       "| 1756 | Edible    | f | f | n | f | Musty    | f | w | b | h | ... | f | s | w | w | w | o | e | Buff  | s | g |\n",
       "| 7483 | Poisonous | k | s | n | f | Spicy    | f | c | n | b | ... | k | k | p | p | w | o | e | White | v | p |\n",
       "\n"
      ],
      "text/plain": [
       "     Class     cap.shape cap.surface cap.color bruises odor     gill.attachment\n",
       "6592 Poisonous f         y           n         f       Pungent  f              \n",
       "6573 Poisonous f         y           e         f       Creosote f              \n",
       "2936 Edible    f         y           g         t       Musty    f              \n",
       "741  Edible    x         f           n         f       Musty    f              \n",
       "1756 Edible    f         f           n         f       Musty    f              \n",
       "7483 Poisonous k         s           n         f       Spicy    f              \n",
       "     gill.spacing gill.size gill.color ... stalk.surface.above.ring\n",
       "6592 c            n         b          ... k                       \n",
       "6573 c            n         b          ... k                       \n",
       "2936 c            b         w          ... s                       \n",
       "741  c            n         p          ... s                       \n",
       "1756 w            b         h          ... f                       \n",
       "7483 c            n         b          ... k                       \n",
       "     stalk.surface.below.ring stalk.color.above.ring stalk.color.below.ring\n",
       "6592 s                        p                      w                     \n",
       "6573 s                        p                      w                     \n",
       "2936 s                        w                      w                     \n",
       "741  s                        w                      w                     \n",
       "1756 s                        w                      w                     \n",
       "7483 k                        p                      p                     \n",
       "     veil.color ring.number ring.type print population habitat\n",
       "6592 w          o           e         White v          d      \n",
       "6573 w          o           e         White v          l      \n",
       "2936 w          o           p         Buff  v          d      \n",
       "741  w          o           p         Buff  v          u      \n",
       "1756 w          o           e         Buff  s          g      \n",
       "7483 w          o           e         White v          p      "
      ]
     },
     "metadata": {},
     "output_type": "display_data"
    }
   ],
   "source": [
    "head(train)"
   ]
  },
  {
   "cell_type": "code",
   "execution_count": 13,
   "metadata": {},
   "outputs": [
    {
     "name": "stderr",
     "output_type": "stream",
     "text": [
      "Warning message:\n",
      "\"glm.fit: algorithm did not converge\"\n"
     ]
    }
   ],
   "source": [
    "#5.\n",
    "mylogit <- glm(as.factor(Class) ~ ., data=train, family='binomial')"
   ]
  },
  {
   "cell_type": "code",
   "execution_count": 14,
   "metadata": {},
   "outputs": [
    {
     "name": "stdout",
     "output_type": "stream",
     "text": [
      "\n",
      "Call:\n",
      "glm(formula = as.factor(Class) ~ ., family = \"binomial\", data = train)\n",
      "\n",
      "Deviance Residuals: \n",
      "       Min          1Q      Median          3Q         Max  \n",
      "-2.409e-06  -2.409e-06  -2.409e-06   2.409e-06   2.409e-06  \n",
      "\n",
      "Coefficients: (10 not defined because of singularities)\n",
      "                            Estimate Std. Error z value Pr(>|z|)\n",
      "(Intercept)               -2.657e+01  3.778e+05       0        1\n",
      "cap.shapec                -6.905e-07  2.381e+05       0        1\n",
      "cap.shapef                 2.685e-08  2.797e+04       0        1\n",
      "cap.shapek                 2.304e-08  3.043e+04       0        1\n",
      "cap.shapes                 5.064e-08  9.761e+04       0        1\n",
      "cap.shapex                 1.858e-08  2.674e+04       0        1\n",
      "cap.surfaceg               3.180e-07  2.787e+05       0        1\n",
      "cap.surfaces              -6.312e-09  1.606e+04       0        1\n",
      "cap.surfacey              -7.351e-09  1.341e+04       0        1\n",
      "cap.colorc                -1.301e-08  9.603e+04       0        1\n",
      "cap.colore                -9.822e-09  4.285e+04       0        1\n",
      "cap.colorg                 3.669e-09  4.088e+04       0        1\n",
      "cap.colorn                -1.440e-08  4.180e+04       0        1\n",
      "cap.colorp                 2.468e-08  5.300e+04       0        1\n",
      "cap.colorr                 1.035e-07  1.609e+05       0        1\n",
      "cap.coloru                -3.235e-07  1.543e+05       0        1\n",
      "cap.colorw                -5.026e-08  4.094e+04       0        1\n",
      "cap.colory                -6.016e-08  4.387e+04       0        1\n",
      "bruisest                   2.657e+01  1.389e+05       0        1\n",
      "odorAnise                  2.657e+01  1.669e+05       0        1\n",
      "odorCreosote              -2.657e+01  4.120e+05       0        1\n",
      "odorFishy                  2.702e-08  3.051e+04       0        1\n",
      "odorFoul                   1.328e+02  6.536e+05       0        1\n",
      "odorMusty                 -7.970e+01  3.965e+05       0        1\n",
      "odorNone                  -5.313e+01  4.922e+05       0        1\n",
      "odorPungent               -2.657e+01  4.128e+05       0        1\n",
      "odorSpicy                 -2.657e+01  4.128e+05       0        1\n",
      "gill.attachmentf           5.686e-07  1.591e+05       0        1\n",
      "gill.spacingw              3.420e-07  6.138e+04       0        1\n",
      "gill.sizen                -7.970e+01  3.696e+05       0        1\n",
      "gill.colore               -2.657e+01  2.580e+05       0        1\n",
      "gill.colorg               -2.657e+01  2.554e+05       0        1\n",
      "gill.colorh               -2.657e+01  2.549e+05       0        1\n",
      "gill.colork               -2.657e+01  2.557e+05       0        1\n",
      "gill.colorn               -2.657e+01  2.553e+05       0        1\n",
      "gill.coloro               -2.657e+01  2.683e+05       0        1\n",
      "gill.colorp               -2.657e+01  2.547e+05       0        1\n",
      "gill.colorr               -2.657e+01  2.770e+05       0        1\n",
      "gill.coloru               -2.657e+01  2.560e+05       0        1\n",
      "gill.colorw               -2.657e+01  2.543e+05       0        1\n",
      "gill.colory               -2.657e+01  2.648e+05       0        1\n",
      "stalk.shapet              -5.313e+01  2.409e+05       0        1\n",
      "stalk.rootb               -2.657e+01  1.679e+05       0        1\n",
      "stalk.rootc               -1.594e+02  7.510e+05       0        1\n",
      "stalk.roote                2.657e+01  1.516e+05       0        1\n",
      "stalk.rootr               -1.860e+02  6.518e+05       0        1\n",
      "stalk.surface.above.ringk  4.864e-11  3.185e+04       0        1\n",
      "stalk.surface.above.rings  2.141e-09  2.555e+04       0        1\n",
      "stalk.surface.above.ringy -3.983e-07  3.504e+05       0        1\n",
      "stalk.surface.below.ringk -2.305e-08  3.184e+04       0        1\n",
      "stalk.surface.below.rings -1.815e-08  2.554e+04       0        1\n",
      "stalk.surface.below.ringy  2.657e+01  2.194e+05       0        1\n",
      "stalk.color.above.ringc           NA         NA      NA       NA\n",
      "stalk.color.above.ringe    5.806e-08  6.980e+04       0        1\n",
      "stalk.color.above.ringg    6.106e-08  3.702e+04       0        1\n",
      "stalk.color.above.ringn    1.127e-07  2.886e+04       0        1\n",
      "stalk.color.above.ringo   -5.313e+01  3.211e+05       0        1\n",
      "stalk.color.above.ringp    6.644e-08  2.905e+04       0        1\n",
      "stalk.color.above.ringw    6.070e-08  3.310e+04       0        1\n",
      "stalk.color.above.ringy    1.594e+02  6.130e+05       0        1\n",
      "stalk.color.below.ringc           NA         NA      NA       NA\n",
      "stalk.color.below.ringe   -1.496e-07  6.944e+04       0        1\n",
      "stalk.color.below.ringg   -1.505e-07  3.671e+04       0        1\n",
      "stalk.color.below.ringn   -1.876e-07  2.885e+04       0        1\n",
      "stalk.color.below.ringo           NA         NA      NA       NA\n",
      "stalk.color.below.ringp   -1.494e-07  2.862e+04       0        1\n",
      "stalk.color.below.ringw   -1.503e-07  3.272e+04       0        1\n",
      "stalk.color.below.ringy   -1.842e-07  1.549e+05       0        1\n",
      "veil.coloro               -1.431e-09  6.458e+04       0        1\n",
      "veil.colorw                       NA         NA      NA       NA\n",
      "veil.colory                       NA         NA      NA       NA\n",
      "ring.numbero               1.328e+02  5.888e+05       0        1\n",
      "ring.numbert                      NA         NA      NA       NA\n",
      "ring.typef                 5.313e+01  3.019e+05       0        1\n",
      "ring.typel                        NA         NA      NA       NA\n",
      "ring.typen                        NA         NA      NA       NA\n",
      "ring.typep                 2.657e+01  1.240e+05       0        1\n",
      "printBrown                        NA         NA      NA       NA\n",
      "printBuff                 -9.331e-09  9.112e+04       0        1\n",
      "printChocolate            -2.668e-09  9.005e+04       0        1\n",
      "printGreen                 1.048e-10  9.502e+04       0        1\n",
      "printOrange                1.328e+02  3.997e+05       0        1\n",
      "printPurple                1.528e-09  1.253e+05       0        1\n",
      "printWhite                 7.970e+01  3.801e+05       0        1\n",
      "printYellow               -3.798e-09  9.561e+04       0        1\n",
      "populationc                3.041e-08  7.669e+04       0        1\n",
      "populationn               -8.599e-09  4.297e+04       0        1\n",
      "populations               -9.408e-09  3.092e+04       0        1\n",
      "populationv                3.150e-08  4.186e+04       0        1\n",
      "populationy                3.281e-08  4.346e+04       0        1\n",
      "habitatg                   1.860e-08  2.576e+04       0        1\n",
      "habitatl                  -1.513e-08  2.396e+04       0        1\n",
      "habitatm                   2.733e-08  4.364e+04       0        1\n",
      "habitatp                  -2.814e-08  1.867e+04       0        1\n",
      "habitatu                   1.357e-08  4.424e+04       0        1\n",
      "habitatw                          NA         NA      NA       NA\n",
      "\n",
      "(Dispersion parameter for binomial family taken to be 1)\n",
      "\n",
      "    Null deviance: 7.8765e+03  on 5686  degrees of freedom\n",
      "Residual deviance: 3.2994e-08  on 5601  degrees of freedom\n",
      "AIC: 172\n",
      "\n",
      "Number of Fisher Scoring iterations: 25\n",
      "\n"
     ]
    }
   ],
   "source": [
    "#6 \n",
    "print(summary(mylogit))"
   ]
  },
  {
   "cell_type": "code",
   "execution_count": 15,
   "metadata": {},
   "outputs": [],
   "source": [
    "# test[-1]"
   ]
  },
  {
   "cell_type": "code",
   "execution_count": 16,
   "metadata": {},
   "outputs": [
    {
     "name": "stderr",
     "output_type": "stream",
     "text": [
      "Warning message in predict.lm(object, newdata, se.fit, scale = 1, type = if (type == :\n",
      "\"prediction from a rank-deficient fit may be misleading\"\n"
     ]
    }
   ],
   "source": [
    "#7.\n",
    "pred = predict(mylogit, newdata=test[-1], type='response')\n",
    "# pred"
   ]
  },
  {
   "cell_type": "code",
   "execution_count": 17,
   "metadata": {},
   "outputs": [
    {
     "name": "stdout",
     "output_type": "stream",
     "text": [
      "   testActutal   Predict\n",
      "1    Poisonous    Edible\n",
      "4    Poisonous    Edible\n",
      "7       Edible Poisonous\n",
      "14   Poisonous    Edible\n",
      "15      Edible Poisonous\n",
      "16      Edible Poisonous\n"
     ]
    }
   ],
   "source": [
    "pred_value <- ifelse(pred >0.5,'Edible','Poisonous')\n",
    "result <- data.frame(testActutal = test$Class, Predict=pred_value)\n",
    "print(head(result))"
   ]
  },
  {
   "cell_type": "code",
   "execution_count": 18,
   "metadata": {},
   "outputs": [
    {
     "data": {
      "text/html": [
       "<table>\n",
       "<caption>A data.frame: 6 × 22</caption>\n",
       "<thead>\n",
       "\t<tr><th></th><th scope=col>Class</th><th scope=col>cap.shape</th><th scope=col>cap.surface</th><th scope=col>cap.color</th><th scope=col>bruises</th><th scope=col>odor</th><th scope=col>gill.attachment</th><th scope=col>gill.spacing</th><th scope=col>gill.size</th><th scope=col>gill.color</th><th scope=col>...</th><th scope=col>stalk.surface.above.ring</th><th scope=col>stalk.surface.below.ring</th><th scope=col>stalk.color.above.ring</th><th scope=col>stalk.color.below.ring</th><th scope=col>veil.color</th><th scope=col>ring.number</th><th scope=col>ring.type</th><th scope=col>print</th><th scope=col>population</th><th scope=col>habitat</th></tr>\n",
       "\t<tr><th></th><th scope=col>&lt;fct&gt;</th><th scope=col>&lt;fct&gt;</th><th scope=col>&lt;fct&gt;</th><th scope=col>&lt;fct&gt;</th><th scope=col>&lt;fct&gt;</th><th scope=col>&lt;fct&gt;</th><th scope=col>&lt;fct&gt;</th><th scope=col>&lt;fct&gt;</th><th scope=col>&lt;fct&gt;</th><th scope=col>&lt;fct&gt;</th><th scope=col>...</th><th scope=col>&lt;fct&gt;</th><th scope=col>&lt;fct&gt;</th><th scope=col>&lt;fct&gt;</th><th scope=col>&lt;fct&gt;</th><th scope=col>&lt;fct&gt;</th><th scope=col>&lt;fct&gt;</th><th scope=col>&lt;fct&gt;</th><th scope=col>&lt;fct&gt;</th><th scope=col>&lt;fct&gt;</th><th scope=col>&lt;fct&gt;</th></tr>\n",
       "</thead>\n",
       "<tbody>\n",
       "\t<tr><th scope=row>1</th><td>Poisonous</td><td>x</td><td>s</td><td>n</td><td>t</td><td>None   </td><td>f</td><td>c</td><td>n</td><td>k</td><td>...</td><td>s</td><td>s</td><td>w</td><td>w</td><td>w</td><td>o</td><td>p</td><td>Buff     </td><td>s</td><td>u</td></tr>\n",
       "\t<tr><th scope=row>4</th><td>Poisonous</td><td>x</td><td>y</td><td>w</td><td>t</td><td>None   </td><td>f</td><td>c</td><td>n</td><td>n</td><td>...</td><td>s</td><td>s</td><td>w</td><td>w</td><td>w</td><td>o</td><td>p</td><td>Buff     </td><td>s</td><td>u</td></tr>\n",
       "\t<tr><th scope=row>7</th><td>Edible   </td><td>b</td><td>s</td><td>w</td><td>t</td><td>Almonds</td><td>f</td><td>c</td><td>b</td><td>g</td><td>...</td><td>s</td><td>s</td><td>w</td><td>w</td><td>w</td><td>o</td><td>p</td><td>Buff     </td><td>n</td><td>m</td></tr>\n",
       "\t<tr><th scope=row>14</th><td>Poisonous</td><td>x</td><td>y</td><td>w</td><td>t</td><td>None   </td><td>f</td><td>c</td><td>n</td><td>k</td><td>...</td><td>s</td><td>s</td><td>w</td><td>w</td><td>w</td><td>o</td><td>p</td><td>Chocolate</td><td>v</td><td>u</td></tr>\n",
       "\t<tr><th scope=row>15</th><td>Edible   </td><td>x</td><td>f</td><td>n</td><td>f</td><td>Musty  </td><td>f</td><td>w</td><td>b</td><td>n</td><td>...</td><td>s</td><td>f</td><td>w</td><td>w</td><td>w</td><td>o</td><td>e</td><td>Buff     </td><td>a</td><td>g</td></tr>\n",
       "\t<tr><th scope=row>16</th><td>Edible   </td><td>s</td><td>f</td><td>g</td><td>f</td><td>Musty  </td><td>f</td><td>c</td><td>n</td><td>k</td><td>...</td><td>s</td><td>s</td><td>w</td><td>w</td><td>w</td><td>o</td><td>p</td><td>Chocolate</td><td>y</td><td>u</td></tr>\n",
       "</tbody>\n",
       "</table>\n"
      ],
      "text/latex": [
       "A data.frame: 6 × 22\n",
       "\\begin{tabular}{r|lllllllllllllllllllll}\n",
       "  & Class & cap.shape & cap.surface & cap.color & bruises & odor & gill.attachment & gill.spacing & gill.size & gill.color & ... & stalk.surface.above.ring & stalk.surface.below.ring & stalk.color.above.ring & stalk.color.below.ring & veil.color & ring.number & ring.type & print & population & habitat\\\\\n",
       "  & <fct> & <fct> & <fct> & <fct> & <fct> & <fct> & <fct> & <fct> & <fct> & <fct> & ... & <fct> & <fct> & <fct> & <fct> & <fct> & <fct> & <fct> & <fct> & <fct> & <fct>\\\\\n",
       "\\hline\n",
       "\t1 & Poisonous & x & s & n & t & None    & f & c & n & k & ... & s & s & w & w & w & o & p & Buff      & s & u\\\\\n",
       "\t4 & Poisonous & x & y & w & t & None    & f & c & n & n & ... & s & s & w & w & w & o & p & Buff      & s & u\\\\\n",
       "\t7 & Edible    & b & s & w & t & Almonds & f & c & b & g & ... & s & s & w & w & w & o & p & Buff      & n & m\\\\\n",
       "\t14 & Poisonous & x & y & w & t & None    & f & c & n & k & ... & s & s & w & w & w & o & p & Chocolate & v & u\\\\\n",
       "\t15 & Edible    & x & f & n & f & Musty   & f & w & b & n & ... & s & f & w & w & w & o & e & Buff      & a & g\\\\\n",
       "\t16 & Edible    & s & f & g & f & Musty   & f & c & n & k & ... & s & s & w & w & w & o & p & Chocolate & y & u\\\\\n",
       "\\end{tabular}\n"
      ],
      "text/markdown": [
       "\n",
       "A data.frame: 6 × 22\n",
       "\n",
       "| <!--/--> | Class &lt;fct&gt; | cap.shape &lt;fct&gt; | cap.surface &lt;fct&gt; | cap.color &lt;fct&gt; | bruises &lt;fct&gt; | odor &lt;fct&gt; | gill.attachment &lt;fct&gt; | gill.spacing &lt;fct&gt; | gill.size &lt;fct&gt; | gill.color &lt;fct&gt; | ... ... | stalk.surface.above.ring &lt;fct&gt; | stalk.surface.below.ring &lt;fct&gt; | stalk.color.above.ring &lt;fct&gt; | stalk.color.below.ring &lt;fct&gt; | veil.color &lt;fct&gt; | ring.number &lt;fct&gt; | ring.type &lt;fct&gt; | print &lt;fct&gt; | population &lt;fct&gt; | habitat &lt;fct&gt; |\n",
       "|---|---|---|---|---|---|---|---|---|---|---|---|---|---|---|---|---|---|---|---|---|---|\n",
       "| 1 | Poisonous | x | s | n | t | None    | f | c | n | k | ... | s | s | w | w | w | o | p | Buff      | s | u |\n",
       "| 4 | Poisonous | x | y | w | t | None    | f | c | n | n | ... | s | s | w | w | w | o | p | Buff      | s | u |\n",
       "| 7 | Edible    | b | s | w | t | Almonds | f | c | b | g | ... | s | s | w | w | w | o | p | Buff      | n | m |\n",
       "| 14 | Poisonous | x | y | w | t | None    | f | c | n | k | ... | s | s | w | w | w | o | p | Chocolate | v | u |\n",
       "| 15 | Edible    | x | f | n | f | Musty   | f | w | b | n | ... | s | f | w | w | w | o | e | Buff      | a | g |\n",
       "| 16 | Edible    | s | f | g | f | Musty   | f | c | n | k | ... | s | s | w | w | w | o | p | Chocolate | y | u |\n",
       "\n"
      ],
      "text/plain": [
       "   Class     cap.shape cap.surface cap.color bruises odor    gill.attachment\n",
       "1  Poisonous x         s           n         t       None    f              \n",
       "4  Poisonous x         y           w         t       None    f              \n",
       "7  Edible    b         s           w         t       Almonds f              \n",
       "14 Poisonous x         y           w         t       None    f              \n",
       "15 Edible    x         f           n         f       Musty   f              \n",
       "16 Edible    s         f           g         f       Musty   f              \n",
       "   gill.spacing gill.size gill.color ... stalk.surface.above.ring\n",
       "1  c            n         k          ... s                       \n",
       "4  c            n         n          ... s                       \n",
       "7  c            b         g          ... s                       \n",
       "14 c            n         k          ... s                       \n",
       "15 w            b         n          ... s                       \n",
       "16 c            n         k          ... s                       \n",
       "   stalk.surface.below.ring stalk.color.above.ring stalk.color.below.ring\n",
       "1  s                        w                      w                     \n",
       "4  s                        w                      w                     \n",
       "7  s                        w                      w                     \n",
       "14 s                        w                      w                     \n",
       "15 f                        w                      w                     \n",
       "16 s                        w                      w                     \n",
       "   veil.color ring.number ring.type print     population habitat\n",
       "1  w          o           p         Buff      s          u      \n",
       "4  w          o           p         Buff      s          u      \n",
       "7  w          o           p         Buff      n          m      \n",
       "14 w          o           p         Chocolate v          u      \n",
       "15 w          o           e         Buff      a          g      \n",
       "16 w          o           p         Chocolate y          u      "
      ]
     },
     "metadata": {},
     "output_type": "display_data"
    }
   ],
   "source": [
    "head(test)"
   ]
  },
  {
   "cell_type": "code",
   "execution_count": 19,
   "metadata": {},
   "outputs": [
    {
     "name": "stdout",
     "output_type": "stream",
     "text": [
      "[1] \"Accuracy test:  0\"\n"
     ]
    }
   ],
   "source": [
    "accuracy <- table(pred_value, test[,'Class'])\n",
    "accuracy <- sum(diag(accuracy))/sum(accuracy)\n",
    "print(paste('Accuracy test: ', accuracy))"
   ]
  },
  {
   "cell_type": "markdown",
   "metadata": {},
   "source": [
    "Model dự đoán đúng hết ở test"
   ]
  },
  {
   "cell_type": "code",
   "execution_count": 20,
   "metadata": {},
   "outputs": [
    {
     "name": "stdout",
     "output_type": "stream",
     "text": [
      "[1] \"Accuracy  0\"\n"
     ]
    }
   ],
   "source": [
    "misClassificError <- mean(pred_value != test$Class)\n",
    "print(paste('Accuracy ',1-misClassificError))"
   ]
  },
  {
   "cell_type": "markdown",
   "metadata": {},
   "source": [
    "# Do quá nhiều yếu tố factor khiến dữ liệu không có liên tục -> Không thể có khoảng chạy (0,1)\n",
    "=> Thuật toán không hội tụ\n",
    "- Overfitting"
   ]
  },
  {
   "cell_type": "code",
   "execution_count": 21,
   "metadata": {},
   "outputs": [
    {
     "data": {
      "text/plain": [
       "Confusion Matrix and Statistics\n",
       "\n",
       "           Reference\n",
       "Prediction  Edible Poisonous\n",
       "  Edible         0      1175\n",
       "  Poisonous   1262         0\n",
       "                                     \n",
       "               Accuracy : 0          \n",
       "                 95% CI : (0, 0.0015)\n",
       "    No Information Rate : 0.5178     \n",
       "    P-Value [Acc > NIR] : 1.00000    \n",
       "                                     \n",
       "                  Kappa : -0.9975    \n",
       "                                     \n",
       " Mcnemar's Test P-Value : 0.08149    \n",
       "                                     \n",
       "            Sensitivity : 0.0000     \n",
       "            Specificity : 0.0000     \n",
       "         Pos Pred Value : 0.0000     \n",
       "         Neg Pred Value : 0.0000     \n",
       "             Prevalence : 0.5178     \n",
       "         Detection Rate : 0.0000     \n",
       "   Detection Prevalence : 0.4822     \n",
       "      Balanced Accuracy : 0.0000     \n",
       "                                     \n",
       "       'Positive' Class : Edible     \n",
       "                                     "
      ]
     },
     "metadata": {},
     "output_type": "display_data"
    }
   ],
   "source": [
    "confusionMatrix(factor(pred_value), factor(test$Class))"
   ]
  },
  {
   "cell_type": "markdown",
   "metadata": {},
   "source": [
    "Logistics Regression hoàn toàn không phù hợp"
   ]
  },
  {
   "cell_type": "markdown",
   "metadata": {},
   "source": [
    "# Decision tree"
   ]
  },
  {
   "cell_type": "code",
   "execution_count": 22,
   "metadata": {},
   "outputs": [],
   "source": [
    "data.tree <- rpart(Class~., data=train, method='class')"
   ]
  },
  {
   "cell_type": "code",
   "execution_count": 23,
   "metadata": {},
   "outputs": [
    {
     "name": "stdout",
     "output_type": "stream",
     "text": [
      "n= 5687 \n",
      "\n",
      "node), split, n, loss, yval, (yprob)\n",
      "      * denotes terminal node\n",
      "\n",
      "1) root 5687 2741 Edible (0.51802356 0.48197644)  \n",
      "  2) odor=Almonds,Fishy,Musty 3033   87 Edible (0.97131553 0.02868447)  \n",
      "    4) print=Black,Brown,Buff,Chocolate,Green,Purple,White,Yellow 2984   38 Edible (0.98726542 0.01273458) *\n",
      "    5) print=Orange 49    0 Poisonous (0.00000000 1.00000000) *\n",
      "  3) odor=Anise,Creosote,Foul,None,Pungent,Spicy 2654    0 Poisonous (0.00000000 1.00000000) *\n"
     ]
    }
   ],
   "source": [
    "#8\n",
    "print(data.tree)"
   ]
  },
  {
   "cell_type": "markdown",
   "metadata": {},
   "source": []
  },
  {
   "cell_type": "code",
   "execution_count": 24,
   "metadata": {},
   "outputs": [],
   "source": [
    "pred_new_value <- predict(data.tree, test, type='class')\n",
    "# pred_new_value"
   ]
  },
  {
   "cell_type": "code",
   "execution_count": 25,
   "metadata": {},
   "outputs": [
    {
     "name": "stdout",
     "output_type": "stream",
     "text": [
      "[1] 0.9958966\n"
     ]
    }
   ],
   "source": [
    "accuracy <- table(pred_new_value, test$Class)\n",
    "accuracy <- sum(diag(accuracy))/sum(accuracy)\n",
    "print(accuracy)"
   ]
  },
  {
   "cell_type": "markdown",
   "metadata": {},
   "source": [
    "Decision Tree mang tới hiệu suất 99.6% => quá phù hợp"
   ]
  },
  {
   "cell_type": "code",
   "execution_count": 26,
   "metadata": {},
   "outputs": [
    {
     "data": {
      "image/png": "[encoded data removed]",
      "text/plain": [
       "plot without title"
      ]
     },
     "metadata": {
      "image/png": {
       "height": 420,
       "width": 420
      }
     },
     "output_type": "display_data"
    }
   ],
   "source": [
    "#9\n",
    "prp(data.tree, type=1, extra='auto',nn=T, branch=1, varlen=0)"
   ]
  },
  {
   "cell_type": "markdown",
   "metadata": {},
   "source": [
    "Decision Tree mang lại kết quả gần như chính xác tuyệt đối ~ 100%"
   ]
  },
  {
   "cell_type": "markdown",
   "metadata": {},
   "source": [
    "# Thuật toán Decision Tree phù hợp hơn Logistic Regression\n",
    "- Vì các biến input đều là các biến phân loại, thích hợp để chia lớp hơn\n",
    "- Biến input tối đa chỉ có 12 lớp khiến thuật toán Logistics Regression không thể hội tụ."
   ]
  },
  {
   "cell_type": "code",
   "execution_count": 27,
   "metadata": {},
   "outputs": [],
   "source": [
    "#done"
   ]
  }
 ],
 "metadata": {
  "kernelspec": {
   "display_name": "R",
   "language": "R",
   "name": "ir"
  },
  "language_info": {
   "codemirror_mode": "r",
   "file_extension": ".r",
   "mimetype": "text/x-r-source",
   "name": "R",
   "pygments_lexer": "r",
   "version": "3.6.0"
  }
 },
 "nbformat": 4,
 "nbformat_minor": 4
}

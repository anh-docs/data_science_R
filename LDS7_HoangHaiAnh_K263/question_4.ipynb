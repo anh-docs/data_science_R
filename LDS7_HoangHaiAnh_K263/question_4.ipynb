{
 "cells": [
  {
   "cell_type": "code",
   "execution_count": 1,
   "metadata": {},
   "outputs": [
    {
     "name": "stdout",
     "output_type": "stream",
     "text": [
      "[1] \"Rate people have IQ < 125: 0.9522\"\n",
      "[1] \"Rate people have IQ > 110: 0.2525\"\n",
      "[1] \"Rate people have 110 < IQ < 125: 0.6997\"\n"
     ]
    }
   ],
   "source": [
    "#1. \n",
    "mean_IQ <- 100\n",
    "sd_IQ <- 15\n",
    "p_x_125_less <- pnorm(125, mean_IQ,sd_IQ,lower.tail=TRUE)\n",
    "print(paste('Rate people have IQ < 125:', round(p_x_125_less,4)))\n",
    "p_x_110_more <- pnorm(110, mean_IQ,sd_IQ,lower.tail=FALSE)\n",
    "print(paste('Rate people have IQ > 110:', round(p_x_110_more,4)))\n",
    "p_110_x_125 <- p_x_125_less - p_x_110_more\n",
    "print(paste('Rate people have 110 < IQ < 125:', round(p_110_x_125,4)))"
   ]
  },
  {
   "cell_type": "code",
   "execution_count": 2,
   "metadata": {},
   "outputs": [
    {
     "name": "stdout",
     "output_type": "stream",
     "text": [
      "[1] \"Xac suat 2 lan 4 nut:  0.1608\"\n"
     ]
    }
   ],
   "source": [
    "# 2\n",
    "# 5C2 * 1/6^2 * (1-1/6)^3\n",
    "p1 <- dbinom(2, size=5, 1/6)\n",
    "print(paste('Xac suat 2 lan 4 nut: ',round(p1,4)))"
   ]
  },
  {
   "cell_type": "code",
   "execution_count": 3,
   "metadata": {},
   "outputs": [
    {
     "name": "stdout",
     "output_type": "stream",
     "text": [
      "[1] \"Mat 4 nut co xac suat 25% trong 50 lan do:  6 lan\"\n"
     ]
    }
   ],
   "source": [
    "sample <- qbinom(0.25,50,1/6)\n",
    "print(paste('Mat 4 nut co xac suat 25% trong 50 lan do: ',sample, 'lan'))"
   ]
  },
  {
   "cell_type": "code",
   "execution_count": 4,
   "metadata": {},
   "outputs": [],
   "source": [
    "# done"
   ]
  }
 ],
 "metadata": {
  "kernelspec": {
   "display_name": "R",
   "language": "R",
   "name": "ir"
  },
  "language_info": {
   "codemirror_mode": "r",
   "file_extension": ".r",
   "mimetype": "text/x-r-source",
   "name": "R",
   "pygments_lexer": "r",
   "version": "3.6.0"
  }
 },
 "nbformat": 4,
 "nbformat_minor": 4
}

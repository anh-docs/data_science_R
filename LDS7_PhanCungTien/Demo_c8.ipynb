{
 "cells": [
  {
   "cell_type": "code",
   "execution_count": 1,
   "metadata": {},
   "outputs": [],
   "source": [
    "student_1 <- data.frame('name'= c(\"Hellen\",'Jolie','Kiwi','John','Mark','Tom'),\n",
    "                       'age'= c(17,16,17,18,19,16),\n",
    "                       'mark'= c(9,9,8,7.5,7.5,8),\n",
    "                       stringsAsFactors = FALSE)"
   ]
  },
  {
   "cell_type": "code",
   "execution_count": 4,
   "metadata": {},
   "outputs": [
    {
     "data": {
      "text/html": [
       "<table>\n",
       "<caption>A data.frame: 6 × 3</caption>\n",
       "<thead>\n",
       "\t<tr><th scope=col>name</th><th scope=col>age</th><th scope=col>mark</th></tr>\n",
       "\t<tr><th scope=col>&lt;chr&gt;</th><th scope=col>&lt;dbl&gt;</th><th scope=col>&lt;dbl&gt;</th></tr>\n",
       "</thead>\n",
       "<tbody>\n",
       "\t<tr><td>Hellen</td><td>17</td><td>9.0</td></tr>\n",
       "\t<tr><td>Jolie </td><td>16</td><td>9.0</td></tr>\n",
       "\t<tr><td>Kiwi  </td><td>17</td><td>8.0</td></tr>\n",
       "\t<tr><td>John  </td><td>18</td><td>7.5</td></tr>\n",
       "\t<tr><td>Mark  </td><td>19</td><td>7.5</td></tr>\n",
       "\t<tr><td>Tom   </td><td>16</td><td>8.0</td></tr>\n",
       "</tbody>\n",
       "</table>\n"
      ],
      "text/latex": [
       "A data.frame: 6 × 3\n",
       "\\begin{tabular}{lll}\n",
       " name & age & mark\\\\\n",
       " <chr> & <dbl> & <dbl>\\\\\n",
       "\\hline\n",
       "\t Hellen & 17 & 9.0\\\\\n",
       "\t Jolie  & 16 & 9.0\\\\\n",
       "\t Kiwi   & 17 & 8.0\\\\\n",
       "\t John   & 18 & 7.5\\\\\n",
       "\t Mark   & 19 & 7.5\\\\\n",
       "\t Tom    & 16 & 8.0\\\\\n",
       "\\end{tabular}\n"
      ],
      "text/markdown": [
       "\n",
       "A data.frame: 6 × 3\n",
       "\n",
       "| name &lt;chr&gt; | age &lt;dbl&gt; | mark &lt;dbl&gt; |\n",
       "|---|---|---|\n",
       "| Hellen | 17 | 9.0 |\n",
       "| Jolie  | 16 | 9.0 |\n",
       "| Kiwi   | 17 | 8.0 |\n",
       "| John   | 18 | 7.5 |\n",
       "| Mark   | 19 | 7.5 |\n",
       "| Tom    | 16 | 8.0 |\n",
       "\n"
      ],
      "text/plain": [
       "  name   age mark\n",
       "1 Hellen 17  9.0 \n",
       "2 Jolie  16  9.0 \n",
       "3 Kiwi   17  8.0 \n",
       "4 John   18  7.5 \n",
       "5 Mark   19  7.5 \n",
       "6 Tom    16  8.0 "
      ]
     },
     "metadata": {},
     "output_type": "display_data"
    }
   ],
   "source": [
    "student_1"
   ]
  },
  {
   "cell_type": "code",
   "execution_count": 5,
   "metadata": {},
   "outputs": [
    {
     "name": "stdout",
     "output_type": "stream",
     "text": [
      "'data.frame':\t6 obs. of  3 variables:\n",
      " $ name: chr  \"Hellen\" \"Jolie\" \"Kiwi\" \"John\" ...\n",
      " $ age : num  17 16 17 18 19 16\n",
      " $ mark: num  9 9 8 7.5 7.5 8\n"
     ]
    }
   ],
   "source": [
    "str(student_1)"
   ]
  },
  {
   "cell_type": "code",
   "execution_count": 7,
   "metadata": {},
   "outputs": [
    {
     "data": {
      "text/plain": [
       "     name                age             mark      \n",
       " Length:6           Min.   :16.00   Min.   :7.500  \n",
       " Class :character   1st Qu.:16.25   1st Qu.:7.625  \n",
       " Mode  :character   Median :17.00   Median :8.000  \n",
       "                    Mean   :17.17   Mean   :8.167  \n",
       "                    3rd Qu.:17.75   3rd Qu.:8.750  \n",
       "                    Max.   :19.00   Max.   :9.000  "
      ]
     },
     "metadata": {},
     "output_type": "display_data"
    }
   ],
   "source": [
    "summary(student_1)"
   ]
  },
  {
   "cell_type": "code",
   "execution_count": 9,
   "metadata": {},
   "outputs": [
    {
     "data": {
      "text/html": [
       "<style>\n",
       ".list-inline {list-style: none; margin:0; padding: 0}\n",
       ".list-inline>li {display: inline-block}\n",
       ".list-inline>li:not(:last-child)::after {content: \"\\00b7\"; padding: 0 .5ex}\n",
       "</style>\n",
       "<ol class=list-inline><li>17</li><li>16</li><li>17</li><li>18</li><li>19</li><li>16</li></ol>\n"
      ],
      "text/latex": [
       "\\begin{enumerate*}\n",
       "\\item 17\n",
       "\\item 16\n",
       "\\item 17\n",
       "\\item 18\n",
       "\\item 19\n",
       "\\item 16\n",
       "\\end{enumerate*}\n"
      ],
      "text/markdown": [
       "1. 17\n",
       "2. 16\n",
       "3. 17\n",
       "4. 18\n",
       "5. 19\n",
       "6. 16\n",
       "\n",
       "\n"
      ],
      "text/plain": [
       "[1] 17 16 17 18 19 16"
      ]
     },
     "metadata": {},
     "output_type": "display_data"
    }
   ],
   "source": [
    "# Xuat du lieu\\\n",
    "# do ra vector\n",
    "student_1$age"
   ]
  },
  {
   "cell_type": "code",
   "execution_count": 10,
   "metadata": {},
   "outputs": [
    {
     "data": {
      "text/html": [
       "<table>\n",
       "<caption>A data.frame: 6 × 1</caption>\n",
       "<thead>\n",
       "\t<tr><th scope=col>student_1.age</th></tr>\n",
       "\t<tr><th scope=col>&lt;dbl&gt;</th></tr>\n",
       "</thead>\n",
       "<tbody>\n",
       "\t<tr><td>17</td></tr>\n",
       "\t<tr><td>16</td></tr>\n",
       "\t<tr><td>17</td></tr>\n",
       "\t<tr><td>18</td></tr>\n",
       "\t<tr><td>19</td></tr>\n",
       "\t<tr><td>16</td></tr>\n",
       "</tbody>\n",
       "</table>\n"
      ],
      "text/latex": [
       "A data.frame: 6 × 1\n",
       "\\begin{tabular}{l}\n",
       " student\\_1.age\\\\\n",
       " <dbl>\\\\\n",
       "\\hline\n",
       "\t 17\\\\\n",
       "\t 16\\\\\n",
       "\t 17\\\\\n",
       "\t 18\\\\\n",
       "\t 19\\\\\n",
       "\t 16\\\\\n",
       "\\end{tabular}\n"
      ],
      "text/markdown": [
       "\n",
       "A data.frame: 6 × 1\n",
       "\n",
       "| student_1.age &lt;dbl&gt; |\n",
       "|---|\n",
       "| 17 |\n",
       "| 16 |\n",
       "| 17 |\n",
       "| 18 |\n",
       "| 19 |\n",
       "| 16 |\n",
       "\n"
      ],
      "text/plain": [
       "  student_1.age\n",
       "1 17           \n",
       "2 16           \n",
       "3 17           \n",
       "4 18           \n",
       "5 19           \n",
       "6 16           "
      ]
     },
     "metadata": {},
     "output_type": "display_data"
    }
   ],
   "source": [
    "# Do ra dataframe\n",
    "data.frame(student_1$age)"
   ]
  },
  {
   "cell_type": "code",
   "execution_count": 14,
   "metadata": {},
   "outputs": [],
   "source": [
    "# them cot\n",
    "student_1$class <- c(\"K256_S7N\",\"K256_C7N\",\"K256_S24\",\"K256_S7N\",\"K256_S24\",\"K256_C7N\")"
   ]
  },
  {
   "cell_type": "code",
   "execution_count": 15,
   "metadata": {},
   "outputs": [
    {
     "data": {
      "text/html": [
       "<table>\n",
       "<caption>A data.frame: 6 × 4</caption>\n",
       "<thead>\n",
       "\t<tr><th scope=col>name</th><th scope=col>age</th><th scope=col>mark</th><th scope=col>class</th></tr>\n",
       "\t<tr><th scope=col>&lt;chr&gt;</th><th scope=col>&lt;dbl&gt;</th><th scope=col>&lt;dbl&gt;</th><th scope=col>&lt;chr&gt;</th></tr>\n",
       "</thead>\n",
       "<tbody>\n",
       "\t<tr><td>Hellen</td><td>17</td><td>9.0</td><td>K256_S7N</td></tr>\n",
       "\t<tr><td>Jolie </td><td>16</td><td>9.0</td><td>K256_C7N</td></tr>\n",
       "\t<tr><td>Kiwi  </td><td>17</td><td>8.0</td><td>K256_S24</td></tr>\n",
       "\t<tr><td>John  </td><td>18</td><td>7.5</td><td>K256_S7N</td></tr>\n",
       "\t<tr><td>Mark  </td><td>19</td><td>7.5</td><td>K256_S24</td></tr>\n",
       "\t<tr><td>Tom   </td><td>16</td><td>8.0</td><td>K256_C7N</td></tr>\n",
       "</tbody>\n",
       "</table>\n"
      ],
      "text/latex": [
       "A data.frame: 6 × 4\n",
       "\\begin{tabular}{llll}\n",
       " name & age & mark & class\\\\\n",
       " <chr> & <dbl> & <dbl> & <chr>\\\\\n",
       "\\hline\n",
       "\t Hellen & 17 & 9.0 & K256\\_S7N\\\\\n",
       "\t Jolie  & 16 & 9.0 & K256\\_C7N\\\\\n",
       "\t Kiwi   & 17 & 8.0 & K256\\_S24\\\\\n",
       "\t John   & 18 & 7.5 & K256\\_S7N\\\\\n",
       "\t Mark   & 19 & 7.5 & K256\\_S24\\\\\n",
       "\t Tom    & 16 & 8.0 & K256\\_C7N\\\\\n",
       "\\end{tabular}\n"
      ],
      "text/markdown": [
       "\n",
       "A data.frame: 6 × 4\n",
       "\n",
       "| name &lt;chr&gt; | age &lt;dbl&gt; | mark &lt;dbl&gt; | class &lt;chr&gt; |\n",
       "|---|---|---|---|\n",
       "| Hellen | 17 | 9.0 | K256_S7N |\n",
       "| Jolie  | 16 | 9.0 | K256_C7N |\n",
       "| Kiwi   | 17 | 8.0 | K256_S24 |\n",
       "| John   | 18 | 7.5 | K256_S7N |\n",
       "| Mark   | 19 | 7.5 | K256_S24 |\n",
       "| Tom    | 16 | 8.0 | K256_C7N |\n",
       "\n"
      ],
      "text/plain": [
       "  name   age mark class   \n",
       "1 Hellen 17  9.0  K256_S7N\n",
       "2 Jolie  16  9.0  K256_C7N\n",
       "3 Kiwi   17  8.0  K256_S24\n",
       "4 John   18  7.5  K256_S7N\n",
       "5 Mark   19  7.5  K256_S24\n",
       "6 Tom    16  8.0  K256_C7N"
      ]
     },
     "metadata": {},
     "output_type": "display_data"
    }
   ],
   "source": [
    "student_1"
   ]
  },
  {
   "cell_type": "code",
   "execution_count": 16,
   "metadata": {},
   "outputs": [],
   "source": [
    "# Noi 2 dataframe\n",
    "df_POB <- data.frame(\"FOB\"= c(\"UK\",\"US\",\"EU\",\"UK\",\"US\",\"EU\"))\n",
    "student_1 <- cbind(student_1, df_POB)"
   ]
  },
  {
   "cell_type": "code",
   "execution_count": 17,
   "metadata": {},
   "outputs": [
    {
     "data": {
      "text/html": [
       "<table>\n",
       "<caption>A data.frame: 6 × 5</caption>\n",
       "<thead>\n",
       "\t<tr><th scope=col>name</th><th scope=col>age</th><th scope=col>mark</th><th scope=col>class</th><th scope=col>FOB</th></tr>\n",
       "\t<tr><th scope=col>&lt;chr&gt;</th><th scope=col>&lt;dbl&gt;</th><th scope=col>&lt;dbl&gt;</th><th scope=col>&lt;chr&gt;</th><th scope=col>&lt;chr&gt;</th></tr>\n",
       "</thead>\n",
       "<tbody>\n",
       "\t<tr><td>Hellen</td><td>17</td><td>9.0</td><td>K256_S7N</td><td>UK</td></tr>\n",
       "\t<tr><td>Jolie </td><td>16</td><td>9.0</td><td>K256_C7N</td><td>US</td></tr>\n",
       "\t<tr><td>Kiwi  </td><td>17</td><td>8.0</td><td>K256_S24</td><td>EU</td></tr>\n",
       "\t<tr><td>John  </td><td>18</td><td>7.5</td><td>K256_S7N</td><td>UK</td></tr>\n",
       "\t<tr><td>Mark  </td><td>19</td><td>7.5</td><td>K256_S24</td><td>US</td></tr>\n",
       "\t<tr><td>Tom   </td><td>16</td><td>8.0</td><td>K256_C7N</td><td>EU</td></tr>\n",
       "</tbody>\n",
       "</table>\n"
      ],
      "text/latex": [
       "A data.frame: 6 × 5\n",
       "\\begin{tabular}{lllll}\n",
       " name & age & mark & class & FOB\\\\\n",
       " <chr> & <dbl> & <dbl> & <chr> & <chr>\\\\\n",
       "\\hline\n",
       "\t Hellen & 17 & 9.0 & K256\\_S7N & UK\\\\\n",
       "\t Jolie  & 16 & 9.0 & K256\\_C7N & US\\\\\n",
       "\t Kiwi   & 17 & 8.0 & K256\\_S24 & EU\\\\\n",
       "\t John   & 18 & 7.5 & K256\\_S7N & UK\\\\\n",
       "\t Mark   & 19 & 7.5 & K256\\_S24 & US\\\\\n",
       "\t Tom    & 16 & 8.0 & K256\\_C7N & EU\\\\\n",
       "\\end{tabular}\n"
      ],
      "text/markdown": [
       "\n",
       "A data.frame: 6 × 5\n",
       "\n",
       "| name &lt;chr&gt; | age &lt;dbl&gt; | mark &lt;dbl&gt; | class &lt;chr&gt; | FOB &lt;chr&gt; |\n",
       "|---|---|---|---|---|\n",
       "| Hellen | 17 | 9.0 | K256_S7N | UK |\n",
       "| Jolie  | 16 | 9.0 | K256_C7N | US |\n",
       "| Kiwi   | 17 | 8.0 | K256_S24 | EU |\n",
       "| John   | 18 | 7.5 | K256_S7N | UK |\n",
       "| Mark   | 19 | 7.5 | K256_S24 | US |\n",
       "| Tom    | 16 | 8.0 | K256_C7N | EU |\n",
       "\n"
      ],
      "text/plain": [
       "  name   age mark class    FOB\n",
       "1 Hellen 17  9.0  K256_S7N UK \n",
       "2 Jolie  16  9.0  K256_C7N US \n",
       "3 Kiwi   17  8.0  K256_S24 EU \n",
       "4 John   18  7.5  K256_S7N UK \n",
       "5 Mark   19  7.5  K256_S24 US \n",
       "6 Tom    16  8.0  K256_C7N EU "
      ]
     },
     "metadata": {},
     "output_type": "display_data"
    }
   ],
   "source": [
    "student_1"
   ]
  },
  {
   "cell_type": "code",
   "execution_count": 18,
   "metadata": {},
   "outputs": [],
   "source": [
    "new_students <- data.frame('name'=c('Sunny',\"Lucy\"),\n",
    "                          'age'=c(17,18),\n",
    "                          'mark'=c(8,9),\n",
    "                          'class'=c('K256_C7N',\"K256_S24\"),\n",
    "                          'POB'=c(\"EU\",\"UK\"),\n",
    "                          stringsAsFactors =FALSE)"
   ]
  },
  {
   "cell_type": "code",
   "execution_count": 21,
   "metadata": {
    "collapsed": true
   },
   "outputs": [
    {
     "ename": "ERROR",
     "evalue": "Error in match.names(clabs, names(xi)): names do not match previous names\n",
     "output_type": "error",
     "traceback": [
      "Error in match.names(clabs, names(xi)): names do not match previous names\nTraceback:\n",
      "1. rbind(student_1, new_students)",
      "2. rbind(deparse.level, ...)",
      "3. match.names(clabs, names(xi))",
      "4. stop(\"names do not match previous names\")"
     ]
    }
   ],
   "source": [
    "student_1 <- rbind(student_1, new_students)"
   ]
  },
  {
   "cell_type": "code",
   "execution_count": 25,
   "metadata": {},
   "outputs": [],
   "source": [
    "# Doi ten cot\n",
    "names(student_1)[names(student_1)==\"FOB\"] <-\"Place of birth\""
   ]
  },
  {
   "cell_type": "code",
   "execution_count": 26,
   "metadata": {},
   "outputs": [
    {
     "data": {
      "text/html": [
       "<table>\n",
       "<caption>A data.frame: 6 × 5</caption>\n",
       "<thead>\n",
       "\t<tr><th scope=col>name</th><th scope=col>age</th><th scope=col>mark</th><th scope=col>class</th><th scope=col>Place of birth</th></tr>\n",
       "\t<tr><th scope=col>&lt;chr&gt;</th><th scope=col>&lt;dbl&gt;</th><th scope=col>&lt;dbl&gt;</th><th scope=col>&lt;chr&gt;</th><th scope=col>&lt;chr&gt;</th></tr>\n",
       "</thead>\n",
       "<tbody>\n",
       "\t<tr><td>Hellen</td><td>17</td><td>9.0</td><td>K256_S7N</td><td>UK</td></tr>\n",
       "\t<tr><td>Jolie </td><td>16</td><td>9.0</td><td>K256_C7N</td><td>US</td></tr>\n",
       "\t<tr><td>Kiwi  </td><td>17</td><td>8.0</td><td>K256_S24</td><td>EU</td></tr>\n",
       "\t<tr><td>John  </td><td>18</td><td>7.5</td><td>K256_S7N</td><td>UK</td></tr>\n",
       "\t<tr><td>Mark  </td><td>19</td><td>7.5</td><td>K256_S24</td><td>US</td></tr>\n",
       "\t<tr><td>Tom   </td><td>16</td><td>8.0</td><td>K256_C7N</td><td>EU</td></tr>\n",
       "</tbody>\n",
       "</table>\n"
      ],
      "text/latex": [
       "A data.frame: 6 × 5\n",
       "\\begin{tabular}{lllll}\n",
       " name & age & mark & class & Place of birth\\\\\n",
       " <chr> & <dbl> & <dbl> & <chr> & <chr>\\\\\n",
       "\\hline\n",
       "\t Hellen & 17 & 9.0 & K256\\_S7N & UK\\\\\n",
       "\t Jolie  & 16 & 9.0 & K256\\_C7N & US\\\\\n",
       "\t Kiwi   & 17 & 8.0 & K256\\_S24 & EU\\\\\n",
       "\t John   & 18 & 7.5 & K256\\_S7N & UK\\\\\n",
       "\t Mark   & 19 & 7.5 & K256\\_S24 & US\\\\\n",
       "\t Tom    & 16 & 8.0 & K256\\_C7N & EU\\\\\n",
       "\\end{tabular}\n"
      ],
      "text/markdown": [
       "\n",
       "A data.frame: 6 × 5\n",
       "\n",
       "| name &lt;chr&gt; | age &lt;dbl&gt; | mark &lt;dbl&gt; | class &lt;chr&gt; | Place of birth &lt;chr&gt; |\n",
       "|---|---|---|---|---|\n",
       "| Hellen | 17 | 9.0 | K256_S7N | UK |\n",
       "| Jolie  | 16 | 9.0 | K256_C7N | US |\n",
       "| Kiwi   | 17 | 8.0 | K256_S24 | EU |\n",
       "| John   | 18 | 7.5 | K256_S7N | UK |\n",
       "| Mark   | 19 | 7.5 | K256_S24 | US |\n",
       "| Tom    | 16 | 8.0 | K256_C7N | EU |\n",
       "\n"
      ],
      "text/plain": [
       "  name   age mark class    Place of birth\n",
       "1 Hellen 17  9.0  K256_S7N UK            \n",
       "2 Jolie  16  9.0  K256_C7N US            \n",
       "3 Kiwi   17  8.0  K256_S24 EU            \n",
       "4 John   18  7.5  K256_S7N UK            \n",
       "5 Mark   19  7.5  K256_S24 US            \n",
       "6 Tom    16  8.0  K256_C7N EU            "
      ]
     },
     "metadata": {},
     "output_type": "display_data"
    }
   ],
   "source": [
    "student_1"
   ]
  },
  {
   "cell_type": "markdown",
   "metadata": {},
   "source": [
    "## Tidyverse"
   ]
  },
  {
   "cell_type": "code",
   "execution_count": 27,
   "metadata": {},
   "outputs": [],
   "source": [
    "pokemon <- read.csv('pokemon.csv')"
   ]
  },
  {
   "cell_type": "code",
   "execution_count": 38,
   "metadata": {},
   "outputs": [
    {
     "data": {
      "text/html": [
       "<table>\n",
       "<caption>A data.frame: 10 × 13</caption>\n",
       "<thead>\n",
       "\t<tr><th></th><th scope=col>X.</th><th scope=col>Name</th><th scope=col>Type.1</th><th scope=col>Type.2</th><th scope=col>Total</th><th scope=col>HP</th><th scope=col>Attack</th><th scope=col>Defense</th><th scope=col>Sp..Atk</th><th scope=col>Sp..Def</th><th scope=col>Speed</th><th scope=col>Generation</th><th scope=col>Legendary</th></tr>\n",
       "\t<tr><th></th><th scope=col>&lt;int&gt;</th><th scope=col>&lt;chr&gt;</th><th scope=col>&lt;chr&gt;</th><th scope=col>&lt;chr&gt;</th><th scope=col>&lt;int&gt;</th><th scope=col>&lt;int&gt;</th><th scope=col>&lt;int&gt;</th><th scope=col>&lt;int&gt;</th><th scope=col>&lt;int&gt;</th><th scope=col>&lt;int&gt;</th><th scope=col>&lt;int&gt;</th><th scope=col>&lt;int&gt;</th><th scope=col>&lt;chr&gt;</th></tr>\n",
       "</thead>\n",
       "<tbody>\n",
       "\t<tr><th scope=row>1</th><td>1</td><td>Bulbasaur                </td><td>Grass</td><td>Poison</td><td>318</td><td>45</td><td> 49</td><td> 49</td><td> 65</td><td> 65</td><td> 45</td><td>1</td><td>False</td></tr>\n",
       "\t<tr><th scope=row>2</th><td>2</td><td>Ivysaur                  </td><td>Grass</td><td>Poison</td><td>405</td><td>60</td><td> 62</td><td> 63</td><td> 80</td><td> 80</td><td> 60</td><td>1</td><td>False</td></tr>\n",
       "\t<tr><th scope=row>3</th><td>3</td><td>Venusaur                 </td><td>Grass</td><td>Poison</td><td>525</td><td>80</td><td> 82</td><td> 83</td><td>100</td><td>100</td><td> 80</td><td>1</td><td>False</td></tr>\n",
       "\t<tr><th scope=row>4</th><td>3</td><td>VenusaurMega Venusaur    </td><td>Grass</td><td>Poison</td><td>625</td><td>80</td><td>100</td><td>123</td><td>122</td><td>120</td><td> 80</td><td>1</td><td>False</td></tr>\n",
       "\t<tr><th scope=row>5</th><td>4</td><td>Charmander               </td><td>Fire </td><td>      </td><td>309</td><td>39</td><td> 52</td><td> 43</td><td> 60</td><td> 50</td><td> 65</td><td>1</td><td>False</td></tr>\n",
       "\t<tr><th scope=row>6</th><td>5</td><td>Charmeleon               </td><td>Fire </td><td>      </td><td>405</td><td>58</td><td> 64</td><td> 58</td><td> 80</td><td> 65</td><td> 80</td><td>1</td><td>False</td></tr>\n",
       "\t<tr><th scope=row>7</th><td>6</td><td>Charizard                </td><td>Fire </td><td>Flying</td><td>534</td><td>78</td><td> 84</td><td> 78</td><td>109</td><td> 85</td><td>100</td><td>1</td><td>False</td></tr>\n",
       "\t<tr><th scope=row>8</th><td>6</td><td>CharizardMega Charizard X</td><td>Fire </td><td>Dragon</td><td>634</td><td>78</td><td>130</td><td>111</td><td>130</td><td> 85</td><td>100</td><td>1</td><td>False</td></tr>\n",
       "\t<tr><th scope=row>9</th><td>6</td><td>CharizardMega Charizard Y</td><td>Fire </td><td>Flying</td><td>634</td><td>78</td><td>104</td><td> 78</td><td>159</td><td>115</td><td>100</td><td>1</td><td>False</td></tr>\n",
       "\t<tr><th scope=row>10</th><td>7</td><td>Squirtle                 </td><td>Water</td><td>      </td><td>314</td><td>44</td><td> 48</td><td> 65</td><td> 50</td><td> 64</td><td> 43</td><td>1</td><td>False</td></tr>\n",
       "</tbody>\n",
       "</table>\n"
      ],
      "text/latex": [
       "A data.frame: 10 × 13\n",
       "\\begin{tabular}{r|lllllllllllll}\n",
       "  & X. & Name & Type.1 & Type.2 & Total & HP & Attack & Defense & Sp..Atk & Sp..Def & Speed & Generation & Legendary\\\\\n",
       "  & <int> & <chr> & <chr> & <chr> & <int> & <int> & <int> & <int> & <int> & <int> & <int> & <int> & <chr>\\\\\n",
       "\\hline\n",
       "\t1 & 1 & Bulbasaur                 & Grass & Poison & 318 & 45 &  49 &  49 &  65 &  65 &  45 & 1 & False\\\\\n",
       "\t2 & 2 & Ivysaur                   & Grass & Poison & 405 & 60 &  62 &  63 &  80 &  80 &  60 & 1 & False\\\\\n",
       "\t3 & 3 & Venusaur                  & Grass & Poison & 525 & 80 &  82 &  83 & 100 & 100 &  80 & 1 & False\\\\\n",
       "\t4 & 3 & VenusaurMega Venusaur     & Grass & Poison & 625 & 80 & 100 & 123 & 122 & 120 &  80 & 1 & False\\\\\n",
       "\t5 & 4 & Charmander                & Fire  &        & 309 & 39 &  52 &  43 &  60 &  50 &  65 & 1 & False\\\\\n",
       "\t6 & 5 & Charmeleon                & Fire  &        & 405 & 58 &  64 &  58 &  80 &  65 &  80 & 1 & False\\\\\n",
       "\t7 & 6 & Charizard                 & Fire  & Flying & 534 & 78 &  84 &  78 & 109 &  85 & 100 & 1 & False\\\\\n",
       "\t8 & 6 & CharizardMega Charizard X & Fire  & Dragon & 634 & 78 & 130 & 111 & 130 &  85 & 100 & 1 & False\\\\\n",
       "\t9 & 6 & CharizardMega Charizard Y & Fire  & Flying & 634 & 78 & 104 &  78 & 159 & 115 & 100 & 1 & False\\\\\n",
       "\t10 & 7 & Squirtle                  & Water &        & 314 & 44 &  48 &  65 &  50 &  64 &  43 & 1 & False\\\\\n",
       "\\end{tabular}\n"
      ],
      "text/markdown": [
       "\n",
       "A data.frame: 10 × 13\n",
       "\n",
       "| <!--/--> | X. &lt;int&gt; | Name &lt;chr&gt; | Type.1 &lt;chr&gt; | Type.2 &lt;chr&gt; | Total &lt;int&gt; | HP &lt;int&gt; | Attack &lt;int&gt; | Defense &lt;int&gt; | Sp..Atk &lt;int&gt; | Sp..Def &lt;int&gt; | Speed &lt;int&gt; | Generation &lt;int&gt; | Legendary &lt;chr&gt; |\n",
       "|---|---|---|---|---|---|---|---|---|---|---|---|---|---|\n",
       "| 1 | 1 | Bulbasaur                 | Grass | Poison | 318 | 45 |  49 |  49 |  65 |  65 |  45 | 1 | False |\n",
       "| 2 | 2 | Ivysaur                   | Grass | Poison | 405 | 60 |  62 |  63 |  80 |  80 |  60 | 1 | False |\n",
       "| 3 | 3 | Venusaur                  | Grass | Poison | 525 | 80 |  82 |  83 | 100 | 100 |  80 | 1 | False |\n",
       "| 4 | 3 | VenusaurMega Venusaur     | Grass | Poison | 625 | 80 | 100 | 123 | 122 | 120 |  80 | 1 | False |\n",
       "| 5 | 4 | Charmander                | Fire  | <!----> | 309 | 39 |  52 |  43 |  60 |  50 |  65 | 1 | False |\n",
       "| 6 | 5 | Charmeleon                | Fire  | <!----> | 405 | 58 |  64 |  58 |  80 |  65 |  80 | 1 | False |\n",
       "| 7 | 6 | Charizard                 | Fire  | Flying | 534 | 78 |  84 |  78 | 109 |  85 | 100 | 1 | False |\n",
       "| 8 | 6 | CharizardMega Charizard X | Fire  | Dragon | 634 | 78 | 130 | 111 | 130 |  85 | 100 | 1 | False |\n",
       "| 9 | 6 | CharizardMega Charizard Y | Fire  | Flying | 634 | 78 | 104 |  78 | 159 | 115 | 100 | 1 | False |\n",
       "| 10 | 7 | Squirtle                  | Water | <!----> | 314 | 44 |  48 |  65 |  50 |  64 |  43 | 1 | False |\n",
       "\n"
      ],
      "text/plain": [
       "   X. Name                      Type.1 Type.2 Total HP Attack Defense Sp..Atk\n",
       "1  1  Bulbasaur                 Grass  Poison 318   45  49     49      65    \n",
       "2  2  Ivysaur                   Grass  Poison 405   60  62     63      80    \n",
       "3  3  Venusaur                  Grass  Poison 525   80  82     83     100    \n",
       "4  3  VenusaurMega Venusaur     Grass  Poison 625   80 100    123     122    \n",
       "5  4  Charmander                Fire          309   39  52     43      60    \n",
       "6  5  Charmeleon                Fire          405   58  64     58      80    \n",
       "7  6  Charizard                 Fire   Flying 534   78  84     78     109    \n",
       "8  6  CharizardMega Charizard X Fire   Dragon 634   78 130    111     130    \n",
       "9  6  CharizardMega Charizard Y Fire   Flying 634   78 104     78     159    \n",
       "10 7  Squirtle                  Water         314   44  48     65      50    \n",
       "   Sp..Def Speed Generation Legendary\n",
       "1   65      45   1          False    \n",
       "2   80      60   1          False    \n",
       "3  100      80   1          False    \n",
       "4  120      80   1          False    \n",
       "5   50      65   1          False    \n",
       "6   65      80   1          False    \n",
       "7   85     100   1          False    \n",
       "8   85     100   1          False    \n",
       "9  115     100   1          False    \n",
       "10  64      43   1          False    "
      ]
     },
     "metadata": {},
     "output_type": "display_data"
    }
   ],
   "source": [
    "head(pokemon,10)"
   ]
  },
  {
   "cell_type": "code",
   "execution_count": 43,
   "metadata": {},
   "outputs": [],
   "source": [
    "library('tidyverse') # goi function\n",
    "pokemon_sub = select(pokemon, c(2,5,7,8))"
   ]
  },
  {
   "cell_type": "code",
   "execution_count": 44,
   "metadata": {},
   "outputs": [
    {
     "data": {
      "text/html": [
       "<table>\n",
       "<caption>A data.frame: 6 × 4</caption>\n",
       "<thead>\n",
       "\t<tr><th></th><th scope=col>Name</th><th scope=col>Total</th><th scope=col>Attack</th><th scope=col>Defense</th></tr>\n",
       "\t<tr><th></th><th scope=col>&lt;chr&gt;</th><th scope=col>&lt;int&gt;</th><th scope=col>&lt;int&gt;</th><th scope=col>&lt;int&gt;</th></tr>\n",
       "</thead>\n",
       "<tbody>\n",
       "\t<tr><th scope=row>1</th><td>Bulbasaur            </td><td>318</td><td> 49</td><td> 49</td></tr>\n",
       "\t<tr><th scope=row>2</th><td>Ivysaur              </td><td>405</td><td> 62</td><td> 63</td></tr>\n",
       "\t<tr><th scope=row>3</th><td>Venusaur             </td><td>525</td><td> 82</td><td> 83</td></tr>\n",
       "\t<tr><th scope=row>4</th><td>VenusaurMega Venusaur</td><td>625</td><td>100</td><td>123</td></tr>\n",
       "\t<tr><th scope=row>5</th><td>Charmander           </td><td>309</td><td> 52</td><td> 43</td></tr>\n",
       "\t<tr><th scope=row>6</th><td>Charmeleon           </td><td>405</td><td> 64</td><td> 58</td></tr>\n",
       "</tbody>\n",
       "</table>\n"
      ],
      "text/latex": [
       "A data.frame: 6 × 4\n",
       "\\begin{tabular}{r|llll}\n",
       "  & Name & Total & Attack & Defense\\\\\n",
       "  & <chr> & <int> & <int> & <int>\\\\\n",
       "\\hline\n",
       "\t1 & Bulbasaur             & 318 &  49 &  49\\\\\n",
       "\t2 & Ivysaur               & 405 &  62 &  63\\\\\n",
       "\t3 & Venusaur              & 525 &  82 &  83\\\\\n",
       "\t4 & VenusaurMega Venusaur & 625 & 100 & 123\\\\\n",
       "\t5 & Charmander            & 309 &  52 &  43\\\\\n",
       "\t6 & Charmeleon            & 405 &  64 &  58\\\\\n",
       "\\end{tabular}\n"
      ],
      "text/markdown": [
       "\n",
       "A data.frame: 6 × 4\n",
       "\n",
       "| <!--/--> | Name &lt;chr&gt; | Total &lt;int&gt; | Attack &lt;int&gt; | Defense &lt;int&gt; |\n",
       "|---|---|---|---|---|\n",
       "| 1 | Bulbasaur             | 318 |  49 |  49 |\n",
       "| 2 | Ivysaur               | 405 |  62 |  63 |\n",
       "| 3 | Venusaur              | 525 |  82 |  83 |\n",
       "| 4 | VenusaurMega Venusaur | 625 | 100 | 123 |\n",
       "| 5 | Charmander            | 309 |  52 |  43 |\n",
       "| 6 | Charmeleon            | 405 |  64 |  58 |\n",
       "\n"
      ],
      "text/plain": [
       "  Name                  Total Attack Defense\n",
       "1 Bulbasaur             318    49     49    \n",
       "2 Ivysaur               405    62     63    \n",
       "3 Venusaur              525    82     83    \n",
       "4 VenusaurMega Venusaur 625   100    123    \n",
       "5 Charmander            309    52     43    \n",
       "6 Charmeleon            405    64     58    "
      ]
     },
     "metadata": {},
     "output_type": "display_data"
    }
   ],
   "source": [
    "head(pokemon_sub)"
   ]
  },
  {
   "cell_type": "code",
   "execution_count": 45,
   "metadata": {},
   "outputs": [],
   "source": [
    "pokemon_sub = pokemon %>% select(Name, Total, Attack, Defense)"
   ]
  },
  {
   "cell_type": "code",
   "execution_count": 47,
   "metadata": {},
   "outputs": [
    {
     "data": {
      "text/html": [
       "<table>\n",
       "<caption>A data.frame: 6 × 4</caption>\n",
       "<thead>\n",
       "\t<tr><th></th><th scope=col>Name</th><th scope=col>Total</th><th scope=col>Attack</th><th scope=col>Defense</th></tr>\n",
       "\t<tr><th></th><th scope=col>&lt;chr&gt;</th><th scope=col>&lt;int&gt;</th><th scope=col>&lt;int&gt;</th><th scope=col>&lt;int&gt;</th></tr>\n",
       "</thead>\n",
       "<tbody>\n",
       "\t<tr><th scope=row>1</th><td>Bulbasaur            </td><td>318</td><td> 49</td><td> 49</td></tr>\n",
       "\t<tr><th scope=row>2</th><td>Ivysaur              </td><td>405</td><td> 62</td><td> 63</td></tr>\n",
       "\t<tr><th scope=row>3</th><td>Venusaur             </td><td>525</td><td> 82</td><td> 83</td></tr>\n",
       "\t<tr><th scope=row>4</th><td>VenusaurMega Venusaur</td><td>625</td><td>100</td><td>123</td></tr>\n",
       "\t<tr><th scope=row>5</th><td>Charmander           </td><td>309</td><td> 52</td><td> 43</td></tr>\n",
       "\t<tr><th scope=row>6</th><td>Charmeleon           </td><td>405</td><td> 64</td><td> 58</td></tr>\n",
       "</tbody>\n",
       "</table>\n"
      ],
      "text/latex": [
       "A data.frame: 6 × 4\n",
       "\\begin{tabular}{r|llll}\n",
       "  & Name & Total & Attack & Defense\\\\\n",
       "  & <chr> & <int> & <int> & <int>\\\\\n",
       "\\hline\n",
       "\t1 & Bulbasaur             & 318 &  49 &  49\\\\\n",
       "\t2 & Ivysaur               & 405 &  62 &  63\\\\\n",
       "\t3 & Venusaur              & 525 &  82 &  83\\\\\n",
       "\t4 & VenusaurMega Venusaur & 625 & 100 & 123\\\\\n",
       "\t5 & Charmander            & 309 &  52 &  43\\\\\n",
       "\t6 & Charmeleon            & 405 &  64 &  58\\\\\n",
       "\\end{tabular}\n"
      ],
      "text/markdown": [
       "\n",
       "A data.frame: 6 × 4\n",
       "\n",
       "| <!--/--> | Name &lt;chr&gt; | Total &lt;int&gt; | Attack &lt;int&gt; | Defense &lt;int&gt; |\n",
       "|---|---|---|---|---|\n",
       "| 1 | Bulbasaur             | 318 |  49 |  49 |\n",
       "| 2 | Ivysaur               | 405 |  62 |  63 |\n",
       "| 3 | Venusaur              | 525 |  82 |  83 |\n",
       "| 4 | VenusaurMega Venusaur | 625 | 100 | 123 |\n",
       "| 5 | Charmander            | 309 |  52 |  43 |\n",
       "| 6 | Charmeleon            | 405 |  64 |  58 |\n",
       "\n"
      ],
      "text/plain": [
       "  Name                  Total Attack Defense\n",
       "1 Bulbasaur             318    49     49    \n",
       "2 Ivysaur               405    62     63    \n",
       "3 Venusaur              525    82     83    \n",
       "4 VenusaurMega Venusaur 625   100    123    \n",
       "5 Charmander            309    52     43    \n",
       "6 Charmeleon            405    64     58    "
      ]
     },
     "metadata": {},
     "output_type": "display_data"
    }
   ],
   "source": [
    "head(pokemon_sub)"
   ]
  },
  {
   "cell_type": "code",
   "execution_count": 48,
   "metadata": {},
   "outputs": [],
   "source": [
    "# select co dieu kien\n",
    "pokemon_numbers = select_if(pokemon, is.numeric)"
   ]
  },
  {
   "cell_type": "code",
   "execution_count": 49,
   "metadata": {},
   "outputs": [
    {
     "data": {
      "text/html": [
       "<table>\n",
       "<caption>A data.frame: 6 × 9</caption>\n",
       "<thead>\n",
       "\t<tr><th></th><th scope=col>X.</th><th scope=col>Total</th><th scope=col>HP</th><th scope=col>Attack</th><th scope=col>Defense</th><th scope=col>Sp..Atk</th><th scope=col>Sp..Def</th><th scope=col>Speed</th><th scope=col>Generation</th></tr>\n",
       "\t<tr><th></th><th scope=col>&lt;int&gt;</th><th scope=col>&lt;int&gt;</th><th scope=col>&lt;int&gt;</th><th scope=col>&lt;int&gt;</th><th scope=col>&lt;int&gt;</th><th scope=col>&lt;int&gt;</th><th scope=col>&lt;int&gt;</th><th scope=col>&lt;int&gt;</th><th scope=col>&lt;int&gt;</th></tr>\n",
       "</thead>\n",
       "<tbody>\n",
       "\t<tr><th scope=row>1</th><td>1</td><td>318</td><td>45</td><td> 49</td><td> 49</td><td> 65</td><td> 65</td><td>45</td><td>1</td></tr>\n",
       "\t<tr><th scope=row>2</th><td>2</td><td>405</td><td>60</td><td> 62</td><td> 63</td><td> 80</td><td> 80</td><td>60</td><td>1</td></tr>\n",
       "\t<tr><th scope=row>3</th><td>3</td><td>525</td><td>80</td><td> 82</td><td> 83</td><td>100</td><td>100</td><td>80</td><td>1</td></tr>\n",
       "\t<tr><th scope=row>4</th><td>3</td><td>625</td><td>80</td><td>100</td><td>123</td><td>122</td><td>120</td><td>80</td><td>1</td></tr>\n",
       "\t<tr><th scope=row>5</th><td>4</td><td>309</td><td>39</td><td> 52</td><td> 43</td><td> 60</td><td> 50</td><td>65</td><td>1</td></tr>\n",
       "\t<tr><th scope=row>6</th><td>5</td><td>405</td><td>58</td><td> 64</td><td> 58</td><td> 80</td><td> 65</td><td>80</td><td>1</td></tr>\n",
       "</tbody>\n",
       "</table>\n"
      ],
      "text/latex": [
       "A data.frame: 6 × 9\n",
       "\\begin{tabular}{r|lllllllll}\n",
       "  & X. & Total & HP & Attack & Defense & Sp..Atk & Sp..Def & Speed & Generation\\\\\n",
       "  & <int> & <int> & <int> & <int> & <int> & <int> & <int> & <int> & <int>\\\\\n",
       "\\hline\n",
       "\t1 & 1 & 318 & 45 &  49 &  49 &  65 &  65 & 45 & 1\\\\\n",
       "\t2 & 2 & 405 & 60 &  62 &  63 &  80 &  80 & 60 & 1\\\\\n",
       "\t3 & 3 & 525 & 80 &  82 &  83 & 100 & 100 & 80 & 1\\\\\n",
       "\t4 & 3 & 625 & 80 & 100 & 123 & 122 & 120 & 80 & 1\\\\\n",
       "\t5 & 4 & 309 & 39 &  52 &  43 &  60 &  50 & 65 & 1\\\\\n",
       "\t6 & 5 & 405 & 58 &  64 &  58 &  80 &  65 & 80 & 1\\\\\n",
       "\\end{tabular}\n"
      ],
      "text/markdown": [
       "\n",
       "A data.frame: 6 × 9\n",
       "\n",
       "| <!--/--> | X. &lt;int&gt; | Total &lt;int&gt; | HP &lt;int&gt; | Attack &lt;int&gt; | Defense &lt;int&gt; | Sp..Atk &lt;int&gt; | Sp..Def &lt;int&gt; | Speed &lt;int&gt; | Generation &lt;int&gt; |\n",
       "|---|---|---|---|---|---|---|---|---|---|\n",
       "| 1 | 1 | 318 | 45 |  49 |  49 |  65 |  65 | 45 | 1 |\n",
       "| 2 | 2 | 405 | 60 |  62 |  63 |  80 |  80 | 60 | 1 |\n",
       "| 3 | 3 | 525 | 80 |  82 |  83 | 100 | 100 | 80 | 1 |\n",
       "| 4 | 3 | 625 | 80 | 100 | 123 | 122 | 120 | 80 | 1 |\n",
       "| 5 | 4 | 309 | 39 |  52 |  43 |  60 |  50 | 65 | 1 |\n",
       "| 6 | 5 | 405 | 58 |  64 |  58 |  80 |  65 | 80 | 1 |\n",
       "\n"
      ],
      "text/plain": [
       "  X. Total HP Attack Defense Sp..Atk Sp..Def Speed Generation\n",
       "1 1  318   45  49     49      65      65     45    1         \n",
       "2 2  405   60  62     63      80      80     60    1         \n",
       "3 3  525   80  82     83     100     100     80    1         \n",
       "4 3  625   80 100    123     122     120     80    1         \n",
       "5 4  309   39  52     43      60      50     65    1         \n",
       "6 5  405   58  64     58      80      65     80    1         "
      ]
     },
     "metadata": {},
     "output_type": "display_data"
    }
   ],
   "source": [
    "head(pokemon_numbers)"
   ]
  },
  {
   "cell_type": "code",
   "execution_count": 53,
   "metadata": {},
   "outputs": [
    {
     "data": {
      "text/html": [
       "<table>\n",
       "<caption>A data.frame: 6 × 4</caption>\n",
       "<thead>\n",
       "\t<tr><th></th><th scope=col>Name</th><th scope=col>Total</th><th scope=col>Attack</th><th scope=col>Defense</th></tr>\n",
       "\t<tr><th></th><th scope=col>&lt;chr&gt;</th><th scope=col>&lt;int&gt;</th><th scope=col>&lt;int&gt;</th><th scope=col>&lt;int&gt;</th></tr>\n",
       "</thead>\n",
       "<tbody>\n",
       "\t<tr><th scope=row>1</th><td>Venusaur           </td><td>525</td><td> 82</td><td> 83</td></tr>\n",
       "\t<tr><th scope=row>2</th><td>Charizard          </td><td>534</td><td> 84</td><td> 78</td></tr>\n",
       "\t<tr><th scope=row>3</th><td>Blastoise          </td><td>530</td><td> 83</td><td>100</td></tr>\n",
       "\t<tr><th scope=row>4</th><td>PidgeotMega Pidgeot</td><td>579</td><td> 80</td><td> 80</td></tr>\n",
       "\t<tr><th scope=row>5</th><td>Nidoqueen          </td><td>505</td><td> 92</td><td> 87</td></tr>\n",
       "\t<tr><th scope=row>6</th><td>Nidoking           </td><td>505</td><td>102</td><td> 77</td></tr>\n",
       "</tbody>\n",
       "</table>\n"
      ],
      "text/latex": [
       "A data.frame: 6 × 4\n",
       "\\begin{tabular}{r|llll}\n",
       "  & Name & Total & Attack & Defense\\\\\n",
       "  & <chr> & <int> & <int> & <int>\\\\\n",
       "\\hline\n",
       "\t1 & Venusaur            & 525 &  82 &  83\\\\\n",
       "\t2 & Charizard           & 534 &  84 &  78\\\\\n",
       "\t3 & Blastoise           & 530 &  83 & 100\\\\\n",
       "\t4 & PidgeotMega Pidgeot & 579 &  80 &  80\\\\\n",
       "\t5 & Nidoqueen           & 505 &  92 &  87\\\\\n",
       "\t6 & Nidoking            & 505 & 102 &  77\\\\\n",
       "\\end{tabular}\n"
      ],
      "text/markdown": [
       "\n",
       "A data.frame: 6 × 4\n",
       "\n",
       "| <!--/--> | Name &lt;chr&gt; | Total &lt;int&gt; | Attack &lt;int&gt; | Defense &lt;int&gt; |\n",
       "|---|---|---|---|---|\n",
       "| 1 | Venusaur            | 525 |  82 |  83 |\n",
       "| 2 | Charizard           | 534 |  84 |  78 |\n",
       "| 3 | Blastoise           | 530 |  83 | 100 |\n",
       "| 4 | PidgeotMega Pidgeot | 579 |  80 |  80 |\n",
       "| 5 | Nidoqueen           | 505 |  92 |  87 |\n",
       "| 6 | Nidoking            | 505 | 102 |  77 |\n",
       "\n"
      ],
      "text/plain": [
       "  Name                Total Attack Defense\n",
       "1 Venusaur            525    82     83    \n",
       "2 Charizard           534    84     78    \n",
       "3 Blastoise           530    83    100    \n",
       "4 PidgeotMega Pidgeot 579    80     80    \n",
       "5 Nidoqueen           505    92     87    \n",
       "6 Nidoking            505   102     77    "
      ]
     },
     "metadata": {},
     "output_type": "display_data"
    },
    {
     "data": {
      "text/html": [
       "199"
      ],
      "text/latex": [
       "199"
      ],
      "text/markdown": [
       "199"
      ],
      "text/plain": [
       "[1] 199"
      ]
     },
     "metadata": {},
     "output_type": "display_data"
    }
   ],
   "source": [
    "# filter\n",
    "pokemon_500_600 = filter(pokemon_sub, Total >=500, Total <= 600)\n",
    "head(pokemon_500_600)\n",
    "nrow(pokemon_500_600)"
   ]
  },
  {
   "cell_type": "code",
   "execution_count": 55,
   "metadata": {},
   "outputs": [],
   "source": [
    "# mutate() tao cot moi\n",
    "pokemon_sub <- mutate(pokemon_sub, Compare = ifelse(Attack > Defense, 1, 0))"
   ]
  },
  {
   "cell_type": "code",
   "execution_count": 56,
   "metadata": {},
   "outputs": [
    {
     "data": {
      "text/html": [
       "<table>\n",
       "<caption>A data.frame: 6 × 5</caption>\n",
       "<thead>\n",
       "\t<tr><th></th><th scope=col>Name</th><th scope=col>Total</th><th scope=col>Attack</th><th scope=col>Defense</th><th scope=col>Compare</th></tr>\n",
       "\t<tr><th></th><th scope=col>&lt;chr&gt;</th><th scope=col>&lt;int&gt;</th><th scope=col>&lt;int&gt;</th><th scope=col>&lt;int&gt;</th><th scope=col>&lt;dbl&gt;</th></tr>\n",
       "</thead>\n",
       "<tbody>\n",
       "\t<tr><th scope=row>1</th><td>Bulbasaur            </td><td>318</td><td> 49</td><td> 49</td><td>0</td></tr>\n",
       "\t<tr><th scope=row>2</th><td>Ivysaur              </td><td>405</td><td> 62</td><td> 63</td><td>0</td></tr>\n",
       "\t<tr><th scope=row>3</th><td>Venusaur             </td><td>525</td><td> 82</td><td> 83</td><td>0</td></tr>\n",
       "\t<tr><th scope=row>4</th><td>VenusaurMega Venusaur</td><td>625</td><td>100</td><td>123</td><td>0</td></tr>\n",
       "\t<tr><th scope=row>5</th><td>Charmander           </td><td>309</td><td> 52</td><td> 43</td><td>1</td></tr>\n",
       "\t<tr><th scope=row>6</th><td>Charmeleon           </td><td>405</td><td> 64</td><td> 58</td><td>1</td></tr>\n",
       "</tbody>\n",
       "</table>\n"
      ],
      "text/latex": [
       "A data.frame: 6 × 5\n",
       "\\begin{tabular}{r|lllll}\n",
       "  & Name & Total & Attack & Defense & Compare\\\\\n",
       "  & <chr> & <int> & <int> & <int> & <dbl>\\\\\n",
       "\\hline\n",
       "\t1 & Bulbasaur             & 318 &  49 &  49 & 0\\\\\n",
       "\t2 & Ivysaur               & 405 &  62 &  63 & 0\\\\\n",
       "\t3 & Venusaur              & 525 &  82 &  83 & 0\\\\\n",
       "\t4 & VenusaurMega Venusaur & 625 & 100 & 123 & 0\\\\\n",
       "\t5 & Charmander            & 309 &  52 &  43 & 1\\\\\n",
       "\t6 & Charmeleon            & 405 &  64 &  58 & 1\\\\\n",
       "\\end{tabular}\n"
      ],
      "text/markdown": [
       "\n",
       "A data.frame: 6 × 5\n",
       "\n",
       "| <!--/--> | Name &lt;chr&gt; | Total &lt;int&gt; | Attack &lt;int&gt; | Defense &lt;int&gt; | Compare &lt;dbl&gt; |\n",
       "|---|---|---|---|---|---|\n",
       "| 1 | Bulbasaur             | 318 |  49 |  49 | 0 |\n",
       "| 2 | Ivysaur               | 405 |  62 |  63 | 0 |\n",
       "| 3 | Venusaur              | 525 |  82 |  83 | 0 |\n",
       "| 4 | VenusaurMega Venusaur | 625 | 100 | 123 | 0 |\n",
       "| 5 | Charmander            | 309 |  52 |  43 | 1 |\n",
       "| 6 | Charmeleon            | 405 |  64 |  58 | 1 |\n",
       "\n"
      ],
      "text/plain": [
       "  Name                  Total Attack Defense Compare\n",
       "1 Bulbasaur             318    49     49     0      \n",
       "2 Ivysaur               405    62     63     0      \n",
       "3 Venusaur              525    82     83     0      \n",
       "4 VenusaurMega Venusaur 625   100    123     0      \n",
       "5 Charmander            309    52     43     1      \n",
       "6 Charmeleon            405    64     58     1      "
      ]
     },
     "metadata": {},
     "output_type": "display_data"
    }
   ],
   "source": [
    "head(pokemon_sub)"
   ]
  },
  {
   "cell_type": "code",
   "execution_count": 65,
   "metadata": {},
   "outputs": [
    {
     "data": {
      "text/html": [
       "<table>\n",
       "<caption>A data.frame: 6 × 5</caption>\n",
       "<thead>\n",
       "\t<tr><th></th><th scope=col>Name</th><th scope=col>Total</th><th scope=col>Attack</th><th scope=col>Defense</th><th scope=col>Compare</th></tr>\n",
       "\t<tr><th></th><th scope=col>&lt;chr&gt;</th><th scope=col>&lt;int&gt;</th><th scope=col>&lt;int&gt;</th><th scope=col>&lt;int&gt;</th><th scope=col>&lt;dbl&gt;</th></tr>\n",
       "</thead>\n",
       "<tbody>\n",
       "\t<tr><th scope=row>1</th><td>MewtwoMega Mewtwo X  </td><td>780</td><td>190</td><td>100</td><td>1</td></tr>\n",
       "\t<tr><th scope=row>2</th><td>MewtwoMega Mewtwo Y  </td><td>780</td><td>150</td><td> 70</td><td>1</td></tr>\n",
       "\t<tr><th scope=row>3</th><td>RayquazaMega Rayquaza</td><td>780</td><td>180</td><td>100</td><td>1</td></tr>\n",
       "\t<tr><th scope=row>4</th><td>KyogrePrimal Kyogre  </td><td>770</td><td>150</td><td> 90</td><td>1</td></tr>\n",
       "\t<tr><th scope=row>5</th><td>GroudonPrimal Groudon</td><td>770</td><td>180</td><td>160</td><td>1</td></tr>\n",
       "\t<tr><th scope=row>6</th><td>Arceus               </td><td>720</td><td>120</td><td>120</td><td>0</td></tr>\n",
       "</tbody>\n",
       "</table>\n"
      ],
      "text/latex": [
       "A data.frame: 6 × 5\n",
       "\\begin{tabular}{r|lllll}\n",
       "  & Name & Total & Attack & Defense & Compare\\\\\n",
       "  & <chr> & <int> & <int> & <int> & <dbl>\\\\\n",
       "\\hline\n",
       "\t1 & MewtwoMega Mewtwo X   & 780 & 190 & 100 & 1\\\\\n",
       "\t2 & MewtwoMega Mewtwo Y   & 780 & 150 &  70 & 1\\\\\n",
       "\t3 & RayquazaMega Rayquaza & 780 & 180 & 100 & 1\\\\\n",
       "\t4 & KyogrePrimal Kyogre   & 770 & 150 &  90 & 1\\\\\n",
       "\t5 & GroudonPrimal Groudon & 770 & 180 & 160 & 1\\\\\n",
       "\t6 & Arceus                & 720 & 120 & 120 & 0\\\\\n",
       "\\end{tabular}\n"
      ],
      "text/markdown": [
       "\n",
       "A data.frame: 6 × 5\n",
       "\n",
       "| <!--/--> | Name &lt;chr&gt; | Total &lt;int&gt; | Attack &lt;int&gt; | Defense &lt;int&gt; | Compare &lt;dbl&gt; |\n",
       "|---|---|---|---|---|---|\n",
       "| 1 | MewtwoMega Mewtwo X   | 780 | 190 | 100 | 1 |\n",
       "| 2 | MewtwoMega Mewtwo Y   | 780 | 150 |  70 | 1 |\n",
       "| 3 | RayquazaMega Rayquaza | 780 | 180 | 100 | 1 |\n",
       "| 4 | KyogrePrimal Kyogre   | 770 | 150 |  90 | 1 |\n",
       "| 5 | GroudonPrimal Groudon | 770 | 180 | 160 | 1 |\n",
       "| 6 | Arceus                | 720 | 120 | 120 | 0 |\n",
       "\n"
      ],
      "text/plain": [
       "  Name                  Total Attack Defense Compare\n",
       "1 MewtwoMega Mewtwo X   780   190    100     1      \n",
       "2 MewtwoMega Mewtwo Y   780   150     70     1      \n",
       "3 RayquazaMega Rayquaza 780   180    100     1      \n",
       "4 KyogrePrimal Kyogre   770   150     90     1      \n",
       "5 GroudonPrimal Groudon 770   180    160     1      \n",
       "6 Arceus                720   120    120     0      "
      ]
     },
     "metadata": {},
     "output_type": "display_data"
    }
   ],
   "source": [
    "# arrange() sapx ep du lieu\n",
    "head(arrange(pokemon_sub, desc(Total)))\n"
   ]
  },
  {
   "cell_type": "code",
   "execution_count": 66,
   "metadata": {},
   "outputs": [
    {
     "data": {
      "text/html": [
       "<table>\n",
       "<caption>A data.frame: 6 × 5</caption>\n",
       "<thead>\n",
       "\t<tr><th></th><th scope=col>Name</th><th scope=col>Total</th><th scope=col>Attack</th><th scope=col>Defense</th><th scope=col>Compare</th></tr>\n",
       "\t<tr><th></th><th scope=col>&lt;chr&gt;</th><th scope=col>&lt;int&gt;</th><th scope=col>&lt;int&gt;</th><th scope=col>&lt;int&gt;</th><th scope=col>&lt;dbl&gt;</th></tr>\n",
       "</thead>\n",
       "<tbody>\n",
       "\t<tr><th scope=row>1</th><td>MewtwoMega Mewtwo X  </td><td>780</td><td>190</td><td>100</td><td>1</td></tr>\n",
       "\t<tr><th scope=row>2</th><td>RayquazaMega Rayquaza</td><td>780</td><td>180</td><td>100</td><td>1</td></tr>\n",
       "\t<tr><th scope=row>3</th><td>MewtwoMega Mewtwo Y  </td><td>780</td><td>150</td><td> 70</td><td>1</td></tr>\n",
       "\t<tr><th scope=row>4</th><td>GroudonPrimal Groudon</td><td>770</td><td>180</td><td>160</td><td>1</td></tr>\n",
       "\t<tr><th scope=row>5</th><td>KyogrePrimal Kyogre  </td><td>770</td><td>150</td><td> 90</td><td>1</td></tr>\n",
       "\t<tr><th scope=row>6</th><td>Arceus               </td><td>720</td><td>120</td><td>120</td><td>0</td></tr>\n",
       "</tbody>\n",
       "</table>\n"
      ],
      "text/latex": [
       "A data.frame: 6 × 5\n",
       "\\begin{tabular}{r|lllll}\n",
       "  & Name & Total & Attack & Defense & Compare\\\\\n",
       "  & <chr> & <int> & <int> & <int> & <dbl>\\\\\n",
       "\\hline\n",
       "\t1 & MewtwoMega Mewtwo X   & 780 & 190 & 100 & 1\\\\\n",
       "\t2 & RayquazaMega Rayquaza & 780 & 180 & 100 & 1\\\\\n",
       "\t3 & MewtwoMega Mewtwo Y   & 780 & 150 &  70 & 1\\\\\n",
       "\t4 & GroudonPrimal Groudon & 770 & 180 & 160 & 1\\\\\n",
       "\t5 & KyogrePrimal Kyogre   & 770 & 150 &  90 & 1\\\\\n",
       "\t6 & Arceus                & 720 & 120 & 120 & 0\\\\\n",
       "\\end{tabular}\n"
      ],
      "text/markdown": [
       "\n",
       "A data.frame: 6 × 5\n",
       "\n",
       "| <!--/--> | Name &lt;chr&gt; | Total &lt;int&gt; | Attack &lt;int&gt; | Defense &lt;int&gt; | Compare &lt;dbl&gt; |\n",
       "|---|---|---|---|---|---|\n",
       "| 1 | MewtwoMega Mewtwo X   | 780 | 190 | 100 | 1 |\n",
       "| 2 | RayquazaMega Rayquaza | 780 | 180 | 100 | 1 |\n",
       "| 3 | MewtwoMega Mewtwo Y   | 780 | 150 |  70 | 1 |\n",
       "| 4 | GroudonPrimal Groudon | 770 | 180 | 160 | 1 |\n",
       "| 5 | KyogrePrimal Kyogre   | 770 | 150 |  90 | 1 |\n",
       "| 6 | Arceus                | 720 | 120 | 120 | 0 |\n",
       "\n"
      ],
      "text/plain": [
       "  Name                  Total Attack Defense Compare\n",
       "1 MewtwoMega Mewtwo X   780   190    100     1      \n",
       "2 RayquazaMega Rayquaza 780   180    100     1      \n",
       "3 MewtwoMega Mewtwo Y   780   150     70     1      \n",
       "4 GroudonPrimal Groudon 770   180    160     1      \n",
       "5 KyogrePrimal Kyogre   770   150     90     1      \n",
       "6 Arceus                720   120    120     0      "
      ]
     },
     "metadata": {},
     "output_type": "display_data"
    }
   ],
   "source": [
    "head(arrange(pokemon_sub, desc(Total), desc(Attack)))"
   ]
  },
  {
   "cell_type": "code",
   "execution_count": 67,
   "metadata": {},
   "outputs": [
    {
     "name": "stderr",
     "output_type": "stream",
     "text": [
      "`summarise()` ungrouping output (override with `.groups` argument)\n",
      "\n"
     ]
    }
   ],
   "source": [
    "group = group_by(pokemon, Type.1)\n",
    "summary = summarize(group,\n",
    "                   count = n(),\n",
    "                   mean.Attack = mean(Attack, na.rm = T),\n",
    "                   median.Attack = median(Attack, na.rm = T),\n",
    "                   mean.Defense = mean(Defense, na.rm = T),\n",
    "                   median.Defense = median(Defense, na.rm = T))"
   ]
  },
  {
   "cell_type": "code",
   "execution_count": 68,
   "metadata": {},
   "outputs": [
    {
     "data": {
      "text/html": [
       "<table>\n",
       "<caption>A tibble: 18 × 6</caption>\n",
       "<thead>\n",
       "\t<tr><th scope=col>Type.1</th><th scope=col>count</th><th scope=col>mean.Attack</th><th scope=col>median.Attack</th><th scope=col>mean.Defense</th><th scope=col>median.Defense</th></tr>\n",
       "\t<tr><th scope=col>&lt;chr&gt;</th><th scope=col>&lt;int&gt;</th><th scope=col>&lt;dbl&gt;</th><th scope=col>&lt;dbl&gt;</th><th scope=col>&lt;dbl&gt;</th><th scope=col>&lt;dbl&gt;</th></tr>\n",
       "</thead>\n",
       "<tbody>\n",
       "\t<tr><td>Bug     </td><td> 69</td><td> 70.97101</td><td> 65.0</td><td> 70.72464</td><td> 60.0</td></tr>\n",
       "\t<tr><td>Dark    </td><td> 31</td><td> 88.38710</td><td> 88.0</td><td> 70.22581</td><td> 70.0</td></tr>\n",
       "\t<tr><td>Dragon  </td><td> 32</td><td>112.12500</td><td>113.5</td><td> 86.37500</td><td> 90.0</td></tr>\n",
       "\t<tr><td>Electric</td><td> 44</td><td> 69.09091</td><td> 65.0</td><td> 66.29545</td><td> 65.0</td></tr>\n",
       "\t<tr><td>Fairy   </td><td> 17</td><td> 61.52941</td><td> 52.0</td><td> 65.70588</td><td> 66.0</td></tr>\n",
       "\t<tr><td>Fighting</td><td> 27</td><td> 96.77778</td><td>100.0</td><td> 65.92593</td><td> 70.0</td></tr>\n",
       "\t<tr><td>Fire    </td><td> 52</td><td> 84.76923</td><td> 84.5</td><td> 67.76923</td><td> 64.0</td></tr>\n",
       "\t<tr><td>Flying  </td><td>  4</td><td> 78.75000</td><td> 85.0</td><td> 66.25000</td><td> 75.0</td></tr>\n",
       "\t<tr><td>Ghost   </td><td> 32</td><td> 73.78125</td><td> 66.0</td><td> 81.18750</td><td> 72.5</td></tr>\n",
       "\t<tr><td>Grass   </td><td> 70</td><td> 73.21429</td><td> 70.0</td><td> 70.80000</td><td> 66.0</td></tr>\n",
       "\t<tr><td>Ground  </td><td> 32</td><td> 95.75000</td><td> 85.0</td><td> 84.84375</td><td> 84.5</td></tr>\n",
       "\t<tr><td>Ice     </td><td> 24</td><td> 72.75000</td><td> 67.0</td><td> 71.41667</td><td> 75.0</td></tr>\n",
       "\t<tr><td>Normal  </td><td> 98</td><td> 73.46939</td><td> 70.5</td><td> 59.84694</td><td> 60.0</td></tr>\n",
       "\t<tr><td>Poison  </td><td> 28</td><td> 74.67857</td><td> 74.0</td><td> 68.82143</td><td> 67.0</td></tr>\n",
       "\t<tr><td>Psychic </td><td> 57</td><td> 71.45614</td><td> 57.0</td><td> 67.68421</td><td> 65.0</td></tr>\n",
       "\t<tr><td>Rock    </td><td> 44</td><td> 92.86364</td><td> 95.0</td><td>100.79545</td><td>100.0</td></tr>\n",
       "\t<tr><td>Steel   </td><td> 27</td><td> 92.70370</td><td> 89.0</td><td>126.37037</td><td>120.0</td></tr>\n",
       "\t<tr><td>Water   </td><td>112</td><td> 74.15179</td><td> 72.0</td><td> 72.94643</td><td> 70.0</td></tr>\n",
       "</tbody>\n",
       "</table>\n"
      ],
      "text/latex": [
       "A tibble: 18 × 6\n",
       "\\begin{tabular}{llllll}\n",
       " Type.1 & count & mean.Attack & median.Attack & mean.Defense & median.Defense\\\\\n",
       " <chr> & <int> & <dbl> & <dbl> & <dbl> & <dbl>\\\\\n",
       "\\hline\n",
       "\t Bug      &  69 &  70.97101 &  65.0 &  70.72464 &  60.0\\\\\n",
       "\t Dark     &  31 &  88.38710 &  88.0 &  70.22581 &  70.0\\\\\n",
       "\t Dragon   &  32 & 112.12500 & 113.5 &  86.37500 &  90.0\\\\\n",
       "\t Electric &  44 &  69.09091 &  65.0 &  66.29545 &  65.0\\\\\n",
       "\t Fairy    &  17 &  61.52941 &  52.0 &  65.70588 &  66.0\\\\\n",
       "\t Fighting &  27 &  96.77778 & 100.0 &  65.92593 &  70.0\\\\\n",
       "\t Fire     &  52 &  84.76923 &  84.5 &  67.76923 &  64.0\\\\\n",
       "\t Flying   &   4 &  78.75000 &  85.0 &  66.25000 &  75.0\\\\\n",
       "\t Ghost    &  32 &  73.78125 &  66.0 &  81.18750 &  72.5\\\\\n",
       "\t Grass    &  70 &  73.21429 &  70.0 &  70.80000 &  66.0\\\\\n",
       "\t Ground   &  32 &  95.75000 &  85.0 &  84.84375 &  84.5\\\\\n",
       "\t Ice      &  24 &  72.75000 &  67.0 &  71.41667 &  75.0\\\\\n",
       "\t Normal   &  98 &  73.46939 &  70.5 &  59.84694 &  60.0\\\\\n",
       "\t Poison   &  28 &  74.67857 &  74.0 &  68.82143 &  67.0\\\\\n",
       "\t Psychic  &  57 &  71.45614 &  57.0 &  67.68421 &  65.0\\\\\n",
       "\t Rock     &  44 &  92.86364 &  95.0 & 100.79545 & 100.0\\\\\n",
       "\t Steel    &  27 &  92.70370 &  89.0 & 126.37037 & 120.0\\\\\n",
       "\t Water    & 112 &  74.15179 &  72.0 &  72.94643 &  70.0\\\\\n",
       "\\end{tabular}\n"
      ],
      "text/markdown": [
       "\n",
       "A tibble: 18 × 6\n",
       "\n",
       "| Type.1 &lt;chr&gt; | count &lt;int&gt; | mean.Attack &lt;dbl&gt; | median.Attack &lt;dbl&gt; | mean.Defense &lt;dbl&gt; | median.Defense &lt;dbl&gt; |\n",
       "|---|---|---|---|---|---|\n",
       "| Bug      |  69 |  70.97101 |  65.0 |  70.72464 |  60.0 |\n",
       "| Dark     |  31 |  88.38710 |  88.0 |  70.22581 |  70.0 |\n",
       "| Dragon   |  32 | 112.12500 | 113.5 |  86.37500 |  90.0 |\n",
       "| Electric |  44 |  69.09091 |  65.0 |  66.29545 |  65.0 |\n",
       "| Fairy    |  17 |  61.52941 |  52.0 |  65.70588 |  66.0 |\n",
       "| Fighting |  27 |  96.77778 | 100.0 |  65.92593 |  70.0 |\n",
       "| Fire     |  52 |  84.76923 |  84.5 |  67.76923 |  64.0 |\n",
       "| Flying   |   4 |  78.75000 |  85.0 |  66.25000 |  75.0 |\n",
       "| Ghost    |  32 |  73.78125 |  66.0 |  81.18750 |  72.5 |\n",
       "| Grass    |  70 |  73.21429 |  70.0 |  70.80000 |  66.0 |\n",
       "| Ground   |  32 |  95.75000 |  85.0 |  84.84375 |  84.5 |\n",
       "| Ice      |  24 |  72.75000 |  67.0 |  71.41667 |  75.0 |\n",
       "| Normal   |  98 |  73.46939 |  70.5 |  59.84694 |  60.0 |\n",
       "| Poison   |  28 |  74.67857 |  74.0 |  68.82143 |  67.0 |\n",
       "| Psychic  |  57 |  71.45614 |  57.0 |  67.68421 |  65.0 |\n",
       "| Rock     |  44 |  92.86364 |  95.0 | 100.79545 | 100.0 |\n",
       "| Steel    |  27 |  92.70370 |  89.0 | 126.37037 | 120.0 |\n",
       "| Water    | 112 |  74.15179 |  72.0 |  72.94643 |  70.0 |\n",
       "\n"
      ],
      "text/plain": [
       "   Type.1   count mean.Attack median.Attack mean.Defense median.Defense\n",
       "1  Bug       69    70.97101    65.0          70.72464     60.0         \n",
       "2  Dark      31    88.38710    88.0          70.22581     70.0         \n",
       "3  Dragon    32   112.12500   113.5          86.37500     90.0         \n",
       "4  Electric  44    69.09091    65.0          66.29545     65.0         \n",
       "5  Fairy     17    61.52941    52.0          65.70588     66.0         \n",
       "6  Fighting  27    96.77778   100.0          65.92593     70.0         \n",
       "7  Fire      52    84.76923    84.5          67.76923     64.0         \n",
       "8  Flying     4    78.75000    85.0          66.25000     75.0         \n",
       "9  Ghost     32    73.78125    66.0          81.18750     72.5         \n",
       "10 Grass     70    73.21429    70.0          70.80000     66.0         \n",
       "11 Ground    32    95.75000    85.0          84.84375     84.5         \n",
       "12 Ice       24    72.75000    67.0          71.41667     75.0         \n",
       "13 Normal    98    73.46939    70.5          59.84694     60.0         \n",
       "14 Poison    28    74.67857    74.0          68.82143     67.0         \n",
       "15 Psychic   57    71.45614    57.0          67.68421     65.0         \n",
       "16 Rock      44    92.86364    95.0         100.79545    100.0         \n",
       "17 Steel     27    92.70370    89.0         126.37037    120.0         \n",
       "18 Water    112    74.15179    72.0          72.94643     70.0         "
      ]
     },
     "metadata": {},
     "output_type": "display_data"
    }
   ],
   "source": [
    "summary"
   ]
  },
  {
   "cell_type": "code",
   "execution_count": 70,
   "metadata": {},
   "outputs": [
    {
     "data": {
      "text/html": [
       "<table>\n",
       "<caption>A data.frame: 18 × 2</caption>\n",
       "<thead>\n",
       "\t<tr><th scope=col>Type.1</th><th scope=col>n</th></tr>\n",
       "\t<tr><th scope=col>&lt;chr&gt;</th><th scope=col>&lt;int&gt;</th></tr>\n",
       "</thead>\n",
       "<tbody>\n",
       "\t<tr><td>Bug     </td><td> 69</td></tr>\n",
       "\t<tr><td>Dark    </td><td> 31</td></tr>\n",
       "\t<tr><td>Dragon  </td><td> 32</td></tr>\n",
       "\t<tr><td>Electric</td><td> 44</td></tr>\n",
       "\t<tr><td>Fairy   </td><td> 17</td></tr>\n",
       "\t<tr><td>Fighting</td><td> 27</td></tr>\n",
       "\t<tr><td>Fire    </td><td> 52</td></tr>\n",
       "\t<tr><td>Flying  </td><td>  4</td></tr>\n",
       "\t<tr><td>Ghost   </td><td> 32</td></tr>\n",
       "\t<tr><td>Grass   </td><td> 70</td></tr>\n",
       "\t<tr><td>Ground  </td><td> 32</td></tr>\n",
       "\t<tr><td>Ice     </td><td> 24</td></tr>\n",
       "\t<tr><td>Normal  </td><td> 98</td></tr>\n",
       "\t<tr><td>Poison  </td><td> 28</td></tr>\n",
       "\t<tr><td>Psychic </td><td> 57</td></tr>\n",
       "\t<tr><td>Rock    </td><td> 44</td></tr>\n",
       "\t<tr><td>Steel   </td><td> 27</td></tr>\n",
       "\t<tr><td>Water   </td><td>112</td></tr>\n",
       "</tbody>\n",
       "</table>\n"
      ],
      "text/latex": [
       "A data.frame: 18 × 2\n",
       "\\begin{tabular}{ll}\n",
       " Type.1 & n\\\\\n",
       " <chr> & <int>\\\\\n",
       "\\hline\n",
       "\t Bug      &  69\\\\\n",
       "\t Dark     &  31\\\\\n",
       "\t Dragon   &  32\\\\\n",
       "\t Electric &  44\\\\\n",
       "\t Fairy    &  17\\\\\n",
       "\t Fighting &  27\\\\\n",
       "\t Fire     &  52\\\\\n",
       "\t Flying   &   4\\\\\n",
       "\t Ghost    &  32\\\\\n",
       "\t Grass    &  70\\\\\n",
       "\t Ground   &  32\\\\\n",
       "\t Ice      &  24\\\\\n",
       "\t Normal   &  98\\\\\n",
       "\t Poison   &  28\\\\\n",
       "\t Psychic  &  57\\\\\n",
       "\t Rock     &  44\\\\\n",
       "\t Steel    &  27\\\\\n",
       "\t Water    & 112\\\\\n",
       "\\end{tabular}\n"
      ],
      "text/markdown": [
       "\n",
       "A data.frame: 18 × 2\n",
       "\n",
       "| Type.1 &lt;chr&gt; | n &lt;int&gt; |\n",
       "|---|---|\n",
       "| Bug      |  69 |\n",
       "| Dark     |  31 |\n",
       "| Dragon   |  32 |\n",
       "| Electric |  44 |\n",
       "| Fairy    |  17 |\n",
       "| Fighting |  27 |\n",
       "| Fire     |  52 |\n",
       "| Flying   |   4 |\n",
       "| Ghost    |  32 |\n",
       "| Grass    |  70 |\n",
       "| Ground   |  32 |\n",
       "| Ice      |  24 |\n",
       "| Normal   |  98 |\n",
       "| Poison   |  28 |\n",
       "| Psychic  |  57 |\n",
       "| Rock     |  44 |\n",
       "| Steel    |  27 |\n",
       "| Water    | 112 |\n",
       "\n"
      ],
      "text/plain": [
       "   Type.1   n  \n",
       "1  Bug       69\n",
       "2  Dark      31\n",
       "3  Dragon    32\n",
       "4  Electric  44\n",
       "5  Fairy     17\n",
       "6  Fighting  27\n",
       "7  Fire      52\n",
       "8  Flying     4\n",
       "9  Ghost     32\n",
       "10 Grass     70\n",
       "11 Ground    32\n",
       "12 Ice       24\n",
       "13 Normal    98\n",
       "14 Poison    28\n",
       "15 Psychic   57\n",
       "16 Rock      44\n",
       "17 Steel     27\n",
       "18 Water    112"
      ]
     },
     "metadata": {},
     "output_type": "display_data"
    }
   ],
   "source": [
    "count(pokemon, Type.1)"
   ]
  },
  {
   "cell_type": "code",
   "execution_count": 71,
   "metadata": {},
   "outputs": [],
   "source": [
    "new <- count(pokemon, Type.1)"
   ]
  },
  {
   "cell_type": "code",
   "execution_count": 72,
   "metadata": {},
   "outputs": [
    {
     "data": {
      "text/html": [
       "<table>\n",
       "<caption>A data.frame: 6 × 2</caption>\n",
       "<thead>\n",
       "\t<tr><th></th><th scope=col>Type.1</th><th scope=col>n</th></tr>\n",
       "\t<tr><th></th><th scope=col>&lt;chr&gt;</th><th scope=col>&lt;int&gt;</th></tr>\n",
       "</thead>\n",
       "<tbody>\n",
       "\t<tr><th scope=row>1</th><td>Bug     </td><td>69</td></tr>\n",
       "\t<tr><th scope=row>2</th><td>Dark    </td><td>31</td></tr>\n",
       "\t<tr><th scope=row>3</th><td>Dragon  </td><td>32</td></tr>\n",
       "\t<tr><th scope=row>4</th><td>Electric</td><td>44</td></tr>\n",
       "\t<tr><th scope=row>5</th><td>Fairy   </td><td>17</td></tr>\n",
       "\t<tr><th scope=row>6</th><td>Fighting</td><td>27</td></tr>\n",
       "</tbody>\n",
       "</table>\n"
      ],
      "text/latex": [
       "A data.frame: 6 × 2\n",
       "\\begin{tabular}{r|ll}\n",
       "  & Type.1 & n\\\\\n",
       "  & <chr> & <int>\\\\\n",
       "\\hline\n",
       "\t1 & Bug      & 69\\\\\n",
       "\t2 & Dark     & 31\\\\\n",
       "\t3 & Dragon   & 32\\\\\n",
       "\t4 & Electric & 44\\\\\n",
       "\t5 & Fairy    & 17\\\\\n",
       "\t6 & Fighting & 27\\\\\n",
       "\\end{tabular}\n"
      ],
      "text/markdown": [
       "\n",
       "A data.frame: 6 × 2\n",
       "\n",
       "| <!--/--> | Type.1 &lt;chr&gt; | n &lt;int&gt; |\n",
       "|---|---|---|\n",
       "| 1 | Bug      | 69 |\n",
       "| 2 | Dark     | 31 |\n",
       "| 3 | Dragon   | 32 |\n",
       "| 4 | Electric | 44 |\n",
       "| 5 | Fairy    | 17 |\n",
       "| 6 | Fighting | 27 |\n",
       "\n"
      ],
      "text/plain": [
       "  Type.1   n \n",
       "1 Bug      69\n",
       "2 Dark     31\n",
       "3 Dragon   32\n",
       "4 Electric 44\n",
       "5 Fairy    17\n",
       "6 Fighting 27"
      ]
     },
     "metadata": {},
     "output_type": "display_data"
    }
   ],
   "source": [
    "head(new)"
   ]
  },
  {
   "cell_type": "code",
   "execution_count": 74,
   "metadata": {},
   "outputs": [],
   "source": [
    "new <- mutate(new, precentage = n/100)"
   ]
  },
  {
   "cell_type": "code",
   "execution_count": 75,
   "metadata": {},
   "outputs": [
    {
     "data": {
      "text/html": [
       "<table>\n",
       "<caption>A data.frame: 6 × 3</caption>\n",
       "<thead>\n",
       "\t<tr><th></th><th scope=col>Type.1</th><th scope=col>n</th><th scope=col>precentage</th></tr>\n",
       "\t<tr><th></th><th scope=col>&lt;chr&gt;</th><th scope=col>&lt;int&gt;</th><th scope=col>&lt;dbl&gt;</th></tr>\n",
       "</thead>\n",
       "<tbody>\n",
       "\t<tr><th scope=row>1</th><td>Bug     </td><td>69</td><td>0.69</td></tr>\n",
       "\t<tr><th scope=row>2</th><td>Dark    </td><td>31</td><td>0.31</td></tr>\n",
       "\t<tr><th scope=row>3</th><td>Dragon  </td><td>32</td><td>0.32</td></tr>\n",
       "\t<tr><th scope=row>4</th><td>Electric</td><td>44</td><td>0.44</td></tr>\n",
       "\t<tr><th scope=row>5</th><td>Fairy   </td><td>17</td><td>0.17</td></tr>\n",
       "\t<tr><th scope=row>6</th><td>Fighting</td><td>27</td><td>0.27</td></tr>\n",
       "</tbody>\n",
       "</table>\n"
      ],
      "text/latex": [
       "A data.frame: 6 × 3\n",
       "\\begin{tabular}{r|lll}\n",
       "  & Type.1 & n & precentage\\\\\n",
       "  & <chr> & <int> & <dbl>\\\\\n",
       "\\hline\n",
       "\t1 & Bug      & 69 & 0.69\\\\\n",
       "\t2 & Dark     & 31 & 0.31\\\\\n",
       "\t3 & Dragon   & 32 & 0.32\\\\\n",
       "\t4 & Electric & 44 & 0.44\\\\\n",
       "\t5 & Fairy    & 17 & 0.17\\\\\n",
       "\t6 & Fighting & 27 & 0.27\\\\\n",
       "\\end{tabular}\n"
      ],
      "text/markdown": [
       "\n",
       "A data.frame: 6 × 3\n",
       "\n",
       "| <!--/--> | Type.1 &lt;chr&gt; | n &lt;int&gt; | precentage &lt;dbl&gt; |\n",
       "|---|---|---|---|\n",
       "| 1 | Bug      | 69 | 0.69 |\n",
       "| 2 | Dark     | 31 | 0.31 |\n",
       "| 3 | Dragon   | 32 | 0.32 |\n",
       "| 4 | Electric | 44 | 0.44 |\n",
       "| 5 | Fairy    | 17 | 0.17 |\n",
       "| 6 | Fighting | 27 | 0.27 |\n",
       "\n"
      ],
      "text/plain": [
       "  Type.1   n  precentage\n",
       "1 Bug      69 0.69      \n",
       "2 Dark     31 0.31      \n",
       "3 Dragon   32 0.32      \n",
       "4 Electric 44 0.44      \n",
       "5 Fairy    17 0.17      \n",
       "6 Fighting 27 0.27      "
      ]
     },
     "metadata": {},
     "output_type": "display_data"
    }
   ],
   "source": [
    "head(new)"
   ]
  },
  {
   "cell_type": "code",
   "execution_count": 76,
   "metadata": {},
   "outputs": [
    {
     "data": {
      "text/html": [
       "<table>\n",
       "<caption>A data.frame: 5 × 13</caption>\n",
       "<thead>\n",
       "\t<tr><th scope=col>X.</th><th scope=col>Name</th><th scope=col>Type.1</th><th scope=col>Type.2</th><th scope=col>Total</th><th scope=col>HP</th><th scope=col>Attack</th><th scope=col>Defense</th><th scope=col>Sp..Atk</th><th scope=col>Sp..Def</th><th scope=col>Speed</th><th scope=col>Generation</th><th scope=col>Legendary</th></tr>\n",
       "\t<tr><th scope=col>&lt;int&gt;</th><th scope=col>&lt;chr&gt;</th><th scope=col>&lt;chr&gt;</th><th scope=col>&lt;chr&gt;</th><th scope=col>&lt;int&gt;</th><th scope=col>&lt;int&gt;</th><th scope=col>&lt;int&gt;</th><th scope=col>&lt;int&gt;</th><th scope=col>&lt;int&gt;</th><th scope=col>&lt;int&gt;</th><th scope=col>&lt;int&gt;</th><th scope=col>&lt;int&gt;</th><th scope=col>&lt;chr&gt;</th></tr>\n",
       "</thead>\n",
       "<tbody>\n",
       "\t<tr><td>652</td><td>Chesnaught             </td><td>Grass   </td><td>Fighting</td><td>530</td><td> 88</td><td>107</td><td>122</td><td> 74</td><td> 75</td><td> 64</td><td>6</td><td>False</td></tr>\n",
       "\t<tr><td>125</td><td>Electabuzz             </td><td>Electric</td><td>        </td><td>490</td><td> 65</td><td> 83</td><td> 57</td><td> 95</td><td> 85</td><td>105</td><td>1</td><td>False</td></tr>\n",
       "\t<tr><td>373</td><td>SalamenceMega Salamence</td><td>Dragon  </td><td>Flying  </td><td>700</td><td> 95</td><td>145</td><td>130</td><td>120</td><td> 90</td><td>120</td><td>3</td><td>False</td></tr>\n",
       "\t<tr><td>633</td><td>Deino                  </td><td>Dark    </td><td>Dragon  </td><td>300</td><td> 52</td><td> 65</td><td> 50</td><td> 45</td><td> 50</td><td> 38</td><td>5</td><td>False</td></tr>\n",
       "\t<tr><td>490</td><td>Manaphy                </td><td>Water   </td><td>        </td><td>600</td><td>100</td><td>100</td><td>100</td><td>100</td><td>100</td><td>100</td><td>4</td><td>False</td></tr>\n",
       "</tbody>\n",
       "</table>\n"
      ],
      "text/latex": [
       "A data.frame: 5 × 13\n",
       "\\begin{tabular}{lllllllllllll}\n",
       " X. & Name & Type.1 & Type.2 & Total & HP & Attack & Defense & Sp..Atk & Sp..Def & Speed & Generation & Legendary\\\\\n",
       " <int> & <chr> & <chr> & <chr> & <int> & <int> & <int> & <int> & <int> & <int> & <int> & <int> & <chr>\\\\\n",
       "\\hline\n",
       "\t 652 & Chesnaught              & Grass    & Fighting & 530 &  88 & 107 & 122 &  74 &  75 &  64 & 6 & False\\\\\n",
       "\t 125 & Electabuzz              & Electric &          & 490 &  65 &  83 &  57 &  95 &  85 & 105 & 1 & False\\\\\n",
       "\t 373 & SalamenceMega Salamence & Dragon   & Flying   & 700 &  95 & 145 & 130 & 120 &  90 & 120 & 3 & False\\\\\n",
       "\t 633 & Deino                   & Dark     & Dragon   & 300 &  52 &  65 &  50 &  45 &  50 &  38 & 5 & False\\\\\n",
       "\t 490 & Manaphy                 & Water    &          & 600 & 100 & 100 & 100 & 100 & 100 & 100 & 4 & False\\\\\n",
       "\\end{tabular}\n"
      ],
      "text/markdown": [
       "\n",
       "A data.frame: 5 × 13\n",
       "\n",
       "| X. &lt;int&gt; | Name &lt;chr&gt; | Type.1 &lt;chr&gt; | Type.2 &lt;chr&gt; | Total &lt;int&gt; | HP &lt;int&gt; | Attack &lt;int&gt; | Defense &lt;int&gt; | Sp..Atk &lt;int&gt; | Sp..Def &lt;int&gt; | Speed &lt;int&gt; | Generation &lt;int&gt; | Legendary &lt;chr&gt; |\n",
       "|---|---|---|---|---|---|---|---|---|---|---|---|---|\n",
       "| 652 | Chesnaught              | Grass    | Fighting | 530 |  88 | 107 | 122 |  74 |  75 |  64 | 6 | False |\n",
       "| 125 | Electabuzz              | Electric | <!----> | 490 |  65 |  83 |  57 |  95 |  85 | 105 | 1 | False |\n",
       "| 373 | SalamenceMega Salamence | Dragon   | Flying   | 700 |  95 | 145 | 130 | 120 |  90 | 120 | 3 | False |\n",
       "| 633 | Deino                   | Dark     | Dragon   | 300 |  52 |  65 |  50 |  45 |  50 |  38 | 5 | False |\n",
       "| 490 | Manaphy                 | Water    | <!----> | 600 | 100 | 100 | 100 | 100 | 100 | 100 | 4 | False |\n",
       "\n"
      ],
      "text/plain": [
       "  X.  Name                    Type.1   Type.2   Total HP  Attack Defense\n",
       "1 652 Chesnaught              Grass    Fighting 530    88 107    122    \n",
       "2 125 Electabuzz              Electric          490    65  83     57    \n",
       "3 373 SalamenceMega Salamence Dragon   Flying   700    95 145    130    \n",
       "4 633 Deino                   Dark     Dragon   300    52  65     50    \n",
       "5 490 Manaphy                 Water             600   100 100    100    \n",
       "  Sp..Atk Sp..Def Speed Generation Legendary\n",
       "1  74      75      64   6          False    \n",
       "2  95      85     105   1          False    \n",
       "3 120      90     120   3          False    \n",
       "4  45      50      38   5          False    \n",
       "5 100     100     100   4          False    "
      ]
     },
     "metadata": {},
     "output_type": "display_data"
    }
   ],
   "source": [
    "# Sample_n() Chon mau ngau nhien\n",
    "sample_n(pokemon, 5)"
   ]
  },
  {
   "cell_type": "code",
   "execution_count": 77,
   "metadata": {},
   "outputs": [],
   "source": [
    "# Sample_frac(): Chon n% mau ngau nhien\n",
    "sub_5_per = sample_frac(pokemon, 0.05)"
   ]
  },
  {
   "cell_type": "code",
   "execution_count": 79,
   "metadata": {},
   "outputs": [
    {
     "data": {
      "text/html": [
       "<table>\n",
       "<caption>A data.frame: 6 × 13</caption>\n",
       "<thead>\n",
       "\t<tr><th></th><th scope=col>X.</th><th scope=col>Name</th><th scope=col>Type.1</th><th scope=col>Type.2</th><th scope=col>Total</th><th scope=col>HP</th><th scope=col>Attack</th><th scope=col>Defense</th><th scope=col>Sp..Atk</th><th scope=col>Sp..Def</th><th scope=col>Speed</th><th scope=col>Generation</th><th scope=col>Legendary</th></tr>\n",
       "\t<tr><th></th><th scope=col>&lt;int&gt;</th><th scope=col>&lt;chr&gt;</th><th scope=col>&lt;chr&gt;</th><th scope=col>&lt;chr&gt;</th><th scope=col>&lt;int&gt;</th><th scope=col>&lt;int&gt;</th><th scope=col>&lt;int&gt;</th><th scope=col>&lt;int&gt;</th><th scope=col>&lt;int&gt;</th><th scope=col>&lt;int&gt;</th><th scope=col>&lt;int&gt;</th><th scope=col>&lt;int&gt;</th><th scope=col>&lt;chr&gt;</th></tr>\n",
       "</thead>\n",
       "<tbody>\n",
       "\t<tr><th scope=row>1</th><td>636</td><td>Larvesta</td><td>Bug     </td><td>Fire </td><td>360</td><td>55</td><td> 85</td><td>55</td><td> 50</td><td> 55</td><td> 60</td><td>5</td><td>False</td></tr>\n",
       "\t<tr><th scope=row>2</th><td>585</td><td>Deerling</td><td>Normal  </td><td>Grass</td><td>335</td><td>60</td><td> 60</td><td>50</td><td> 40</td><td> 50</td><td> 75</td><td>5</td><td>False</td></tr>\n",
       "\t<tr><th scope=row>3</th><td>542</td><td>Leavanny</td><td>Bug     </td><td>Grass</td><td>500</td><td>75</td><td>103</td><td>80</td><td> 70</td><td> 80</td><td> 92</td><td>5</td><td>False</td></tr>\n",
       "\t<tr><th scope=row>4</th><td>346</td><td>Cradily </td><td>Rock    </td><td>Grass</td><td>495</td><td>86</td><td> 81</td><td>97</td><td> 81</td><td>107</td><td> 43</td><td>3</td><td>False</td></tr>\n",
       "\t<tr><th scope=row>5</th><td>135</td><td>Jolteon </td><td>Electric</td><td>     </td><td>525</td><td>65</td><td> 65</td><td>60</td><td>110</td><td> 95</td><td>130</td><td>1</td><td>False</td></tr>\n",
       "\t<tr><th scope=row>6</th><td>698</td><td>Amaura  </td><td>Rock    </td><td>Ice  </td><td>362</td><td>77</td><td> 59</td><td>50</td><td> 67</td><td> 63</td><td> 46</td><td>6</td><td>False</td></tr>\n",
       "</tbody>\n",
       "</table>\n"
      ],
      "text/latex": [
       "A data.frame: 6 × 13\n",
       "\\begin{tabular}{r|lllllllllllll}\n",
       "  & X. & Name & Type.1 & Type.2 & Total & HP & Attack & Defense & Sp..Atk & Sp..Def & Speed & Generation & Legendary\\\\\n",
       "  & <int> & <chr> & <chr> & <chr> & <int> & <int> & <int> & <int> & <int> & <int> & <int> & <int> & <chr>\\\\\n",
       "\\hline\n",
       "\t1 & 636 & Larvesta & Bug      & Fire  & 360 & 55 &  85 & 55 &  50 &  55 &  60 & 5 & False\\\\\n",
       "\t2 & 585 & Deerling & Normal   & Grass & 335 & 60 &  60 & 50 &  40 &  50 &  75 & 5 & False\\\\\n",
       "\t3 & 542 & Leavanny & Bug      & Grass & 500 & 75 & 103 & 80 &  70 &  80 &  92 & 5 & False\\\\\n",
       "\t4 & 346 & Cradily  & Rock     & Grass & 495 & 86 &  81 & 97 &  81 & 107 &  43 & 3 & False\\\\\n",
       "\t5 & 135 & Jolteon  & Electric &       & 525 & 65 &  65 & 60 & 110 &  95 & 130 & 1 & False\\\\\n",
       "\t6 & 698 & Amaura   & Rock     & Ice   & 362 & 77 &  59 & 50 &  67 &  63 &  46 & 6 & False\\\\\n",
       "\\end{tabular}\n"
      ],
      "text/markdown": [
       "\n",
       "A data.frame: 6 × 13\n",
       "\n",
       "| <!--/--> | X. &lt;int&gt; | Name &lt;chr&gt; | Type.1 &lt;chr&gt; | Type.2 &lt;chr&gt; | Total &lt;int&gt; | HP &lt;int&gt; | Attack &lt;int&gt; | Defense &lt;int&gt; | Sp..Atk &lt;int&gt; | Sp..Def &lt;int&gt; | Speed &lt;int&gt; | Generation &lt;int&gt; | Legendary &lt;chr&gt; |\n",
       "|---|---|---|---|---|---|---|---|---|---|---|---|---|---|\n",
       "| 1 | 636 | Larvesta | Bug      | Fire  | 360 | 55 |  85 | 55 |  50 |  55 |  60 | 5 | False |\n",
       "| 2 | 585 | Deerling | Normal   | Grass | 335 | 60 |  60 | 50 |  40 |  50 |  75 | 5 | False |\n",
       "| 3 | 542 | Leavanny | Bug      | Grass | 500 | 75 | 103 | 80 |  70 |  80 |  92 | 5 | False |\n",
       "| 4 | 346 | Cradily  | Rock     | Grass | 495 | 86 |  81 | 97 |  81 | 107 |  43 | 3 | False |\n",
       "| 5 | 135 | Jolteon  | Electric | <!----> | 525 | 65 |  65 | 60 | 110 |  95 | 130 | 1 | False |\n",
       "| 6 | 698 | Amaura   | Rock     | Ice   | 362 | 77 |  59 | 50 |  67 |  63 |  46 | 6 | False |\n",
       "\n"
      ],
      "text/plain": [
       "  X.  Name     Type.1   Type.2 Total HP Attack Defense Sp..Atk Sp..Def Speed\n",
       "1 636 Larvesta Bug      Fire   360   55  85    55       50      55      60  \n",
       "2 585 Deerling Normal   Grass  335   60  60    50       40      50      75  \n",
       "3 542 Leavanny Bug      Grass  500   75 103    80       70      80      92  \n",
       "4 346 Cradily  Rock     Grass  495   86  81    97       81     107      43  \n",
       "5 135 Jolteon  Electric        525   65  65    60      110      95     130  \n",
       "6 698 Amaura   Rock     Ice    362   77  59    50       67      63      46  \n",
       "  Generation Legendary\n",
       "1 5          False    \n",
       "2 5          False    \n",
       "3 5          False    \n",
       "4 3          False    \n",
       "5 1          False    \n",
       "6 6          False    "
      ]
     },
     "metadata": {},
     "output_type": "display_data"
    }
   ],
   "source": [
    "head(sub_5_per)"
   ]
  },
  {
   "cell_type": "code",
   "execution_count": 80,
   "metadata": {},
   "outputs": [
    {
     "data": {
      "text/html": [
       "40"
      ],
      "text/latex": [
       "40"
      ],
      "text/markdown": [
       "40"
      ],
      "text/plain": [
       "[1] 40"
      ]
     },
     "metadata": {},
     "output_type": "display_data"
    }
   ],
   "source": [
    "nrow(sub_5_per)"
   ]
  },
  {
   "cell_type": "code",
   "execution_count": null,
   "metadata": {},
   "outputs": [],
   "source": []
  }
 ],
 "metadata": {
  "kernelspec": {
   "display_name": "R",
   "language": "R",
   "name": "ir"
  },
  "language_info": {
   "codemirror_mode": "r",
   "file_extension": ".r",
   "mimetype": "text/x-r-source",
   "name": "R",
   "pygments_lexer": "r",
   "version": "4.0.2"
  }
 },
 "nbformat": 4,
 "nbformat_minor": 4
}

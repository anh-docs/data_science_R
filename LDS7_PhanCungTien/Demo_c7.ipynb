{
 "cells": [
  {
   "cell_type": "markdown",
   "metadata": {},
   "source": [
    "## List\n"
   ]
  },
  {
   "cell_type": "code",
   "execution_count": 1,
   "metadata": {},
   "outputs": [],
   "source": [
    "list_data <- list(\"hello\",\"R\", 12, 25.5, c(21,32,11),TRUE)"
   ]
  },
  {
   "cell_type": "code",
   "execution_count": 2,
   "metadata": {
    "scrolled": true
   },
   "outputs": [
    {
     "name": "stdout",
     "output_type": "stream",
     "text": [
      "[[1]]\n",
      "[1] \"hello\"\n",
      "\n",
      "[[2]]\n",
      "[1] \"R\"\n",
      "\n",
      "[[3]]\n",
      "[1] 12\n",
      "\n",
      "[[4]]\n",
      "[1] 25.5\n",
      "\n",
      "[[5]]\n",
      "[1] 21 32 11\n",
      "\n",
      "[[6]]\n",
      "[1] TRUE\n",
      "\n"
     ]
    }
   ],
   "source": [
    "print(list_data)"
   ]
  },
  {
   "cell_type": "code",
   "execution_count": 5,
   "metadata": {},
   "outputs": [],
   "source": [
    "# Dat ten cho cac ptu trong list\n",
    "list_1 <- list(c(\"Red\",\"Green\",\"Yellow\"), matrix(c(1:8), nrow=2), list(\"green\",TRUE, 12.5), TRUE)"
   ]
  },
  {
   "cell_type": "code",
   "execution_count": 6,
   "metadata": {},
   "outputs": [],
   "source": [
    "names(list_1) <- c(\"Traffic Light\",\"A_Matrix\",\"A Inner list\",\"Pass\")"
   ]
  },
  {
   "cell_type": "code",
   "execution_count": 7,
   "metadata": {},
   "outputs": [
    {
     "name": "stdout",
     "output_type": "stream",
     "text": [
      "$`Traffic Light`\n",
      "[1] \"Red\"    \"Green\"  \"Yellow\"\n",
      "\n",
      "$A_Matrix\n",
      "     [,1] [,2] [,3] [,4]\n",
      "[1,]    1    3    5    7\n",
      "[2,]    2    4    6    8\n",
      "\n",
      "$`A Inner list`\n",
      "$`A Inner list`[[1]]\n",
      "[1] \"green\"\n",
      "\n",
      "$`A Inner list`[[2]]\n",
      "[1] TRUE\n",
      "\n",
      "$`A Inner list`[[3]]\n",
      "[1] 12.5\n",
      "\n",
      "\n",
      "$Pass\n",
      "[1] TRUE\n",
      "\n"
     ]
    }
   ],
   "source": [
    "print(list_1)"
   ]
  },
  {
   "cell_type": "code",
   "execution_count": 11,
   "metadata": {},
   "outputs": [
    {
     "data": {
      "text/html": [
       "<strong>$A_Matrix</strong> = <table>\n",
       "<caption>A matrix: 2 × 4 of type int</caption>\n",
       "<tbody>\n",
       "\t<tr><td>1</td><td>3</td><td>5</td><td>7</td></tr>\n",
       "\t<tr><td>2</td><td>4</td><td>6</td><td>8</td></tr>\n",
       "</tbody>\n",
       "</table>\n"
      ],
      "text/latex": [
       "\\textbf{\\$A\\_Matrix} = A matrix: 2 × 4 of type int\n",
       "\\begin{tabular}{llll}\n",
       "\t 1 & 3 & 5 & 7\\\\\n",
       "\t 2 & 4 & 6 & 8\\\\\n",
       "\\end{tabular}\n"
      ],
      "text/markdown": [
       "**$A_Matrix** = \n",
       "A matrix: 2 × 4 of type int\n",
       "\n",
       "| 1 | 3 | 5 | 7 |\n",
       "| 2 | 4 | 6 | 8 |\n",
       "\n"
      ],
      "text/plain": [
       "$A_Matrix\n",
       "     [,1] [,2] [,3] [,4]\n",
       "[1,]    1    3    5    7\n",
       "[2,]    2    4    6    8\n"
      ]
     },
     "metadata": {},
     "output_type": "display_data"
    }
   ],
   "source": [
    "list_1[2]"
   ]
  },
  {
   "cell_type": "code",
   "execution_count": 12,
   "metadata": {
    "scrolled": false
   },
   "outputs": [
    {
     "data": {
      "text/html": [
       "<style>\n",
       ".list-inline {list-style: none; margin:0; padding: 0}\n",
       ".list-inline>li {display: inline-block}\n",
       ".list-inline>li:not(:last-child)::after {content: \"\\00b7\"; padding: 0 .5ex}\n",
       "</style>\n",
       "<ol class=list-inline><li>'Red'</li><li>'Green'</li><li>'Yellow'</li></ol>\n"
      ],
      "text/latex": [
       "\\begin{enumerate*}\n",
       "\\item 'Red'\n",
       "\\item 'Green'\n",
       "\\item 'Yellow'\n",
       "\\end{enumerate*}\n"
      ],
      "text/markdown": [
       "1. 'Red'\n",
       "2. 'Green'\n",
       "3. 'Yellow'\n",
       "\n",
       "\n"
      ],
      "text/plain": [
       "[1] \"Red\"    \"Green\"  \"Yellow\""
      ]
     },
     "metadata": {},
     "output_type": "display_data"
    }
   ],
   "source": [
    "list_1$`Traffic Light`"
   ]
  },
  {
   "cell_type": "code",
   "execution_count": 13,
   "metadata": {},
   "outputs": [
    {
     "data": {
      "text/html": [
       "TRUE"
      ],
      "text/latex": [
       "TRUE"
      ],
      "text/markdown": [
       "TRUE"
      ],
      "text/plain": [
       "[1] TRUE"
      ]
     },
     "metadata": {},
     "output_type": "display_data"
    }
   ],
   "source": [
    "list_1$Pass"
   ]
  },
  {
   "cell_type": "code",
   "execution_count": 14,
   "metadata": {},
   "outputs": [],
   "source": [
    "# Them ptu vao list\n",
    "list_1[length(list_1)+1] = \"New element\""
   ]
  },
  {
   "cell_type": "code",
   "execution_count": 15,
   "metadata": {},
   "outputs": [
    {
     "data": {
      "text/html": [
       "<dl>\n",
       "\t<dt>$`Traffic Light`</dt>\n",
       "\t\t<dd><style>\n",
       ".list-inline {list-style: none; margin:0; padding: 0}\n",
       ".list-inline>li {display: inline-block}\n",
       ".list-inline>li:not(:last-child)::after {content: \"\\00b7\"; padding: 0 .5ex}\n",
       "</style>\n",
       "<ol class=list-inline><li>'Red'</li><li>'Green'</li><li>'Yellow'</li></ol>\n",
       "</dd>\n",
       "\t<dt>$A_Matrix</dt>\n",
       "\t\t<dd><table>\n",
       "<caption>A matrix: 2 × 4 of type int</caption>\n",
       "<tbody>\n",
       "\t<tr><td>1</td><td>3</td><td>5</td><td>7</td></tr>\n",
       "\t<tr><td>2</td><td>4</td><td>6</td><td>8</td></tr>\n",
       "</tbody>\n",
       "</table>\n",
       "</dd>\n",
       "\t<dt>$`A Inner list`</dt>\n",
       "\t\t<dd><ol>\n",
       "\t<li>'green'</li>\n",
       "\t<li>TRUE</li>\n",
       "\t<li>12.5</li>\n",
       "</ol>\n",
       "</dd>\n",
       "\t<dt>$Pass</dt>\n",
       "\t\t<dd>TRUE</dd>\n",
       "\t<dt>[[5]]</dt>\n",
       "\t\t<dd>'New element'</dd>\n",
       "</dl>\n"
      ],
      "text/latex": [
       "\\begin{description}\n",
       "\\item[\\$`Traffic Light`] \\begin{enumerate*}\n",
       "\\item 'Red'\n",
       "\\item 'Green'\n",
       "\\item 'Yellow'\n",
       "\\end{enumerate*}\n",
       "\n",
       "\\item[\\$A\\_Matrix] A matrix: 2 × 4 of type int\n",
       "\\begin{tabular}{llll}\n",
       "\t 1 & 3 & 5 & 7\\\\\n",
       "\t 2 & 4 & 6 & 8\\\\\n",
       "\\end{tabular}\n",
       "\n",
       "\\item[\\$`A Inner list`] \\begin{enumerate}\n",
       "\\item 'green'\n",
       "\\item TRUE\n",
       "\\item 12.5\n",
       "\\end{enumerate}\n",
       "\n",
       "\\item[\\$Pass] TRUE\n",
       "\\item[{[[5]]}] 'New element'\n",
       "\\end{description}\n"
      ],
      "text/markdown": [
       "$`Traffic Light`\n",
       ":   1. 'Red'\n",
       "2. 'Green'\n",
       "3. 'Yellow'\n",
       "\n",
       "\n",
       "\n",
       "$A_Matrix\n",
       ":   \n",
       "A matrix: 2 × 4 of type int\n",
       "\n",
       "| 1 | 3 | 5 | 7 |\n",
       "| 2 | 4 | 6 | 8 |\n",
       "\n",
       "\n",
       "$`A Inner list`\n",
       ":   1. 'green'\n",
       "2. TRUE\n",
       "3. 12.5\n",
       "\n",
       "\n",
       "\n",
       "$Pass\n",
       ":   TRUE\n",
       "[[5]]\n",
       ":   'New element'\n",
       "\n",
       "\n"
      ],
      "text/plain": [
       "$`Traffic Light`\n",
       "[1] \"Red\"    \"Green\"  \"Yellow\"\n",
       "\n",
       "$A_Matrix\n",
       "     [,1] [,2] [,3] [,4]\n",
       "[1,]    1    3    5    7\n",
       "[2,]    2    4    6    8\n",
       "\n",
       "$`A Inner list`\n",
       "$`A Inner list`[[1]]\n",
       "[1] \"green\"\n",
       "\n",
       "$`A Inner list`[[2]]\n",
       "[1] TRUE\n",
       "\n",
       "$`A Inner list`[[3]]\n",
       "[1] 12.5\n",
       "\n",
       "\n",
       "$Pass\n",
       "[1] TRUE\n",
       "\n",
       "[[5]]\n",
       "[1] \"New element\"\n"
      ]
     },
     "metadata": {},
     "output_type": "display_data"
    }
   ],
   "source": [
    "list_1"
   ]
  },
  {
   "cell_type": "code",
   "execution_count": 18,
   "metadata": {},
   "outputs": [
    {
     "data": {
      "text/html": [
       "<strong>$NA</strong> = 'New element'"
      ],
      "text/latex": [
       "\\textbf{\\$NA} = 'New element'"
      ],
      "text/markdown": [
       "**$NA** = 'New element'"
      ],
      "text/plain": [
       "[[1]]\n",
       "[1] \"New element\"\n"
      ]
     },
     "metadata": {},
     "output_type": "display_data"
    }
   ],
   "source": [
    "list_1[length(list_1)]"
   ]
  },
  {
   "cell_type": "code",
   "execution_count": 19,
   "metadata": {},
   "outputs": [],
   "source": [
    "# Xoa ptu cuoi cung\n",
    "list_1[length(list_1)] = NULL"
   ]
  },
  {
   "cell_type": "code",
   "execution_count": 20,
   "metadata": {},
   "outputs": [
    {
     "data": {
      "text/html": [
       "<dl>\n",
       "\t<dt>$`Traffic Light`</dt>\n",
       "\t\t<dd><style>\n",
       ".list-inline {list-style: none; margin:0; padding: 0}\n",
       ".list-inline>li {display: inline-block}\n",
       ".list-inline>li:not(:last-child)::after {content: \"\\00b7\"; padding: 0 .5ex}\n",
       "</style>\n",
       "<ol class=list-inline><li>'Red'</li><li>'Green'</li><li>'Yellow'</li></ol>\n",
       "</dd>\n",
       "\t<dt>$A_Matrix</dt>\n",
       "\t\t<dd><table>\n",
       "<caption>A matrix: 2 × 4 of type int</caption>\n",
       "<tbody>\n",
       "\t<tr><td>1</td><td>3</td><td>5</td><td>7</td></tr>\n",
       "\t<tr><td>2</td><td>4</td><td>6</td><td>8</td></tr>\n",
       "</tbody>\n",
       "</table>\n",
       "</dd>\n",
       "\t<dt>$`A Inner list`</dt>\n",
       "\t\t<dd><ol>\n",
       "\t<li>'green'</li>\n",
       "\t<li>TRUE</li>\n",
       "\t<li>12.5</li>\n",
       "</ol>\n",
       "</dd>\n",
       "\t<dt>$Pass</dt>\n",
       "\t\t<dd>TRUE</dd>\n",
       "</dl>\n"
      ],
      "text/latex": [
       "\\begin{description}\n",
       "\\item[\\$`Traffic Light`] \\begin{enumerate*}\n",
       "\\item 'Red'\n",
       "\\item 'Green'\n",
       "\\item 'Yellow'\n",
       "\\end{enumerate*}\n",
       "\n",
       "\\item[\\$A\\_Matrix] A matrix: 2 × 4 of type int\n",
       "\\begin{tabular}{llll}\n",
       "\t 1 & 3 & 5 & 7\\\\\n",
       "\t 2 & 4 & 6 & 8\\\\\n",
       "\\end{tabular}\n",
       "\n",
       "\\item[\\$`A Inner list`] \\begin{enumerate}\n",
       "\\item 'green'\n",
       "\\item TRUE\n",
       "\\item 12.5\n",
       "\\end{enumerate}\n",
       "\n",
       "\\item[\\$Pass] TRUE\n",
       "\\end{description}\n"
      ],
      "text/markdown": [
       "$`Traffic Light`\n",
       ":   1. 'Red'\n",
       "2. 'Green'\n",
       "3. 'Yellow'\n",
       "\n",
       "\n",
       "\n",
       "$A_Matrix\n",
       ":   \n",
       "A matrix: 2 × 4 of type int\n",
       "\n",
       "| 1 | 3 | 5 | 7 |\n",
       "| 2 | 4 | 6 | 8 |\n",
       "\n",
       "\n",
       "$`A Inner list`\n",
       ":   1. 'green'\n",
       "2. TRUE\n",
       "3. 12.5\n",
       "\n",
       "\n",
       "\n",
       "$Pass\n",
       ":   TRUE\n",
       "\n",
       "\n"
      ],
      "text/plain": [
       "$`Traffic Light`\n",
       "[1] \"Red\"    \"Green\"  \"Yellow\"\n",
       "\n",
       "$A_Matrix\n",
       "     [,1] [,2] [,3] [,4]\n",
       "[1,]    1    3    5    7\n",
       "[2,]    2    4    6    8\n",
       "\n",
       "$`A Inner list`\n",
       "$`A Inner list`[[1]]\n",
       "[1] \"green\"\n",
       "\n",
       "$`A Inner list`[[2]]\n",
       "[1] TRUE\n",
       "\n",
       "$`A Inner list`[[3]]\n",
       "[1] 12.5\n",
       "\n",
       "\n",
       "$Pass\n",
       "[1] TRUE\n"
      ]
     },
     "metadata": {},
     "output_type": "display_data"
    }
   ],
   "source": [
    "list_1"
   ]
  },
  {
   "cell_type": "code",
   "execution_count": 21,
   "metadata": {},
   "outputs": [],
   "source": [
    "list_1[3]= NULL"
   ]
  },
  {
   "cell_type": "code",
   "execution_count": 22,
   "metadata": {
    "scrolled": true
   },
   "outputs": [
    {
     "data": {
      "text/html": [
       "<dl>\n",
       "\t<dt>$`Traffic Light`</dt>\n",
       "\t\t<dd><style>\n",
       ".list-inline {list-style: none; margin:0; padding: 0}\n",
       ".list-inline>li {display: inline-block}\n",
       ".list-inline>li:not(:last-child)::after {content: \"\\00b7\"; padding: 0 .5ex}\n",
       "</style>\n",
       "<ol class=list-inline><li>'Red'</li><li>'Green'</li><li>'Yellow'</li></ol>\n",
       "</dd>\n",
       "\t<dt>$A_Matrix</dt>\n",
       "\t\t<dd><table>\n",
       "<caption>A matrix: 2 × 4 of type int</caption>\n",
       "<tbody>\n",
       "\t<tr><td>1</td><td>3</td><td>5</td><td>7</td></tr>\n",
       "\t<tr><td>2</td><td>4</td><td>6</td><td>8</td></tr>\n",
       "</tbody>\n",
       "</table>\n",
       "</dd>\n",
       "\t<dt>$Pass</dt>\n",
       "\t\t<dd>TRUE</dd>\n",
       "</dl>\n"
      ],
      "text/latex": [
       "\\begin{description}\n",
       "\\item[\\$`Traffic Light`] \\begin{enumerate*}\n",
       "\\item 'Red'\n",
       "\\item 'Green'\n",
       "\\item 'Yellow'\n",
       "\\end{enumerate*}\n",
       "\n",
       "\\item[\\$A\\_Matrix] A matrix: 2 × 4 of type int\n",
       "\\begin{tabular}{llll}\n",
       "\t 1 & 3 & 5 & 7\\\\\n",
       "\t 2 & 4 & 6 & 8\\\\\n",
       "\\end{tabular}\n",
       "\n",
       "\\item[\\$Pass] TRUE\n",
       "\\end{description}\n"
      ],
      "text/markdown": [
       "$`Traffic Light`\n",
       ":   1. 'Red'\n",
       "2. 'Green'\n",
       "3. 'Yellow'\n",
       "\n",
       "\n",
       "\n",
       "$A_Matrix\n",
       ":   \n",
       "A matrix: 2 × 4 of type int\n",
       "\n",
       "| 1 | 3 | 5 | 7 |\n",
       "| 2 | 4 | 6 | 8 |\n",
       "\n",
       "\n",
       "$Pass\n",
       ":   TRUE\n",
       "\n",
       "\n"
      ],
      "text/plain": [
       "$`Traffic Light`\n",
       "[1] \"Red\"    \"Green\"  \"Yellow\"\n",
       "\n",
       "$A_Matrix\n",
       "     [,1] [,2] [,3] [,4]\n",
       "[1,]    1    3    5    7\n",
       "[2,]    2    4    6    8\n",
       "\n",
       "$Pass\n",
       "[1] TRUE\n"
      ]
     },
     "metadata": {},
     "output_type": "display_data"
    }
   ],
   "source": [
    "list_1"
   ]
  },
  {
   "cell_type": "code",
   "execution_count": 23,
   "metadata": {},
   "outputs": [],
   "source": [
    "merge_list <- c(list_data,list_1)"
   ]
  },
  {
   "cell_type": "code",
   "execution_count": 24,
   "metadata": {},
   "outputs": [
    {
     "name": "stdout",
     "output_type": "stream",
     "text": [
      "[[1]]\n",
      "[1] \"hello\"\n",
      "\n",
      "[[2]]\n",
      "[1] \"R\"\n",
      "\n",
      "[[3]]\n",
      "[1] 12\n",
      "\n",
      "[[4]]\n",
      "[1] 25.5\n",
      "\n",
      "[[5]]\n",
      "[1] 21 32 11\n",
      "\n",
      "[[6]]\n",
      "[1] TRUE\n",
      "\n",
      "$`Traffic Light`\n",
      "[1] \"Red\"    \"Green\"  \"Yellow\"\n",
      "\n",
      "$A_Matrix\n",
      "     [,1] [,2] [,3] [,4]\n",
      "[1,]    1    3    5    7\n",
      "[2,]    2    4    6    8\n",
      "\n",
      "$Pass\n",
      "[1] TRUE\n",
      "\n"
     ]
    }
   ],
   "source": [
    "print(merge_list)"
   ]
  },
  {
   "cell_type": "code",
   "execution_count": 25,
   "metadata": {},
   "outputs": [],
   "source": [
    "v1 <- unlist(list_data)"
   ]
  },
  {
   "cell_type": "code",
   "execution_count": 26,
   "metadata": {},
   "outputs": [
    {
     "data": {
      "text/html": [
       "<style>\n",
       ".list-inline {list-style: none; margin:0; padding: 0}\n",
       ".list-inline>li {display: inline-block}\n",
       ".list-inline>li:not(:last-child)::after {content: \"\\00b7\"; padding: 0 .5ex}\n",
       "</style>\n",
       "<ol class=list-inline><li>'hello'</li><li>'R'</li><li>'12'</li><li>'25.5'</li><li>'21'</li><li>'32'</li><li>'11'</li><li>'TRUE'</li></ol>\n"
      ],
      "text/latex": [
       "\\begin{enumerate*}\n",
       "\\item 'hello'\n",
       "\\item 'R'\n",
       "\\item '12'\n",
       "\\item '25.5'\n",
       "\\item '21'\n",
       "\\item '32'\n",
       "\\item '11'\n",
       "\\item 'TRUE'\n",
       "\\end{enumerate*}\n"
      ],
      "text/markdown": [
       "1. 'hello'\n",
       "2. 'R'\n",
       "3. '12'\n",
       "4. '25.5'\n",
       "5. '21'\n",
       "6. '32'\n",
       "7. '11'\n",
       "8. 'TRUE'\n",
       "\n",
       "\n"
      ],
      "text/plain": [
       "[1] \"hello\" \"R\"     \"12\"    \"25.5\"  \"21\"    \"32\"    \"11\"    \"TRUE\" "
      ]
     },
     "metadata": {},
     "output_type": "display_data"
    }
   ],
   "source": [
    "v1"
   ]
  },
  {
   "cell_type": "code",
   "execution_count": null,
   "metadata": {},
   "outputs": [],
   "source": []
  }
 ],
 "metadata": {
  "kernelspec": {
   "display_name": "R",
   "language": "R",
   "name": "ir"
  },
  "language_info": {
   "codemirror_mode": "r",
   "file_extension": ".r",
   "mimetype": "text/x-r-source",
   "name": "R",
   "pygments_lexer": "r",
   "version": "4.0.2"
  }
 },
 "nbformat": 4,
 "nbformat_minor": 4
}

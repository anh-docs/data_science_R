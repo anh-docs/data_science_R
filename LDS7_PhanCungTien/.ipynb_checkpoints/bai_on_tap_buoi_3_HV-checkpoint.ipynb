{
 "cells": [
  {
   "cell_type": "markdown",
   "metadata": {
    "id": "SKG2ETcPTLTy"
   },
   "source": [
    "# Review Chapter 6 & 7"
   ]
  },
  {
   "cell_type": "code",
   "execution_count": 3,
   "metadata": {
    "id": "FvZrjfhWE-IM"
   },
   "outputs": [
    {
     "data": {
      "text/html": [
       "TRUE"
      ],
      "text/latex": [
       "TRUE"
      ],
      "text/markdown": [
       "TRUE"
      ],
      "text/plain": [
       "[1] TRUE"
      ]
     },
     "metadata": {},
     "output_type": "display_data"
    },
    {
     "data": {
      "text/html": [
       "<style>\n",
       ".list-inline {list-style: none; margin:0; padding: 0}\n",
       ".list-inline>li {display: inline-block}\n",
       ".list-inline>li:not(:last-child)::after {content: \"\\00b7\"; padding: 0 .5ex}\n",
       "</style>\n",
       "<ol class=list-inline><li>R</li><li>R</li><li>L</li><li>L</li><li>R</li><li>R</li><li>C</li><li>C</li></ol>\n",
       "\n",
       "<details>\n",
       "\t<summary style=display:list-item;cursor:pointer>\n",
       "\t\t<strong>Levels</strong>:\n",
       "\t</summary>\n",
       "\t<style>\n",
       "\t.list-inline {list-style: none; margin:0; padding: 0}\n",
       "\t.list-inline>li {display: inline-block}\n",
       "\t.list-inline>li:not(:last-child)::after {content: \"\\00b7\"; padding: 0 .5ex}\n",
       "\t</style>\n",
       "\t<ol class=list-inline><li>'C'</li><li>'L'</li><li>'R'</li></ol>\n",
       "</details>"
      ],
      "text/latex": [
       "\\begin{enumerate*}\n",
       "\\item R\n",
       "\\item R\n",
       "\\item L\n",
       "\\item L\n",
       "\\item R\n",
       "\\item R\n",
       "\\item C\n",
       "\\item C\n",
       "\\end{enumerate*}\n",
       "\n",
       "\\emph{Levels}: \\begin{enumerate*}\n",
       "\\item 'C'\n",
       "\\item 'L'\n",
       "\\item 'R'\n",
       "\\end{enumerate*}\n"
      ],
      "text/markdown": [
       "1. R\n",
       "2. R\n",
       "3. L\n",
       "4. L\n",
       "5. R\n",
       "6. R\n",
       "7. C\n",
       "8. C\n",
       "\n",
       "\n",
       "\n",
       "**Levels**: 1. 'C'\n",
       "2. 'L'\n",
       "3. 'R'\n",
       "\n",
       "\n"
      ],
      "text/plain": [
       "[1] R R L L R R C C\n",
       "Levels: C L R"
      ]
     },
     "metadata": {},
     "output_type": "display_data"
    },
    {
     "data": {
      "text/html": [
       "<style>\n",
       ".list-inline {list-style: none; margin:0; padding: 0}\n",
       ".list-inline>li {display: inline-block}\n",
       ".list-inline>li:not(:last-child)::after {content: \"\\00b7\"; padding: 0 .5ex}\n",
       "</style>\n",
       "<ol class=list-inline><li>R</li><li>R</li><li>R</li><li>R</li><li>R</li><li>L</li><li>L</li><li>L</li><li>L</li><li>L</li><li>C</li><li>C</li><li>C</li><li>C</li><li>C</li></ol>\n",
       "\n",
       "<details>\n",
       "\t<summary style=display:list-item;cursor:pointer>\n",
       "\t\t<strong>Levels</strong>:\n",
       "\t</summary>\n",
       "\t<style>\n",
       "\t.list-inline {list-style: none; margin:0; padding: 0}\n",
       "\t.list-inline>li {display: inline-block}\n",
       "\t.list-inline>li:not(:last-child)::after {content: \"\\00b7\"; padding: 0 .5ex}\n",
       "\t</style>\n",
       "\t<ol class=list-inline><li>'R'</li><li>'L'</li><li>'C'</li></ol>\n",
       "</details>"
      ],
      "text/latex": [
       "\\begin{enumerate*}\n",
       "\\item R\n",
       "\\item R\n",
       "\\item R\n",
       "\\item R\n",
       "\\item R\n",
       "\\item L\n",
       "\\item L\n",
       "\\item L\n",
       "\\item L\n",
       "\\item L\n",
       "\\item C\n",
       "\\item C\n",
       "\\item C\n",
       "\\item C\n",
       "\\item C\n",
       "\\end{enumerate*}\n",
       "\n",
       "\\emph{Levels}: \\begin{enumerate*}\n",
       "\\item 'R'\n",
       "\\item 'L'\n",
       "\\item 'C'\n",
       "\\end{enumerate*}\n"
      ],
      "text/markdown": [
       "1. R\n",
       "2. R\n",
       "3. R\n",
       "4. R\n",
       "5. R\n",
       "6. L\n",
       "7. L\n",
       "8. L\n",
       "9. L\n",
       "10. L\n",
       "11. C\n",
       "12. C\n",
       "13. C\n",
       "14. C\n",
       "15. C\n",
       "\n",
       "\n",
       "\n",
       "**Levels**: 1. 'R'\n",
       "2. 'L'\n",
       "3. 'C'\n",
       "\n",
       "\n"
      ],
      "text/plain": [
       " [1] R R R R R L L L L L C C C C C\n",
       "Levels: R L C"
      ]
     },
     "metadata": {},
     "output_type": "display_data"
    }
   ],
   "source": [
    "## Ex1\n",
    "# Definition of survey_vector\n",
    "survey_vector <- c(\"R\", \"R\", \"L\", \"L\", \"R\", \"R\", \"C\", \"C\")\n",
    "\n",
    "# Encode survey_vector as a factor: survey_factor\n",
    "survey_factor <- factor(survey_vector)\n",
    "is.factor(survey_factor)\n",
    "\n",
    "# Print survey_factor\n",
    "survey_factor\n",
    "# Print levels of survey_factor\n",
    "\n",
    "# Print nlevels of survey_factor\n",
    "nlevels_factor <- gl(3,5, labels=c(\"R\",\"L\",\"C\"))\n",
    "# How many elements of each factor?\n",
    "nlevels_factor"
   ]
  },
  {
   "cell_type": "code",
   "execution_count": 19,
   "metadata": {
    "id": "3ukM4r2lKoJp"
   },
   "outputs": [
    {
     "data": {
      "text/html": [
       "<style>\n",
       ".list-inline {list-style: none; margin:0; padding: 0}\n",
       ".list-inline>li {display: inline-block}\n",
       ".list-inline>li:not(:last-child)::after {content: \"\\00b7\"; padding: 0 .5ex}\n",
       "</style>\n",
       "<ol class=list-inline><li>1</li><li>2</li><li>3</li><li>4</li><li>5</li><li>6</li><li>7</li><li>8</li><li>9</li><li>10</li></ol>\n"
      ],
      "text/latex": [
       "\\begin{enumerate*}\n",
       "\\item 1\n",
       "\\item 2\n",
       "\\item 3\n",
       "\\item 4\n",
       "\\item 5\n",
       "\\item 6\n",
       "\\item 7\n",
       "\\item 8\n",
       "\\item 9\n",
       "\\item 10\n",
       "\\end{enumerate*}\n"
      ],
      "text/markdown": [
       "1. 1\n",
       "2. 2\n",
       "3. 3\n",
       "4. 4\n",
       "5. 5\n",
       "6. 6\n",
       "7. 7\n",
       "8. 8\n",
       "9. 9\n",
       "10. 10\n",
       "\n",
       "\n"
      ],
      "text/plain": [
       " [1]  1  2  3  4  5  6  7  8  9 10"
      ]
     },
     "metadata": {},
     "output_type": "display_data"
    },
    {
     "data": {
      "text/html": [
       "<table>\n",
       "<caption>A matrix: 3 × 3 of type int</caption>\n",
       "<tbody>\n",
       "\t<tr><td>1</td><td>2</td><td>3</td></tr>\n",
       "\t<tr><td>4</td><td>5</td><td>6</td></tr>\n",
       "\t<tr><td>7</td><td>8</td><td>9</td></tr>\n",
       "</tbody>\n",
       "</table>\n"
      ],
      "text/latex": [
       "A matrix: 3 × 3 of type int\n",
       "\\begin{tabular}{lll}\n",
       "\t 1 & 2 & 3\\\\\n",
       "\t 4 & 5 & 6\\\\\n",
       "\t 7 & 8 & 9\\\\\n",
       "\\end{tabular}\n"
      ],
      "text/markdown": [
       "\n",
       "A matrix: 3 × 3 of type int\n",
       "\n",
       "| 1 | 2 | 3 |\n",
       "| 4 | 5 | 6 |\n",
       "| 7 | 8 | 9 |\n",
       "\n"
      ],
      "text/plain": [
       "     [,1] [,2] [,3]\n",
       "[1,] 1    2    3   \n",
       "[2,] 4    5    6   \n",
       "[3,] 7    8    9   "
      ]
     },
     "metadata": {},
     "output_type": "display_data"
    },
    {
     "data": {
      "text/html": [
       "TRUE"
      ],
      "text/latex": [
       "TRUE"
      ],
      "text/markdown": [
       "TRUE"
      ],
      "text/plain": [
       "[1] TRUE"
      ]
     },
     "metadata": {},
     "output_type": "display_data"
    },
    {
     "data": {
      "text/html": [
       "<ol>\n",
       "\t<li><style>\n",
       ".list-inline {list-style: none; margin:0; padding: 0}\n",
       ".list-inline>li {display: inline-block}\n",
       ".list-inline>li:not(:last-child)::after {content: \"\\00b7\"; padding: 0 .5ex}\n",
       "</style>\n",
       "<ol class=list-inline><li>1</li><li>2</li><li>3</li><li>4</li><li>5</li><li>6</li><li>7</li><li>8</li><li>9</li><li>10</li></ol>\n",
       "</li>\n",
       "\t<li><table>\n",
       "<caption>A matrix: 3 × 3 of type int</caption>\n",
       "<tbody>\n",
       "\t<tr><td>1</td><td>2</td><td>3</td></tr>\n",
       "\t<tr><td>4</td><td>5</td><td>6</td></tr>\n",
       "\t<tr><td>7</td><td>8</td><td>9</td></tr>\n",
       "</tbody>\n",
       "</table>\n",
       "</li>\n",
       "\t<li><style>\n",
       ".list-inline {list-style: none; margin:0; padding: 0}\n",
       ".list-inline>li {display: inline-block}\n",
       ".list-inline>li:not(:last-child)::after {content: \"\\00b7\"; padding: 0 .5ex}\n",
       "</style>\n",
       "<ol class=list-inline><li>'M'</li><li>'S'</li><li>'L'</li><li>'L'</li><li>'M'</li></ol>\n",
       "</li>\n",
       "</ol>\n"
      ],
      "text/latex": [
       "\\begin{enumerate}\n",
       "\\item \\begin{enumerate*}\n",
       "\\item 1\n",
       "\\item 2\n",
       "\\item 3\n",
       "\\item 4\n",
       "\\item 5\n",
       "\\item 6\n",
       "\\item 7\n",
       "\\item 8\n",
       "\\item 9\n",
       "\\item 10\n",
       "\\end{enumerate*}\n",
       "\n",
       "\\item A matrix: 3 × 3 of type int\n",
       "\\begin{tabular}{lll}\n",
       "\t 1 & 2 & 3\\\\\n",
       "\t 4 & 5 & 6\\\\\n",
       "\t 7 & 8 & 9\\\\\n",
       "\\end{tabular}\n",
       "\n",
       "\\item \\begin{enumerate*}\n",
       "\\item 'M'\n",
       "\\item 'S'\n",
       "\\item 'L'\n",
       "\\item 'L'\n",
       "\\item 'M'\n",
       "\\end{enumerate*}\n",
       "\n",
       "\\end{enumerate}\n"
      ],
      "text/markdown": [
       "1. 1. 1\n",
       "2. 2\n",
       "3. 3\n",
       "4. 4\n",
       "5. 5\n",
       "6. 6\n",
       "7. 7\n",
       "8. 8\n",
       "9. 9\n",
       "10. 10\n",
       "\n",
       "\n",
       "\n",
       "2. \n",
       "A matrix: 3 × 3 of type int\n",
       "\n",
       "| 1 | 2 | 3 |\n",
       "| 4 | 5 | 6 |\n",
       "| 7 | 8 | 9 |\n",
       "\n",
       "\n",
       "3. 1. 'M'\n",
       "2. 'S'\n",
       "3. 'L'\n",
       "4. 'L'\n",
       "5. 'M'\n",
       "\n",
       "\n",
       "\n",
       "\n",
       "\n"
      ],
      "text/plain": [
       "[[1]]\n",
       " [1]  1  2  3  4  5  6  7  8  9 10\n",
       "\n",
       "[[2]]\n",
       "     [,1] [,2] [,3]\n",
       "[1,]    1    2    3\n",
       "[2,]    4    5    6\n",
       "[3,]    7    8    9\n",
       "\n",
       "[[3]]\n",
       "[1] \"M\" \"S\" \"L\" \"L\" \"M\"\n"
      ]
     },
     "metadata": {},
     "output_type": "display_data"
    },
    {
     "name": "stdout",
     "output_type": "stream",
     "text": [
      "List of 4\n",
      " $ : int [1:10] 1 2 3 4 5 6 7 8 9 10\n",
      " $ : int [1:3, 1:3] 1 4 7 2 5 8 3 6 9\n",
      " $ : chr [1:5] \"M\" \"S\" \"L\" \"L\" ...\n",
      " $ :List of 3\n",
      "  ..$ : int [1:10] 1 2 3 4 5 6 7 8 9 10\n",
      "  ..$ : int [1:3, 1:3] 1 4 7 2 5 8 3 6 9\n",
      "  ..$ : chr [1:5] \"M\" \"S\" \"L\" \"L\" ...\n"
     ]
    }
   ],
   "source": [
    "## Ex2\n",
    "# Create my_vector: 1 up to 10\n",
    "my_vector <- 1:10\n",
    "my_vector\n",
    "# Create my_matrix (3x3): 1 up to 9\n",
    "my_matrix <- matrix(c(1:9), nrow=3, ncol=3, byrow=TRUE)\n",
    "my_matrix\n",
    "# Create my_factor from sizes\n",
    "sizes <-c(\"M\",\"S\",\"L\",\"L\",\"M\")\n",
    "my_factor <- factor(sizes)\n",
    "is.factor(my_factor)\n",
    "# Construct my_list with the three data structures above\n",
    "my_list <- list(my_vector, my_matrix, sizes)\n",
    "my_list\n",
    "# Construct my_super_list with the four data structures above\n",
    "my_super_list <- list(my_vector, my_matrix, sizes,my_list)\n",
    "\n",
    "# Display structure of my_super_list (Use str())\n",
    "str(my_super_list)\n",
    "# Print my_matrix, sum of my_matrix, sum of even elements in my_matrix\n",
    "\n"
   ]
  },
  {
   "cell_type": "code",
   "execution_count": null,
   "metadata": {
    "id": "MtnBB6_EFPh9"
   },
   "outputs": [],
   "source": [
    "## Ex3: \n",
    "# Create my_matrix (4x4): each element is a randomly generated prime number.\n",
    "\n",
    "# Sum the elements on the main diagonal of the matrix\n",
    "\n",
    "# (Note: Build function to create matrix, function to test Prime number, and function to Sum... >> Call fucntion)\n"
   ]
  },
  {
   "cell_type": "code",
   "execution_count": null,
   "metadata": {
    "id": "XtqFWIBOHCGJ"
   },
   "outputs": [],
   "source": [
    "## Ex4: \n",
    "# Create my_array (4, 4, 2): from 2 matrices created by calling function create_matrix (Ex3)\n",
    "\n",
    "# Use apply to calculate the min of the rows across all the matrices.\n",
    "\n",
    "# Use apply to calculate the max of the columns across all the matrices.\n",
    "\n",
    "# Use apply to calculate the sum of each matrix in my_array"
   ]
  }
 ],
 "metadata": {
  "colab": {
   "collapsed_sections": [],
   "name": "bai_on_tap_c6_c7_HV.ipynb",
   "provenance": []
  },
  "kernelspec": {
   "display_name": "R",
   "language": "R",
   "name": "ir"
  },
  "language_info": {
   "codemirror_mode": "r",
   "file_extension": ".r",
   "mimetype": "text/x-r-source",
   "name": "R",
   "pygments_lexer": "r",
   "version": "4.0.2"
  }
 },
 "nbformat": 4,
 "nbformat_minor": 1
}

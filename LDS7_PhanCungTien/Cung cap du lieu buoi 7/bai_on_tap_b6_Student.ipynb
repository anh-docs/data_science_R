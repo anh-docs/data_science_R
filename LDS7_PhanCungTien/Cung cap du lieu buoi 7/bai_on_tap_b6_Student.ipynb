{
 "cells": [
  {
   "cell_type": "markdown",
   "metadata": {
    "id": "iK_hBP1IClLZ"
   },
   "source": [
    "# Bài ôn tập buổi 6: Canxi \n",
    "#### Một sinh viên học khoa dinh dưỡng muốn xem xét mối quan hệ giữa lượng canxi (calcium_intake g/day) và kiến thức về canxi knowledge_score (thang đo 0 đến 5) ở các sinh viên trong lớp học. Và cô ấy muốn biết liệu kiến thức về canxi có thể được sử dụng để dự đoán lượng canxi của sinh viên hay không. Cô ấy đã thu thập dữ liệu và lưu trong tập tin canxi.xlsx.\n",
    "### Hãy thực hiện các yêu cầu được liệt kê sau đây:\n",
    "1. Đọc dữ liệu. Xem thông tin dữ liệu với head(), tail(), str(), summary().\n",
    "2. Vẽ biểu đồ phân phối tần suất của knowledge_score. Nhận xét.\n",
    "3. Thực hiện các thống kê cơ bản cho knowledge_score và calcium_intake (mean, median, mode, max, min, range)\n",
    "4. Cho biết các giá trị ở phân vị thứ 20, 35, 65 và 90 của calcium_intake. Biểu diễn phân vị và giá trị tương ứng trên biểu đồ.\n",
    "5. Vẽ boxplot cho knowledge_score và cho calcium_intake. knowledge_score có outlier hay không? calcium_intake có outlier hay không? Nếu có thì hãy thay thế outlier này bằng giá trị phù hợp. Giá trị bạn chọn để thay thế là giá trị nào (mean/median/…)? Giải thích.\n",
    "6. Tìm phương sai (variance) của knowledge_score và calcium_intake.\n",
    "7. Tìm độ lệch chuẩn (Standard deviation) của knowledge_score và calcium_intake.\n",
    "8. Tìm độ xiên (Skewness) và độ nhọn (Kurtosis) của knowledge_score. Nhận xét kết quả.\n",
    "9. Vẽ biểu đồ thể hiện mối quan hệ giữa knowledge_score và calcium_intake. Nhận xét.\n",
    "10. Tính giá trị covariance, correlation giữa knowledge_score và calcium_intake."
   ]
  },
  {
   "cell_type": "code",
   "execution_count": null,
   "metadata": {
    "colab": {
     "base_uri": "https://localhost:8080/",
     "height": 129
    },
    "id": "yLVu-8m4ClLa",
    "outputId": "96e6fd18-0fe5-491f-e6a5-89244c52b0dc"
   },
   "outputs": [
    {
     "name": "stderr",
     "output_type": "stream",
     "text": [
      "Loading required package: rJava\n",
      "\n",
      "Loading required package: xlsxjars\n",
      "\n",
      "Loading tidyverse: tibble\n",
      "Loading tidyverse: tidyr\n",
      "Loading tidyverse: readr\n",
      "Loading tidyverse: purrr\n",
      "Loading tidyverse: dplyr\n",
      "\n",
      "Conflicts with tidy packages ---------------------------------------------------\n",
      "\n",
      "filter(): dplyr, stats\n",
      "lag():    dplyr, stats\n",
      "\n"
     ]
    }
   ],
   "source": [
    "library(\"xlsx\")\n",
    "library(\"ggplot2\")\n",
    "library(\"ggExtra\")\n",
    "library(\"tidyverse\")\n",
    "library(\"mlbench\")\n",
    "library(\"e1071\")"
   ]
  },
  {
   "cell_type": "markdown",
   "metadata": {
    "id": "_Giz3ndxClLh"
   },
   "source": [
    "#### 1. Đọc dữ liệu. Xem thông tin dữ liệu với head(), tail(), str(), summary(). "
   ]
  },
  {
   "cell_type": "code",
   "execution_count": null,
   "metadata": {
    "id": "AdN3Q6ImZux8"
   },
   "outputs": [],
   "source": []
  },
  {
   "cell_type": "markdown",
   "metadata": {
    "id": "wHqtPoPhClLu"
   },
   "source": [
    "#### 2. Vẽ biểu đồ phân phối tần suất của knowledge_score. Nhận xét. "
   ]
  },
  {
   "cell_type": "code",
   "execution_count": null,
   "metadata": {
    "id": "_aPY8zOWZxQM"
   },
   "outputs": [],
   "source": []
  },
  {
   "cell_type": "markdown",
   "metadata": {
    "id": "ymMaElOhClLz"
   },
   "source": [
    "#### 3. Thực hiện các thống kê cơ bản cho knowledge_score và calcium_intake (mean, median, mode, max, min, range) "
   ]
  },
  {
   "cell_type": "code",
   "execution_count": null,
   "metadata": {
    "id": "958EvevpZ1OD"
   },
   "outputs": [],
   "source": []
  },
  {
   "cell_type": "markdown",
   "metadata": {
    "id": "RMX-2wqTClL7"
   },
   "source": [
    "#### 4. Cho biết các giá trị ở phân vị thứ 20, 35, 65 và 90 của calcium_intake. Biểu diễn phân vị và giá trị tương ứng trên biểu đồ. "
   ]
  },
  {
   "cell_type": "code",
   "execution_count": null,
   "metadata": {
    "id": "v35egjhLZ2sg"
   },
   "outputs": [],
   "source": []
  },
  {
   "cell_type": "markdown",
   "metadata": {
    "id": "B3BNqNiGClMD"
   },
   "source": [
    "#### 5. Vẽ boxplot cho knowledge_score và cho calcium_intake. knowledge_score có outlier hay không? calcium_intake có outlier hay không? Nếu có thì hãy thay thế outlier này bằng giá trị phù hợp. Giá trị bạn chọn để thay thế là giá trị nào (mean/median/…)? Giải thích."
   ]
  },
  {
   "cell_type": "code",
   "execution_count": null,
   "metadata": {
    "id": "65PK_wifZCoz"
   },
   "outputs": [],
   "source": []
  },
  {
   "cell_type": "markdown",
   "metadata": {
    "id": "KeuHdXCAClMU"
   },
   "source": [
    "#### 6. Tìm phương sai (variance) của knowledge_score và calcium_intake. "
   ]
  },
  {
   "cell_type": "code",
   "execution_count": null,
   "metadata": {
    "id": "wRlpEXgzaANr"
   },
   "outputs": [],
   "source": []
  },
  {
   "cell_type": "markdown",
   "metadata": {
    "id": "BZmRY1vyClMY"
   },
   "source": [
    "#### 7. Tìm độ lệch chuẩn (Standard deviation) của knowledge_score và calcium_intake"
   ]
  },
  {
   "cell_type": "code",
   "execution_count": null,
   "metadata": {
    "id": "DXgvgsjaaCOr"
   },
   "outputs": [],
   "source": []
  },
  {
   "cell_type": "markdown",
   "metadata": {
    "id": "dvbNUbGrClMk"
   },
   "source": [
    "#### 8. Tìm độ xiên (Skewness) và độ nhọn (Kurtosis) của knowledge_score. Nhận xét kết quả. "
   ]
  },
  {
   "cell_type": "code",
   "execution_count": null,
   "metadata": {
    "id": "AP433wKGaEq7"
   },
   "outputs": [],
   "source": []
  },
  {
   "cell_type": "markdown",
   "metadata": {
    "id": "1X0oSZRYClM2"
   },
   "source": [
    "#### 9. Vẽ biểu đồ thể hiện mối quan hệ giữa knowledge_score và calcium_intake có bổ sung thêm histogram phụ trên mỗi cột. Nhận xét biểu đồ. "
   ]
  },
  {
   "cell_type": "code",
   "execution_count": null,
   "metadata": {
    "id": "_RSelfwqaHBC"
   },
   "outputs": [],
   "source": []
  },
  {
   "cell_type": "markdown",
   "metadata": {
    "id": "AF5iA4BtClM5"
   },
   "source": [
    "#### 10. Tính giá trị covariance, correlation giữa knowledge_score và calcium_intake.  "
   ]
  },
  {
   "cell_type": "code",
   "execution_count": null,
   "metadata": {
    "id": "X4MKn8fGaJgj"
   },
   "outputs": [],
   "source": []
  }
 ],
 "metadata": {
  "colab": {
   "name": "bai_on_tap_b6_Student.ipynb",
   "provenance": [],
   "toc_visible": true
  },
  "kernelspec": {
   "display_name": "R",
   "language": "R",
   "name": "ir"
  },
  "language_info": {
   "codemirror_mode": "r",
   "file_extension": ".r",
   "mimetype": "text/x-r-source",
   "name": "R",
   "pygments_lexer": "r",
   "version": "4.0.2"
  }
 },
 "nbformat": 4,
 "nbformat_minor": 1
}

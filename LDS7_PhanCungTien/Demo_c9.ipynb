{
 "cells": [
  {
   "cell_type": "code",
   "execution_count": 1,
   "metadata": {},
   "outputs": [
    {
     "name": "stdout",
     "output_type": "stream",
     "text": [
      "[1] \"D:/LDS7_PhanCungTien\"\n"
     ]
    }
   ],
   "source": [
    "print(getwd()) # Lay va in thu muc hien hanh"
   ]
  },
  {
   "cell_type": "code",
   "execution_count": 2,
   "metadata": {},
   "outputs": [],
   "source": [
    "# thay doi duong dan hien hanh\n",
    "# setwd(duong_dan)\n"
   ]
  },
  {
   "cell_type": "code",
   "execution_count": 9,
   "metadata": {},
   "outputs": [],
   "source": [
    "# Doc file\n",
    "#file text\n",
    "content <- readLines(\"Du_lieu/license.txt\")"
   ]
  },
  {
   "cell_type": "code",
   "execution_count": 10,
   "metadata": {},
   "outputs": [
    {
     "data": {
      "text/html": [
       "<style>\n",
       ".list-inline {list-style: none; margin:0; padding: 0}\n",
       ".list-inline>li {display: inline-block}\n",
       ".list-inline>li:not(:last-child)::after {content: \"\\00b7\"; padding: 0 .5ex}\n",
       "</style>\n",
       "<ol class=list-inline><li>'These data files are derived by splitting up the data set downloaded from:'</li><li>'https://www.ontario.ca/data/ontario-public-schools-enrolment'</li><li>'under the Open Government License - Ontario:'</li><li>'https://www.ontario.ca/page/open-government-licence-ontario'</li></ol>\n"
      ],
      "text/latex": [
       "\\begin{enumerate*}\n",
       "\\item 'These data files are derived by splitting up the data set downloaded from:'\n",
       "\\item 'https://www.ontario.ca/data/ontario-public-schools-enrolment'\n",
       "\\item 'under the Open Government License - Ontario:'\n",
       "\\item 'https://www.ontario.ca/page/open-government-licence-ontario'\n",
       "\\end{enumerate*}\n"
      ],
      "text/markdown": [
       "1. 'These data files are derived by splitting up the data set downloaded from:'\n",
       "2. 'https://www.ontario.ca/data/ontario-public-schools-enrolment'\n",
       "3. 'under the Open Government License - Ontario:'\n",
       "4. 'https://www.ontario.ca/page/open-government-licence-ontario'\n",
       "\n",
       "\n"
      ],
      "text/plain": [
       "[1] \"These data files are derived by splitting up the data set downloaded from:\"\n",
       "[2] \"https://www.ontario.ca/data/ontario-public-schools-enrolment\"              \n",
       "[3] \"under the Open Government License - Ontario:\"                              \n",
       "[4] \"https://www.ontario.ca/page/open-government-licence-ontario\"               "
      ]
     },
     "metadata": {},
     "output_type": "display_data"
    }
   ],
   "source": [
    "content"
   ]
  },
  {
   "cell_type": "code",
   "execution_count": 11,
   "metadata": {},
   "outputs": [],
   "source": [
    "# Voi tap tin tieng viet\n",
    "content <- readLines(\"Du_lieu/bai_tho.txt\", encoding=\"UTF-8\")"
   ]
  },
  {
   "cell_type": "code",
   "execution_count": 12,
   "metadata": {},
   "outputs": [
    {
     "data": {
      "text/html": [
       "<style>\n",
       ".list-inline {list-style: none; margin:0; padding: 0}\n",
       ".list-inline>li {display: inline-block}\n",
       ".list-inline>li:not(:last-child)::after {content: \"\\00b7\"; padding: 0 .5ex}\n",
       "</style>\n",
       "<ol class=list-inline><li>'﻿Mùa xuân là Tết trồng cây'</li><li>'Làm cho đất nước càng ngày càng xuân'</li><li>''</li></ol>\n"
      ],
      "text/latex": [
       "\\begin{enumerate*}\n",
       "\\item '﻿Mùa xuân là Tết trồng cây'\n",
       "\\item 'Làm cho đất nước càng ngày càng xuân'\n",
       "\\item ''\n",
       "\\end{enumerate*}\n"
      ],
      "text/markdown": [
       "1. '﻿Mùa xuân là Tết trồng cây'\n",
       "2. 'Làm cho đất nước càng ngày càng xuân'\n",
       "3. ''\n",
       "\n",
       "\n"
      ],
      "text/plain": [
       "[1] \"<U+FEFF>Mùa xuân là T<U+1EBF>t tr<U+1ED3>ng cây\"\n",
       "[2] \"Làm cho d<U+1EA5>t nu<U+1EDB>c càng ngày càng xuân\"\n",
       "[3] \"\"                                    "
      ]
     },
     "metadata": {},
     "output_type": "display_data"
    }
   ],
   "source": [
    "content"
   ]
  },
  {
   "cell_type": "code",
   "execution_count": 13,
   "metadata": {},
   "outputs": [
    {
     "data": {
      "text/html": [
       "<style>\n",
       ".list-inline {list-style: none; margin:0; padding: 0}\n",
       ".list-inline>li {display: inline-block}\n",
       ".list-inline>li:not(:last-child)::after {content: \"\\00b7\"; padding: 0 .5ex}\n",
       "</style>\n",
       "<ol class=list-inline><li>26</li><li>36</li><li>0</li></ol>\n"
      ],
      "text/latex": [
       "\\begin{enumerate*}\n",
       "\\item 26\n",
       "\\item 36\n",
       "\\item 0\n",
       "\\end{enumerate*}\n"
      ],
      "text/markdown": [
       "1. 26\n",
       "2. 36\n",
       "3. 0\n",
       "\n",
       "\n"
      ],
      "text/plain": [
       "[1] 26 36  0"
      ]
     },
     "metadata": {},
     "output_type": "display_data"
    }
   ],
   "source": [
    "nchar(content)"
   ]
  },
  {
   "cell_type": "code",
   "execution_count": 14,
   "metadata": {},
   "outputs": [
    {
     "data": {
      "text/html": [
       "3"
      ],
      "text/latex": [
       "3"
      ],
      "text/markdown": [
       "3"
      ],
      "text/plain": [
       "[1] 3"
      ]
     },
     "metadata": {},
     "output_type": "display_data"
    }
   ],
   "source": [
    "length(content)"
   ]
  },
  {
   "cell_type": "code",
   "execution_count": 15,
   "metadata": {},
   "outputs": [
    {
     "data": {
      "text/html": [
       "89"
      ],
      "text/latex": [
       "89"
      ],
      "text/markdown": [
       "89"
      ],
      "text/plain": [
       "[1] 89"
      ]
     },
     "metadata": {},
     "output_type": "display_data"
    }
   ],
   "source": [
    "# xem kich co file\n",
    "file.size(\"Du_lieu/bai_tho.txt\")"
   ]
  },
  {
   "cell_type": "code",
   "execution_count": 16,
   "metadata": {},
   "outputs": [],
   "source": [
    "content1 <- scan(\"Du_lieu/license.txt\",\"\")"
   ]
  },
  {
   "cell_type": "code",
   "execution_count": 17,
   "metadata": {},
   "outputs": [
    {
     "data": {
      "text/html": [
       "<style>\n",
       ".list-inline {list-style: none; margin:0; padding: 0}\n",
       ".list-inline>li {display: inline-block}\n",
       ".list-inline>li:not(:last-child)::after {content: \"\\00b7\"; padding: 0 .5ex}\n",
       "</style>\n",
       "<ol class=list-inline><li>'These'</li><li>'data'</li><li>'files'</li><li>'are'</li><li>'derived'</li><li>'by'</li><li>'splitting'</li><li>'up'</li><li>'the'</li><li>'data'</li><li>'set'</li><li>'downloaded'</li><li>'from:'</li><li>'https://www.ontario.ca/data/ontario-public-schools-enrolment'</li><li>'under'</li><li>'the'</li><li>'Open'</li><li>'Government'</li><li>'License'</li><li>'-'</li><li>'Ontario:'</li><li>'https://www.ontario.ca/page/open-government-licence-ontario'</li></ol>\n"
      ],
      "text/latex": [
       "\\begin{enumerate*}\n",
       "\\item 'These'\n",
       "\\item 'data'\n",
       "\\item 'files'\n",
       "\\item 'are'\n",
       "\\item 'derived'\n",
       "\\item 'by'\n",
       "\\item 'splitting'\n",
       "\\item 'up'\n",
       "\\item 'the'\n",
       "\\item 'data'\n",
       "\\item 'set'\n",
       "\\item 'downloaded'\n",
       "\\item 'from:'\n",
       "\\item 'https://www.ontario.ca/data/ontario-public-schools-enrolment'\n",
       "\\item 'under'\n",
       "\\item 'the'\n",
       "\\item 'Open'\n",
       "\\item 'Government'\n",
       "\\item 'License'\n",
       "\\item '-'\n",
       "\\item 'Ontario:'\n",
       "\\item 'https://www.ontario.ca/page/open-government-licence-ontario'\n",
       "\\end{enumerate*}\n"
      ],
      "text/markdown": [
       "1. 'These'\n",
       "2. 'data'\n",
       "3. 'files'\n",
       "4. 'are'\n",
       "5. 'derived'\n",
       "6. 'by'\n",
       "7. 'splitting'\n",
       "8. 'up'\n",
       "9. 'the'\n",
       "10. 'data'\n",
       "11. 'set'\n",
       "12. 'downloaded'\n",
       "13. 'from:'\n",
       "14. 'https://www.ontario.ca/data/ontario-public-schools-enrolment'\n",
       "15. 'under'\n",
       "16. 'the'\n",
       "17. 'Open'\n",
       "18. 'Government'\n",
       "19. 'License'\n",
       "20. '-'\n",
       "21. 'Ontario:'\n",
       "22. 'https://www.ontario.ca/page/open-government-licence-ontario'\n",
       "\n",
       "\n"
      ],
      "text/plain": [
       " [1] \"These\"                                                       \n",
       " [2] \"data\"                                                        \n",
       " [3] \"files\"                                                       \n",
       " [4] \"are\"                                                         \n",
       " [5] \"derived\"                                                     \n",
       " [6] \"by\"                                                          \n",
       " [7] \"splitting\"                                                   \n",
       " [8] \"up\"                                                          \n",
       " [9] \"the\"                                                         \n",
       "[10] \"data\"                                                        \n",
       "[11] \"set\"                                                         \n",
       "[12] \"downloaded\"                                                  \n",
       "[13] \"from:\"                                                       \n",
       "[14] \"https://www.ontario.ca/data/ontario-public-schools-enrolment\"\n",
       "[15] \"under\"                                                       \n",
       "[16] \"the\"                                                         \n",
       "[17] \"Open\"                                                        \n",
       "[18] \"Government\"                                                  \n",
       "[19] \"License\"                                                     \n",
       "[20] \"-\"                                                           \n",
       "[21] \"Ontario:\"                                                    \n",
       "[22] \"https://www.ontario.ca/page/open-government-licence-ontario\" "
      ]
     },
     "metadata": {},
     "output_type": "display_data"
    }
   ],
   "source": [
    "content1"
   ]
  },
  {
   "cell_type": "code",
   "execution_count": 18,
   "metadata": {},
   "outputs": [],
   "source": [
    "# Doc file co cau truc\n",
    "df <- read.table(\"Du_lieu/Table0.txt\")"
   ]
  },
  {
   "cell_type": "code",
   "execution_count": 19,
   "metadata": {},
   "outputs": [
    {
     "data": {
      "text/html": [
       "<table>\n",
       "<caption>A data.frame: 7 × 5</caption>\n",
       "<thead>\n",
       "\t<tr><th scope=col>V1</th><th scope=col>V2</th><th scope=col>V3</th><th scope=col>V4</th><th scope=col>V5</th></tr>\n",
       "\t<tr><th scope=col>&lt;chr&gt;</th><th scope=col>&lt;int&gt;</th><th scope=col>&lt;int&gt;</th><th scope=col>&lt;int&gt;</th><th scope=col>&lt;chr&gt;</th></tr>\n",
       "</thead>\n",
       "<tbody>\n",
       "\t<tr><td>Alex    </td><td>25</td><td>177</td><td>57</td><td>F</td></tr>\n",
       "\t<tr><td>Lilly   </td><td>31</td><td>163</td><td>69</td><td>F</td></tr>\n",
       "\t<tr><td>Mark    </td><td>23</td><td>190</td><td>83</td><td>M</td></tr>\n",
       "\t<tr><td>Oliver  </td><td>52</td><td>179</td><td>75</td><td>M</td></tr>\n",
       "\t<tr><td>Martha  </td><td>76</td><td>163</td><td>70</td><td>F</td></tr>\n",
       "\t<tr><td>Lucas   </td><td>49</td><td>183</td><td>83</td><td>M</td></tr>\n",
       "\t<tr><td>Caroline</td><td>26</td><td>164</td><td>53</td><td>F</td></tr>\n",
       "</tbody>\n",
       "</table>\n"
      ],
      "text/latex": [
       "A data.frame: 7 × 5\n",
       "\\begin{tabular}{lllll}\n",
       " V1 & V2 & V3 & V4 & V5\\\\\n",
       " <chr> & <int> & <int> & <int> & <chr>\\\\\n",
       "\\hline\n",
       "\t Alex     & 25 & 177 & 57 & F\\\\\n",
       "\t Lilly    & 31 & 163 & 69 & F\\\\\n",
       "\t Mark     & 23 & 190 & 83 & M\\\\\n",
       "\t Oliver   & 52 & 179 & 75 & M\\\\\n",
       "\t Martha   & 76 & 163 & 70 & F\\\\\n",
       "\t Lucas    & 49 & 183 & 83 & M\\\\\n",
       "\t Caroline & 26 & 164 & 53 & F\\\\\n",
       "\\end{tabular}\n"
      ],
      "text/markdown": [
       "\n",
       "A data.frame: 7 × 5\n",
       "\n",
       "| V1 &lt;chr&gt; | V2 &lt;int&gt; | V3 &lt;int&gt; | V4 &lt;int&gt; | V5 &lt;chr&gt; |\n",
       "|---|---|---|---|---|\n",
       "| Alex     | 25 | 177 | 57 | F |\n",
       "| Lilly    | 31 | 163 | 69 | F |\n",
       "| Mark     | 23 | 190 | 83 | M |\n",
       "| Oliver   | 52 | 179 | 75 | M |\n",
       "| Martha   | 76 | 163 | 70 | F |\n",
       "| Lucas    | 49 | 183 | 83 | M |\n",
       "| Caroline | 26 | 164 | 53 | F |\n",
       "\n"
      ],
      "text/plain": [
       "  V1       V2 V3  V4 V5\n",
       "1 Alex     25 177 57 F \n",
       "2 Lilly    31 163 69 F \n",
       "3 Mark     23 190 83 M \n",
       "4 Oliver   52 179 75 M \n",
       "5 Martha   76 163 70 F \n",
       "6 Lucas    49 183 83 M \n",
       "7 Caroline 26 164 53 F "
      ]
     },
     "metadata": {},
     "output_type": "display_data"
    }
   ],
   "source": [
    "df"
   ]
  },
  {
   "cell_type": "code",
   "execution_count": 21,
   "metadata": {},
   "outputs": [
    {
     "data": {
      "text/html": [
       "<style>\n",
       ".list-inline {list-style: none; margin:0; padding: 0}\n",
       ".list-inline>li {display: inline-block}\n",
       ".list-inline>li:not(:last-child)::after {content: \"\\00b7\"; padding: 0 .5ex}\n",
       "</style>\n",
       "<ol class=list-inline><li>'Hello and welcome'</li><li>'Hello and welcome'</li><li>'Hello and welcome'</li><li>'Hello and welcome'</li></ol>\n"
      ],
      "text/latex": [
       "\\begin{enumerate*}\n",
       "\\item 'Hello and welcome'\n",
       "\\item 'Hello and welcome'\n",
       "\\item 'Hello and welcome'\n",
       "\\item 'Hello and welcome'\n",
       "\\end{enumerate*}\n"
      ],
      "text/markdown": [
       "1. 'Hello and welcome'\n",
       "2. 'Hello and welcome'\n",
       "3. 'Hello and welcome'\n",
       "4. 'Hello and welcome'\n",
       "\n",
       "\n"
      ],
      "text/plain": [
       "[1] \"Hello and welcome\" \"Hello and welcome\" \"Hello and welcome\"\n",
       "[4] \"Hello and welcome\""
      ]
     },
     "metadata": {},
     "output_type": "display_data"
    }
   ],
   "source": [
    "content2 <- \"Hello and welcome\"\n",
    "file_name = file(description=\"Du_lieu/text.txt\", open=\"a\", encoding=\"UTF-8\")\n",
    "write(content2, file=file_name)\n",
    "content2 <-readLines(\"Du_lieu/text.txt\")\n",
    "content2"
   ]
  },
  {
   "cell_type": "code",
   "execution_count": 22,
   "metadata": {},
   "outputs": [],
   "source": [
    "# doc file csv\n",
    "data <- read.csv(\"Du_lieu/emp.csv\")"
   ]
  },
  {
   "cell_type": "code",
   "execution_count": 23,
   "metadata": {},
   "outputs": [
    {
     "data": {
      "text/html": [
       "<table>\n",
       "<caption>A data.frame: 8 × 5</caption>\n",
       "<thead>\n",
       "\t<tr><th scope=col>id</th><th scope=col>name</th><th scope=col>salary</th><th scope=col>start_date</th><th scope=col>dept</th></tr>\n",
       "\t<tr><th scope=col>&lt;int&gt;</th><th scope=col>&lt;chr&gt;</th><th scope=col>&lt;dbl&gt;</th><th scope=col>&lt;chr&gt;</th><th scope=col>&lt;chr&gt;</th></tr>\n",
       "</thead>\n",
       "<tbody>\n",
       "\t<tr><td> 1</td><td>Rick    </td><td>623.30</td><td>2012-01-01</td><td>IT        </td></tr>\n",
       "\t<tr><td> 2</td><td>Dan     </td><td>515.20</td><td>2013-09-23</td><td>Operations</td></tr>\n",
       "\t<tr><td> 3</td><td>Michelle</td><td>611.00</td><td>2014-11-15</td><td>IT        </td></tr>\n",
       "\t<tr><td> 4</td><td>Ryan    </td><td>729.00</td><td>2014-05-11</td><td>HR        </td></tr>\n",
       "\t<tr><td>NA</td><td>Gary    </td><td>843.25</td><td>2015-03-27</td><td>Finance   </td></tr>\n",
       "\t<tr><td> 6</td><td>Nina    </td><td>578.00</td><td>2013-05-21</td><td>IT        </td></tr>\n",
       "\t<tr><td> 7</td><td>Simon   </td><td>632.80</td><td>2013-07-30</td><td>Operations</td></tr>\n",
       "\t<tr><td> 8</td><td>Guru    </td><td>722.50</td><td>2014-06-17</td><td>Finance   </td></tr>\n",
       "</tbody>\n",
       "</table>\n"
      ],
      "text/latex": [
       "A data.frame: 8 × 5\n",
       "\\begin{tabular}{lllll}\n",
       " id & name & salary & start\\_date & dept\\\\\n",
       " <int> & <chr> & <dbl> & <chr> & <chr>\\\\\n",
       "\\hline\n",
       "\t  1 & Rick     & 623.30 & 2012-01-01 & IT        \\\\\n",
       "\t  2 & Dan      & 515.20 & 2013-09-23 & Operations\\\\\n",
       "\t  3 & Michelle & 611.00 & 2014-11-15 & IT        \\\\\n",
       "\t  4 & Ryan     & 729.00 & 2014-05-11 & HR        \\\\\n",
       "\t NA & Gary     & 843.25 & 2015-03-27 & Finance   \\\\\n",
       "\t  6 & Nina     & 578.00 & 2013-05-21 & IT        \\\\\n",
       "\t  7 & Simon    & 632.80 & 2013-07-30 & Operations\\\\\n",
       "\t  8 & Guru     & 722.50 & 2014-06-17 & Finance   \\\\\n",
       "\\end{tabular}\n"
      ],
      "text/markdown": [
       "\n",
       "A data.frame: 8 × 5\n",
       "\n",
       "| id &lt;int&gt; | name &lt;chr&gt; | salary &lt;dbl&gt; | start_date &lt;chr&gt; | dept &lt;chr&gt; |\n",
       "|---|---|---|---|---|\n",
       "|  1 | Rick     | 623.30 | 2012-01-01 | IT         |\n",
       "|  2 | Dan      | 515.20 | 2013-09-23 | Operations |\n",
       "|  3 | Michelle | 611.00 | 2014-11-15 | IT         |\n",
       "|  4 | Ryan     | 729.00 | 2014-05-11 | HR         |\n",
       "| NA | Gary     | 843.25 | 2015-03-27 | Finance    |\n",
       "|  6 | Nina     | 578.00 | 2013-05-21 | IT         |\n",
       "|  7 | Simon    | 632.80 | 2013-07-30 | Operations |\n",
       "|  8 | Guru     | 722.50 | 2014-06-17 | Finance    |\n",
       "\n"
      ],
      "text/plain": [
       "  id name     salary start_date dept      \n",
       "1  1 Rick     623.30 2012-01-01 IT        \n",
       "2  2 Dan      515.20 2013-09-23 Operations\n",
       "3  3 Michelle 611.00 2014-11-15 IT        \n",
       "4  4 Ryan     729.00 2014-05-11 HR        \n",
       "5 NA Gary     843.25 2015-03-27 Finance   \n",
       "6  6 Nina     578.00 2013-05-21 IT        \n",
       "7  7 Simon    632.80 2013-07-30 Operations\n",
       "8  8 Guru     722.50 2014-06-17 Finance   "
      ]
     },
     "metadata": {},
     "output_type": "display_data"
    }
   ],
   "source": [
    "data"
   ]
  },
  {
   "cell_type": "code",
   "execution_count": 28,
   "metadata": {},
   "outputs": [
    {
     "data": {
      "text/html": [
       "<table>\n",
       "<caption>A data.frame: 6 × 5</caption>\n",
       "<thead>\n",
       "\t<tr><th></th><th scope=col>id</th><th scope=col>name</th><th scope=col>salary</th><th scope=col>start_date</th><th scope=col>dept</th></tr>\n",
       "\t<tr><th></th><th scope=col>&lt;int&gt;</th><th scope=col>&lt;chr&gt;</th><th scope=col>&lt;dbl&gt;</th><th scope=col>&lt;chr&gt;</th><th scope=col>&lt;chr&gt;</th></tr>\n",
       "</thead>\n",
       "<tbody>\n",
       "\t<tr><th scope=row>1</th><td> 1</td><td>Rick    </td><td>623.30</td><td>2012-01-01</td><td>IT        </td></tr>\n",
       "\t<tr><th scope=row>3</th><td> 3</td><td>Michelle</td><td>611.00</td><td>2014-11-15</td><td>IT        </td></tr>\n",
       "\t<tr><th scope=row>4</th><td> 4</td><td>Ryan    </td><td>729.00</td><td>2014-05-11</td><td>HR        </td></tr>\n",
       "\t<tr><th scope=row>5</th><td>NA</td><td>Gary    </td><td>843.25</td><td>2015-03-27</td><td>Finance   </td></tr>\n",
       "\t<tr><th scope=row>7</th><td> 7</td><td>Simon   </td><td>632.80</td><td>2013-07-30</td><td>Operations</td></tr>\n",
       "\t<tr><th scope=row>8</th><td> 8</td><td>Guru    </td><td>722.50</td><td>2014-06-17</td><td>Finance   </td></tr>\n",
       "</tbody>\n",
       "</table>\n"
      ],
      "text/latex": [
       "A data.frame: 6 × 5\n",
       "\\begin{tabular}{r|lllll}\n",
       "  & id & name & salary & start\\_date & dept\\\\\n",
       "  & <int> & <chr> & <dbl> & <chr> & <chr>\\\\\n",
       "\\hline\n",
       "\t1 &  1 & Rick     & 623.30 & 2012-01-01 & IT        \\\\\n",
       "\t3 &  3 & Michelle & 611.00 & 2014-11-15 & IT        \\\\\n",
       "\t4 &  4 & Ryan     & 729.00 & 2014-05-11 & HR        \\\\\n",
       "\t5 & NA & Gary     & 843.25 & 2015-03-27 & Finance   \\\\\n",
       "\t7 &  7 & Simon    & 632.80 & 2013-07-30 & Operations\\\\\n",
       "\t8 &  8 & Guru     & 722.50 & 2014-06-17 & Finance   \\\\\n",
       "\\end{tabular}\n"
      ],
      "text/markdown": [
       "\n",
       "A data.frame: 6 × 5\n",
       "\n",
       "| <!--/--> | id &lt;int&gt; | name &lt;chr&gt; | salary &lt;dbl&gt; | start_date &lt;chr&gt; | dept &lt;chr&gt; |\n",
       "|---|---|---|---|---|---|\n",
       "| 1 |  1 | Rick     | 623.30 | 2012-01-01 | IT         |\n",
       "| 3 |  3 | Michelle | 611.00 | 2014-11-15 | IT         |\n",
       "| 4 |  4 | Ryan     | 729.00 | 2014-05-11 | HR         |\n",
       "| 5 | NA | Gary     | 843.25 | 2015-03-27 | Finance    |\n",
       "| 7 |  7 | Simon    | 632.80 | 2013-07-30 | Operations |\n",
       "| 8 |  8 | Guru     | 722.50 | 2014-06-17 | Finance    |\n",
       "\n"
      ],
      "text/plain": [
       "  id name     salary start_date dept      \n",
       "1  1 Rick     623.30 2012-01-01 IT        \n",
       "3  3 Michelle 611.00 2014-11-15 IT        \n",
       "4  4 Ryan     729.00 2014-05-11 HR        \n",
       "5 NA Gary     843.25 2015-03-27 Finance   \n",
       "7  7 Simon    632.80 2013-07-30 Operations\n",
       "8  8 Guru     722.50 2014-06-17 Finance   "
      ]
     },
     "metadata": {},
     "output_type": "display_data"
    }
   ],
   "source": [
    "retval <- subset(data, salary > 600)\n",
    "retval"
   ]
  },
  {
   "cell_type": "code",
   "execution_count": 30,
   "metadata": {},
   "outputs": [],
   "source": [
    "#Ghi file\n",
    "it_emps = subset(data, dept =='IT')\n",
    "#ghi file\n",
    "write.csv(it_emps, \"Du_lieu/it_emps.csv\", row.names = FALSE)"
   ]
  },
  {
   "cell_type": "code",
   "execution_count": 32,
   "metadata": {},
   "outputs": [],
   "source": [
    "newdata = read.csv(\"Du_lieu/it_emps.csv\")"
   ]
  },
  {
   "cell_type": "code",
   "execution_count": 33,
   "metadata": {},
   "outputs": [
    {
     "data": {
      "text/html": [
       "<table>\n",
       "<caption>A data.frame: 3 × 5</caption>\n",
       "<thead>\n",
       "\t<tr><th scope=col>id</th><th scope=col>name</th><th scope=col>salary</th><th scope=col>start_date</th><th scope=col>dept</th></tr>\n",
       "\t<tr><th scope=col>&lt;int&gt;</th><th scope=col>&lt;chr&gt;</th><th scope=col>&lt;dbl&gt;</th><th scope=col>&lt;chr&gt;</th><th scope=col>&lt;chr&gt;</th></tr>\n",
       "</thead>\n",
       "<tbody>\n",
       "\t<tr><td>1</td><td>Rick    </td><td>623.3</td><td>2012-01-01</td><td>IT</td></tr>\n",
       "\t<tr><td>3</td><td>Michelle</td><td>611.0</td><td>2014-11-15</td><td>IT</td></tr>\n",
       "\t<tr><td>6</td><td>Nina    </td><td>578.0</td><td>2013-05-21</td><td>IT</td></tr>\n",
       "</tbody>\n",
       "</table>\n"
      ],
      "text/latex": [
       "A data.frame: 3 × 5\n",
       "\\begin{tabular}{lllll}\n",
       " id & name & salary & start\\_date & dept\\\\\n",
       " <int> & <chr> & <dbl> & <chr> & <chr>\\\\\n",
       "\\hline\n",
       "\t 1 & Rick     & 623.3 & 2012-01-01 & IT\\\\\n",
       "\t 3 & Michelle & 611.0 & 2014-11-15 & IT\\\\\n",
       "\t 6 & Nina     & 578.0 & 2013-05-21 & IT\\\\\n",
       "\\end{tabular}\n"
      ],
      "text/markdown": [
       "\n",
       "A data.frame: 3 × 5\n",
       "\n",
       "| id &lt;int&gt; | name &lt;chr&gt; | salary &lt;dbl&gt; | start_date &lt;chr&gt; | dept &lt;chr&gt; |\n",
       "|---|---|---|---|---|\n",
       "| 1 | Rick     | 623.3 | 2012-01-01 | IT |\n",
       "| 3 | Michelle | 611.0 | 2014-11-15 | IT |\n",
       "| 6 | Nina     | 578.0 | 2013-05-21 | IT |\n",
       "\n"
      ],
      "text/plain": [
       "  id name     salary start_date dept\n",
       "1 1  Rick     623.3  2012-01-01 IT  \n",
       "2 3  Michelle 611.0  2014-11-15 IT  \n",
       "3 6  Nina     578.0  2013-05-21 IT  "
      ]
     },
     "metadata": {},
     "output_type": "display_data"
    }
   ],
   "source": [
    "newdata"
   ]
  },
  {
   "cell_type": "code",
   "execution_count": 35,
   "metadata": {},
   "outputs": [],
   "source": [
    "# Excel\n",
    "library(\"xlsx\") #load library"
   ]
  },
  {
   "cell_type": "code",
   "execution_count": 36,
   "metadata": {},
   "outputs": [
    {
     "data": {
      "text/html": [
       "<table>\n",
       "<caption>A data.frame: 8 × 5</caption>\n",
       "<thead>\n",
       "\t<tr><th scope=col>id</th><th scope=col>name</th><th scope=col>salary</th><th scope=col>start_date</th><th scope=col>dept</th></tr>\n",
       "\t<tr><th scope=col>&lt;chr&gt;</th><th scope=col>&lt;chr&gt;</th><th scope=col>&lt;dbl&gt;</th><th scope=col>&lt;date&gt;</th><th scope=col>&lt;chr&gt;</th></tr>\n",
       "</thead>\n",
       "<tbody>\n",
       "\t<tr><td>1</td><td>Rick    </td><td>623.30</td><td>2012-01-01</td><td>IT        </td></tr>\n",
       "\t<tr><td>2</td><td>Dan     </td><td>515.20</td><td>2013-09-23</td><td>Operations</td></tr>\n",
       "\t<tr><td>3</td><td>Michelle</td><td>611.00</td><td>2014-11-15</td><td>IT        </td></tr>\n",
       "\t<tr><td>4</td><td>Ryan    </td><td>729.00</td><td>2014-05-11</td><td>HR        </td></tr>\n",
       "\t<tr><td> </td><td>Gary    </td><td>843.25</td><td>2015-03-27</td><td>Finance   </td></tr>\n",
       "\t<tr><td>6</td><td>Nina    </td><td>578.00</td><td>2013-05-21</td><td>IT        </td></tr>\n",
       "\t<tr><td>7</td><td>Simon   </td><td>632.80</td><td>2013-07-30</td><td>Operations</td></tr>\n",
       "\t<tr><td>8</td><td>Guru    </td><td>722.50</td><td>2014-06-17</td><td>Finance   </td></tr>\n",
       "</tbody>\n",
       "</table>\n"
      ],
      "text/latex": [
       "A data.frame: 8 × 5\n",
       "\\begin{tabular}{lllll}\n",
       " id & name & salary & start\\_date & dept\\\\\n",
       " <chr> & <chr> & <dbl> & <date> & <chr>\\\\\n",
       "\\hline\n",
       "\t 1 & Rick     & 623.30 & 2012-01-01 & IT        \\\\\n",
       "\t 2 & Dan      & 515.20 & 2013-09-23 & Operations\\\\\n",
       "\t 3 & Michelle & 611.00 & 2014-11-15 & IT        \\\\\n",
       "\t 4 & Ryan     & 729.00 & 2014-05-11 & HR        \\\\\n",
       "\t   & Gary     & 843.25 & 2015-03-27 & Finance   \\\\\n",
       "\t 6 & Nina     & 578.00 & 2013-05-21 & IT        \\\\\n",
       "\t 7 & Simon    & 632.80 & 2013-07-30 & Operations\\\\\n",
       "\t 8 & Guru     & 722.50 & 2014-06-17 & Finance   \\\\\n",
       "\\end{tabular}\n"
      ],
      "text/markdown": [
       "\n",
       "A data.frame: 8 × 5\n",
       "\n",
       "| id &lt;chr&gt; | name &lt;chr&gt; | salary &lt;dbl&gt; | start_date &lt;date&gt; | dept &lt;chr&gt; |\n",
       "|---|---|---|---|---|\n",
       "| 1 | Rick     | 623.30 | 2012-01-01 | IT         |\n",
       "| 2 | Dan      | 515.20 | 2013-09-23 | Operations |\n",
       "| 3 | Michelle | 611.00 | 2014-11-15 | IT         |\n",
       "| 4 | Ryan     | 729.00 | 2014-05-11 | HR         |\n",
       "| <!----> | Gary     | 843.25 | 2015-03-27 | Finance    |\n",
       "| 6 | Nina     | 578.00 | 2013-05-21 | IT         |\n",
       "| 7 | Simon    | 632.80 | 2013-07-30 | Operations |\n",
       "| 8 | Guru     | 722.50 | 2014-06-17 | Finance    |\n",
       "\n"
      ],
      "text/plain": [
       "  id name     salary start_date dept      \n",
       "1 1  Rick     623.30 2012-01-01 IT        \n",
       "2 2  Dan      515.20 2013-09-23 Operations\n",
       "3 3  Michelle 611.00 2014-11-15 IT        \n",
       "4 4  Ryan     729.00 2014-05-11 HR        \n",
       "5    Gary     843.25 2015-03-27 Finance   \n",
       "6 6  Nina     578.00 2013-05-21 IT        \n",
       "7 7  Simon    632.80 2013-07-30 Operations\n",
       "8 8  Guru     722.50 2014-06-17 Finance   "
      ]
     },
     "metadata": {},
     "output_type": "display_data"
    }
   ],
   "source": [
    "data <- read.xlsx(\"Du_lieu/emp_data.xlsx\", sheetIndex =1)\n",
    "data"
   ]
  },
  {
   "cell_type": "code",
   "execution_count": 37,
   "metadata": {},
   "outputs": [
    {
     "data": {
      "text/html": [
       "<table>\n",
       "<caption>A data.frame: 8 × 2</caption>\n",
       "<thead>\n",
       "\t<tr><th scope=col>name</th><th scope=col>city</th></tr>\n",
       "\t<tr><th scope=col>&lt;chr&gt;</th><th scope=col>&lt;chr&gt;</th></tr>\n",
       "</thead>\n",
       "<tbody>\n",
       "\t<tr><td>Rick    </td><td>Seattle</td></tr>\n",
       "\t<tr><td>Dan     </td><td>Tampa  </td></tr>\n",
       "\t<tr><td>Michelle</td><td>Chicago</td></tr>\n",
       "\t<tr><td>Ryan    </td><td>Seattle</td></tr>\n",
       "\t<tr><td>Gary    </td><td>Houston</td></tr>\n",
       "\t<tr><td>Nina    </td><td>Boston </td></tr>\n",
       "\t<tr><td>Simon   </td><td>Mumbai </td></tr>\n",
       "\t<tr><td>Guru    </td><td>Dallas </td></tr>\n",
       "</tbody>\n",
       "</table>\n"
      ],
      "text/latex": [
       "A data.frame: 8 × 2\n",
       "\\begin{tabular}{ll}\n",
       " name & city\\\\\n",
       " <chr> & <chr>\\\\\n",
       "\\hline\n",
       "\t Rick     & Seattle\\\\\n",
       "\t Dan      & Tampa  \\\\\n",
       "\t Michelle & Chicago\\\\\n",
       "\t Ryan     & Seattle\\\\\n",
       "\t Gary     & Houston\\\\\n",
       "\t Nina     & Boston \\\\\n",
       "\t Simon    & Mumbai \\\\\n",
       "\t Guru     & Dallas \\\\\n",
       "\\end{tabular}\n"
      ],
      "text/markdown": [
       "\n",
       "A data.frame: 8 × 2\n",
       "\n",
       "| name &lt;chr&gt; | city &lt;chr&gt; |\n",
       "|---|---|\n",
       "| Rick     | Seattle |\n",
       "| Dan      | Tampa   |\n",
       "| Michelle | Chicago |\n",
       "| Ryan     | Seattle |\n",
       "| Gary     | Houston |\n",
       "| Nina     | Boston  |\n",
       "| Simon    | Mumbai  |\n",
       "| Guru     | Dallas  |\n",
       "\n"
      ],
      "text/plain": [
       "  name     city   \n",
       "1 Rick     Seattle\n",
       "2 Dan      Tampa  \n",
       "3 Michelle Chicago\n",
       "4 Ryan     Seattle\n",
       "5 Gary     Houston\n",
       "6 Nina     Boston \n",
       "7 Simon    Mumbai \n",
       "8 Guru     Dallas "
      ]
     },
     "metadata": {},
     "output_type": "display_data"
    }
   ],
   "source": [
    "data <- read.xlsx(\"Du_lieu/emp_data.xlsx\", sheetName ='city')\n",
    "data"
   ]
  },
  {
   "cell_type": "code",
   "execution_count": null,
   "metadata": {},
   "outputs": [],
   "source": [
    "write.xlsx(retval, file=\"Du_lieu/emp_data.xlsx\", sheetName=\"Sheet1\")"
   ]
  }
 ],
 "metadata": {
  "kernelspec": {
   "display_name": "R",
   "language": "R",
   "name": "ir"
  },
  "language_info": {
   "codemirror_mode": "r",
   "file_extension": ".r",
   "mimetype": "text/x-r-source",
   "name": "R",
   "pygments_lexer": "r",
   "version": "4.0.2"
  }
 },
 "nbformat": 4,
 "nbformat_minor": 4
}

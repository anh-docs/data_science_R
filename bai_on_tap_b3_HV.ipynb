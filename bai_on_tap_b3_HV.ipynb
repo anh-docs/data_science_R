{
 "cells": [
  {
   "cell_type": "markdown",
   "metadata": {
    "id": "SKG2ETcPTLTy"
   },
   "source": [
    "# Review Chapter 6 & 7"
   ]
  },
  {
   "cell_type": "code",
   "execution_count": 1,
   "metadata": {
    "id": "FvZrjfhWE-IM"
   },
   "outputs": [
    {
     "name": "stdout",
     "output_type": "stream",
     "text": [
      "[1] R R L L R R C C\n",
      "Levels: C L R\n",
      "[1] \"C\" \"L\" \"R\"\n",
      "[1] 3\n",
      "[1] 8\n"
     ]
    }
   ],
   "source": [
    "## Ex1\n",
    "# Definition of survey_vector\n",
    "survey_vector <- c(\"R\", \"R\", \"L\", \"L\", \"R\", \"R\", \"C\", \"C\")\n",
    "\n",
    "# Encode survey_vector as a factor: survey_factor\n",
    "survey_vector <- as.factor(survey_vector)\n",
    "# Print survey_factor\n",
    "print(survey_vector)\n",
    "# Print levels of survey_factor\n",
    "print(levels(survey_vector))\n",
    "# Print nlevels of survey_factor\n",
    "print(nlevels(survey_vector))\n",
    "# How many elements of each factor?\n",
    "print(length(survey_vector))"
   ]
  },
  {
   "cell_type": "code",
   "execution_count": 2,
   "metadata": {
    "id": "3ukM4r2lKoJp"
   },
   "outputs": [
    {
     "name": "stdout",
     "output_type": "stream",
     "text": [
      "List of 4\n",
      " $ : int [1:10] 1 2 3 4 5 6 7 8 9 10\n",
      " $ : int [1:3, 1:3] 1 4 7 2 5 8 3 6 9\n",
      " $ : chr [1:5] \"M\" \"S\" \"L\" \"L\" ...\n",
      " $ :List of 3\n",
      "  ..$ : int [1:10] 1 2 3 4 5 6 7 8 9 10\n",
      "  ..$ : int [1:3, 1:3] 1 4 7 2 5 8 3 6 9\n",
      "  ..$ : chr [1:5] \"M\" \"S\" \"L\" \"L\" ...\n",
      "     [,1] [,2] [,3]\n",
      "[1,]    1    2    3\n",
      "[2,]    4    5    6\n",
      "[3,]    7    8    9\n",
      "[1] 45\n",
      "[1]  6 15 24\n"
     ]
    }
   ],
   "source": [
    "## Ex2\n",
    "# Create my_vector: 1 up to 10\n",
    "my_vector <- 1:10\n",
    "# Create my_matrix (3x3): 1 up to 9\n",
    "my_matrix <- matrix(1:9, nrow=3, ncol=3, byrow=TRUE)\n",
    "# Create my_factor from sizes\n",
    "sizes <-c(\"M\",\"S\",\"L\",\"L\",\"M\")\n",
    "\n",
    "# Construct my_list with the three data structures above\n",
    "my_list <- list(my_vector, my_matrix, sizes)\n",
    "# Construct my_super_list with the four data structures above\n",
    "my_super_list <- list(my_vector, my_matrix, sizes, my_list)\n",
    "# Display structure of my_super_list (Use str())\n",
    "str(my_super_list)\n",
    "# Print my_matrix, sum of my_matrix, sum of even elements in my_matrix\n",
    "print(my_matrix)\n",
    "print(sum(my_matrix))\n",
    "print(rowSums(my_matrix))"
   ]
  },
  {
   "cell_type": "code",
   "execution_count": 3,
   "metadata": {},
   "outputs": [],
   "source": [
    "isPrime.function <- function(n){\n",
    "    rs <- 1\n",
    "    if (n<2) {rs <- 0\n",
    "    } else if (n == 2) {rs <- 1\n",
    "    } else {\n",
    "        for (i in 2:(n-1)) {\n",
    "        if (n%%i ==0) rs <-0\n",
    "    }}\n",
    "    return (rs)\n",
    "}"
   ]
  },
  {
   "cell_type": "code",
   "execution_count": 4,
   "metadata": {},
   "outputs": [
    {
     "name": "stdout",
     "output_type": "stream",
     "text": [
      " [1] 7 7 7 3 5 5 7 2 7 5 2 3 7 5 7 3\n"
     ]
    }
   ],
   "source": [
    "vector = c()\n",
    "repeat {\n",
    "    x <- round(runif(1,1,9),0)\n",
    "    if (isPrime.function(x) ==  1) {\n",
    "        vector <- c(vector, x)\n",
    "    }\n",
    "    if (length(vector) == 17) break\n",
    "}\n",
    "vector <- vector[2:17]\n",
    "print(vector)"
   ]
  },
  {
   "cell_type": "code",
   "execution_count": 5,
   "metadata": {},
   "outputs": [],
   "source": [
    "create.matrix.function <- function(n){\n",
    "    vector = c()\n",
    "    repeat {\n",
    "        x <- round(runif(1,1,9),0)\n",
    "        if (isPrime.function(x) ==  1) {\n",
    "            vector <- c(vector, x)\n",
    "        }\n",
    "        if (length(vector) == (n*n+1)) break\n",
    "    }\n",
    "    vector <- vector[2:17]\n",
    "    my_matrix <- matrix(vector, nrow=n, ncol=n)\n",
    "    return (my_matrix)\n",
    "}\n"
   ]
  },
  {
   "cell_type": "code",
   "execution_count": 6,
   "metadata": {
    "id": "MtnBB6_EFPh9"
   },
   "outputs": [
    {
     "name": "stdout",
     "output_type": "stream",
     "text": [
      "[1] 18\n"
     ]
    }
   ],
   "source": [
    "## Ex3: \n",
    "# Create my_matrix (4x4): each element is a randomly generated prime number.\n",
    "my_matrix <- create.matrix.function(4)\n",
    "# Sum the elements on the main diagonal of the matrix\n",
    "print(sum(diag(my_matrix)))\n",
    "# (Note: Build function to create matrix, function to test Prime number, and function to Sum... >> Call fucntion)"
   ]
  },
  {
   "cell_type": "code",
   "execution_count": 7,
   "metadata": {},
   "outputs": [
    {
     "data": {
      "text/html": [
       "<table>\n",
       "<caption>A matrix: 4 × 4 of type dbl</caption>\n",
       "<tbody>\n",
       "\t<tr><td>3</td><td>7</td><td>2</td><td>2</td></tr>\n",
       "\t<tr><td>2</td><td>3</td><td>3</td><td>2</td></tr>\n",
       "\t<tr><td>2</td><td>3</td><td>7</td><td>3</td></tr>\n",
       "\t<tr><td>5</td><td>2</td><td>5</td><td>5</td></tr>\n",
       "</tbody>\n",
       "</table>\n"
      ],
      "text/latex": [
       "A matrix: 4 × 4 of type dbl\n",
       "\\begin{tabular}{llll}\n",
       "\t 3 & 7 & 2 & 2\\\\\n",
       "\t 2 & 3 & 3 & 2\\\\\n",
       "\t 2 & 3 & 7 & 3\\\\\n",
       "\t 5 & 2 & 5 & 5\\\\\n",
       "\\end{tabular}\n"
      ],
      "text/markdown": [
       "\n",
       "A matrix: 4 × 4 of type dbl\n",
       "\n",
       "| 3 | 7 | 2 | 2 |\n",
       "| 2 | 3 | 3 | 2 |\n",
       "| 2 | 3 | 7 | 3 |\n",
       "| 5 | 2 | 5 | 5 |\n",
       "\n"
      ],
      "text/plain": [
       "     [,1] [,2] [,3] [,4]\n",
       "[1,] 3    7    2    2   \n",
       "[2,] 2    3    3    2   \n",
       "[3,] 2    3    7    3   \n",
       "[4,] 5    2    5    5   "
      ]
     },
     "metadata": {},
     "output_type": "display_data"
    }
   ],
   "source": [
    "my_matrix"
   ]
  },
  {
   "cell_type": "code",
   "execution_count": 8,
   "metadata": {
    "id": "XtqFWIBOHCGJ"
   },
   "outputs": [
    {
     "name": "stdout",
     "output_type": "stream",
     "text": [
      "     [,1] [,2] [,3] [,4]\n",
      "[1,]    2    2    5    2\n",
      "[2,]    2    3    2    3\n",
      "[3,]    2    3    3    5\n",
      "[4,]    2    2    2    3\n",
      "     [,1] [,2] [,3] [,4]\n",
      "[1,]    3    7    5    5\n",
      "[2,]    2    5    7    7\n",
      "[3,]    5    7    5    2\n",
      "[4,]    7    5    7    7\n",
      "     [,1] [,2] [,3] [,4]\n",
      "[1,]    5    9    7    7\n",
      "[2,]    4    8   10    9\n",
      "[3,]   10    9    8    4\n",
      "[4,]    9    8   12   10\n"
     ]
    }
   ],
   "source": [
    "## Ex4: \n",
    "# Create my_array (4, 4, 2): from 2 matrices created by calling function create_matrix (Ex3)\n",
    "my_array <- array(c(create.matrix.function(4),create.matrix.function(4)),dim=c(4,4,2))\n",
    "# Use apply to calculate the min of the rows across all the matrices.\n",
    "print(apply(my_array, c(2,1),min))\n",
    "# Use apply to calculate the max of the columns across all the matrices.\n",
    "print(apply(my_array, c(1,2),max))\n",
    "# Use apply to calculate the sum of each matrix in my_array\n",
    "print(apply(my_array,c(1,2), sum))"
   ]
  },
  {
   "cell_type": "code",
   "execution_count": 9,
   "metadata": {},
   "outputs": [
    {
     "name": "stdout",
     "output_type": "stream",
     "text": [
      ", , 1\n",
      "\n",
      "     [,1] [,2] [,3] [,4]\n",
      "[1,]    3    2    2    2\n",
      "[2,]    2    3    3    7\n",
      "[3,]    5    2    5    2\n",
      "[4,]    2    3    5    7\n",
      "\n",
      ", , 2\n",
      "\n",
      "     [,1] [,2] [,3] [,4]\n",
      "[1,]    2    7    5    5\n",
      "[2,]    2    5    7    2\n",
      "[3,]    5    7    3    2\n",
      "[4,]    7    5    7    3\n",
      "\n"
     ]
    }
   ],
   "source": [
    "print(apply(my_array,c(1,2,3),sum))"
   ]
  },
  {
   "cell_type": "code",
   "execution_count": 10,
   "metadata": {},
   "outputs": [],
   "source": [
    "# done"
   ]
  }
 ],
 "metadata": {
  "colab": {
   "collapsed_sections": [],
   "name": "bai_on_tap_c6_c7_HV.ipynb",
   "provenance": []
  },
  "kernelspec": {
   "display_name": "R",
   "language": "R",
   "name": "ir"
  },
  "language_info": {
   "codemirror_mode": "r",
   "file_extension": ".r",
   "mimetype": "text/x-r-source",
   "name": "R",
   "pygments_lexer": "r",
   "version": "3.6.0"
  }
 },
 "nbformat": 4,
 "nbformat_minor": 1
}

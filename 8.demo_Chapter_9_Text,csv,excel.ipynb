{
 "cells": [
  {
   "cell_type": "code",
   "execution_count": 1,
   "metadata": {},
   "outputs": [
    {
     "data": {
      "text/html": [
       "'D:/1. HaiAnh/Cung cap du lieu buoi 4'"
      ],
      "text/latex": [
       "'D:/1. HaiAnh/Cung cap du lieu buoi 4'"
      ],
      "text/markdown": [
       "'D:/1. HaiAnh/Cung cap du lieu buoi 4'"
      ],
      "text/plain": [
       "[1] \"D:/1. HaiAnh/Cung cap du lieu buoi 4\""
      ]
     },
     "metadata": {},
     "output_type": "display_data"
    }
   ],
   "source": [
    "getwd()"
   ]
  },
  {
   "cell_type": "code",
   "execution_count": 2,
   "metadata": {},
   "outputs": [],
   "source": [
    "# Set current worjing directory\n",
    "#setwd()"
   ]
  },
  {
   "cell_type": "code",
   "execution_count": 3,
   "metadata": {},
   "outputs": [
    {
     "name": "stdout",
     "output_type": "stream",
     "text": [
      "[1] \"These data files are derived by splitting up the data set downloaded from:\"\n",
      "[2] \"https://www.ontario.ca/data/ontario-public-schools-enrolment\"              \n",
      "[3] \"under the Open Government License - Ontario:\"                              \n",
      "[4] \"https://www.ontario.ca/page/open-government-licence-ontario\"               \n"
     ]
    }
   ],
   "source": [
    "content <- readLines('Du_lieu/license.txt')\n",
    "print(content)"
   ]
  },
  {
   "cell_type": "code",
   "execution_count": 6,
   "metadata": {},
   "outputs": [
    {
     "name": "stdout",
     "output_type": "stream",
     "text": [
      "[1] \"<U+FEFF>Mùa xuân là T<U+1EBF>t tr<U+1ED3>ng cây\"\n",
      "[2] \"Làm cho d<U+1EA5>t nu<U+1EDB>c càng ngày càng xuân\"\n",
      "[3] \"\"                                    \n"
     ]
    }
   ],
   "source": [
    "content <- readLines('Du_lieu/bai_tho.txt', encoding='UTF-8')\n",
    "print(content)"
   ]
  },
  {
   "cell_type": "code",
   "execution_count": 7,
   "metadata": {},
   "outputs": [
    {
     "data": {
      "text/html": [
       "<style>\n",
       ".list-inline {list-style: none; margin:0; padding: 0}\n",
       ".list-inline>li {display: inline-block}\n",
       ".list-inline>li:not(:last-child)::after {content: \"\\00b7\"; padding: 0 .5ex}\n",
       "</style>\n",
       "<ol class=list-inline><li>'﻿Mùa xuân là Tết trồng cây'</li><li>'Làm cho đất nước càng ngày càng xuân'</li><li>''</li></ol>\n"
      ],
      "text/latex": [
       "\\begin{enumerate*}\n",
       "\\item '﻿Mùa xuân là Tết trồng cây'\n",
       "\\item 'Làm cho đất nước càng ngày càng xuân'\n",
       "\\item ''\n",
       "\\end{enumerate*}\n"
      ],
      "text/markdown": [
       "1. '﻿Mùa xuân là Tết trồng cây'\n",
       "2. 'Làm cho đất nước càng ngày càng xuân'\n",
       "3. ''\n",
       "\n",
       "\n"
      ],
      "text/plain": [
       "[1] \"<U+FEFF>Mùa xuân là T<U+1EBF>t tr<U+1ED3>ng cây\"\n",
       "[2] \"Làm cho d<U+1EA5>t nu<U+1EDB>c càng ngày càng xuân\"\n",
       "[3] \"\"                                    "
      ]
     },
     "metadata": {},
     "output_type": "display_data"
    }
   ],
   "source": [
    "content"
   ]
  },
  {
   "cell_type": "code",
   "execution_count": 8,
   "metadata": {},
   "outputs": [
    {
     "name": "stdout",
     "output_type": "stream",
     "text": [
      "[1] 3\n"
     ]
    }
   ],
   "source": [
    "print(length(content))"
   ]
  },
  {
   "cell_type": "code",
   "execution_count": 9,
   "metadata": {},
   "outputs": [
    {
     "name": "stdout",
     "output_type": "stream",
     "text": [
      "[1] 26 36  0\n"
     ]
    }
   ],
   "source": [
    "print(nchar(content))"
   ]
  },
  {
   "cell_type": "code",
   "execution_count": 12,
   "metadata": {},
   "outputs": [
    {
     "name": "stdout",
     "output_type": "stream",
     "text": [
      "[1] \"242 bytes\"\n"
     ]
    }
   ],
   "source": [
    "print(paste(file.size('Du_lieu/license.txt'),'bytes'))"
   ]
  },
  {
   "cell_type": "code",
   "execution_count": 15,
   "metadata": {},
   "outputs": [
    {
     "name": "stdout",
     "output_type": "stream",
     "text": [
      " [1] \"These\"                                                       \n",
      " [2] \"data\"                                                        \n",
      " [3] \"files\"                                                       \n",
      " [4] \"are\"                                                         \n",
      " [5] \"derived\"                                                     \n",
      " [6] \"by\"                                                          \n",
      " [7] \"splitting\"                                                   \n",
      " [8] \"up\"                                                          \n",
      " [9] \"the\"                                                         \n",
      "[10] \"data\"                                                        \n",
      "[11] \"set\"                                                         \n",
      "[12] \"downloaded\"                                                  \n",
      "[13] \"from:\"                                                       \n",
      "[14] \"https://www.ontario.ca/data/ontario-public-schools-enrolment\"\n",
      "[15] \"under\"                                                       \n",
      "[16] \"the\"                                                         \n",
      "[17] \"Open\"                                                        \n",
      "[18] \"Government\"                                                  \n",
      "[19] \"License\"                                                     \n",
      "[20] \"-\"                                                           \n",
      "[21] \"Ontario:\"                                                    \n",
      "[22] \"https://www.ontario.ca/page/open-government-licence-ontario\" \n"
     ]
    }
   ],
   "source": [
    "content1 <- scan('Du_lieu/license.txt',\"\")\n",
    "print(content1)"
   ]
  },
  {
   "cell_type": "code",
   "execution_count": 16,
   "metadata": {},
   "outputs": [],
   "source": [
    "df <- read.table('Du_lieu/Table0.txt')"
   ]
  },
  {
   "cell_type": "code",
   "execution_count": 17,
   "metadata": {},
   "outputs": [
    {
     "name": "stdout",
     "output_type": "stream",
     "text": [
      "        V1 V2  V3 V4 V5\n",
      "1     Alex 25 177 57  F\n",
      "2    Lilly 31 163 69  F\n",
      "3     Mark 23 190 83  M\n",
      "4   Oliver 52 179 75  M\n",
      "5   Martha 76 163 70  F\n",
      "6    Lucas 49 183 83  M\n",
      "7 Caroline 26 164 53  F\n"
     ]
    }
   ],
   "source": [
    "print(df)"
   ]
  },
  {
   "cell_type": "code",
   "execution_count": 18,
   "metadata": {},
   "outputs": [],
   "source": [
    "col_names <- c('Name','Age','Height','Weight','Gender')"
   ]
  },
  {
   "cell_type": "code",
   "execution_count": 19,
   "metadata": {},
   "outputs": [],
   "source": [
    "names(df) <- col_names"
   ]
  },
  {
   "cell_type": "code",
   "execution_count": 20,
   "metadata": {},
   "outputs": [
    {
     "data": {
      "text/html": [
       "<table>\n",
       "<caption>A data.frame: 7 × 5</caption>\n",
       "<thead>\n",
       "\t<tr><th scope=col>Name</th><th scope=col>Age</th><th scope=col>Height</th><th scope=col>Weight</th><th scope=col>Gender</th></tr>\n",
       "\t<tr><th scope=col>&lt;chr&gt;</th><th scope=col>&lt;int&gt;</th><th scope=col>&lt;int&gt;</th><th scope=col>&lt;int&gt;</th><th scope=col>&lt;chr&gt;</th></tr>\n",
       "</thead>\n",
       "<tbody>\n",
       "\t<tr><td>Alex    </td><td>25</td><td>177</td><td>57</td><td>F</td></tr>\n",
       "\t<tr><td>Lilly   </td><td>31</td><td>163</td><td>69</td><td>F</td></tr>\n",
       "\t<tr><td>Mark    </td><td>23</td><td>190</td><td>83</td><td>M</td></tr>\n",
       "\t<tr><td>Oliver  </td><td>52</td><td>179</td><td>75</td><td>M</td></tr>\n",
       "\t<tr><td>Martha  </td><td>76</td><td>163</td><td>70</td><td>F</td></tr>\n",
       "\t<tr><td>Lucas   </td><td>49</td><td>183</td><td>83</td><td>M</td></tr>\n",
       "\t<tr><td>Caroline</td><td>26</td><td>164</td><td>53</td><td>F</td></tr>\n",
       "</tbody>\n",
       "</table>\n"
      ],
      "text/latex": [
       "A data.frame: 7 × 5\n",
       "\\begin{tabular}{lllll}\n",
       " Name & Age & Height & Weight & Gender\\\\\n",
       " <chr> & <int> & <int> & <int> & <chr>\\\\\n",
       "\\hline\n",
       "\t Alex     & 25 & 177 & 57 & F\\\\\n",
       "\t Lilly    & 31 & 163 & 69 & F\\\\\n",
       "\t Mark     & 23 & 190 & 83 & M\\\\\n",
       "\t Oliver   & 52 & 179 & 75 & M\\\\\n",
       "\t Martha   & 76 & 163 & 70 & F\\\\\n",
       "\t Lucas    & 49 & 183 & 83 & M\\\\\n",
       "\t Caroline & 26 & 164 & 53 & F\\\\\n",
       "\\end{tabular}\n"
      ],
      "text/markdown": [
       "\n",
       "A data.frame: 7 × 5\n",
       "\n",
       "| Name &lt;chr&gt; | Age &lt;int&gt; | Height &lt;int&gt; | Weight &lt;int&gt; | Gender &lt;chr&gt; |\n",
       "|---|---|---|---|---|\n",
       "| Alex     | 25 | 177 | 57 | F |\n",
       "| Lilly    | 31 | 163 | 69 | F |\n",
       "| Mark     | 23 | 190 | 83 | M |\n",
       "| Oliver   | 52 | 179 | 75 | M |\n",
       "| Martha   | 76 | 163 | 70 | F |\n",
       "| Lucas    | 49 | 183 | 83 | M |\n",
       "| Caroline | 26 | 164 | 53 | F |\n",
       "\n"
      ],
      "text/plain": [
       "  Name     Age Height Weight Gender\n",
       "1 Alex     25  177    57     F     \n",
       "2 Lilly    31  163    69     F     \n",
       "3 Mark     23  190    83     M     \n",
       "4 Oliver   52  179    75     M     \n",
       "5 Martha   76  163    70     F     \n",
       "6 Lucas    49  183    83     M     \n",
       "7 Caroline 26  164    53     F     "
      ]
     },
     "metadata": {},
     "output_type": "display_data"
    }
   ],
   "source": [
    "df"
   ]
  },
  {
   "cell_type": "markdown",
   "metadata": {},
   "source": [
    "# Write"
   ]
  },
  {
   "cell_type": "code",
   "execution_count": 21,
   "metadata": {},
   "outputs": [],
   "source": [
    "content2 <- 'Hello and welcome'"
   ]
  },
  {
   "cell_type": "code",
   "execution_count": 22,
   "metadata": {},
   "outputs": [],
   "source": [
    "file_name <- file(description='text.txt','a',encoding='UTF-8')"
   ]
  },
  {
   "cell_type": "code",
   "execution_count": 23,
   "metadata": {},
   "outputs": [],
   "source": [
    "write(content2,file=file_name)"
   ]
  },
  {
   "cell_type": "code",
   "execution_count": 24,
   "metadata": {},
   "outputs": [],
   "source": [
    "write.table(df, file='Table_new.txt',sep='\\t')"
   ]
  },
  {
   "cell_type": "markdown",
   "metadata": {},
   "source": [
    "# csv"
   ]
  },
  {
   "cell_type": "code",
   "execution_count": 25,
   "metadata": {},
   "outputs": [],
   "source": [
    "data <- read.csv('Du_lieu/emp.csv')"
   ]
  },
  {
   "cell_type": "code",
   "execution_count": 26,
   "metadata": {},
   "outputs": [
    {
     "name": "stdout",
     "output_type": "stream",
     "text": [
      "  id     name salary start_date       dept\n",
      "1  1     Rick 623.30 2012-01-01         IT\n",
      "2  2      Dan 515.20 2013-09-23 Operations\n",
      "3  3 Michelle 611.00 2014-11-15         IT\n",
      "4  4     Ryan 729.00 2014-05-11         HR\n",
      "5 NA     Gary 843.25 2015-03-27    Finance\n",
      "6  6     Nina 578.00 2013-05-21         IT\n",
      "7  7    Simon 632.80 2013-07-30 Operations\n",
      "8  8     Guru 722.50 2014-06-17    Finance\n"
     ]
    }
   ],
   "source": [
    "print(data)"
   ]
  },
  {
   "cell_type": "code",
   "execution_count": 27,
   "metadata": {},
   "outputs": [
    {
     "name": "stdout",
     "output_type": "stream",
     "text": [
      "[1] TRUE\n"
     ]
    }
   ],
   "source": [
    "print(is.data.frame(data))"
   ]
  },
  {
   "cell_type": "code",
   "execution_count": 28,
   "metadata": {},
   "outputs": [
    {
     "name": "stdout",
     "output_type": "stream",
     "text": [
      "[1] 5\n"
     ]
    }
   ],
   "source": [
    "print(ncol(data))"
   ]
  },
  {
   "cell_type": "code",
   "execution_count": 30,
   "metadata": {},
   "outputs": [
    {
     "name": "stdout",
     "output_type": "stream",
     "text": [
      "[1] 8\n"
     ]
    }
   ],
   "source": [
    "print(nrow(data))"
   ]
  },
  {
   "cell_type": "code",
   "execution_count": 31,
   "metadata": {},
   "outputs": [
    {
     "name": "stdout",
     "output_type": "stream",
     "text": [
      "[1] \"Max salary:  843.25\"\n"
     ]
    }
   ],
   "source": [
    "print(paste('Max salary: ', max(data$salary)))"
   ]
  },
  {
   "cell_type": "code",
   "execution_count": 32,
   "metadata": {},
   "outputs": [
    {
     "name": "stdout",
     "output_type": "stream",
     "text": [
      "  id name salary start_date    dept\n",
      "5 NA Gary 843.25 2015-03-27 Finance\n"
     ]
    }
   ],
   "source": [
    "print(subset(data, salary==max(data$salary)))"
   ]
  },
  {
   "cell_type": "code",
   "execution_count": 35,
   "metadata": {},
   "outputs": [
    {
     "data": {
      "text/html": [
       "<table>\n",
       "<caption>A data.frame: 1 × 5</caption>\n",
       "<thead>\n",
       "\t<tr><th></th><th scope=col>id</th><th scope=col>name</th><th scope=col>salary</th><th scope=col>start_date</th><th scope=col>dept</th></tr>\n",
       "\t<tr><th></th><th scope=col>&lt;int&gt;</th><th scope=col>&lt;chr&gt;</th><th scope=col>&lt;dbl&gt;</th><th scope=col>&lt;chr&gt;</th><th scope=col>&lt;chr&gt;</th></tr>\n",
       "</thead>\n",
       "<tbody>\n",
       "\t<tr><th scope=row>5</th><td>NA</td><td>Gary</td><td>843.25</td><td>2015-03-27</td><td>Finance</td></tr>\n",
       "</tbody>\n",
       "</table>\n"
      ],
      "text/latex": [
       "A data.frame: 1 × 5\n",
       "\\begin{tabular}{r|lllll}\n",
       "  & id & name & salary & start\\_date & dept\\\\\n",
       "  & <int> & <chr> & <dbl> & <chr> & <chr>\\\\\n",
       "\\hline\n",
       "\t5 & NA & Gary & 843.25 & 2015-03-27 & Finance\\\\\n",
       "\\end{tabular}\n"
      ],
      "text/markdown": [
       "\n",
       "A data.frame: 1 × 5\n",
       "\n",
       "| <!--/--> | id &lt;int&gt; | name &lt;chr&gt; | salary &lt;dbl&gt; | start_date &lt;chr&gt; | dept &lt;chr&gt; |\n",
       "|---|---|---|---|---|---|\n",
       "| 5 | NA | Gary | 843.25 | 2015-03-27 | Finance |\n",
       "\n"
      ],
      "text/plain": [
       "  id name salary start_date dept   \n",
       "5 NA Gary 843.25 2015-03-27 Finance"
      ]
     },
     "metadata": {},
     "output_type": "display_data"
    }
   ],
   "source": [
    "data[data['salary']==max(data$salary),]"
   ]
  },
  {
   "cell_type": "code",
   "execution_count": 34,
   "metadata": {},
   "outputs": [
    {
     "name": "stderr",
     "output_type": "stream",
     "text": [
      "-- \u001b[1mAttaching packages\u001b[22m --------------------------------------- tidyverse 1.3.0 --\n",
      "\n",
      "\u001b[32mv\u001b[39m \u001b[34mggplot2\u001b[39m 3.3.2     \u001b[32mv\u001b[39m \u001b[34mpurrr  \u001b[39m 0.3.4\n",
      "\u001b[32mv\u001b[39m \u001b[34mtibble \u001b[39m 3.0.3     \u001b[32mv\u001b[39m \u001b[34mdplyr  \u001b[39m 1.0.2\n",
      "\u001b[32mv\u001b[39m \u001b[34mtidyr  \u001b[39m 1.1.1     \u001b[32mv\u001b[39m \u001b[34mstringr\u001b[39m 1.4.0\n",
      "\u001b[32mv\u001b[39m \u001b[34mreadr  \u001b[39m 1.3.1     \u001b[32mv\u001b[39m \u001b[34mforcats\u001b[39m 0.5.0\n",
      "\n",
      "-- \u001b[1mConflicts\u001b[22m ------------------------------------------ tidyverse_conflicts() --\n",
      "\u001b[31mx\u001b[39m \u001b[34mdplyr\u001b[39m::\u001b[32mfilter()\u001b[39m masks \u001b[34mstats\u001b[39m::filter()\n",
      "\u001b[31mx\u001b[39m \u001b[34mdplyr\u001b[39m::\u001b[32mlag()\u001b[39m    masks \u001b[34mstats\u001b[39m::lag()\n",
      "\n"
     ]
    }
   ],
   "source": [
    "library('tidyverse')"
   ]
  },
  {
   "cell_type": "code",
   "execution_count": 40,
   "metadata": {},
   "outputs": [
    {
     "data": {
      "text/html": [
       "<table>\n",
       "<caption>A data.frame: 1 × 5</caption>\n",
       "<thead>\n",
       "\t<tr><th scope=col>id</th><th scope=col>name</th><th scope=col>salary</th><th scope=col>start_date</th><th scope=col>dept</th></tr>\n",
       "\t<tr><th scope=col>&lt;int&gt;</th><th scope=col>&lt;chr&gt;</th><th scope=col>&lt;dbl&gt;</th><th scope=col>&lt;chr&gt;</th><th scope=col>&lt;chr&gt;</th></tr>\n",
       "</thead>\n",
       "<tbody>\n",
       "\t<tr><td>NA</td><td>Gary</td><td>843.25</td><td>2015-03-27</td><td>Finance</td></tr>\n",
       "</tbody>\n",
       "</table>\n"
      ],
      "text/latex": [
       "A data.frame: 1 × 5\n",
       "\\begin{tabular}{lllll}\n",
       " id & name & salary & start\\_date & dept\\\\\n",
       " <int> & <chr> & <dbl> & <chr> & <chr>\\\\\n",
       "\\hline\n",
       "\t NA & Gary & 843.25 & 2015-03-27 & Finance\\\\\n",
       "\\end{tabular}\n"
      ],
      "text/markdown": [
       "\n",
       "A data.frame: 1 × 5\n",
       "\n",
       "| id &lt;int&gt; | name &lt;chr&gt; | salary &lt;dbl&gt; | start_date &lt;chr&gt; | dept &lt;chr&gt; |\n",
       "|---|---|---|---|---|\n",
       "| NA | Gary | 843.25 | 2015-03-27 | Finance |\n",
       "\n"
      ],
      "text/plain": [
       "  id name salary start_date dept   \n",
       "1 NA Gary 843.25 2015-03-27 Finance"
      ]
     },
     "metadata": {},
     "output_type": "display_data"
    }
   ],
   "source": [
    "filter(data, salary==max(data$salary))"
   ]
  },
  {
   "cell_type": "code",
   "execution_count": 41,
   "metadata": {},
   "outputs": [],
   "source": [
    "retval <- subset(data, dept=='IT')"
   ]
  },
  {
   "cell_type": "code",
   "execution_count": 42,
   "metadata": {},
   "outputs": [
    {
     "name": "stdout",
     "output_type": "stream",
     "text": [
      "  id     name salary start_date dept\n",
      "1  1     Rick  623.3 2012-01-01   IT\n",
      "3  3 Michelle  611.0 2014-11-15   IT\n",
      "6  6     Nina  578.0 2013-05-21   IT\n"
     ]
    }
   ],
   "source": [
    "print(retval)"
   ]
  },
  {
   "cell_type": "code",
   "execution_count": 43,
   "metadata": {},
   "outputs": [],
   "source": [
    "info <- subset(data,salary>600 & dept=='IT')"
   ]
  },
  {
   "cell_type": "code",
   "execution_count": 44,
   "metadata": {},
   "outputs": [
    {
     "name": "stdout",
     "output_type": "stream",
     "text": [
      "  id     name salary start_date dept\n",
      "1  1     Rick  623.3 2012-01-01   IT\n",
      "3  3 Michelle  611.0 2014-11-15   IT\n"
     ]
    }
   ],
   "source": [
    "print(info)"
   ]
  },
  {
   "cell_type": "code",
   "execution_count": 45,
   "metadata": {},
   "outputs": [],
   "source": [
    "retval <- subset(data, as.Date(start_date) > as.Date(\"2014-01-01\"))"
   ]
  },
  {
   "cell_type": "code",
   "execution_count": 46,
   "metadata": {},
   "outputs": [
    {
     "name": "stdout",
     "output_type": "stream",
     "text": [
      "  id     name salary start_date    dept\n",
      "3  3 Michelle 611.00 2014-11-15      IT\n",
      "4  4     Ryan 729.00 2014-05-11      HR\n",
      "5 NA     Gary 843.25 2015-03-27 Finance\n",
      "8  8     Guru 722.50 2014-06-17 Finance\n"
     ]
    }
   ],
   "source": [
    "print(retval)"
   ]
  },
  {
   "cell_type": "code",
   "execution_count": 47,
   "metadata": {},
   "outputs": [],
   "source": [
    "it_empt <- subset(data, dept=='IT')"
   ]
  },
  {
   "cell_type": "code",
   "execution_count": 48,
   "metadata": {},
   "outputs": [],
   "source": [
    "write.csv(it_empt,'it_empt.csv',row.names=FALSE)"
   ]
  },
  {
   "cell_type": "code",
   "execution_count": 49,
   "metadata": {},
   "outputs": [
    {
     "name": "stdout",
     "output_type": "stream",
     "text": [
      "  id     name salary start_date dept\n",
      "1  1     Rick  623.3 2012-01-01   IT\n",
      "2  3 Michelle  611.0 2014-11-15   IT\n",
      "3  6     Nina  578.0 2013-05-21   IT\n"
     ]
    }
   ],
   "source": [
    "new_data <- read.csv('it_empt.csv')\n",
    "print(new_data)"
   ]
  },
  {
   "cell_type": "markdown",
   "metadata": {},
   "source": [
    "# Excel"
   ]
  },
  {
   "cell_type": "code",
   "execution_count": 50,
   "metadata": {},
   "outputs": [],
   "source": [
    "library('xlsx')"
   ]
  },
  {
   "cell_type": "code",
   "execution_count": 51,
   "metadata": {},
   "outputs": [],
   "source": [
    "data <- read.xlsx('Du_lieu/emp_data.xlsx', sheetIndex=1)"
   ]
  },
  {
   "cell_type": "code",
   "execution_count": 52,
   "metadata": {},
   "outputs": [
    {
     "name": "stdout",
     "output_type": "stream",
     "text": [
      "  id     name salary start_date       dept\n",
      "1  1     Rick 623.30 2012-01-01         IT\n",
      "2  2      Dan 515.20 2013-09-23 Operations\n",
      "3  3 Michelle 611.00 2014-11-15         IT\n",
      "4  4     Ryan 729.00 2014-05-11         HR\n",
      "5        Gary 843.25 2015-03-27    Finance\n",
      "6  6     Nina 578.00 2013-05-21         IT\n",
      "7  7    Simon 632.80 2013-07-30 Operations\n",
      "8  8     Guru 722.50 2014-06-17    Finance\n"
     ]
    }
   ],
   "source": [
    "print(data)"
   ]
  },
  {
   "cell_type": "code",
   "execution_count": 53,
   "metadata": {},
   "outputs": [
    {
     "name": "stdout",
     "output_type": "stream",
     "text": [
      "      name    city\n",
      "1     Rick Seattle\n",
      "2      Dan   Tampa\n",
      "3 Michelle Chicago\n",
      "4     Ryan Seattle\n",
      "5     Gary Houston\n",
      "6     Nina  Boston\n",
      "7    Simon  Mumbai\n",
      "8     Guru  Dallas\n"
     ]
    }
   ],
   "source": [
    "data <- read.xlsx('Du_lieu/emp_data.xlsx', sheetName='city')\n",
    "print(data)"
   ]
  },
  {
   "cell_type": "code",
   "execution_count": 58,
   "metadata": {},
   "outputs": [],
   "source": [
    "write.xlsx(retval,file='emp_data.xlsx', sheetName='Sheet1', append=FALSE)"
   ]
  },
  {
   "cell_type": "code",
   "execution_count": 59,
   "metadata": {},
   "outputs": [],
   "source": [
    "newdata <- read.xlsx('emp_data.xlsx', sheetName='Sheet1')"
   ]
  },
  {
   "cell_type": "code",
   "execution_count": 60,
   "metadata": {},
   "outputs": [
    {
     "name": "stdout",
     "output_type": "stream",
     "text": [
      "  NA. id     name salary start_date    dept\n",
      "1   3  3 Michelle 611.00 2014-11-15      IT\n",
      "2   4  4     Ryan 729.00 2014-05-11      HR\n",
      "3   5 NA     Gary 843.25 2015-03-27 Finance\n",
      "4   8  8     Guru 722.50 2014-06-17 Finance\n"
     ]
    }
   ],
   "source": [
    "print(newdata)"
   ]
  },
  {
   "cell_type": "code",
   "execution_count": null,
   "metadata": {},
   "outputs": [],
   "source": []
  },
  {
   "cell_type": "code",
   "execution_count": null,
   "metadata": {},
   "outputs": [],
   "source": []
  }
 ],
 "metadata": {
  "kernelspec": {
   "display_name": "R",
   "language": "R",
   "name": "ir"
  },
  "language_info": {
   "codemirror_mode": "r",
   "file_extension": ".r",
   "mimetype": "text/x-r-source",
   "name": "R",
   "pygments_lexer": "r",
   "version": "3.6.0"
  }
 },
 "nbformat": 4,
 "nbformat_minor": 4
}

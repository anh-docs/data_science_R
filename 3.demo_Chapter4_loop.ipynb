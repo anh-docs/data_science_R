{
 "cells": [
  {
   "cell_type": "code",
   "execution_count": 1,
   "metadata": {},
   "outputs": [
    {
     "name": "stdout",
     "output_type": "stream",
     "text": [
      "[1] \"Time:  1\"\n",
      "[1] \"Time:  2\"\n",
      "[1] \"Time:  3\"\n",
      "[1] \"Time:  4\"\n",
      "[1] \"Time:  5\"\n"
     ]
    }
   ],
   "source": [
    "start <- 1\n",
    "repeat \n",
    "{\n",
    "    print(paste('Time: ', start))\n",
    "    start <- start + 1\n",
    "    if (start > 5)\n",
    "        break\n",
    "}"
   ]
  },
  {
   "cell_type": "code",
   "execution_count": 2,
   "metadata": {},
   "outputs": [
    {
     "name": "stdout",
     "output_type": "stream",
     "text": [
      "[1] 1\n",
      "[1] 2\n",
      "[1] 3\n",
      "[1] 4\n",
      "[1] 5\n",
      "[1] 6\n",
      "[1] 7\n",
      "[1] 8\n",
      "[1] 9\n",
      "[1] 10\n"
     ]
    }
   ],
   "source": [
    "x <- 1 \n",
    "repeat\n",
    "{\n",
    "    print(x)\n",
    "    x <- x + 1\n",
    "    if(x>10) \n",
    "        break\n",
    "}"
   ]
  },
  {
   "cell_type": "code",
   "execution_count": 3,
   "metadata": {},
   "outputs": [
    {
     "name": "stdout",
     "output_type": "stream",
     "text": [
      "Input mark: 4\n"
     ]
    },
    {
     "name": "stderr",
     "output_type": "stream",
     "text": [
      "Weak\n",
      "\n"
     ]
    },
    {
     "name": "stdout",
     "output_type": "stream",
     "text": [
      "To stop press 0, to continue press other key: 0\\\n",
      "Input mark: 2\n"
     ]
    },
    {
     "name": "stderr",
     "output_type": "stream",
     "text": [
      "Weak\n",
      "\n"
     ]
    },
    {
     "name": "stdout",
     "output_type": "stream",
     "text": [
      "To stop press 0, to continue press other key: 0\n"
     ]
    }
   ],
   "source": [
    "repeat\n",
    "{\n",
    "    mark <- readline(prompt=\"Input mark: \")\n",
    "    mark <- as.numeric(mark)\n",
    "    if (mark<5)\n",
    "    {\n",
    "        message(\"Weak\")\n",
    "    } else if (mark <7) {\n",
    "        message(\"Average\")\n",
    "    } else if (mark <8) {\n",
    "        message(\"Good\")\n",
    "    } else if (mark <= 10) {\n",
    "        message(\"Excellent\")\n",
    "    } else {\n",
    "        message(\"Input Error\")\n",
    "    }\n",
    "    con <- readline('To stop press 0, to continue press other key: ')\n",
    "    if (con == 0)\n",
    "        break\n",
    "}"
   ]
  },
  {
   "cell_type": "code",
   "execution_count": 4,
   "metadata": {},
   "outputs": [
    {
     "name": "stdout",
     "output_type": "stream",
     "text": [
      "[1] \"Time:  1\"\n",
      "[1] \"Time:  2\"\n",
      "[1] \"Time:  3\"\n",
      "[1] \"Time:  4\"\n",
      "[1] \"Time:  5\"\n"
     ]
    }
   ],
   "source": [
    "start <-1 \n",
    "while(start <6)\n",
    "{\n",
    "    print(paste('Time: ',start))\n",
    "    start <- start + 1\n",
    "}"
   ]
  },
  {
   "cell_type": "code",
   "execution_count": 5,
   "metadata": {},
   "outputs": [
    {
     "name": "stdout",
     "output_type": "stream",
     "text": [
      "Continue or not? 1:Continue, <>1:Stop 1\n",
      "Continue or not? 1:Continue, <>1:Stop 3\n",
      "[1] \"Hello\"\n",
      "[1] \"Hello\"\n"
     ]
    }
   ],
   "source": [
    "i = 1\n",
    "while(i==1)\n",
    "{\n",
    "    print('Hello')\n",
    "    i <- readline(prompt='Continue or not? 1:Continue, <>1:Stop ')\n",
    "    i <- as.numeric(i)\n",
    "    \n",
    "}"
   ]
  },
  {
   "cell_type": "code",
   "execution_count": 1,
   "metadata": {},
   "outputs": [],
   "source": [
    "# i <- 0\n",
    "# while (i!=1)\n",
    "# {\n",
    "#     mark <- readline(prompt=\"Input mark: \")\n",
    "#     mark <- as.numeric(mark)\n",
    "#     if (mark<5)\n",
    "#     {\n",
    "#         message(\"Weak\")\n",
    "#     } else if (mark <7) {\n",
    "#         message(\"Average\")\n",
    "#     } else if (mark <8) {\n",
    "#         message(\"Good\")\n",
    "#     } else if (mark <= 10) {\n",
    "#         message(\"Excellent\")\n",
    "#     } else {\n",
    "#         message(\"Input Error\")\n",
    "#     }\n",
    "#     con <- as.numeric(readline('To stop press 0, to continue press other key: '))\n",
    "#     if (con != 0)\n",
    "#         i == 1\n",
    "#     else {i==1}\n",
    "# }"
   ]
  },
  {
   "cell_type": "code",
   "execution_count": null,
   "metadata": {},
   "outputs": [],
   "source": [
    "v <- LETTERS[1:10]\n",
    "for (c in v) {\n",
    "    print(c)\n",
    "}"
   ]
  },
  {
   "cell_type": "code",
   "execution_count": null,
   "metadata": {},
   "outputs": [],
   "source": [
    "colors <- c('red','green','yellow','blue','black','white')\n",
    "for (color in colors)\n",
    "{\n",
    "    print(color)\n",
    "}"
   ]
  },
  {
   "cell_type": "code",
   "execution_count": null,
   "metadata": {},
   "outputs": [],
   "source": [
    "v <- LETTERS[1:10]\n",
    "str <- ' '\n",
    "for (c in v) {\n",
    "    str = paste(str,c,sep=\" \")\n",
    "}\n",
    "print(str)"
   ]
  },
  {
   "cell_type": "code",
   "execution_count": null,
   "metadata": {},
   "outputs": [],
   "source": [
    "v <- LETTERS[1:10]\n",
    "for (c in v) {\n",
    "    cat(c,\" \")\n",
    "}"
   ]
  },
  {
   "cell_type": "code",
   "execution_count": null,
   "metadata": {},
   "outputs": [],
   "source": [
    "a = 'a'\n",
    "b = 'b'\n",
    "cat(a,b)"
   ]
  },
  {
   "cell_type": "code",
   "execution_count": null,
   "metadata": {},
   "outputs": [],
   "source": [
    "v <- LETTERS[1:26]\n",
    "for (i in v)\n",
    "{\n",
    "    if (!(i %in% c('B','M','P','S')))\n",
    "        print(i)\n",
    "}"
   ]
  },
  {
   "cell_type": "code",
   "execution_count": null,
   "metadata": {},
   "outputs": [],
   "source": [
    "v <- LETTERS[1:26]\n",
    "for (i in v)\n",
    "{\n",
    "    if (i %in% c('B','M','P','S'))\n",
    "        {next}\n",
    "    print(i)\n",
    "}"
   ]
  },
  {
   "cell_type": "code",
   "execution_count": 26,
   "metadata": {},
   "outputs": [
    {
     "name": "stdout",
     "output_type": "stream",
     "text": [
      "Input a number: 4\n"
     ]
    },
    {
     "data": {
      "text/html": [
       "3"
      ],
      "text/latex": [
       "3"
      ],
      "text/markdown": [
       "3"
      ],
      "text/plain": [
       "[1] 3"
      ]
     },
     "metadata": {},
     "output_type": "display_data"
    }
   ],
   "source": [
    "num <- as.integer(readline('Input a number: '))\n",
    "random_number <- round(runif(1,1,num),0)\n",
    "random_number"
   ]
  },
  {
   "cell_type": "code",
   "execution_count": 17,
   "metadata": {},
   "outputs": [
    {
     "name": "stdout",
     "output_type": "stream",
     "text": [
      "[1] 9\n",
      "Input a number: 4\n"
     ]
    },
    {
     "name": "stderr",
     "output_type": "stream",
     "text": [
      "Your number < Our number\n",
      "\n"
     ]
    },
    {
     "name": "stdout",
     "output_type": "stream",
     "text": [
      "Input a number: 5\n"
     ]
    },
    {
     "name": "stderr",
     "output_type": "stream",
     "text": [
      "Your number < Our number\n",
      "\n"
     ]
    },
    {
     "name": "stdout",
     "output_type": "stream",
     "text": [
      "Input a number: 9\n"
     ]
    },
    {
     "name": "stderr",
     "output_type": "stream",
     "text": [
      "Your number = Our number\n",
      "\n",
      "You win !!!\n",
      "\n"
     ]
    }
   ],
   "source": [
    "n = 1\n",
    "while (n<=3)\n",
    "{\n",
    "    random_number <- round(runif(1,1,10),0)\n",
    "    num <- as.integer(readline('Input a number: '))\n",
    "    if (num >random_number){\n",
    "        message('Your number > Our number')\n",
    "    } else if (num < random_number) { message('Your number < Our number')\n",
    "    } else {\n",
    "        message('You win !!!') \n",
    "        break\n",
    "    }\n",
    "    \n",
    "    n = n + 1\n",
    "    if (n==4)\n",
    "        print('You lose !!')\n",
    "}"
   ]
  },
  {
   "cell_type": "code",
   "execution_count": null,
   "metadata": {},
   "outputs": [],
   "source": []
  }
 ],
 "metadata": {
  "kernelspec": {
   "display_name": "R",
   "language": "R",
   "name": "ir"
  },
  "language_info": {
   "codemirror_mode": "r",
   "file_extension": ".r",
   "mimetype": "text/x-r-source",
   "name": "R",
   "pygments_lexer": "r",
   "version": "3.6.0"
  }
 },
 "nbformat": 4,
 "nbformat_minor": 4
}

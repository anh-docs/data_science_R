{
 "cells": [
  {
   "cell_type": "code",
   "execution_count": 1,
   "metadata": {},
   "outputs": [],
   "source": [
    "mark = 7"
   ]
  },
  {
   "cell_type": "code",
   "execution_count": 2,
   "metadata": {},
   "outputs": [
    {
     "name": "stdout",
     "output_type": "stream",
     "text": [
      "[1] \"Pass\"\n"
     ]
    }
   ],
   "source": [
    "if (mark>=5){\n",
    "    print('Pass')\n",
    "} else {\n",
    "    print('Fail')\n",
    "}"
   ]
  },
  {
   "cell_type": "code",
   "execution_count": 3,
   "metadata": {},
   "outputs": [
    {
     "data": {
      "text/html": [
       "'Pass'"
      ],
      "text/latex": [
       "'Pass'"
      ],
      "text/markdown": [
       "'Pass'"
      ],
      "text/plain": [
       "[1] \"Pass\""
      ]
     },
     "metadata": {},
     "output_type": "display_data"
    }
   ],
   "source": [
    "result <- ifelse(mark>=5,'Pass','Fail')\n",
    "result"
   ]
  },
  {
   "cell_type": "code",
   "execution_count": 4,
   "metadata": {},
   "outputs": [],
   "source": [
    "rank <- ''\n",
    "if (mark<5){\n",
    "    rank <- 'Weak'\n",
    "} else if (mark<7) {\n",
    "    rank <- 'Average'\n",
    "} else if (mark<8) {\n",
    "    rank <- 'Good'\n",
    "} else {\n",
    "    rank <- 'Very Good'\n",
    "}"
   ]
  },
  {
   "cell_type": "code",
   "execution_count": 5,
   "metadata": {},
   "outputs": [
    {
     "data": {
      "text/html": [
       "'Good'"
      ],
      "text/latex": [
       "'Good'"
      ],
      "text/markdown": [
       "'Good'"
      ],
      "text/plain": [
       "[1] \"Good\""
      ]
     },
     "metadata": {},
     "output_type": "display_data"
    }
   ],
   "source": [
    "rank"
   ]
  },
  {
   "cell_type": "code",
   "execution_count": 6,
   "metadata": {},
   "outputs": [],
   "source": [
    "rank_simple <- ifelse(mark<5,'Weak', ifelse(mark<7,'Average',ifelse(mark<8,'Good','Very Good')))"
   ]
  },
  {
   "cell_type": "code",
   "execution_count": 7,
   "metadata": {},
   "outputs": [
    {
     "data": {
      "text/html": [
       "'Good'"
      ],
      "text/latex": [
       "'Good'"
      ],
      "text/markdown": [
       "'Good'"
      ],
      "text/plain": [
       "[1] \"Good\""
      ]
     },
     "metadata": {},
     "output_type": "display_data"
    }
   ],
   "source": [
    "rank_simple"
   ]
  },
  {
   "cell_type": "code",
   "execution_count": 8,
   "metadata": {},
   "outputs": [],
   "source": [
    "# state_rank <- "
   ]
  }
 ],
 "metadata": {
  "kernelspec": {
   "display_name": "R",
   "language": "R",
   "name": "ir"
  },
  "language_info": {
   "codemirror_mode": "r",
   "file_extension": ".r",
   "mimetype": "text/x-r-source",
   "name": "R",
   "pygments_lexer": "r",
   "version": "3.6.0"
  }
 },
 "nbformat": 4,
 "nbformat_minor": 4
}

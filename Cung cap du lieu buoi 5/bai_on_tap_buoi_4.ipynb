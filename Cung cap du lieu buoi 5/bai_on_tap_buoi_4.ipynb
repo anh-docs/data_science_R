{
 "cells": [
  {
   "cell_type": "markdown",
   "metadata": {
    "id": "R5ssH0UwNmqZ"
   },
   "source": [
    "# Part 1: List"
   ]
  },
  {
   "cell_type": "code",
   "execution_count": 1,
   "metadata": {
    "id": "plcGa4ZQNutQ"
   },
   "outputs": [
    {
     "name": "stdout",
     "output_type": "stream",
     "text": [
      "$title\n",
      "[1] \"The Shining\"\n",
      "\n",
      "$actors\n",
      "[1] \"Jack Nicholson\"   \"Shelley Duvall\"   \"Danny Lloyd\"      \"Scatman Crothers\"\n",
      "[5] \"Barry Nelson\"    \n",
      "\n",
      "$reviews\n",
      "[1] Good    OK      Good    Perfect Bad     Perfect Good   \n",
      "Levels: Bad < OK < Good < Perfect\n",
      "\n",
      "$release_year\n",
      "[1] 1980\n",
      "\n",
      "$director\n",
      "[1] \"Stanley Kubrick\"\n",
      "\n",
      "List of 5\n",
      " $ title       : chr \"The Shining\"\n",
      " $ actors      : chr [1:5] \"Jack Nicholson\" \"Shelley Duvall\" \"Danny Lloyd\" \"Scatman Crothers\" ...\n",
      " $ reviews     : Ord.factor w/ 4 levels \"Bad\"<\"OK\"<\"Good\"<..: 3 2 3 4 1 4 3\n",
      " $ release_year: num 1980\n",
      " $ director    : chr \"Stanley Kubrick\"\n"
     ]
    }
   ],
   "source": [
    "# Create title, actors, reviews\n",
    "title = \"The Shining\"\n",
    "actors_vector <- c(\"Jack Nicholson\",\"Shelley Duvall\",\"Danny Lloyd\",\"Scatman Crothers\",\"Barry Nelson\")\n",
    "reviews_factor <- factor(c(\"Good\", \"OK\", \"Good\", \"Perfect\", \"Bad\", \"Perfect\", \"Good\"), \n",
    "                  ordered = TRUE, levels = c(\"Bad\", \"OK\", \"Good\", \"Perfect\"))\n",
    "\n",
    "# Create the list 'shining_list' from 3 vectors above\n",
    "shining_list <- list('title'=title,'actors'=actors_vector, 'reviews'=reviews_factor)\n",
    "# Select the last actor from list: last_actor\n",
    "last_actor <- shining_list$actors[length(shining_list$actors)]\n",
    "# Select the second review from list: second_review\n",
    "second_review <- shining_list$reviews[2]\n",
    "# Add the element 'release_year' = 1980 to shining_list\n",
    "shining_list$release_year = 1980\n",
    "# Add the element 'director' = \"Stanley Kubrick\" to shining_list\n",
    "shining_list$director = \"Stanley Kubrick\"\n",
    "# Print list shining_list\n",
    "print(shining_list)\n",
    "# Print the structure of shining_list\n",
    "str(shining_list)"
   ]
  },
  {
   "cell_type": "markdown",
   "metadata": {
    "id": "Or0tyUynXoAP"
   },
   "source": [
    "# Part 2: Hãy thực hiện những yêu cầu sau với R-core dataframe và/ hoặc Tidyverse\n",
    "1. Cho dữ liệu mtcars cho sẵn trong R datasets. Đọc dữ liệu. Hiển thị thông tin một số dòng đầu của dữ liệu. In thông tin thống kê chung.\n",
    "2. Tạo sub_data chỉ có các thông tin mpg, hp, wt, gear\n",
    "3. Tạp cột mới km_per_litre trong sub_data theo công thức: 1 mpg = 0.425 km/l\n",
    "4. Tạo sub_data_unique lấy từ mtcars nhưng loại bỏ các dòng trùng (dùng distinct()\n",
    "5. In sub_data_unique với giá trị được sắp xếp giảm dần theo mpg, tăng dần theo hp\n",
    "6. Lọc các xe mà trong tên xe có 'Mazda' trong sub_data_unique. Có bao nhiêu xe thỏa điều kiện này?\n",
    "7. Trong sub_data_unique, cho biết giá trị mpg lớn nhất? Có những dòng dữ liệu nào có mpg = mpg lớn nhất, in kết quả.\n",
    "8. Lọc các dữ liệu thỏa các điểu kiện sau: mpg >= 25 và cyl=4 và gear=4\n",
    "9. Thực hiện việc thống kê theo cyl, từ đó cho biết số lượng từng nhóm, cyl, hp lớn nhất, mpg nhỏ nhất\n",
    "10. Trong sub_data, cho biết xe nào có km_per_litre lớn nhất, nhỏ nhất?\n",
    "\n",
    "#### Note: dùng df = cbind(names = rownames(df), df) hoặc rownames_to_column(df, var = \"names\"): chuyển cột index thành cột \"names\""
   ]
  },
  {
   "cell_type": "code",
   "execution_count": 2,
   "metadata": {
    "colab": {
     "base_uri": "https://localhost:8080/",
     "height": 68
    },
    "id": "LdiAUAPyDOJ-",
    "outputId": "94bf034b-0e75-4890-b227-ea0a5168bc23"
   },
   "outputs": [],
   "source": [
    "# install.packages(\"tidyverse\")"
   ]
  },
  {
   "cell_type": "code",
   "execution_count": 3,
   "metadata": {
    "id": "HrdDTQuZAQgY"
   },
   "outputs": [
    {
     "name": "stderr",
     "output_type": "stream",
     "text": [
      "-- \u001b[1mAttaching packages\u001b[22m --------------------------------------- tidyverse 1.3.0 --\n",
      "\n",
      "\u001b[32mv\u001b[39m \u001b[34mggplot2\u001b[39m 3.3.2     \u001b[32mv\u001b[39m \u001b[34mpurrr  \u001b[39m 0.3.4\n",
      "\u001b[32mv\u001b[39m \u001b[34mtibble \u001b[39m 3.0.3     \u001b[32mv\u001b[39m \u001b[34mdplyr  \u001b[39m 1.0.2\n",
      "\u001b[32mv\u001b[39m \u001b[34mtidyr  \u001b[39m 1.1.1     \u001b[32mv\u001b[39m \u001b[34mstringr\u001b[39m 1.4.0\n",
      "\u001b[32mv\u001b[39m \u001b[34mreadr  \u001b[39m 1.3.1     \u001b[32mv\u001b[39m \u001b[34mforcats\u001b[39m 0.5.0\n",
      "\n",
      "-- \u001b[1mConflicts\u001b[22m ------------------------------------------ tidyverse_conflicts() --\n",
      "\u001b[31mx\u001b[39m \u001b[34mdplyr\u001b[39m::\u001b[32mfilter()\u001b[39m masks \u001b[34mstats\u001b[39m::filter()\n",
      "\u001b[31mx\u001b[39m \u001b[34mdplyr\u001b[39m::\u001b[32mlag()\u001b[39m    masks \u001b[34mstats\u001b[39m::lag()\n",
      "\n"
     ]
    }
   ],
   "source": [
    "library(tidyverse)"
   ]
  },
  {
   "cell_type": "code",
   "execution_count": 4,
   "metadata": {
    "colab": {
     "base_uri": "https://localhost:8080/",
     "height": 204
    },
    "id": "XXOFIkH0XimF",
    "outputId": "45c62973-b0bd-4f73-ade3-937022acd028"
   },
   "outputs": [
    {
     "data": {
      "text/html": [
       "<table>\n",
       "<caption>A data.frame: 6 × 11</caption>\n",
       "<thead>\n",
       "\t<tr><th></th><th scope=col>mpg</th><th scope=col>cyl</th><th scope=col>disp</th><th scope=col>hp</th><th scope=col>drat</th><th scope=col>wt</th><th scope=col>qsec</th><th scope=col>vs</th><th scope=col>am</th><th scope=col>gear</th><th scope=col>carb</th></tr>\n",
       "\t<tr><th></th><th scope=col>&lt;dbl&gt;</th><th scope=col>&lt;dbl&gt;</th><th scope=col>&lt;dbl&gt;</th><th scope=col>&lt;dbl&gt;</th><th scope=col>&lt;dbl&gt;</th><th scope=col>&lt;dbl&gt;</th><th scope=col>&lt;dbl&gt;</th><th scope=col>&lt;dbl&gt;</th><th scope=col>&lt;dbl&gt;</th><th scope=col>&lt;dbl&gt;</th><th scope=col>&lt;dbl&gt;</th></tr>\n",
       "</thead>\n",
       "<tbody>\n",
       "\t<tr><th scope=row>Mazda RX4</th><td>21.0</td><td>6</td><td>160</td><td>110</td><td>3.90</td><td>2.620</td><td>16.46</td><td>0</td><td>1</td><td>4</td><td>4</td></tr>\n",
       "\t<tr><th scope=row>Mazda RX4 Wag</th><td>21.0</td><td>6</td><td>160</td><td>110</td><td>3.90</td><td>2.875</td><td>17.02</td><td>0</td><td>1</td><td>4</td><td>4</td></tr>\n",
       "\t<tr><th scope=row>Datsun 710</th><td>22.8</td><td>4</td><td>108</td><td> 93</td><td>3.85</td><td>2.320</td><td>18.61</td><td>1</td><td>1</td><td>4</td><td>1</td></tr>\n",
       "\t<tr><th scope=row>Hornet 4 Drive</th><td>21.4</td><td>6</td><td>258</td><td>110</td><td>3.08</td><td>3.215</td><td>19.44</td><td>1</td><td>0</td><td>3</td><td>1</td></tr>\n",
       "\t<tr><th scope=row>Hornet Sportabout</th><td>18.7</td><td>8</td><td>360</td><td>175</td><td>3.15</td><td>3.440</td><td>17.02</td><td>0</td><td>0</td><td>3</td><td>2</td></tr>\n",
       "\t<tr><th scope=row>Valiant</th><td>18.1</td><td>6</td><td>225</td><td>105</td><td>2.76</td><td>3.460</td><td>20.22</td><td>1</td><td>0</td><td>3</td><td>1</td></tr>\n",
       "</tbody>\n",
       "</table>\n"
      ],
      "text/latex": [
       "A data.frame: 6 × 11\n",
       "\\begin{tabular}{r|lllllllllll}\n",
       "  & mpg & cyl & disp & hp & drat & wt & qsec & vs & am & gear & carb\\\\\n",
       "  & <dbl> & <dbl> & <dbl> & <dbl> & <dbl> & <dbl> & <dbl> & <dbl> & <dbl> & <dbl> & <dbl>\\\\\n",
       "\\hline\n",
       "\tMazda RX4 & 21.0 & 6 & 160 & 110 & 3.90 & 2.620 & 16.46 & 0 & 1 & 4 & 4\\\\\n",
       "\tMazda RX4 Wag & 21.0 & 6 & 160 & 110 & 3.90 & 2.875 & 17.02 & 0 & 1 & 4 & 4\\\\\n",
       "\tDatsun 710 & 22.8 & 4 & 108 &  93 & 3.85 & 2.320 & 18.61 & 1 & 1 & 4 & 1\\\\\n",
       "\tHornet 4 Drive & 21.4 & 6 & 258 & 110 & 3.08 & 3.215 & 19.44 & 1 & 0 & 3 & 1\\\\\n",
       "\tHornet Sportabout & 18.7 & 8 & 360 & 175 & 3.15 & 3.440 & 17.02 & 0 & 0 & 3 & 2\\\\\n",
       "\tValiant & 18.1 & 6 & 225 & 105 & 2.76 & 3.460 & 20.22 & 1 & 0 & 3 & 1\\\\\n",
       "\\end{tabular}\n"
      ],
      "text/markdown": [
       "\n",
       "A data.frame: 6 × 11\n",
       "\n",
       "| <!--/--> | mpg &lt;dbl&gt; | cyl &lt;dbl&gt; | disp &lt;dbl&gt; | hp &lt;dbl&gt; | drat &lt;dbl&gt; | wt &lt;dbl&gt; | qsec &lt;dbl&gt; | vs &lt;dbl&gt; | am &lt;dbl&gt; | gear &lt;dbl&gt; | carb &lt;dbl&gt; |\n",
       "|---|---|---|---|---|---|---|---|---|---|---|---|\n",
       "| Mazda RX4 | 21.0 | 6 | 160 | 110 | 3.90 | 2.620 | 16.46 | 0 | 1 | 4 | 4 |\n",
       "| Mazda RX4 Wag | 21.0 | 6 | 160 | 110 | 3.90 | 2.875 | 17.02 | 0 | 1 | 4 | 4 |\n",
       "| Datsun 710 | 22.8 | 4 | 108 |  93 | 3.85 | 2.320 | 18.61 | 1 | 1 | 4 | 1 |\n",
       "| Hornet 4 Drive | 21.4 | 6 | 258 | 110 | 3.08 | 3.215 | 19.44 | 1 | 0 | 3 | 1 |\n",
       "| Hornet Sportabout | 18.7 | 8 | 360 | 175 | 3.15 | 3.440 | 17.02 | 0 | 0 | 3 | 2 |\n",
       "| Valiant | 18.1 | 6 | 225 | 105 | 2.76 | 3.460 | 20.22 | 1 | 0 | 3 | 1 |\n",
       "\n"
      ],
      "text/plain": [
       "                  mpg  cyl disp hp  drat wt    qsec  vs am gear carb\n",
       "Mazda RX4         21.0 6   160  110 3.90 2.620 16.46 0  1  4    4   \n",
       "Mazda RX4 Wag     21.0 6   160  110 3.90 2.875 17.02 0  1  4    4   \n",
       "Datsun 710        22.8 4   108   93 3.85 2.320 18.61 1  1  4    1   \n",
       "Hornet 4 Drive    21.4 6   258  110 3.08 3.215 19.44 1  0  3    1   \n",
       "Hornet Sportabout 18.7 8   360  175 3.15 3.440 17.02 0  0  3    2   \n",
       "Valiant           18.1 6   225  105 2.76 3.460 20.22 1  0  3    1   "
      ]
     },
     "metadata": {},
     "output_type": "display_data"
    }
   ],
   "source": [
    "#1.\n",
    "head(mtcars)\n",
    "# ..."
   ]
  },
  {
   "cell_type": "code",
   "execution_count": 5,
   "metadata": {
    "id": "bUa1igHiQfsW"
   },
   "outputs": [
    {
     "data": {
      "text/html": [
       "<table>\n",
       "<caption>A data.frame: 6 × 11</caption>\n",
       "<thead>\n",
       "\t<tr><th></th><th scope=col>mpg</th><th scope=col>cyl</th><th scope=col>disp</th><th scope=col>hp</th><th scope=col>drat</th><th scope=col>wt</th><th scope=col>qsec</th><th scope=col>vs</th><th scope=col>am</th><th scope=col>gear</th><th scope=col>carb</th></tr>\n",
       "\t<tr><th></th><th scope=col>&lt;dbl&gt;</th><th scope=col>&lt;dbl&gt;</th><th scope=col>&lt;dbl&gt;</th><th scope=col>&lt;dbl&gt;</th><th scope=col>&lt;dbl&gt;</th><th scope=col>&lt;dbl&gt;</th><th scope=col>&lt;dbl&gt;</th><th scope=col>&lt;dbl&gt;</th><th scope=col>&lt;dbl&gt;</th><th scope=col>&lt;dbl&gt;</th><th scope=col>&lt;dbl&gt;</th></tr>\n",
       "</thead>\n",
       "<tbody>\n",
       "\t<tr><th scope=row>Mazda RX4</th><td>21.0</td><td>6</td><td>160</td><td>110</td><td>3.90</td><td>2.620</td><td>16.46</td><td>0</td><td>1</td><td>4</td><td>4</td></tr>\n",
       "\t<tr><th scope=row>Mazda RX4 Wag</th><td>21.0</td><td>6</td><td>160</td><td>110</td><td>3.90</td><td>2.875</td><td>17.02</td><td>0</td><td>1</td><td>4</td><td>4</td></tr>\n",
       "\t<tr><th scope=row>Datsun 710</th><td>22.8</td><td>4</td><td>108</td><td> 93</td><td>3.85</td><td>2.320</td><td>18.61</td><td>1</td><td>1</td><td>4</td><td>1</td></tr>\n",
       "\t<tr><th scope=row>Hornet 4 Drive</th><td>21.4</td><td>6</td><td>258</td><td>110</td><td>3.08</td><td>3.215</td><td>19.44</td><td>1</td><td>0</td><td>3</td><td>1</td></tr>\n",
       "\t<tr><th scope=row>Hornet Sportabout</th><td>18.7</td><td>8</td><td>360</td><td>175</td><td>3.15</td><td>3.440</td><td>17.02</td><td>0</td><td>0</td><td>3</td><td>2</td></tr>\n",
       "\t<tr><th scope=row>Valiant</th><td>18.1</td><td>6</td><td>225</td><td>105</td><td>2.76</td><td>3.460</td><td>20.22</td><td>1</td><td>0</td><td>3</td><td>1</td></tr>\n",
       "</tbody>\n",
       "</table>\n"
      ],
      "text/latex": [
       "A data.frame: 6 × 11\n",
       "\\begin{tabular}{r|lllllllllll}\n",
       "  & mpg & cyl & disp & hp & drat & wt & qsec & vs & am & gear & carb\\\\\n",
       "  & <dbl> & <dbl> & <dbl> & <dbl> & <dbl> & <dbl> & <dbl> & <dbl> & <dbl> & <dbl> & <dbl>\\\\\n",
       "\\hline\n",
       "\tMazda RX4 & 21.0 & 6 & 160 & 110 & 3.90 & 2.620 & 16.46 & 0 & 1 & 4 & 4\\\\\n",
       "\tMazda RX4 Wag & 21.0 & 6 & 160 & 110 & 3.90 & 2.875 & 17.02 & 0 & 1 & 4 & 4\\\\\n",
       "\tDatsun 710 & 22.8 & 4 & 108 &  93 & 3.85 & 2.320 & 18.61 & 1 & 1 & 4 & 1\\\\\n",
       "\tHornet 4 Drive & 21.4 & 6 & 258 & 110 & 3.08 & 3.215 & 19.44 & 1 & 0 & 3 & 1\\\\\n",
       "\tHornet Sportabout & 18.7 & 8 & 360 & 175 & 3.15 & 3.440 & 17.02 & 0 & 0 & 3 & 2\\\\\n",
       "\tValiant & 18.1 & 6 & 225 & 105 & 2.76 & 3.460 & 20.22 & 1 & 0 & 3 & 1\\\\\n",
       "\\end{tabular}\n"
      ],
      "text/markdown": [
       "\n",
       "A data.frame: 6 × 11\n",
       "\n",
       "| <!--/--> | mpg &lt;dbl&gt; | cyl &lt;dbl&gt; | disp &lt;dbl&gt; | hp &lt;dbl&gt; | drat &lt;dbl&gt; | wt &lt;dbl&gt; | qsec &lt;dbl&gt; | vs &lt;dbl&gt; | am &lt;dbl&gt; | gear &lt;dbl&gt; | carb &lt;dbl&gt; |\n",
       "|---|---|---|---|---|---|---|---|---|---|---|---|\n",
       "| Mazda RX4 | 21.0 | 6 | 160 | 110 | 3.90 | 2.620 | 16.46 | 0 | 1 | 4 | 4 |\n",
       "| Mazda RX4 Wag | 21.0 | 6 | 160 | 110 | 3.90 | 2.875 | 17.02 | 0 | 1 | 4 | 4 |\n",
       "| Datsun 710 | 22.8 | 4 | 108 |  93 | 3.85 | 2.320 | 18.61 | 1 | 1 | 4 | 1 |\n",
       "| Hornet 4 Drive | 21.4 | 6 | 258 | 110 | 3.08 | 3.215 | 19.44 | 1 | 0 | 3 | 1 |\n",
       "| Hornet Sportabout | 18.7 | 8 | 360 | 175 | 3.15 | 3.440 | 17.02 | 0 | 0 | 3 | 2 |\n",
       "| Valiant | 18.1 | 6 | 225 | 105 | 2.76 | 3.460 | 20.22 | 1 | 0 | 3 | 1 |\n",
       "\n"
      ],
      "text/plain": [
       "                  mpg  cyl disp hp  drat wt    qsec  vs am gear carb\n",
       "Mazda RX4         21.0 6   160  110 3.90 2.620 16.46 0  1  4    4   \n",
       "Mazda RX4 Wag     21.0 6   160  110 3.90 2.875 17.02 0  1  4    4   \n",
       "Datsun 710        22.8 4   108   93 3.85 2.320 18.61 1  1  4    1   \n",
       "Hornet 4 Drive    21.4 6   258  110 3.08 3.215 19.44 1  0  3    1   \n",
       "Hornet Sportabout 18.7 8   360  175 3.15 3.440 17.02 0  0  3    2   \n",
       "Valiant           18.1 6   225  105 2.76 3.460 20.22 1  0  3    1   "
      ]
     },
     "metadata": {},
     "output_type": "display_data"
    }
   ],
   "source": [
    "head(mtcars)"
   ]
  },
  {
   "cell_type": "code",
   "execution_count": 6,
   "metadata": {},
   "outputs": [
    {
     "data": {
      "text/plain": [
       "      mpg             cyl             disp             hp       \n",
       " Min.   :10.40   Min.   :4.000   Min.   : 71.1   Min.   : 52.0  \n",
       " 1st Qu.:15.43   1st Qu.:4.000   1st Qu.:120.8   1st Qu.: 96.5  \n",
       " Median :19.20   Median :6.000   Median :196.3   Median :123.0  \n",
       " Mean   :20.09   Mean   :6.188   Mean   :230.7   Mean   :146.7  \n",
       " 3rd Qu.:22.80   3rd Qu.:8.000   3rd Qu.:326.0   3rd Qu.:180.0  \n",
       " Max.   :33.90   Max.   :8.000   Max.   :472.0   Max.   :335.0  \n",
       "      drat             wt             qsec             vs        \n",
       " Min.   :2.760   Min.   :1.513   Min.   :14.50   Min.   :0.0000  \n",
       " 1st Qu.:3.080   1st Qu.:2.581   1st Qu.:16.89   1st Qu.:0.0000  \n",
       " Median :3.695   Median :3.325   Median :17.71   Median :0.0000  \n",
       " Mean   :3.597   Mean   :3.217   Mean   :17.85   Mean   :0.4375  \n",
       " 3rd Qu.:3.920   3rd Qu.:3.610   3rd Qu.:18.90   3rd Qu.:1.0000  \n",
       " Max.   :4.930   Max.   :5.424   Max.   :22.90   Max.   :1.0000  \n",
       "       am              gear            carb      \n",
       " Min.   :0.0000   Min.   :3.000   Min.   :1.000  \n",
       " 1st Qu.:0.0000   1st Qu.:3.000   1st Qu.:2.000  \n",
       " Median :0.0000   Median :4.000   Median :2.000  \n",
       " Mean   :0.4062   Mean   :3.688   Mean   :2.812  \n",
       " 3rd Qu.:1.0000   3rd Qu.:4.000   3rd Qu.:4.000  \n",
       " Max.   :1.0000   Max.   :5.000   Max.   :8.000  "
      ]
     },
     "metadata": {},
     "output_type": "display_data"
    }
   ],
   "source": [
    "summary(mtcars)"
   ]
  },
  {
   "cell_type": "code",
   "execution_count": 7,
   "metadata": {},
   "outputs": [
    {
     "name": "stdout",
     "output_type": "stream",
     "text": [
      "Rows: 32\n",
      "Columns: 11\n",
      "$ mpg  \u001b[3m\u001b[90m<dbl>\u001b[39m\u001b[23m 21.0, 21.0, 22.8, 21.4, 18.7, 18.1, 14.3, 24.4, 22.8, 19.2, 17...\n",
      "$ cyl  \u001b[3m\u001b[90m<dbl>\u001b[39m\u001b[23m 6, 6, 4, 6, 8, 6, 8, 4, 4, 6, 6, 8, 8, 8, 8, 8, 8, 4, 4, 4, 4,...\n",
      "$ disp \u001b[3m\u001b[90m<dbl>\u001b[39m\u001b[23m 160.0, 160.0, 108.0, 258.0, 360.0, 225.0, 360.0, 146.7, 140.8,...\n",
      "$ hp   \u001b[3m\u001b[90m<dbl>\u001b[39m\u001b[23m 110, 110, 93, 110, 175, 105, 245, 62, 95, 123, 123, 180, 180, ...\n",
      "$ drat \u001b[3m\u001b[90m<dbl>\u001b[39m\u001b[23m 3.90, 3.90, 3.85, 3.08, 3.15, 2.76, 3.21, 3.69, 3.92, 3.92, 3....\n",
      "$ wt   \u001b[3m\u001b[90m<dbl>\u001b[39m\u001b[23m 2.620, 2.875, 2.320, 3.215, 3.440, 3.460, 3.570, 3.190, 3.150,...\n",
      "$ qsec \u001b[3m\u001b[90m<dbl>\u001b[39m\u001b[23m 16.46, 17.02, 18.61, 19.44, 17.02, 20.22, 15.84, 20.00, 22.90,...\n",
      "$ vs   \u001b[3m\u001b[90m<dbl>\u001b[39m\u001b[23m 0, 0, 1, 1, 0, 1, 0, 1, 1, 1, 1, 0, 0, 0, 0, 0, 0, 1, 1, 1, 1,...\n",
      "$ am   \u001b[3m\u001b[90m<dbl>\u001b[39m\u001b[23m 1, 1, 1, 0, 0, 0, 0, 0, 0, 0, 0, 0, 0, 0, 0, 0, 0, 1, 1, 1, 0,...\n",
      "$ gear \u001b[3m\u001b[90m<dbl>\u001b[39m\u001b[23m 4, 4, 4, 3, 3, 3, 3, 4, 4, 4, 4, 3, 3, 3, 3, 3, 3, 4, 4, 4, 3,...\n",
      "$ carb \u001b[3m\u001b[90m<dbl>\u001b[39m\u001b[23m 4, 4, 1, 1, 2, 1, 4, 2, 2, 4, 4, 3, 3, 3, 4, 4, 4, 1, 2, 1, 1,...\n"
     ]
    }
   ],
   "source": [
    "glimpse(mtcars)"
   ]
  },
  {
   "cell_type": "code",
   "execution_count": 8,
   "metadata": {},
   "outputs": [],
   "source": [
    "mtcars <- cbind(names = rownames(mtcars), mtcars) "
   ]
  },
  {
   "cell_type": "code",
   "execution_count": 9,
   "metadata": {},
   "outputs": [
    {
     "data": {
      "text/html": [
       "<table>\n",
       "<caption>A data.frame: 6 × 4</caption>\n",
       "<thead>\n",
       "\t<tr><th></th><th scope=col>mpg</th><th scope=col>hp</th><th scope=col>wt</th><th scope=col>gear</th></tr>\n",
       "\t<tr><th></th><th scope=col>&lt;dbl&gt;</th><th scope=col>&lt;dbl&gt;</th><th scope=col>&lt;dbl&gt;</th><th scope=col>&lt;dbl&gt;</th></tr>\n",
       "</thead>\n",
       "<tbody>\n",
       "\t<tr><th scope=row>Mazda RX4</th><td>21.0</td><td>110</td><td>2.620</td><td>4</td></tr>\n",
       "\t<tr><th scope=row>Mazda RX4 Wag</th><td>21.0</td><td>110</td><td>2.875</td><td>4</td></tr>\n",
       "\t<tr><th scope=row>Datsun 710</th><td>22.8</td><td> 93</td><td>2.320</td><td>4</td></tr>\n",
       "\t<tr><th scope=row>Hornet 4 Drive</th><td>21.4</td><td>110</td><td>3.215</td><td>3</td></tr>\n",
       "\t<tr><th scope=row>Hornet Sportabout</th><td>18.7</td><td>175</td><td>3.440</td><td>3</td></tr>\n",
       "\t<tr><th scope=row>Valiant</th><td>18.1</td><td>105</td><td>3.460</td><td>3</td></tr>\n",
       "</tbody>\n",
       "</table>\n"
      ],
      "text/latex": [
       "A data.frame: 6 × 4\n",
       "\\begin{tabular}{r|llll}\n",
       "  & mpg & hp & wt & gear\\\\\n",
       "  & <dbl> & <dbl> & <dbl> & <dbl>\\\\\n",
       "\\hline\n",
       "\tMazda RX4 & 21.0 & 110 & 2.620 & 4\\\\\n",
       "\tMazda RX4 Wag & 21.0 & 110 & 2.875 & 4\\\\\n",
       "\tDatsun 710 & 22.8 &  93 & 2.320 & 4\\\\\n",
       "\tHornet 4 Drive & 21.4 & 110 & 3.215 & 3\\\\\n",
       "\tHornet Sportabout & 18.7 & 175 & 3.440 & 3\\\\\n",
       "\tValiant & 18.1 & 105 & 3.460 & 3\\\\\n",
       "\\end{tabular}\n"
      ],
      "text/markdown": [
       "\n",
       "A data.frame: 6 × 4\n",
       "\n",
       "| <!--/--> | mpg &lt;dbl&gt; | hp &lt;dbl&gt; | wt &lt;dbl&gt; | gear &lt;dbl&gt; |\n",
       "|---|---|---|---|---|\n",
       "| Mazda RX4 | 21.0 | 110 | 2.620 | 4 |\n",
       "| Mazda RX4 Wag | 21.0 | 110 | 2.875 | 4 |\n",
       "| Datsun 710 | 22.8 |  93 | 2.320 | 4 |\n",
       "| Hornet 4 Drive | 21.4 | 110 | 3.215 | 3 |\n",
       "| Hornet Sportabout | 18.7 | 175 | 3.440 | 3 |\n",
       "| Valiant | 18.1 | 105 | 3.460 | 3 |\n",
       "\n"
      ],
      "text/plain": [
       "                  mpg  hp  wt    gear\n",
       "Mazda RX4         21.0 110 2.620 4   \n",
       "Mazda RX4 Wag     21.0 110 2.875 4   \n",
       "Datsun 710        22.8  93 2.320 4   \n",
       "Hornet 4 Drive    21.4 110 3.215 3   \n",
       "Hornet Sportabout 18.7 175 3.440 3   \n",
       "Valiant           18.1 105 3.460 3   "
      ]
     },
     "metadata": {},
     "output_type": "display_data"
    }
   ],
   "source": [
    "#2.\n",
    "sub_data <- mtcars %>% select(mpg, hp, wt, gear)\n",
    "head(sub_data)"
   ]
  },
  {
   "cell_type": "code",
   "execution_count": 10,
   "metadata": {},
   "outputs": [],
   "source": [
    "#3.\n",
    "mtcars <- mtcars %>% mutate(km_per_litre=0.425*mpg)"
   ]
  },
  {
   "cell_type": "code",
   "execution_count": 11,
   "metadata": {},
   "outputs": [],
   "source": [
    "#4. \n",
    "sub_data_unique <- distinct(mtcars)"
   ]
  },
  {
   "cell_type": "code",
   "execution_count": 12,
   "metadata": {},
   "outputs": [
    {
     "data": {
      "text/html": [
       "<table>\n",
       "<caption>A data.frame: 6 × 13</caption>\n",
       "<thead>\n",
       "\t<tr><th></th><th scope=col>names</th><th scope=col>mpg</th><th scope=col>cyl</th><th scope=col>disp</th><th scope=col>hp</th><th scope=col>drat</th><th scope=col>wt</th><th scope=col>qsec</th><th scope=col>vs</th><th scope=col>am</th><th scope=col>gear</th><th scope=col>carb</th><th scope=col>km_per_litre</th></tr>\n",
       "\t<tr><th></th><th scope=col>&lt;chr&gt;</th><th scope=col>&lt;dbl&gt;</th><th scope=col>&lt;dbl&gt;</th><th scope=col>&lt;dbl&gt;</th><th scope=col>&lt;dbl&gt;</th><th scope=col>&lt;dbl&gt;</th><th scope=col>&lt;dbl&gt;</th><th scope=col>&lt;dbl&gt;</th><th scope=col>&lt;dbl&gt;</th><th scope=col>&lt;dbl&gt;</th><th scope=col>&lt;dbl&gt;</th><th scope=col>&lt;dbl&gt;</th><th scope=col>&lt;dbl&gt;</th></tr>\n",
       "</thead>\n",
       "<tbody>\n",
       "\t<tr><th scope=row>1</th><td>Mazda RX4        </td><td>21.0</td><td>6</td><td>160</td><td>110</td><td>3.90</td><td>2.620</td><td>16.46</td><td>0</td><td>1</td><td>4</td><td>4</td><td>8.9250</td></tr>\n",
       "\t<tr><th scope=row>2</th><td>Mazda RX4 Wag    </td><td>21.0</td><td>6</td><td>160</td><td>110</td><td>3.90</td><td>2.875</td><td>17.02</td><td>0</td><td>1</td><td>4</td><td>4</td><td>8.9250</td></tr>\n",
       "\t<tr><th scope=row>3</th><td>Datsun 710       </td><td>22.8</td><td>4</td><td>108</td><td> 93</td><td>3.85</td><td>2.320</td><td>18.61</td><td>1</td><td>1</td><td>4</td><td>1</td><td>9.6900</td></tr>\n",
       "\t<tr><th scope=row>4</th><td>Hornet 4 Drive   </td><td>21.4</td><td>6</td><td>258</td><td>110</td><td>3.08</td><td>3.215</td><td>19.44</td><td>1</td><td>0</td><td>3</td><td>1</td><td>9.0950</td></tr>\n",
       "\t<tr><th scope=row>5</th><td>Hornet Sportabout</td><td>18.7</td><td>8</td><td>360</td><td>175</td><td>3.15</td><td>3.440</td><td>17.02</td><td>0</td><td>0</td><td>3</td><td>2</td><td>7.9475</td></tr>\n",
       "\t<tr><th scope=row>6</th><td>Valiant          </td><td>18.1</td><td>6</td><td>225</td><td>105</td><td>2.76</td><td>3.460</td><td>20.22</td><td>1</td><td>0</td><td>3</td><td>1</td><td>7.6925</td></tr>\n",
       "</tbody>\n",
       "</table>\n"
      ],
      "text/latex": [
       "A data.frame: 6 × 13\n",
       "\\begin{tabular}{r|lllllllllllll}\n",
       "  & names & mpg & cyl & disp & hp & drat & wt & qsec & vs & am & gear & carb & km\\_per\\_litre\\\\\n",
       "  & <chr> & <dbl> & <dbl> & <dbl> & <dbl> & <dbl> & <dbl> & <dbl> & <dbl> & <dbl> & <dbl> & <dbl> & <dbl>\\\\\n",
       "\\hline\n",
       "\t1 & Mazda RX4         & 21.0 & 6 & 160 & 110 & 3.90 & 2.620 & 16.46 & 0 & 1 & 4 & 4 & 8.9250\\\\\n",
       "\t2 & Mazda RX4 Wag     & 21.0 & 6 & 160 & 110 & 3.90 & 2.875 & 17.02 & 0 & 1 & 4 & 4 & 8.9250\\\\\n",
       "\t3 & Datsun 710        & 22.8 & 4 & 108 &  93 & 3.85 & 2.320 & 18.61 & 1 & 1 & 4 & 1 & 9.6900\\\\\n",
       "\t4 & Hornet 4 Drive    & 21.4 & 6 & 258 & 110 & 3.08 & 3.215 & 19.44 & 1 & 0 & 3 & 1 & 9.0950\\\\\n",
       "\t5 & Hornet Sportabout & 18.7 & 8 & 360 & 175 & 3.15 & 3.440 & 17.02 & 0 & 0 & 3 & 2 & 7.9475\\\\\n",
       "\t6 & Valiant           & 18.1 & 6 & 225 & 105 & 2.76 & 3.460 & 20.22 & 1 & 0 & 3 & 1 & 7.6925\\\\\n",
       "\\end{tabular}\n"
      ],
      "text/markdown": [
       "\n",
       "A data.frame: 6 × 13\n",
       "\n",
       "| <!--/--> | names &lt;chr&gt; | mpg &lt;dbl&gt; | cyl &lt;dbl&gt; | disp &lt;dbl&gt; | hp &lt;dbl&gt; | drat &lt;dbl&gt; | wt &lt;dbl&gt; | qsec &lt;dbl&gt; | vs &lt;dbl&gt; | am &lt;dbl&gt; | gear &lt;dbl&gt; | carb &lt;dbl&gt; | km_per_litre &lt;dbl&gt; |\n",
       "|---|---|---|---|---|---|---|---|---|---|---|---|---|---|\n",
       "| 1 | Mazda RX4         | 21.0 | 6 | 160 | 110 | 3.90 | 2.620 | 16.46 | 0 | 1 | 4 | 4 | 8.9250 |\n",
       "| 2 | Mazda RX4 Wag     | 21.0 | 6 | 160 | 110 | 3.90 | 2.875 | 17.02 | 0 | 1 | 4 | 4 | 8.9250 |\n",
       "| 3 | Datsun 710        | 22.8 | 4 | 108 |  93 | 3.85 | 2.320 | 18.61 | 1 | 1 | 4 | 1 | 9.6900 |\n",
       "| 4 | Hornet 4 Drive    | 21.4 | 6 | 258 | 110 | 3.08 | 3.215 | 19.44 | 1 | 0 | 3 | 1 | 9.0950 |\n",
       "| 5 | Hornet Sportabout | 18.7 | 8 | 360 | 175 | 3.15 | 3.440 | 17.02 | 0 | 0 | 3 | 2 | 7.9475 |\n",
       "| 6 | Valiant           | 18.1 | 6 | 225 | 105 | 2.76 | 3.460 | 20.22 | 1 | 0 | 3 | 1 | 7.6925 |\n",
       "\n"
      ],
      "text/plain": [
       "  names             mpg  cyl disp hp  drat wt    qsec  vs am gear carb\n",
       "1 Mazda RX4         21.0 6   160  110 3.90 2.620 16.46 0  1  4    4   \n",
       "2 Mazda RX4 Wag     21.0 6   160  110 3.90 2.875 17.02 0  1  4    4   \n",
       "3 Datsun 710        22.8 4   108   93 3.85 2.320 18.61 1  1  4    1   \n",
       "4 Hornet 4 Drive    21.4 6   258  110 3.08 3.215 19.44 1  0  3    1   \n",
       "5 Hornet Sportabout 18.7 8   360  175 3.15 3.440 17.02 0  0  3    2   \n",
       "6 Valiant           18.1 6   225  105 2.76 3.460 20.22 1  0  3    1   \n",
       "  km_per_litre\n",
       "1 8.9250      \n",
       "2 8.9250      \n",
       "3 9.6900      \n",
       "4 9.0950      \n",
       "5 7.9475      \n",
       "6 7.6925      "
      ]
     },
     "metadata": {},
     "output_type": "display_data"
    }
   ],
   "source": [
    "head(sub_data_unique)"
   ]
  },
  {
   "cell_type": "code",
   "execution_count": 13,
   "metadata": {},
   "outputs": [
    {
     "name": "stdout",
     "output_type": "stream",
     "text": [
      "                 names  mpg cyl  disp  hp drat    wt  qsec vs am gear carb\n",
      "1       Toyota Corolla 33.9   4  71.1  65 4.22 1.835 19.90  1  1    4    1\n",
      "2             Fiat 128 32.4   4  78.7  66 4.08 2.200 19.47  1  1    4    1\n",
      "3          Honda Civic 30.4   4  75.7  52 4.93 1.615 18.52  1  1    4    2\n",
      "4         Lotus Europa 30.4   4  95.1 113 3.77 1.513 16.90  1  1    5    2\n",
      "5            Fiat X1-9 27.3   4  79.0  66 4.08 1.935 18.90  1  1    4    1\n",
      "6        Porsche 914-2 26.0   4 120.3  91 4.43 2.140 16.70  0  1    5    2\n",
      "7            Merc 240D 24.4   4 146.7  62 3.69 3.190 20.00  1  0    4    2\n",
      "8           Datsun 710 22.8   4 108.0  93 3.85 2.320 18.61  1  1    4    1\n",
      "9             Merc 230 22.8   4 140.8  95 3.92 3.150 22.90  1  0    4    2\n",
      "10       Toyota Corona 21.5   4 120.1  97 3.70 2.465 20.01  1  0    3    1\n",
      "11          Volvo 142E 21.4   4 121.0 109 4.11 2.780 18.60  1  1    4    2\n",
      "12      Hornet 4 Drive 21.4   6 258.0 110 3.08 3.215 19.44  1  0    3    1\n",
      "13           Mazda RX4 21.0   6 160.0 110 3.90 2.620 16.46  0  1    4    4\n",
      "14       Mazda RX4 Wag 21.0   6 160.0 110 3.90 2.875 17.02  0  1    4    4\n",
      "15        Ferrari Dino 19.7   6 145.0 175 3.62 2.770 15.50  0  1    5    6\n",
      "16            Merc 280 19.2   6 167.6 123 3.92 3.440 18.30  1  0    4    4\n",
      "17    Pontiac Firebird 19.2   8 400.0 175 3.08 3.845 17.05  0  0    3    2\n",
      "18   Hornet Sportabout 18.7   8 360.0 175 3.15 3.440 17.02  0  0    3    2\n",
      "19             Valiant 18.1   6 225.0 105 2.76 3.460 20.22  1  0    3    1\n",
      "20           Merc 280C 17.8   6 167.6 123 3.92 3.440 18.90  1  0    4    4\n",
      "21          Merc 450SL 17.3   8 275.8 180 3.07 3.730 17.60  0  0    3    3\n",
      "22          Merc 450SE 16.4   8 275.8 180 3.07 4.070 17.40  0  0    3    3\n",
      "23      Ford Pantera L 15.8   8 351.0 264 4.22 3.170 14.50  0  1    5    4\n",
      "24    Dodge Challenger 15.5   8 318.0 150 2.76 3.520 16.87  0  0    3    2\n",
      "25         AMC Javelin 15.2   8 304.0 150 3.15 3.435 17.30  0  0    3    2\n",
      "26         Merc 450SLC 15.2   8 275.8 180 3.07 3.780 18.00  0  0    3    3\n",
      "27       Maserati Bora 15.0   8 301.0 335 3.54 3.570 14.60  0  1    5    8\n",
      "28   Chrysler Imperial 14.7   8 440.0 230 3.23 5.345 17.42  0  0    3    4\n",
      "29          Duster 360 14.3   8 360.0 245 3.21 3.570 15.84  0  0    3    4\n",
      "30          Camaro Z28 13.3   8 350.0 245 3.73 3.840 15.41  0  0    3    4\n",
      "31  Cadillac Fleetwood 10.4   8 472.0 205 2.93 5.250 17.98  0  0    3    4\n",
      "32 Lincoln Continental 10.4   8 460.0 215 3.00 5.424 17.82  0  0    3    4\n",
      "   km_per_litre\n",
      "1       14.4075\n",
      "2       13.7700\n",
      "3       12.9200\n",
      "4       12.9200\n",
      "5       11.6025\n",
      "6       11.0500\n",
      "7       10.3700\n",
      "8        9.6900\n",
      "9        9.6900\n",
      "10       9.1375\n",
      "11       9.0950\n",
      "12       9.0950\n",
      "13       8.9250\n",
      "14       8.9250\n",
      "15       8.3725\n",
      "16       8.1600\n",
      "17       8.1600\n",
      "18       7.9475\n",
      "19       7.6925\n",
      "20       7.5650\n",
      "21       7.3525\n",
      "22       6.9700\n",
      "23       6.7150\n",
      "24       6.5875\n",
      "25       6.4600\n",
      "26       6.4600\n",
      "27       6.3750\n",
      "28       6.2475\n",
      "29       6.0775\n",
      "30       5.6525\n",
      "31       4.4200\n",
      "32       4.4200\n"
     ]
    }
   ],
   "source": [
    "#5.\n",
    "print(arrange(sub_data_unique,desc(mpg),hp))"
   ]
  },
  {
   "cell_type": "code",
   "execution_count": 14,
   "metadata": {},
   "outputs": [],
   "source": [
    "#6.\n",
    "# sub_data = cbind(names = rownames(sub_data), sub_data) \n",
    "data_6 <- cbind(names = rownames(sub_data_unique), sub_data) "
   ]
  },
  {
   "cell_type": "code",
   "execution_count": 15,
   "metadata": {},
   "outputs": [
    {
     "data": {
      "text/html": [
       "<table>\n",
       "<caption>A data.frame: 32 × 5</caption>\n",
       "<thead>\n",
       "\t<tr><th></th><th scope=col>names</th><th scope=col>mpg</th><th scope=col>hp</th><th scope=col>wt</th><th scope=col>gear</th></tr>\n",
       "\t<tr><th></th><th scope=col>&lt;chr&gt;</th><th scope=col>&lt;dbl&gt;</th><th scope=col>&lt;dbl&gt;</th><th scope=col>&lt;dbl&gt;</th><th scope=col>&lt;dbl&gt;</th></tr>\n",
       "</thead>\n",
       "<tbody>\n",
       "\t<tr><th scope=row>Mazda RX4</th><td>1 </td><td>21.0</td><td>110</td><td>2.620</td><td>4</td></tr>\n",
       "\t<tr><th scope=row>Mazda RX4 Wag</th><td>2 </td><td>21.0</td><td>110</td><td>2.875</td><td>4</td></tr>\n",
       "\t<tr><th scope=row>Datsun 710</th><td>3 </td><td>22.8</td><td> 93</td><td>2.320</td><td>4</td></tr>\n",
       "\t<tr><th scope=row>Hornet 4 Drive</th><td>4 </td><td>21.4</td><td>110</td><td>3.215</td><td>3</td></tr>\n",
       "\t<tr><th scope=row>Hornet Sportabout</th><td>5 </td><td>18.7</td><td>175</td><td>3.440</td><td>3</td></tr>\n",
       "\t<tr><th scope=row>Valiant</th><td>6 </td><td>18.1</td><td>105</td><td>3.460</td><td>3</td></tr>\n",
       "\t<tr><th scope=row>Duster 360</th><td>7 </td><td>14.3</td><td>245</td><td>3.570</td><td>3</td></tr>\n",
       "\t<tr><th scope=row>Merc 240D</th><td>8 </td><td>24.4</td><td> 62</td><td>3.190</td><td>4</td></tr>\n",
       "\t<tr><th scope=row>Merc 230</th><td>9 </td><td>22.8</td><td> 95</td><td>3.150</td><td>4</td></tr>\n",
       "\t<tr><th scope=row>Merc 280</th><td>10</td><td>19.2</td><td>123</td><td>3.440</td><td>4</td></tr>\n",
       "\t<tr><th scope=row>Merc 280C</th><td>11</td><td>17.8</td><td>123</td><td>3.440</td><td>4</td></tr>\n",
       "\t<tr><th scope=row>Merc 450SE</th><td>12</td><td>16.4</td><td>180</td><td>4.070</td><td>3</td></tr>\n",
       "\t<tr><th scope=row>Merc 450SL</th><td>13</td><td>17.3</td><td>180</td><td>3.730</td><td>3</td></tr>\n",
       "\t<tr><th scope=row>Merc 450SLC</th><td>14</td><td>15.2</td><td>180</td><td>3.780</td><td>3</td></tr>\n",
       "\t<tr><th scope=row>Cadillac Fleetwood</th><td>15</td><td>10.4</td><td>205</td><td>5.250</td><td>3</td></tr>\n",
       "\t<tr><th scope=row>Lincoln Continental</th><td>16</td><td>10.4</td><td>215</td><td>5.424</td><td>3</td></tr>\n",
       "\t<tr><th scope=row>Chrysler Imperial</th><td>17</td><td>14.7</td><td>230</td><td>5.345</td><td>3</td></tr>\n",
       "\t<tr><th scope=row>Fiat 128</th><td>18</td><td>32.4</td><td> 66</td><td>2.200</td><td>4</td></tr>\n",
       "\t<tr><th scope=row>Honda Civic</th><td>19</td><td>30.4</td><td> 52</td><td>1.615</td><td>4</td></tr>\n",
       "\t<tr><th scope=row>Toyota Corolla</th><td>20</td><td>33.9</td><td> 65</td><td>1.835</td><td>4</td></tr>\n",
       "\t<tr><th scope=row>Toyota Corona</th><td>21</td><td>21.5</td><td> 97</td><td>2.465</td><td>3</td></tr>\n",
       "\t<tr><th scope=row>Dodge Challenger</th><td>22</td><td>15.5</td><td>150</td><td>3.520</td><td>3</td></tr>\n",
       "\t<tr><th scope=row>AMC Javelin</th><td>23</td><td>15.2</td><td>150</td><td>3.435</td><td>3</td></tr>\n",
       "\t<tr><th scope=row>Camaro Z28</th><td>24</td><td>13.3</td><td>245</td><td>3.840</td><td>3</td></tr>\n",
       "\t<tr><th scope=row>Pontiac Firebird</th><td>25</td><td>19.2</td><td>175</td><td>3.845</td><td>3</td></tr>\n",
       "\t<tr><th scope=row>Fiat X1-9</th><td>26</td><td>27.3</td><td> 66</td><td>1.935</td><td>4</td></tr>\n",
       "\t<tr><th scope=row>Porsche 914-2</th><td>27</td><td>26.0</td><td> 91</td><td>2.140</td><td>5</td></tr>\n",
       "\t<tr><th scope=row>Lotus Europa</th><td>28</td><td>30.4</td><td>113</td><td>1.513</td><td>5</td></tr>\n",
       "\t<tr><th scope=row>Ford Pantera L</th><td>29</td><td>15.8</td><td>264</td><td>3.170</td><td>5</td></tr>\n",
       "\t<tr><th scope=row>Ferrari Dino</th><td>30</td><td>19.7</td><td>175</td><td>2.770</td><td>5</td></tr>\n",
       "\t<tr><th scope=row>Maserati Bora</th><td>31</td><td>15.0</td><td>335</td><td>3.570</td><td>5</td></tr>\n",
       "\t<tr><th scope=row>Volvo 142E</th><td>32</td><td>21.4</td><td>109</td><td>2.780</td><td>4</td></tr>\n",
       "</tbody>\n",
       "</table>\n"
      ],
      "text/latex": [
       "A data.frame: 32 × 5\n",
       "\\begin{tabular}{r|lllll}\n",
       "  & names & mpg & hp & wt & gear\\\\\n",
       "  & <chr> & <dbl> & <dbl> & <dbl> & <dbl>\\\\\n",
       "\\hline\n",
       "\tMazda RX4 & 1  & 21.0 & 110 & 2.620 & 4\\\\\n",
       "\tMazda RX4 Wag & 2  & 21.0 & 110 & 2.875 & 4\\\\\n",
       "\tDatsun 710 & 3  & 22.8 &  93 & 2.320 & 4\\\\\n",
       "\tHornet 4 Drive & 4  & 21.4 & 110 & 3.215 & 3\\\\\n",
       "\tHornet Sportabout & 5  & 18.7 & 175 & 3.440 & 3\\\\\n",
       "\tValiant & 6  & 18.1 & 105 & 3.460 & 3\\\\\n",
       "\tDuster 360 & 7  & 14.3 & 245 & 3.570 & 3\\\\\n",
       "\tMerc 240D & 8  & 24.4 &  62 & 3.190 & 4\\\\\n",
       "\tMerc 230 & 9  & 22.8 &  95 & 3.150 & 4\\\\\n",
       "\tMerc 280 & 10 & 19.2 & 123 & 3.440 & 4\\\\\n",
       "\tMerc 280C & 11 & 17.8 & 123 & 3.440 & 4\\\\\n",
       "\tMerc 450SE & 12 & 16.4 & 180 & 4.070 & 3\\\\\n",
       "\tMerc 450SL & 13 & 17.3 & 180 & 3.730 & 3\\\\\n",
       "\tMerc 450SLC & 14 & 15.2 & 180 & 3.780 & 3\\\\\n",
       "\tCadillac Fleetwood & 15 & 10.4 & 205 & 5.250 & 3\\\\\n",
       "\tLincoln Continental & 16 & 10.4 & 215 & 5.424 & 3\\\\\n",
       "\tChrysler Imperial & 17 & 14.7 & 230 & 5.345 & 3\\\\\n",
       "\tFiat 128 & 18 & 32.4 &  66 & 2.200 & 4\\\\\n",
       "\tHonda Civic & 19 & 30.4 &  52 & 1.615 & 4\\\\\n",
       "\tToyota Corolla & 20 & 33.9 &  65 & 1.835 & 4\\\\\n",
       "\tToyota Corona & 21 & 21.5 &  97 & 2.465 & 3\\\\\n",
       "\tDodge Challenger & 22 & 15.5 & 150 & 3.520 & 3\\\\\n",
       "\tAMC Javelin & 23 & 15.2 & 150 & 3.435 & 3\\\\\n",
       "\tCamaro Z28 & 24 & 13.3 & 245 & 3.840 & 3\\\\\n",
       "\tPontiac Firebird & 25 & 19.2 & 175 & 3.845 & 3\\\\\n",
       "\tFiat X1-9 & 26 & 27.3 &  66 & 1.935 & 4\\\\\n",
       "\tPorsche 914-2 & 27 & 26.0 &  91 & 2.140 & 5\\\\\n",
       "\tLotus Europa & 28 & 30.4 & 113 & 1.513 & 5\\\\\n",
       "\tFord Pantera L & 29 & 15.8 & 264 & 3.170 & 5\\\\\n",
       "\tFerrari Dino & 30 & 19.7 & 175 & 2.770 & 5\\\\\n",
       "\tMaserati Bora & 31 & 15.0 & 335 & 3.570 & 5\\\\\n",
       "\tVolvo 142E & 32 & 21.4 & 109 & 2.780 & 4\\\\\n",
       "\\end{tabular}\n"
      ],
      "text/markdown": [
       "\n",
       "A data.frame: 32 × 5\n",
       "\n",
       "| <!--/--> | names &lt;chr&gt; | mpg &lt;dbl&gt; | hp &lt;dbl&gt; | wt &lt;dbl&gt; | gear &lt;dbl&gt; |\n",
       "|---|---|---|---|---|---|\n",
       "| Mazda RX4 | 1  | 21.0 | 110 | 2.620 | 4 |\n",
       "| Mazda RX4 Wag | 2  | 21.0 | 110 | 2.875 | 4 |\n",
       "| Datsun 710 | 3  | 22.8 |  93 | 2.320 | 4 |\n",
       "| Hornet 4 Drive | 4  | 21.4 | 110 | 3.215 | 3 |\n",
       "| Hornet Sportabout | 5  | 18.7 | 175 | 3.440 | 3 |\n",
       "| Valiant | 6  | 18.1 | 105 | 3.460 | 3 |\n",
       "| Duster 360 | 7  | 14.3 | 245 | 3.570 | 3 |\n",
       "| Merc 240D | 8  | 24.4 |  62 | 3.190 | 4 |\n",
       "| Merc 230 | 9  | 22.8 |  95 | 3.150 | 4 |\n",
       "| Merc 280 | 10 | 19.2 | 123 | 3.440 | 4 |\n",
       "| Merc 280C | 11 | 17.8 | 123 | 3.440 | 4 |\n",
       "| Merc 450SE | 12 | 16.4 | 180 | 4.070 | 3 |\n",
       "| Merc 450SL | 13 | 17.3 | 180 | 3.730 | 3 |\n",
       "| Merc 450SLC | 14 | 15.2 | 180 | 3.780 | 3 |\n",
       "| Cadillac Fleetwood | 15 | 10.4 | 205 | 5.250 | 3 |\n",
       "| Lincoln Continental | 16 | 10.4 | 215 | 5.424 | 3 |\n",
       "| Chrysler Imperial | 17 | 14.7 | 230 | 5.345 | 3 |\n",
       "| Fiat 128 | 18 | 32.4 |  66 | 2.200 | 4 |\n",
       "| Honda Civic | 19 | 30.4 |  52 | 1.615 | 4 |\n",
       "| Toyota Corolla | 20 | 33.9 |  65 | 1.835 | 4 |\n",
       "| Toyota Corona | 21 | 21.5 |  97 | 2.465 | 3 |\n",
       "| Dodge Challenger | 22 | 15.5 | 150 | 3.520 | 3 |\n",
       "| AMC Javelin | 23 | 15.2 | 150 | 3.435 | 3 |\n",
       "| Camaro Z28 | 24 | 13.3 | 245 | 3.840 | 3 |\n",
       "| Pontiac Firebird | 25 | 19.2 | 175 | 3.845 | 3 |\n",
       "| Fiat X1-9 | 26 | 27.3 |  66 | 1.935 | 4 |\n",
       "| Porsche 914-2 | 27 | 26.0 |  91 | 2.140 | 5 |\n",
       "| Lotus Europa | 28 | 30.4 | 113 | 1.513 | 5 |\n",
       "| Ford Pantera L | 29 | 15.8 | 264 | 3.170 | 5 |\n",
       "| Ferrari Dino | 30 | 19.7 | 175 | 2.770 | 5 |\n",
       "| Maserati Bora | 31 | 15.0 | 335 | 3.570 | 5 |\n",
       "| Volvo 142E | 32 | 21.4 | 109 | 2.780 | 4 |\n",
       "\n"
      ],
      "text/plain": [
       "                    names mpg  hp  wt    gear\n",
       "Mazda RX4           1     21.0 110 2.620 4   \n",
       "Mazda RX4 Wag       2     21.0 110 2.875 4   \n",
       "Datsun 710          3     22.8  93 2.320 4   \n",
       "Hornet 4 Drive      4     21.4 110 3.215 3   \n",
       "Hornet Sportabout   5     18.7 175 3.440 3   \n",
       "Valiant             6     18.1 105 3.460 3   \n",
       "Duster 360          7     14.3 245 3.570 3   \n",
       "Merc 240D           8     24.4  62 3.190 4   \n",
       "Merc 230            9     22.8  95 3.150 4   \n",
       "Merc 280            10    19.2 123 3.440 4   \n",
       "Merc 280C           11    17.8 123 3.440 4   \n",
       "Merc 450SE          12    16.4 180 4.070 3   \n",
       "Merc 450SL          13    17.3 180 3.730 3   \n",
       "Merc 450SLC         14    15.2 180 3.780 3   \n",
       "Cadillac Fleetwood  15    10.4 205 5.250 3   \n",
       "Lincoln Continental 16    10.4 215 5.424 3   \n",
       "Chrysler Imperial   17    14.7 230 5.345 3   \n",
       "Fiat 128            18    32.4  66 2.200 4   \n",
       "Honda Civic         19    30.4  52 1.615 4   \n",
       "Toyota Corolla      20    33.9  65 1.835 4   \n",
       "Toyota Corona       21    21.5  97 2.465 3   \n",
       "Dodge Challenger    22    15.5 150 3.520 3   \n",
       "AMC Javelin         23    15.2 150 3.435 3   \n",
       "Camaro Z28          24    13.3 245 3.840 3   \n",
       "Pontiac Firebird    25    19.2 175 3.845 3   \n",
       "Fiat X1-9           26    27.3  66 1.935 4   \n",
       "Porsche 914-2       27    26.0  91 2.140 5   \n",
       "Lotus Europa        28    30.4 113 1.513 5   \n",
       "Ford Pantera L      29    15.8 264 3.170 5   \n",
       "Ferrari Dino        30    19.7 175 2.770 5   \n",
       "Maserati Bora       31    15.0 335 3.570 5   \n",
       "Volvo 142E          32    21.4 109 2.780 4   "
      ]
     },
     "metadata": {},
     "output_type": "display_data"
    }
   ],
   "source": [
    "data_6"
   ]
  },
  {
   "cell_type": "code",
   "execution_count": 30,
   "metadata": {},
   "outputs": [
    {
     "ename": "ERROR",
     "evalue": "Error in rownames_to_columns(sub_data_unique, var = \"names\"): could not find function \"rownames_to_columns\"\n",
     "output_type": "error",
     "traceback": [
      "Error in rownames_to_columns(sub_data_unique, var = \"names\"): could not find function \"rownames_to_columns\"\nTraceback:\n"
     ]
    }
   ],
   "source": [
    "data_6 = rownames_to_column(sub_data_unique, var='names')"
   ]
  },
  {
   "cell_type": "code",
   "execution_count": 17,
   "metadata": {},
   "outputs": [],
   "source": [
    "mazda <- filter(data_6, str_detect(names,'Mazda'))"
   ]
  },
  {
   "cell_type": "code",
   "execution_count": 18,
   "metadata": {},
   "outputs": [
    {
     "data": {
      "text/html": [
       "<table>\n",
       "<caption>A data.frame: 0 × 5</caption>\n",
       "<thead>\n",
       "\t<tr><th scope=col>names</th><th scope=col>mpg</th><th scope=col>hp</th><th scope=col>wt</th><th scope=col>gear</th></tr>\n",
       "\t<tr><th scope=col>&lt;chr&gt;</th><th scope=col>&lt;dbl&gt;</th><th scope=col>&lt;dbl&gt;</th><th scope=col>&lt;dbl&gt;</th><th scope=col>&lt;dbl&gt;</th></tr>\n",
       "</thead>\n",
       "<tbody>\n",
       "</tbody>\n",
       "</table>\n"
      ],
      "text/latex": [
       "A data.frame: 0 × 5\n",
       "\\begin{tabular}{lllll}\n",
       " names & mpg & hp & wt & gear\\\\\n",
       " <chr> & <dbl> & <dbl> & <dbl> & <dbl>\\\\\n",
       "\\hline\n",
       "\\end{tabular}\n"
      ],
      "text/markdown": [
       "\n",
       "A data.frame: 0 × 5\n",
       "\n",
       "| names &lt;chr&gt; | mpg &lt;dbl&gt; | hp &lt;dbl&gt; | wt &lt;dbl&gt; | gear &lt;dbl&gt; |\n",
       "|---|---|---|---|---|\n",
       "\n"
      ],
      "text/plain": [
       "     names mpg hp wt gear"
      ]
     },
     "metadata": {},
     "output_type": "display_data"
    }
   ],
   "source": [
    "mazda"
   ]
  },
  {
   "cell_type": "code",
   "execution_count": 19,
   "metadata": {},
   "outputs": [
    {
     "data": {
      "text/html": [
       "33.9"
      ],
      "text/latex": [
       "33.9"
      ],
      "text/markdown": [
       "33.9"
      ],
      "text/plain": [
       "[1] 33.9"
      ]
     },
     "metadata": {},
     "output_type": "display_data"
    }
   ],
   "source": [
    "#7.\n",
    "max(sub_data_unique$mpg)"
   ]
  },
  {
   "cell_type": "code",
   "execution_count": 20,
   "metadata": {},
   "outputs": [
    {
     "data": {
      "text/html": [
       "<style>\n",
       ".list-inline {list-style: none; margin:0; padding: 0}\n",
       ".list-inline>li {display: inline-block}\n",
       ".list-inline>li:not(:last-child)::after {content: \"\\00b7\"; padding: 0 .5ex}\n",
       "</style>\n",
       "<ol class=list-inline><li>'Toyota Corolla'</li><li>'33.9'</li><li>'4'</li><li>' 71.1'</li><li>' 65'</li><li>'4.22'</li><li>'1.835'</li><li>'19.90'</li><li>'1'</li><li>'1'</li><li>'4'</li><li>'1'</li><li>'14.4075'</li></ol>\n"
      ],
      "text/latex": [
       "\\begin{enumerate*}\n",
       "\\item 'Toyota Corolla'\n",
       "\\item '33.9'\n",
       "\\item '4'\n",
       "\\item ' 71.1'\n",
       "\\item ' 65'\n",
       "\\item '4.22'\n",
       "\\item '1.835'\n",
       "\\item '19.90'\n",
       "\\item '1'\n",
       "\\item '1'\n",
       "\\item '4'\n",
       "\\item '1'\n",
       "\\item '14.4075'\n",
       "\\end{enumerate*}\n"
      ],
      "text/markdown": [
       "1. 'Toyota Corolla'\n",
       "2. '33.9'\n",
       "3. '4'\n",
       "4. ' 71.1'\n",
       "5. ' 65'\n",
       "6. '4.22'\n",
       "7. '1.835'\n",
       "8. '19.90'\n",
       "9. '1'\n",
       "10. '1'\n",
       "11. '4'\n",
       "12. '1'\n",
       "13. '14.4075'\n",
       "\n",
       "\n"
      ],
      "text/plain": [
       " [1] \"Toyota Corolla\" \"33.9\"           \"4\"              \" 71.1\"         \n",
       " [5] \" 65\"            \"4.22\"           \"1.835\"          \"19.90\"         \n",
       " [9] \"1\"              \"1\"              \"4\"              \"1\"             \n",
       "[13] \"14.4075\"       "
      ]
     },
     "metadata": {},
     "output_type": "display_data"
    }
   ],
   "source": [
    "sub_data_unique[sub_data_unique['mpg'] == max(sub_data_unique$mpg)]"
   ]
  },
  {
   "cell_type": "code",
   "execution_count": 21,
   "metadata": {},
   "outputs": [
    {
     "data": {
      "text/html": [
       "<table>\n",
       "<caption>A data.frame: 4 × 13</caption>\n",
       "<thead>\n",
       "\t<tr><th scope=col>names</th><th scope=col>mpg</th><th scope=col>cyl</th><th scope=col>disp</th><th scope=col>hp</th><th scope=col>drat</th><th scope=col>wt</th><th scope=col>qsec</th><th scope=col>vs</th><th scope=col>am</th><th scope=col>gear</th><th scope=col>carb</th><th scope=col>km_per_litre</th></tr>\n",
       "\t<tr><th scope=col>&lt;chr&gt;</th><th scope=col>&lt;dbl&gt;</th><th scope=col>&lt;dbl&gt;</th><th scope=col>&lt;dbl&gt;</th><th scope=col>&lt;dbl&gt;</th><th scope=col>&lt;dbl&gt;</th><th scope=col>&lt;dbl&gt;</th><th scope=col>&lt;dbl&gt;</th><th scope=col>&lt;dbl&gt;</th><th scope=col>&lt;dbl&gt;</th><th scope=col>&lt;dbl&gt;</th><th scope=col>&lt;dbl&gt;</th><th scope=col>&lt;dbl&gt;</th></tr>\n",
       "</thead>\n",
       "<tbody>\n",
       "\t<tr><td>Fiat 128      </td><td>32.4</td><td>4</td><td>78.7</td><td>66</td><td>4.08</td><td>2.200</td><td>19.47</td><td>1</td><td>1</td><td>4</td><td>1</td><td>13.7700</td></tr>\n",
       "\t<tr><td>Honda Civic   </td><td>30.4</td><td>4</td><td>75.7</td><td>52</td><td>4.93</td><td>1.615</td><td>18.52</td><td>1</td><td>1</td><td>4</td><td>2</td><td>12.9200</td></tr>\n",
       "\t<tr><td>Toyota Corolla</td><td>33.9</td><td>4</td><td>71.1</td><td>65</td><td>4.22</td><td>1.835</td><td>19.90</td><td>1</td><td>1</td><td>4</td><td>1</td><td>14.4075</td></tr>\n",
       "\t<tr><td>Fiat X1-9     </td><td>27.3</td><td>4</td><td>79.0</td><td>66</td><td>4.08</td><td>1.935</td><td>18.90</td><td>1</td><td>1</td><td>4</td><td>1</td><td>11.6025</td></tr>\n",
       "</tbody>\n",
       "</table>\n"
      ],
      "text/latex": [
       "A data.frame: 4 × 13\n",
       "\\begin{tabular}{lllllllllllll}\n",
       " names & mpg & cyl & disp & hp & drat & wt & qsec & vs & am & gear & carb & km\\_per\\_litre\\\\\n",
       " <chr> & <dbl> & <dbl> & <dbl> & <dbl> & <dbl> & <dbl> & <dbl> & <dbl> & <dbl> & <dbl> & <dbl> & <dbl>\\\\\n",
       "\\hline\n",
       "\t Fiat 128       & 32.4 & 4 & 78.7 & 66 & 4.08 & 2.200 & 19.47 & 1 & 1 & 4 & 1 & 13.7700\\\\\n",
       "\t Honda Civic    & 30.4 & 4 & 75.7 & 52 & 4.93 & 1.615 & 18.52 & 1 & 1 & 4 & 2 & 12.9200\\\\\n",
       "\t Toyota Corolla & 33.9 & 4 & 71.1 & 65 & 4.22 & 1.835 & 19.90 & 1 & 1 & 4 & 1 & 14.4075\\\\\n",
       "\t Fiat X1-9      & 27.3 & 4 & 79.0 & 66 & 4.08 & 1.935 & 18.90 & 1 & 1 & 4 & 1 & 11.6025\\\\\n",
       "\\end{tabular}\n"
      ],
      "text/markdown": [
       "\n",
       "A data.frame: 4 × 13\n",
       "\n",
       "| names &lt;chr&gt; | mpg &lt;dbl&gt; | cyl &lt;dbl&gt; | disp &lt;dbl&gt; | hp &lt;dbl&gt; | drat &lt;dbl&gt; | wt &lt;dbl&gt; | qsec &lt;dbl&gt; | vs &lt;dbl&gt; | am &lt;dbl&gt; | gear &lt;dbl&gt; | carb &lt;dbl&gt; | km_per_litre &lt;dbl&gt; |\n",
       "|---|---|---|---|---|---|---|---|---|---|---|---|---|\n",
       "| Fiat 128       | 32.4 | 4 | 78.7 | 66 | 4.08 | 2.200 | 19.47 | 1 | 1 | 4 | 1 | 13.7700 |\n",
       "| Honda Civic    | 30.4 | 4 | 75.7 | 52 | 4.93 | 1.615 | 18.52 | 1 | 1 | 4 | 2 | 12.9200 |\n",
       "| Toyota Corolla | 33.9 | 4 | 71.1 | 65 | 4.22 | 1.835 | 19.90 | 1 | 1 | 4 | 1 | 14.4075 |\n",
       "| Fiat X1-9      | 27.3 | 4 | 79.0 | 66 | 4.08 | 1.935 | 18.90 | 1 | 1 | 4 | 1 | 11.6025 |\n",
       "\n"
      ],
      "text/plain": [
       "  names          mpg  cyl disp hp drat wt    qsec  vs am gear carb km_per_litre\n",
       "1 Fiat 128       32.4 4   78.7 66 4.08 2.200 19.47 1  1  4    1    13.7700     \n",
       "2 Honda Civic    30.4 4   75.7 52 4.93 1.615 18.52 1  1  4    2    12.9200     \n",
       "3 Toyota Corolla 33.9 4   71.1 65 4.22 1.835 19.90 1  1  4    1    14.4075     \n",
       "4 Fiat X1-9      27.3 4   79.0 66 4.08 1.935 18.90 1  1  4    1    11.6025     "
      ]
     },
     "metadata": {},
     "output_type": "display_data"
    }
   ],
   "source": [
    "#8.\n",
    "sub_data_unique %>% filter(mpg >= 25 & cyl==4 & gear==4)"
   ]
  },
  {
   "cell_type": "code",
   "execution_count": 22,
   "metadata": {},
   "outputs": [
    {
     "name": "stderr",
     "output_type": "stream",
     "text": [
      "Your code contains a unicode char which cannot be displayed in your\n",
      "current locale and R will silently convert it to an escaped form when the\n",
      "R kernel executes this code. This can lead to subtle errors if you use\n",
      "such chars to do comparisons. For more information, please see\n",
      "https://github.com/IRkernel/repr/wiki/Problems-with-unicode-on-windows`summarise()` ungrouping output (override with `.groups` argument)\n",
      "\n"
     ]
    }
   ],
   "source": [
    "#9.\n",
    "# 9. Thực hiện việc thống kê theo cyl, từ đó cho biết số lượng từng nhóm, cyl, hp lớn nhất, mpg nhỏ nhất\n",
    "group <- group_by(sub_data_unique,'cyl')\n",
    "summary <- summarize(group, \n",
    "                    count=n(),\n",
    "                    max.hp=max(hp),\n",
    "                    min.mpg=min(mpg))"
   ]
  },
  {
   "cell_type": "code",
   "execution_count": 23,
   "metadata": {},
   "outputs": [
    {
     "data": {
      "text/html": [
       "<table>\n",
       "<caption>A tibble: 1 × 4</caption>\n",
       "<thead>\n",
       "\t<tr><th scope=col>\"cyl\"</th><th scope=col>count</th><th scope=col>max.hp</th><th scope=col>min.mpg</th></tr>\n",
       "\t<tr><th scope=col>&lt;chr&gt;</th><th scope=col>&lt;int&gt;</th><th scope=col>&lt;dbl&gt;</th><th scope=col>&lt;dbl&gt;</th></tr>\n",
       "</thead>\n",
       "<tbody>\n",
       "\t<tr><td>cyl</td><td>32</td><td>335</td><td>10.4</td></tr>\n",
       "</tbody>\n",
       "</table>\n"
      ],
      "text/latex": [
       "A tibble: 1 × 4\n",
       "\\begin{tabular}{llll}\n",
       " \"cyl\" & count & max.hp & min.mpg\\\\\n",
       " <chr> & <int> & <dbl> & <dbl>\\\\\n",
       "\\hline\n",
       "\t cyl & 32 & 335 & 10.4\\\\\n",
       "\\end{tabular}\n"
      ],
      "text/markdown": [
       "\n",
       "A tibble: 1 × 4\n",
       "\n",
       "| \"cyl\" &lt;chr&gt; | count &lt;int&gt; | max.hp &lt;dbl&gt; | min.mpg &lt;dbl&gt; |\n",
       "|---|---|---|---|\n",
       "| cyl | 32 | 335 | 10.4 |\n",
       "\n"
      ],
      "text/plain": [
       "  \"cyl\" count max.hp min.mpg\n",
       "1 cyl   32    335    10.4   "
      ]
     },
     "metadata": {},
     "output_type": "display_data"
    }
   ],
   "source": [
    "summary"
   ]
  },
  {
   "cell_type": "code",
   "execution_count": 24,
   "metadata": {},
   "outputs": [
    {
     "name": "stderr",
     "output_type": "stream",
     "text": [
      "Your code contains a unicode char which cannot be displayed in your\n",
      "current locale and R will silently convert it to an escaped form when the\n",
      "R kernel executes this code. This can lead to subtle errors if you use\n",
      "such chars to do comparisons. For more information, please see\n",
      "https://github.com/IRkernel/repr/wiki/Problems-with-unicode-on-windows"
     ]
    },
    {
     "data": {
      "text/html": [
       "<table>\n",
       "<caption>A data.frame: 6 × 4</caption>\n",
       "<thead>\n",
       "\t<tr><th></th><th scope=col>mpg</th><th scope=col>hp</th><th scope=col>wt</th><th scope=col>gear</th></tr>\n",
       "\t<tr><th></th><th scope=col>&lt;dbl&gt;</th><th scope=col>&lt;dbl&gt;</th><th scope=col>&lt;dbl&gt;</th><th scope=col>&lt;dbl&gt;</th></tr>\n",
       "</thead>\n",
       "<tbody>\n",
       "\t<tr><th scope=row>Mazda RX4</th><td>21.0</td><td>110</td><td>2.620</td><td>4</td></tr>\n",
       "\t<tr><th scope=row>Mazda RX4 Wag</th><td>21.0</td><td>110</td><td>2.875</td><td>4</td></tr>\n",
       "\t<tr><th scope=row>Datsun 710</th><td>22.8</td><td> 93</td><td>2.320</td><td>4</td></tr>\n",
       "\t<tr><th scope=row>Hornet 4 Drive</th><td>21.4</td><td>110</td><td>3.215</td><td>3</td></tr>\n",
       "\t<tr><th scope=row>Hornet Sportabout</th><td>18.7</td><td>175</td><td>3.440</td><td>3</td></tr>\n",
       "\t<tr><th scope=row>Valiant</th><td>18.1</td><td>105</td><td>3.460</td><td>3</td></tr>\n",
       "</tbody>\n",
       "</table>\n"
      ],
      "text/latex": [
       "A data.frame: 6 × 4\n",
       "\\begin{tabular}{r|llll}\n",
       "  & mpg & hp & wt & gear\\\\\n",
       "  & <dbl> & <dbl> & <dbl> & <dbl>\\\\\n",
       "\\hline\n",
       "\tMazda RX4 & 21.0 & 110 & 2.620 & 4\\\\\n",
       "\tMazda RX4 Wag & 21.0 & 110 & 2.875 & 4\\\\\n",
       "\tDatsun 710 & 22.8 &  93 & 2.320 & 4\\\\\n",
       "\tHornet 4 Drive & 21.4 & 110 & 3.215 & 3\\\\\n",
       "\tHornet Sportabout & 18.7 & 175 & 3.440 & 3\\\\\n",
       "\tValiant & 18.1 & 105 & 3.460 & 3\\\\\n",
       "\\end{tabular}\n"
      ],
      "text/markdown": [
       "\n",
       "A data.frame: 6 × 4\n",
       "\n",
       "| <!--/--> | mpg &lt;dbl&gt; | hp &lt;dbl&gt; | wt &lt;dbl&gt; | gear &lt;dbl&gt; |\n",
       "|---|---|---|---|---|\n",
       "| Mazda RX4 | 21.0 | 110 | 2.620 | 4 |\n",
       "| Mazda RX4 Wag | 21.0 | 110 | 2.875 | 4 |\n",
       "| Datsun 710 | 22.8 |  93 | 2.320 | 4 |\n",
       "| Hornet 4 Drive | 21.4 | 110 | 3.215 | 3 |\n",
       "| Hornet Sportabout | 18.7 | 175 | 3.440 | 3 |\n",
       "| Valiant | 18.1 | 105 | 3.460 | 3 |\n",
       "\n"
      ],
      "text/plain": [
       "                  mpg  hp  wt    gear\n",
       "Mazda RX4         21.0 110 2.620 4   \n",
       "Mazda RX4 Wag     21.0 110 2.875 4   \n",
       "Datsun 710        22.8  93 2.320 4   \n",
       "Hornet 4 Drive    21.4 110 3.215 3   \n",
       "Hornet Sportabout 18.7 175 3.440 3   \n",
       "Valiant           18.1 105 3.460 3   "
      ]
     },
     "metadata": {},
     "output_type": "display_data"
    }
   ],
   "source": [
    "#.10\n",
    "# 10. Trong sub_data, cho biết xe nào có km_per_litre lớn nhất, nhỏ nhất?\n",
    "head(sub_data)"
   ]
  },
  {
   "cell_type": "code",
   "execution_count": 25,
   "metadata": {},
   "outputs": [],
   "source": [
    "# sub_data[mtcars$'mpg'[mtcars['km_per_litre']==max(mtcars$km_per_litre)]"
   ]
  },
  {
   "cell_type": "code",
   "execution_count": 26,
   "metadata": {},
   "outputs": [
    {
     "data": {
      "text/html": [
       "<table>\n",
       "<caption>A data.frame: 6 × 6</caption>\n",
       "<thead>\n",
       "\t<tr><th></th><th scope=col>names</th><th scope=col>mpg</th><th scope=col>hp</th><th scope=col>wt</th><th scope=col>gear</th><th scope=col>km_per_litre</th></tr>\n",
       "\t<tr><th></th><th scope=col>&lt;chr&gt;</th><th scope=col>&lt;dbl&gt;</th><th scope=col>&lt;dbl&gt;</th><th scope=col>&lt;dbl&gt;</th><th scope=col>&lt;dbl&gt;</th><th scope=col>&lt;dbl&gt;</th></tr>\n",
       "</thead>\n",
       "<tbody>\n",
       "\t<tr><th scope=row>1</th><td>1</td><td>21.0</td><td>110</td><td>2.620</td><td>4</td><td>8.9250</td></tr>\n",
       "\t<tr><th scope=row>2</th><td>2</td><td>21.0</td><td>110</td><td>2.875</td><td>4</td><td>8.9250</td></tr>\n",
       "\t<tr><th scope=row>3</th><td>3</td><td>22.8</td><td> 93</td><td>2.320</td><td>4</td><td>9.6900</td></tr>\n",
       "\t<tr><th scope=row>4</th><td>4</td><td>21.4</td><td>110</td><td>3.215</td><td>3</td><td>9.0950</td></tr>\n",
       "\t<tr><th scope=row>5</th><td>5</td><td>18.7</td><td>175</td><td>3.440</td><td>3</td><td>7.9475</td></tr>\n",
       "\t<tr><th scope=row>6</th><td>6</td><td>18.1</td><td>105</td><td>3.460</td><td>3</td><td>7.6925</td></tr>\n",
       "</tbody>\n",
       "</table>\n"
      ],
      "text/latex": [
       "A data.frame: 6 × 6\n",
       "\\begin{tabular}{r|llllll}\n",
       "  & names & mpg & hp & wt & gear & km\\_per\\_litre\\\\\n",
       "  & <chr> & <dbl> & <dbl> & <dbl> & <dbl> & <dbl>\\\\\n",
       "\\hline\n",
       "\t1 & 1 & 21.0 & 110 & 2.620 & 4 & 8.9250\\\\\n",
       "\t2 & 2 & 21.0 & 110 & 2.875 & 4 & 8.9250\\\\\n",
       "\t3 & 3 & 22.8 &  93 & 2.320 & 4 & 9.6900\\\\\n",
       "\t4 & 4 & 21.4 & 110 & 3.215 & 3 & 9.0950\\\\\n",
       "\t5 & 5 & 18.7 & 175 & 3.440 & 3 & 7.9475\\\\\n",
       "\t6 & 6 & 18.1 & 105 & 3.460 & 3 & 7.6925\\\\\n",
       "\\end{tabular}\n"
      ],
      "text/markdown": [
       "\n",
       "A data.frame: 6 × 6\n",
       "\n",
       "| <!--/--> | names &lt;chr&gt; | mpg &lt;dbl&gt; | hp &lt;dbl&gt; | wt &lt;dbl&gt; | gear &lt;dbl&gt; | km_per_litre &lt;dbl&gt; |\n",
       "|---|---|---|---|---|---|---|\n",
       "| 1 | 1 | 21.0 | 110 | 2.620 | 4 | 8.9250 |\n",
       "| 2 | 2 | 21.0 | 110 | 2.875 | 4 | 8.9250 |\n",
       "| 3 | 3 | 22.8 |  93 | 2.320 | 4 | 9.6900 |\n",
       "| 4 | 4 | 21.4 | 110 | 3.215 | 3 | 9.0950 |\n",
       "| 5 | 5 | 18.7 | 175 | 3.440 | 3 | 7.9475 |\n",
       "| 6 | 6 | 18.1 | 105 | 3.460 | 3 | 7.6925 |\n",
       "\n"
      ],
      "text/plain": [
       "  names mpg  hp  wt    gear km_per_litre\n",
       "1 1     21.0 110 2.620 4    8.9250      \n",
       "2 2     21.0 110 2.875 4    8.9250      \n",
       "3 3     22.8  93 2.320 4    9.6900      \n",
       "4 4     21.4 110 3.215 3    9.0950      \n",
       "5 5     18.7 175 3.440 3    7.9475      \n",
       "6 6     18.1 105 3.460 3    7.6925      "
      ]
     },
     "metadata": {},
     "output_type": "display_data"
    }
   ],
   "source": [
    "sub_data <- sub_data %>% mutate(km_per_litre=0.425*mpg)\n",
    "sub_data = cbind(names = rownames(sub_data), sub_data)\n",
    "head(sub_data)\n"
   ]
  },
  {
   "cell_type": "code",
   "execution_count": 27,
   "metadata": {},
   "outputs": [
    {
     "data": {
      "text/html": [
       "<style>\n",
       ".list-inline {list-style: none; margin:0; padding: 0}\n",
       ".list-inline>li {display: inline-block}\n",
       ".list-inline>li:not(:last-child)::after {content: \"\\00b7\"; padding: 0 .5ex}\n",
       "</style>\n",
       "<ol class=list-inline><li>'20'</li><li>'33.9'</li><li>' 65'</li><li>'1.835'</li><li>'4'</li><li>'14.4075'</li></ol>\n"
      ],
      "text/latex": [
       "\\begin{enumerate*}\n",
       "\\item '20'\n",
       "\\item '33.9'\n",
       "\\item ' 65'\n",
       "\\item '1.835'\n",
       "\\item '4'\n",
       "\\item '14.4075'\n",
       "\\end{enumerate*}\n"
      ],
      "text/markdown": [
       "1. '20'\n",
       "2. '33.9'\n",
       "3. ' 65'\n",
       "4. '1.835'\n",
       "5. '4'\n",
       "6. '14.4075'\n",
       "\n",
       "\n"
      ],
      "text/plain": [
       "[1] \"20\"      \"33.9\"    \" 65\"     \"1.835\"   \"4\"       \"14.4075\""
      ]
     },
     "metadata": {},
     "output_type": "display_data"
    }
   ],
   "source": [
    "sub_data[sub_data['km_per_litre']==max(sub_data$km_per_litre)]\n",
    "# sub_data[mtcars['km_per_litre']==max(mtcars$km_per_litre)]"
   ]
  },
  {
   "cell_type": "code",
   "execution_count": 28,
   "metadata": {},
   "outputs": [
    {
     "data": {
      "text/html": [
       "<style>\n",
       ".list-inline {list-style: none; margin:0; padding: 0}\n",
       ".list-inline>li {display: inline-block}\n",
       ".list-inline>li:not(:last-child)::after {content: \"\\00b7\"; padding: 0 .5ex}\n",
       "</style>\n",
       "<ol class=list-inline><li>'15'</li><li>'16'</li><li>'10.4'</li><li>'10.4'</li><li>'205'</li><li>'215'</li><li>'5.250'</li><li>'5.424'</li><li>'3'</li><li>'3'</li><li>' 4.4200'</li><li>' 4.4200'</li></ol>\n"
      ],
      "text/latex": [
       "\\begin{enumerate*}\n",
       "\\item '15'\n",
       "\\item '16'\n",
       "\\item '10.4'\n",
       "\\item '10.4'\n",
       "\\item '205'\n",
       "\\item '215'\n",
       "\\item '5.250'\n",
       "\\item '5.424'\n",
       "\\item '3'\n",
       "\\item '3'\n",
       "\\item ' 4.4200'\n",
       "\\item ' 4.4200'\n",
       "\\end{enumerate*}\n"
      ],
      "text/markdown": [
       "1. '15'\n",
       "2. '16'\n",
       "3. '10.4'\n",
       "4. '10.4'\n",
       "5. '205'\n",
       "6. '215'\n",
       "7. '5.250'\n",
       "8. '5.424'\n",
       "9. '3'\n",
       "10. '3'\n",
       "11. ' 4.4200'\n",
       "12. ' 4.4200'\n",
       "\n",
       "\n"
      ],
      "text/plain": [
       " [1] \"15\"      \"16\"      \"10.4\"    \"10.4\"    \"205\"     \"215\"     \"5.250\"  \n",
       " [8] \"5.424\"   \"3\"       \"3\"       \" 4.4200\" \" 4.4200\""
      ]
     },
     "metadata": {},
     "output_type": "display_data"
    }
   ],
   "source": [
    "sub_data[sub_data['km_per_litre']==min(sub_data$km_per_litre)]\n",
    "# sub_data[mtcars['km_per_litre']==min(mtcars$km_per_litre)]"
   ]
  },
  {
   "cell_type": "code",
   "execution_count": 29,
   "metadata": {},
   "outputs": [],
   "source": [
    "# Done"
   ]
  }
 ],
 "metadata": {
  "colab": {
   "collapsed_sections": [],
   "name": "bai_on_tap_buoi_4.ipynb",
   "provenance": []
  },
  "kernelspec": {
   "display_name": "R",
   "language": "R",
   "name": "ir"
  },
  "language_info": {
   "codemirror_mode": "r",
   "file_extension": ".r",
   "mimetype": "text/x-r-source",
   "name": "R",
   "pygments_lexer": "r",
   "version": "3.6.0"
  }
 },
 "nbformat": 4,
 "nbformat_minor": 1
}

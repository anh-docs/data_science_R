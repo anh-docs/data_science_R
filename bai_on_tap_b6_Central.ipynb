{
 "cells": [
  {
   "cell_type": "markdown",
   "metadata": {
    "id": "iK_hBP1IClLZ"
   },
   "source": [
    "# Bài ôn tập buổi 6: Canxi \n",
    "#### Một sinh viên học khoa dinh dưỡng muốn xem xét mối quan hệ giữa lượng canxi (calcium_intake g/day) và kiến thức về canxi knowledge_score (thang đo 0 đến 5) ở các sinh viên trong lớp học. Và cô ấy muốn biết liệu kiến thức về canxi có thể được sử dụng để dự đoán lượng canxi của sinh viên hay không. Cô ấy đã thu thập dữ liệu và lưu trong tập tin canxi.xlsx.\n",
    "### Hãy thực hiện các yêu cầu được liệt kê sau đây:\n",
    "1. Đọc dữ liệu. Xem thông tin dữ liệu với head(), tail(), str(), summary().\n",
    "2. Vẽ biểu đồ phân phối tần suất của knowledge_score. Nhận xét.\n",
    "3. Thực hiện các thống kê cơ bản cho knowledge_score và calcium_intake (mean, median, mode, max, min, range)\n",
    "4. Cho biết các giá trị ở phân vị thứ 20, 35, 65 và 90 của calcium_intake. Biểu diễn phân vị và giá trị tương ứng trên biểu đồ.\n",
    "5. Vẽ boxplot cho knowledge_score và cho calcium_intake. knowledge_score có outlier hay không? calcium_intake có outlier hay không? Nếu có thì hãy thay thế outlier này bằng giá trị phù hợp. Giá trị bạn chọn để thay thế là giá trị nào (mean/median/…)? Giải thích.\n",
    "6. Tìm phương sai (variance) của knowledge_score và calcium_intake.\n",
    "7. Tìm độ lệch chuẩn (Standard deviation) của knowledge_score và calcium_intake.\n",
    "8. Tìm độ xiên (Skewness) và độ nhọn (Kurtosis) của knowledge_score. Nhận xét kết quả.\n",
    "9. Vẽ biểu đồ thể hiện mối quan hệ giữa knowledge_score và calcium_intake. Nhận xét.\n",
    "10. Tính giá trị covariance, correlation giữa knowledge_score và calcium_intake."
   ]
  },
  {
   "cell_type": "code",
   "execution_count": 1,
   "metadata": {},
   "outputs": [
    {
     "name": "stderr",
     "output_type": "stream",
     "text": [
      "Warning message:\n",
      "\"package 'ggplot2' was built under R version 3.6.3\"\n",
      "Warning message:\n",
      "\"package 'ggthemes' was built under R version 3.6.3\"\n",
      "Warning message:\n",
      "\"package 'ggExtra' was built under R version 3.6.3\"\n",
      "Warning message:\n",
      "\"package 'gridExtra' was built under R version 3.6.3\"\n",
      "Warning message:\n",
      "\"package 'GGally' was built under R version 3.6.3\"\n",
      "Registered S3 method overwritten by 'GGally':\n",
      "  method from   \n",
      "  +.gg   ggplot2\n",
      "\n"
     ]
    }
   ],
   "source": [
    "library('ggplot2')\n",
    "library('ggthemes')\n",
    "library('ggExtra')\n",
    "library('gridExtra')\n",
    "library('GGally')"
   ]
  },
  {
   "cell_type": "code",
   "execution_count": 2,
   "metadata": {},
   "outputs": [],
   "source": [
    "# install.packages(\"xlsx\")"
   ]
  },
  {
   "cell_type": "code",
   "execution_count": 3,
   "metadata": {
    "colab": {
     "base_uri": "https://localhost:8080/",
     "height": 129
    },
    "id": "yLVu-8m4ClLa",
    "outputId": "96e6fd18-0fe5-491f-e6a5-89244c52b0dc"
   },
   "outputs": [
    {
     "name": "stderr",
     "output_type": "stream",
     "text": [
      "Warning message:\n",
      "\"package 'tidyverse' was built under R version 3.6.3\"\n",
      "-- \u001b[1mAttaching packages\u001b[22m ------------------------------------------------------------------------------- tidyverse 1.3.0 --\n",
      "\n",
      "\u001b[32mv\u001b[39m \u001b[34mtibble \u001b[39m 3.0.4     \u001b[32mv\u001b[39m \u001b[34mdplyr  \u001b[39m 1.0.2\n",
      "\u001b[32mv\u001b[39m \u001b[34mtidyr  \u001b[39m 1.1.2     \u001b[32mv\u001b[39m \u001b[34mstringr\u001b[39m 1.4.0\n",
      "\u001b[32mv\u001b[39m \u001b[34mreadr  \u001b[39m 1.3.1     \u001b[32mv\u001b[39m \u001b[34mforcats\u001b[39m 0.4.0\n",
      "\u001b[32mv\u001b[39m \u001b[34mpurrr  \u001b[39m 0.3.4     \n",
      "\n",
      "Warning message:\n",
      "\"package 'tibble' was built under R version 3.6.3\"\n",
      "Warning message:\n",
      "\"package 'tidyr' was built under R version 3.6.3\"\n",
      "Warning message:\n",
      "\"package 'purrr' was built under R version 3.6.3\"\n",
      "Warning message:\n",
      "\"package 'dplyr' was built under R version 3.6.3\"\n",
      "-- \u001b[1mConflicts\u001b[22m ---------------------------------------------------------------------------------- tidyverse_conflicts() --\n",
      "\u001b[31mx\u001b[39m \u001b[34mdplyr\u001b[39m::\u001b[32mcombine()\u001b[39m masks \u001b[34mgridExtra\u001b[39m::combine()\n",
      "\u001b[31mx\u001b[39m \u001b[34mdplyr\u001b[39m::\u001b[32mfilter()\u001b[39m  masks \u001b[34mstats\u001b[39m::filter()\n",
      "\u001b[31mx\u001b[39m \u001b[34mdplyr\u001b[39m::\u001b[32mlag()\u001b[39m     masks \u001b[34mstats\u001b[39m::lag()\n",
      "\n",
      "Warning message:\n",
      "\"package 'mlbench' was built under R version 3.6.3\"\n",
      "Warning message:\n",
      "\"package 'e1071' was built under R version 3.6.3\"\n"
     ]
    }
   ],
   "source": [
    "# library(\"xlsx\")\n",
    "library(\"ggplot2\")\n",
    "library(\"ggExtra\")\n",
    "library(\"tidyverse\")\n",
    "library(\"mlbench\")\n",
    "library(\"e1071\")"
   ]
  },
  {
   "cell_type": "markdown",
   "metadata": {
    "id": "_Giz3ndxClLh"
   },
   "source": [
    "#### 1. Đọc dữ liệu. Xem thông tin dữ liệu với head(), tail(), str(), summary(). "
   ]
  },
  {
   "cell_type": "code",
   "execution_count": 4,
   "metadata": {
    "id": "AdN3Q6ImZux8"
   },
   "outputs": [
    {
     "name": "stderr",
     "output_type": "stream",
     "text": [
      "Warning message:\n",
      "\"package 'readxl' was built under R version 3.6.1\"\n"
     ]
    }
   ],
   "source": [
    "library(readxl)\n",
    "data=read_excel('Cung cap du lieu buoi 7/canxi.xlsx')"
   ]
  },
  {
   "cell_type": "code",
   "execution_count": 5,
   "metadata": {},
   "outputs": [
    {
     "data": {
      "text/html": [
       "<table>\n",
       "<caption>A tibble: 6 × 3</caption>\n",
       "<thead>\n",
       "\t<tr><th scope=col>response_number</th><th scope=col>knowledge_score</th><th scope=col>calcium_intake</th></tr>\n",
       "\t<tr><th scope=col>&lt;dbl&gt;</th><th scope=col>&lt;dbl&gt;</th><th scope=col>&lt;dbl&gt;</th></tr>\n",
       "</thead>\n",
       "<tbody>\n",
       "\t<tr><td>1</td><td>1.0</td><td>0.450</td></tr>\n",
       "\t<tr><td>2</td><td>4.2</td><td>1.050</td></tr>\n",
       "\t<tr><td>3</td><td>3.8</td><td>0.900</td></tr>\n",
       "\t<tr><td>4</td><td>1.5</td><td>0.525</td></tr>\n",
       "\t<tr><td>5</td><td>2.2</td><td>0.710</td></tr>\n",
       "\t<tr><td>6</td><td>3.2</td><td>0.854</td></tr>\n",
       "</tbody>\n",
       "</table>\n"
      ],
      "text/latex": [
       "A tibble: 6 × 3\n",
       "\\begin{tabular}{lll}\n",
       " response\\_number & knowledge\\_score & calcium\\_intake\\\\\n",
       " <dbl> & <dbl> & <dbl>\\\\\n",
       "\\hline\n",
       "\t 1 & 1.0 & 0.450\\\\\n",
       "\t 2 & 4.2 & 1.050\\\\\n",
       "\t 3 & 3.8 & 0.900\\\\\n",
       "\t 4 & 1.5 & 0.525\\\\\n",
       "\t 5 & 2.2 & 0.710\\\\\n",
       "\t 6 & 3.2 & 0.854\\\\\n",
       "\\end{tabular}\n"
      ],
      "text/markdown": [
       "\n",
       "A tibble: 6 × 3\n",
       "\n",
       "| response_number &lt;dbl&gt; | knowledge_score &lt;dbl&gt; | calcium_intake &lt;dbl&gt; |\n",
       "|---|---|---|\n",
       "| 1 | 1.0 | 0.450 |\n",
       "| 2 | 4.2 | 1.050 |\n",
       "| 3 | 3.8 | 0.900 |\n",
       "| 4 | 1.5 | 0.525 |\n",
       "| 5 | 2.2 | 0.710 |\n",
       "| 6 | 3.2 | 0.854 |\n",
       "\n"
      ],
      "text/plain": [
       "  response_number knowledge_score calcium_intake\n",
       "1 1               1.0             0.450         \n",
       "2 2               4.2             1.050         \n",
       "3 3               3.8             0.900         \n",
       "4 4               1.5             0.525         \n",
       "5 5               2.2             0.710         \n",
       "6 6               3.2             0.854         "
      ]
     },
     "metadata": {},
     "output_type": "display_data"
    }
   ],
   "source": [
    "head(data)"
   ]
  },
  {
   "cell_type": "code",
   "execution_count": 6,
   "metadata": {},
   "outputs": [
    {
     "data": {
      "text/html": [
       "<table>\n",
       "<caption>A tibble: 6 × 3</caption>\n",
       "<thead>\n",
       "\t<tr><th scope=col>response_number</th><th scope=col>knowledge_score</th><th scope=col>calcium_intake</th></tr>\n",
       "\t<tr><th scope=col>&lt;dbl&gt;</th><th scope=col>&lt;dbl&gt;</th><th scope=col>&lt;dbl&gt;</th></tr>\n",
       "</thead>\n",
       "<tbody>\n",
       "\t<tr><td>15</td><td>2.2</td><td>0.583</td></tr>\n",
       "\t<tr><td>16</td><td>4.5</td><td>0.850</td></tr>\n",
       "\t<tr><td>17</td><td>1.8</td><td>0.798</td></tr>\n",
       "\t<tr><td>18</td><td>2.4</td><td>0.754</td></tr>\n",
       "\t<tr><td>19</td><td>3.0</td><td>0.805</td></tr>\n",
       "\t<tr><td>20</td><td>4.3</td><td>1.085</td></tr>\n",
       "</tbody>\n",
       "</table>\n"
      ],
      "text/latex": [
       "A tibble: 6 × 3\n",
       "\\begin{tabular}{lll}\n",
       " response\\_number & knowledge\\_score & calcium\\_intake\\\\\n",
       " <dbl> & <dbl> & <dbl>\\\\\n",
       "\\hline\n",
       "\t 15 & 2.2 & 0.583\\\\\n",
       "\t 16 & 4.5 & 0.850\\\\\n",
       "\t 17 & 1.8 & 0.798\\\\\n",
       "\t 18 & 2.4 & 0.754\\\\\n",
       "\t 19 & 3.0 & 0.805\\\\\n",
       "\t 20 & 4.3 & 1.085\\\\\n",
       "\\end{tabular}\n"
      ],
      "text/markdown": [
       "\n",
       "A tibble: 6 × 3\n",
       "\n",
       "| response_number &lt;dbl&gt; | knowledge_score &lt;dbl&gt; | calcium_intake &lt;dbl&gt; |\n",
       "|---|---|---|\n",
       "| 15 | 2.2 | 0.583 |\n",
       "| 16 | 4.5 | 0.850 |\n",
       "| 17 | 1.8 | 0.798 |\n",
       "| 18 | 2.4 | 0.754 |\n",
       "| 19 | 3.0 | 0.805 |\n",
       "| 20 | 4.3 | 1.085 |\n",
       "\n"
      ],
      "text/plain": [
       "  response_number knowledge_score calcium_intake\n",
       "1 15              2.2             0.583         \n",
       "2 16              4.5             0.850         \n",
       "3 17              1.8             0.798         \n",
       "4 18              2.4             0.754         \n",
       "5 19              3.0             0.805         \n",
       "6 20              4.3             1.085         "
      ]
     },
     "metadata": {},
     "output_type": "display_data"
    }
   ],
   "source": [
    "tail(data)"
   ]
  },
  {
   "cell_type": "code",
   "execution_count": 7,
   "metadata": {},
   "outputs": [
    {
     "name": "stdout",
     "output_type": "stream",
     "text": [
      "tibble [20 x 3] (S3: tbl_df/tbl/data.frame)\n",
      " $ response_number: num [1:20] 1 2 3 4 5 6 7 8 9 10 ...\n",
      " $ knowledge_score: num [1:20] 1 4.2 3.8 1.5 2.2 3.2 4 1.4 2.6 3.2 ...\n",
      " $ calcium_intake : num [1:20] 0.45 1.05 0.9 0.525 0.71 0.854 0.8 0.493 0.73 0.894 ...\n"
     ]
    }
   ],
   "source": [
    "str(data)"
   ]
  },
  {
   "cell_type": "code",
   "execution_count": 8,
   "metadata": {},
   "outputs": [
    {
     "data": {
      "text/plain": [
       " response_number knowledge_score calcium_intake  \n",
       " Min.   : 1.00   Min.   :1.00    Min.   :0.4500  \n",
       " 1st Qu.: 5.75   1st Qu.:2.20    1st Qu.:0.7250  \n",
       " Median :10.50   Median :2.90    Median :0.7990  \n",
       " Mean   :10.50   Mean   :2.96    Mean   :0.7851  \n",
       " 3rd Qu.:15.25   3rd Qu.:3.85    3rd Qu.:0.8955  \n",
       " Max.   :20.00   Max.   :4.80    Max.   :1.0850  "
      ]
     },
     "metadata": {},
     "output_type": "display_data"
    }
   ],
   "source": [
    "summary(data)"
   ]
  },
  {
   "cell_type": "code",
   "execution_count": null,
   "metadata": {},
   "outputs": [],
   "source": []
  },
  {
   "cell_type": "markdown",
   "metadata": {
    "id": "wHqtPoPhClLu"
   },
   "source": [
    "#### 2. Vẽ biểu đồ phân phối tần suất của knowledge_score. Nhận xét. "
   ]
  },
  {
   "cell_type": "code",
   "execution_count": 9,
   "metadata": {
    "id": "_aPY8zOWZxQM"
   },
   "outputs": [
    {
     "data": {
      "image/png": "[encoded data removed]",
      "text/plain": [
       "Plot with title \"knowledge_score\""
      ]
     },
     "metadata": {
      "image/png": {
       "height": 420,
       "width": 420
      }
     },
     "output_type": "display_data"
    }
   ],
   "source": [
    "hist(data$knowledge_score, main='knowledge_score',\n",
    "    xlim=c(min(data$knowledge_score)-1, max(data$knowledge_score)+1), col='orange',\n",
    "    border='blue', breaks=10, las=1, freq=F)\n",
    "lines(density(data$knowledge_score))"
   ]
  },
  {
   "cell_type": "markdown",
   "metadata": {},
   "source": [
    "- Khoong chuan"
   ]
  },
  {
   "cell_type": "markdown",
   "metadata": {
    "id": "ymMaElOhClLz"
   },
   "source": [
    "#### 3. Thực hiện các thống kê cơ bản cho knowledge_score và calcium_intake (mean, median, mode, max, min, range) "
   ]
  },
  {
   "cell_type": "code",
   "execution_count": 10,
   "metadata": {},
   "outputs": [],
   "source": [
    "# data[,c('knowledge_score','calcium_intake')]"
   ]
  },
  {
   "cell_type": "code",
   "execution_count": 11,
   "metadata": {
    "id": "958EvevpZ1OD"
   },
   "outputs": [
    {
     "data": {
      "text/html": [
       "<style>\n",
       ".dl-inline {width: auto; margin:0; padding: 0}\n",
       ".dl-inline>dt, .dl-inline>dd {float: none; width: auto; display: inline-block}\n",
       ".dl-inline>dt::after {content: \":\\0020\"; padding-right: .5ex}\n",
       ".dl-inline>dt:not(:first-of-type) {padding-left: .5ex}\n",
       "</style><dl class=dl-inline><dt>knowledge_score</dt><dd>2.96</dd><dt>calcium_intake</dt><dd>0.7851</dd></dl>\n"
      ],
      "text/latex": [
       "\\begin{description*}\n",
       "\\item[knowledge\\textbackslash{}\\_score] 2.96\n",
       "\\item[calcium\\textbackslash{}\\_intake] 0.7851\n",
       "\\end{description*}\n"
      ],
      "text/markdown": [
       "knowledge_score\n",
       ":   2.96calcium_intake\n",
       ":   0.7851\n",
       "\n"
      ],
      "text/plain": [
       "knowledge_score  calcium_intake \n",
       "         2.9600          0.7851 "
      ]
     },
     "metadata": {},
     "output_type": "display_data"
    }
   ],
   "source": [
    "sapply(data[,c('knowledge_score','calcium_intake')], mean)"
   ]
  },
  {
   "cell_type": "code",
   "execution_count": 12,
   "metadata": {},
   "outputs": [
    {
     "data": {
      "text/html": [
       "<style>\n",
       ".dl-inline {width: auto; margin:0; padding: 0}\n",
       ".dl-inline>dt, .dl-inline>dd {float: none; width: auto; display: inline-block}\n",
       ".dl-inline>dt::after {content: \":\\0020\"; padding-right: .5ex}\n",
       ".dl-inline>dt:not(:first-of-type) {padding-left: .5ex}\n",
       "</style><dl class=dl-inline><dt>knowledge_score</dt><dd>2.9</dd><dt>calcium_intake</dt><dd>0.799</dd></dl>\n"
      ],
      "text/latex": [
       "\\begin{description*}\n",
       "\\item[knowledge\\textbackslash{}\\_score] 2.9\n",
       "\\item[calcium\\textbackslash{}\\_intake] 0.799\n",
       "\\end{description*}\n"
      ],
      "text/markdown": [
       "knowledge_score\n",
       ":   2.9calcium_intake\n",
       ":   0.799\n",
       "\n"
      ],
      "text/plain": [
       "knowledge_score  calcium_intake \n",
       "          2.900           0.799 "
      ]
     },
     "metadata": {},
     "output_type": "display_data"
    }
   ],
   "source": [
    "sapply(data[,c('knowledge_score','calcium_intake')], median)"
   ]
  },
  {
   "cell_type": "code",
   "execution_count": 13,
   "metadata": {},
   "outputs": [
    {
     "data": {
      "text/html": [
       "<style>\n",
       ".dl-inline {width: auto; margin:0; padding: 0}\n",
       ".dl-inline>dt, .dl-inline>dd {float: none; width: auto; display: inline-block}\n",
       ".dl-inline>dt::after {content: \":\\0020\"; padding-right: .5ex}\n",
       ".dl-inline>dt:not(:first-of-type) {padding-left: .5ex}\n",
       "</style><dl class=dl-inline><dt>knowledge_score</dt><dd>'numeric'</dd><dt>calcium_intake</dt><dd>'numeric'</dd></dl>\n"
      ],
      "text/latex": [
       "\\begin{description*}\n",
       "\\item[knowledge\\textbackslash{}\\_score] 'numeric'\n",
       "\\item[calcium\\textbackslash{}\\_intake] 'numeric'\n",
       "\\end{description*}\n"
      ],
      "text/markdown": [
       "knowledge_score\n",
       ":   'numeric'calcium_intake\n",
       ":   'numeric'\n",
       "\n"
      ],
      "text/plain": [
       "knowledge_score  calcium_intake \n",
       "      \"numeric\"       \"numeric\" "
      ]
     },
     "metadata": {},
     "output_type": "display_data"
    }
   ],
   "source": [
    "sapply(data[,c('knowledge_score','calcium_intake')], mode)"
   ]
  },
  {
   "cell_type": "code",
   "execution_count": 14,
   "metadata": {},
   "outputs": [
    {
     "data": {
      "text/html": [
       "<style>\n",
       ".dl-inline {width: auto; margin:0; padding: 0}\n",
       ".dl-inline>dt, .dl-inline>dd {float: none; width: auto; display: inline-block}\n",
       ".dl-inline>dt::after {content: \":\\0020\"; padding-right: .5ex}\n",
       ".dl-inline>dt:not(:first-of-type) {padding-left: .5ex}\n",
       "</style><dl class=dl-inline><dt>knowledge_score</dt><dd>4.8</dd><dt>calcium_intake</dt><dd>1.085</dd></dl>\n"
      ],
      "text/latex": [
       "\\begin{description*}\n",
       "\\item[knowledge\\textbackslash{}\\_score] 4.8\n",
       "\\item[calcium\\textbackslash{}\\_intake] 1.085\n",
       "\\end{description*}\n"
      ],
      "text/markdown": [
       "knowledge_score\n",
       ":   4.8calcium_intake\n",
       ":   1.085\n",
       "\n"
      ],
      "text/plain": [
       "knowledge_score  calcium_intake \n",
       "          4.800           1.085 "
      ]
     },
     "metadata": {},
     "output_type": "display_data"
    }
   ],
   "source": [
    "sapply(data[,c('knowledge_score','calcium_intake')], max)"
   ]
  },
  {
   "cell_type": "code",
   "execution_count": 15,
   "metadata": {},
   "outputs": [
    {
     "data": {
      "text/html": [
       "<style>\n",
       ".dl-inline {width: auto; margin:0; padding: 0}\n",
       ".dl-inline>dt, .dl-inline>dd {float: none; width: auto; display: inline-block}\n",
       ".dl-inline>dt::after {content: \":\\0020\"; padding-right: .5ex}\n",
       ".dl-inline>dt:not(:first-of-type) {padding-left: .5ex}\n",
       "</style><dl class=dl-inline><dt>knowledge_score</dt><dd>1</dd><dt>calcium_intake</dt><dd>0.45</dd></dl>\n"
      ],
      "text/latex": [
       "\\begin{description*}\n",
       "\\item[knowledge\\textbackslash{}\\_score] 1\n",
       "\\item[calcium\\textbackslash{}\\_intake] 0.45\n",
       "\\end{description*}\n"
      ],
      "text/markdown": [
       "knowledge_score\n",
       ":   1calcium_intake\n",
       ":   0.45\n",
       "\n"
      ],
      "text/plain": [
       "knowledge_score  calcium_intake \n",
       "           1.00            0.45 "
      ]
     },
     "metadata": {},
     "output_type": "display_data"
    }
   ],
   "source": [
    "sapply(data[,c('knowledge_score','calcium_intake')], min)"
   ]
  },
  {
   "cell_type": "code",
   "execution_count": 16,
   "metadata": {},
   "outputs": [
    {
     "data": {
      "text/html": [
       "<table>\n",
       "<caption>A matrix: 2 × 2 of type dbl</caption>\n",
       "<thead>\n",
       "\t<tr><th scope=col>knowledge_score</th><th scope=col>calcium_intake</th></tr>\n",
       "</thead>\n",
       "<tbody>\n",
       "\t<tr><td>1.0</td><td>0.450</td></tr>\n",
       "\t<tr><td>4.8</td><td>1.085</td></tr>\n",
       "</tbody>\n",
       "</table>\n"
      ],
      "text/latex": [
       "A matrix: 2 × 2 of type dbl\n",
       "\\begin{tabular}{ll}\n",
       " knowledge\\_score & calcium\\_intake\\\\\n",
       "\\hline\n",
       "\t 1.0 & 0.450\\\\\n",
       "\t 4.8 & 1.085\\\\\n",
       "\\end{tabular}\n"
      ],
      "text/markdown": [
       "\n",
       "A matrix: 2 × 2 of type dbl\n",
       "\n",
       "| knowledge_score | calcium_intake |\n",
       "|---|---|\n",
       "| 1.0 | 0.450 |\n",
       "| 4.8 | 1.085 |\n",
       "\n"
      ],
      "text/plain": [
       "     knowledge_score calcium_intake\n",
       "[1,] 1.0             0.450         \n",
       "[2,] 4.8             1.085         "
      ]
     },
     "metadata": {},
     "output_type": "display_data"
    }
   ],
   "source": [
    "sapply(data[,c('knowledge_score','calcium_intake')], range)"
   ]
  },
  {
   "cell_type": "markdown",
   "metadata": {
    "id": "RMX-2wqTClL7"
   },
   "source": [
    "#### 4. Cho biết các giá trị ở phân vị thứ 20, 35, 65 và 90 của calcium_intake. Biểu diễn phân vị và giá trị tương ứng trên biểu đồ. "
   ]
  },
  {
   "cell_type": "code",
   "execution_count": 17,
   "metadata": {
    "id": "v35egjhLZ2sg"
   },
   "outputs": [
    {
     "data": {
      "text/html": [
       "<style>\n",
       ".dl-inline {width: auto; margin:0; padding: 0}\n",
       ".dl-inline>dt, .dl-inline>dd {float: none; width: auto; display: inline-block}\n",
       ".dl-inline>dt::after {content: \":\\0020\"; padding-right: .5ex}\n",
       ".dl-inline>dt:not(:first-of-type) {padding-left: .5ex}\n",
       "</style><dl class=dl-inline><dt>20%</dt><dd>0.6846</dd><dt>35%</dt><dd>0.74665</dd><dt>65%</dt><dd>0.8514</dd><dt>90%</dt><dd>0.9915</dd></dl>\n"
      ],
      "text/latex": [
       "\\begin{description*}\n",
       "\\item[20\\textbackslash{}\\%] 0.6846\n",
       "\\item[35\\textbackslash{}\\%] 0.74665\n",
       "\\item[65\\textbackslash{}\\%] 0.8514\n",
       "\\item[90\\textbackslash{}\\%] 0.9915\n",
       "\\end{description*}\n"
      ],
      "text/markdown": [
       "20%\n",
       ":   0.684635%\n",
       ":   0.7466565%\n",
       ":   0.851490%\n",
       ":   0.9915\n",
       "\n"
      ],
      "text/plain": [
       "    20%     35%     65%     90% \n",
       "0.68460 0.74665 0.85140 0.99150 "
      ]
     },
     "metadata": {},
     "output_type": "display_data"
    }
   ],
   "source": [
    "quantile(data$calcium_intake, c(0.2, 0.35, 0.65,0.9))"
   ]
  },
  {
   "cell_type": "markdown",
   "metadata": {
    "id": "B3BNqNiGClMD"
   },
   "source": [
    "#### 5. Vẽ boxplot cho knowledge_score và cho calcium_intake. knowledge_score có outlier hay không? calcium_intake có outlier hay không? Nếu có thì hãy thay thế outlier này bằng giá trị phù hợp. Giá trị bạn chọn để thay thế là giá trị nào (mean/median/…)? Giải thích."
   ]
  },
  {
   "cell_type": "code",
   "execution_count": 18,
   "metadata": {
    "id": "65PK_wifZCoz"
   },
   "outputs": [
    {
     "data": {
      "image/png": "[encoded data removed]",
      "text/plain": [
       "Plot with title \"calcium_intake\""
      ]
     },
     "metadata": {
      "image/png": {
       "height": 420,
       "width": 420
      }
     },
     "output_type": "display_data"
    }
   ],
   "source": [
    "par(mfrow=c(1,2))\n",
    "boxplot(data$knowledge_score, main='knowledge_score')\n",
    "boxplot(data$calcium_intake, main='calcium_intake')"
   ]
  },
  {
   "cell_type": "code",
   "execution_count": 19,
   "metadata": {},
   "outputs": [
    {
     "data": {
      "text/html": [
       "0.45"
      ],
      "text/latex": [
       "0.45"
      ],
      "text/markdown": [
       "0.45"
      ],
      "text/plain": [
       "[1] 0.45"
      ]
     },
     "metadata": {},
     "output_type": "display_data"
    }
   ],
   "source": [
    "boxplot.stats(data$calcium_intake)$out"
   ]
  },
  {
   "cell_type": "code",
   "execution_count": 20,
   "metadata": {},
   "outputs": [],
   "source": [
    "# Replace with median\n",
    "data['calcium_intake'][data$calcium_intake==boxplot.stats(data$calcium_intake)$out,] = median(data$calcium_intake)"
   ]
  },
  {
   "cell_type": "markdown",
   "metadata": {},
   "source": [
    "- Using median because dont need ignore Outliers"
   ]
  },
  {
   "cell_type": "markdown",
   "metadata": {
    "id": "KeuHdXCAClMU"
   },
   "source": [
    "#### 6. Tìm phương sai (variance) của knowledge_score và calcium_intake. "
   ]
  },
  {
   "cell_type": "code",
   "execution_count": 21,
   "metadata": {
    "id": "wRlpEXgzaANr"
   },
   "outputs": [
    {
     "data": {
      "text/html": [
       "<style>\n",
       ".dl-inline {width: auto; margin:0; padding: 0}\n",
       ".dl-inline>dt, .dl-inline>dd {float: none; width: auto; display: inline-block}\n",
       ".dl-inline>dt::after {content: \":\\0020\"; padding-right: .5ex}\n",
       ".dl-inline>dt:not(:first-of-type) {padding-left: .5ex}\n",
       "</style><dl class=dl-inline><dt>knowledge_score</dt><dd>1.22568421052632</dd><dt>calcium_intake</dt><dd>0.0241915236842105</dd></dl>\n"
      ],
      "text/latex": [
       "\\begin{description*}\n",
       "\\item[knowledge\\textbackslash{}\\_score] 1.22568421052632\n",
       "\\item[calcium\\textbackslash{}\\_intake] 0.0241915236842105\n",
       "\\end{description*}\n"
      ],
      "text/markdown": [
       "knowledge_score\n",
       ":   1.22568421052632calcium_intake\n",
       ":   0.0241915236842105\n",
       "\n"
      ],
      "text/plain": [
       "knowledge_score  calcium_intake \n",
       "     1.22568421      0.02419152 "
      ]
     },
     "metadata": {},
     "output_type": "display_data"
    }
   ],
   "source": [
    "sapply(data[,c('knowledge_score','calcium_intake')], var)"
   ]
  },
  {
   "cell_type": "markdown",
   "metadata": {
    "id": "BZmRY1vyClMY"
   },
   "source": [
    "#### 7. Tìm độ lệch chuẩn (Standard deviation) của knowledge_score và calcium_intake"
   ]
  },
  {
   "cell_type": "code",
   "execution_count": 22,
   "metadata": {
    "id": "DXgvgsjaaCOr"
   },
   "outputs": [
    {
     "data": {
      "text/html": [
       "<style>\n",
       ".dl-inline {width: auto; margin:0; padding: 0}\n",
       ".dl-inline>dt, .dl-inline>dd {float: none; width: auto; display: inline-block}\n",
       ".dl-inline>dt::after {content: \":\\0020\"; padding-right: .5ex}\n",
       ".dl-inline>dt:not(:first-of-type) {padding-left: .5ex}\n",
       "</style><dl class=dl-inline><dt>knowledge_score</dt><dd>1.10710623271948</dd><dt>calcium_intake</dt><dd>0.155536245564211</dd></dl>\n"
      ],
      "text/latex": [
       "\\begin{description*}\n",
       "\\item[knowledge\\textbackslash{}\\_score] 1.10710623271948\n",
       "\\item[calcium\\textbackslash{}\\_intake] 0.155536245564211\n",
       "\\end{description*}\n"
      ],
      "text/markdown": [
       "knowledge_score\n",
       ":   1.10710623271948calcium_intake\n",
       ":   0.155536245564211\n",
       "\n"
      ],
      "text/plain": [
       "knowledge_score  calcium_intake \n",
       "      1.1071062       0.1555362 "
      ]
     },
     "metadata": {},
     "output_type": "display_data"
    }
   ],
   "source": [
    "sapply(data[,c('knowledge_score','calcium_intake')], sd)"
   ]
  },
  {
   "cell_type": "markdown",
   "metadata": {
    "id": "dvbNUbGrClMk"
   },
   "source": [
    "#### 8. Tìm độ xiên (Skewness) và độ nhọn (Kurtosis) của knowledge_score. Nhận xét kết quả. "
   ]
  },
  {
   "cell_type": "code",
   "execution_count": 23,
   "metadata": {
    "id": "AP433wKGaEq7"
   },
   "outputs": [
    {
     "data": {
      "text/html": [
       "<style>\n",
       ".dl-inline {width: auto; margin:0; padding: 0}\n",
       ".dl-inline>dt, .dl-inline>dd {float: none; width: auto; display: inline-block}\n",
       ".dl-inline>dt::after {content: \":\\0020\"; padding-right: .5ex}\n",
       ".dl-inline>dt:not(:first-of-type) {padding-left: .5ex}\n",
       "</style><dl class=dl-inline><dt>knowledge_score</dt><dd>-0.0246196905430348</dd><dt>calcium_intake</dt><dd>-0.199646573341926</dd></dl>\n"
      ],
      "text/latex": [
       "\\begin{description*}\n",
       "\\item[knowledge\\textbackslash{}\\_score] -0.0246196905430348\n",
       "\\item[calcium\\textbackslash{}\\_intake] -0.199646573341926\n",
       "\\end{description*}\n"
      ],
      "text/markdown": [
       "knowledge_score\n",
       ":   -0.0246196905430348calcium_intake\n",
       ":   -0.199646573341926\n",
       "\n"
      ],
      "text/plain": [
       "knowledge_score  calcium_intake \n",
       "    -0.02461969     -0.19964657 "
      ]
     },
     "metadata": {},
     "output_type": "display_data"
    }
   ],
   "source": [
    "sapply(data[,c('knowledge_score','calcium_intake')], skewness)"
   ]
  },
  {
   "cell_type": "code",
   "execution_count": 24,
   "metadata": {},
   "outputs": [
    {
     "data": {
      "text/html": [
       "<style>\n",
       ".dl-inline {width: auto; margin:0; padding: 0}\n",
       ".dl-inline>dt, .dl-inline>dd {float: none; width: auto; display: inline-block}\n",
       ".dl-inline>dt::after {content: \":\\0020\"; padding-right: .5ex}\n",
       ".dl-inline>dt:not(:first-of-type) {padding-left: .5ex}\n",
       "</style><dl class=dl-inline><dt>knowledge_score</dt><dd>-1.24569607239671</dd><dt>calcium_intake</dt><dd>-0.494752338885311</dd></dl>\n"
      ],
      "text/latex": [
       "\\begin{description*}\n",
       "\\item[knowledge\\textbackslash{}\\_score] -1.24569607239671\n",
       "\\item[calcium\\textbackslash{}\\_intake] -0.494752338885311\n",
       "\\end{description*}\n"
      ],
      "text/markdown": [
       "knowledge_score\n",
       ":   -1.24569607239671calcium_intake\n",
       ":   -0.494752338885311\n",
       "\n"
      ],
      "text/plain": [
       "knowledge_score  calcium_intake \n",
       "     -1.2456961      -0.4947523 "
      ]
     },
     "metadata": {},
     "output_type": "display_data"
    }
   ],
   "source": [
    "sapply(data[,c('knowledge_score','calcium_intake')], kurtosis)"
   ]
  },
  {
   "cell_type": "markdown",
   "metadata": {
    "id": "1X0oSZRYClM2"
   },
   "source": [
    "#### 9. Vẽ biểu đồ thể hiện mối quan hệ giữa knowledge_score và calcium_intake có bổ sung thêm histogram phụ trên mỗi cột. Nhận xét biểu đồ. "
   ]
  },
  {
   "cell_type": "code",
   "execution_count": 25,
   "metadata": {},
   "outputs": [],
   "source": [
    "library(ggplot2)"
   ]
  },
  {
   "cell_type": "code",
   "execution_count": 26,
   "metadata": {},
   "outputs": [
    {
     "name": "stderr",
     "output_type": "stream",
     "text": [
      "`geom_smooth()` using method = 'loess' and formula 'y ~ x'\n",
      "\n"
     ]
    },
    {
     "data": {
      "image/png": "[encoded data removed]",
      "text/plain": [
       "plot without title"
      ]
     },
     "metadata": {
      "image/png": {
       "height": 420,
       "width": 420
      }
     },
     "output_type": "display_data"
    }
   ],
   "source": [
    "plot <- ggplot(data,aes(x=knowledge_score, y=calcium_intake)) + geom_point() + geom_smooth()\n",
    "\n",
    "plot"
   ]
  },
  {
   "cell_type": "code",
   "execution_count": 27,
   "metadata": {},
   "outputs": [
    {
     "name": "stderr",
     "output_type": "stream",
     "text": [
      "`geom_smooth()` using method = 'loess' and formula 'y ~ x'\n",
      "\n",
      "`geom_smooth()` using method = 'loess' and formula 'y ~ x'\n",
      "\n"
     ]
    },
    {
     "data": {
      "image/png": "[encoded data removed]",
      "text/plain": [
       "plot without title"
      ]
     },
     "metadata": {
      "image/png": {
       "height": 420,
       "width": 420
      }
     },
     "output_type": "display_data"
    }
   ],
   "source": [
    "ggMarginal(plot, type='hist', col='white', fill='blue', bins=20)"
   ]
  },
  {
   "cell_type": "markdown",
   "metadata": {
    "id": "AF5iA4BtClM5"
   },
   "source": [
    "#### 10. Tính giá trị covariance, correlation giữa knowledge_score và calcium_intake.  "
   ]
  },
  {
   "cell_type": "code",
   "execution_count": 28,
   "metadata": {
    "id": "X4MKn8fGaJgj"
   },
   "outputs": [
    {
     "name": "stderr",
     "output_type": "stream",
     "text": [
      "Warning message:\n",
      "\"package 'corrplot' was built under R version 3.6.3\"\n",
      "corrplot 0.84 loaded\n",
      "\n"
     ]
    },
    {
     "data": {
      "text/html": [
       "<table>\n",
       "<caption>A matrix: 2 × 2 of type dbl</caption>\n",
       "<thead>\n",
       "\t<tr><th></th><th scope=col>knowledge_score</th><th scope=col>calcium_intake</th></tr>\n",
       "</thead>\n",
       "<tbody>\n",
       "\t<tr><th scope=row>knowledge_score</th><td>1.0000000</td><td>0.7801247</td></tr>\n",
       "\t<tr><th scope=row>calcium_intake</th><td>0.7801247</td><td>1.0000000</td></tr>\n",
       "</tbody>\n",
       "</table>\n"
      ],
      "text/latex": [
       "A matrix: 2 × 2 of type dbl\n",
       "\\begin{tabular}{r|ll}\n",
       "  & knowledge\\_score & calcium\\_intake\\\\\n",
       "\\hline\n",
       "\tknowledge\\_score & 1.0000000 & 0.7801247\\\\\n",
       "\tcalcium\\_intake & 0.7801247 & 1.0000000\\\\\n",
       "\\end{tabular}\n"
      ],
      "text/markdown": [
       "\n",
       "A matrix: 2 × 2 of type dbl\n",
       "\n",
       "| <!--/--> | knowledge_score | calcium_intake |\n",
       "|---|---|---|\n",
       "| knowledge_score | 1.0000000 | 0.7801247 |\n",
       "| calcium_intake | 0.7801247 | 1.0000000 |\n",
       "\n"
      ],
      "text/plain": [
       "                knowledge_score calcium_intake\n",
       "knowledge_score 1.0000000       0.7801247     \n",
       "calcium_intake  0.7801247       1.0000000     "
      ]
     },
     "metadata": {},
     "output_type": "display_data"
    }
   ],
   "source": [
    "library('corrplot')\n",
    "cor(data[,c('knowledge_score','calcium_intake')])"
   ]
  }
 ],
 "metadata": {
  "colab": {
   "name": "bai_on_tap_b6_Student.ipynb",
   "provenance": [],
   "toc_visible": true
  },
  "kernelspec": {
   "display_name": "R",
   "language": "R",
   "name": "ir"
  },
  "language_info": {
   "codemirror_mode": "r",
   "file_extension": ".r",
   "mimetype": "text/x-r-source",
   "name": "R",
   "pygments_lexer": "r",
   "version": "3.6.0"
  }
 },
 "nbformat": 4,
 "nbformat_minor": 1
}
